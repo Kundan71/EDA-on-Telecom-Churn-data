{
  "nbformat": 4,
  "nbformat_minor": 0,
  "metadata": {
    "kernelspec": {
      "display_name": "Python 3",
      "language": "python",
      "name": "python3"
    },
    "language_info": {
      "codemirror_mode": {
        "name": "ipython",
        "version": 3
      },
      "file_extension": ".py",
      "mimetype": "text/x-python",
      "name": "python",
      "nbconvert_exporter": "python",
      "pygments_lexer": "ipython3",
      "version": "3.6.6"
    },
    "colab": {
      "name": "Telecom Churn Analysis - Capstone Project.ipynb",
      "provenance": [],
      "collapsed_sections": [],
      "include_colab_link": true
    }
  },
  "cells": [
    {
      "cell_type": "markdown",
      "metadata": {
        "id": "view-in-github",
        "colab_type": "text"
      },
      "source": [
        "<a href=\"https://colab.research.google.com/github/Kundan71/EDA-on-Telecom-Churn-data/blob/main/Telecom_Churn_Analysis_Capstone_Project.ipynb\" target=\"_parent\"><img src=\"https://colab.research.google.com/assets/colab-badge.svg\" alt=\"Open In Colab\"/></a>"
      ]
    },
    {
      "cell_type": "markdown",
      "metadata": {
        "id": "Y06xIdG26kRF"
      },
      "source": [
        "## <b> Orange S.A., formerly France Télécom S.A., is a French multinational telecommunications corporation. The Orange Telecom's Churn Dataset, consists of cleaned customer activity data (features), along with a churn label specifying whether a customer canceled the subscription.\n",
        "\n",
        "## <b> Explore and analyze the data to discover key factors responsible for customer churn and come up with ways/recommendations to ensure customer retention. </b>"
      ]
    },
    {
      "cell_type": "code",
      "metadata": {
        "id": "dByMsuzT8Tnw"
      },
      "source": [
        "import pandas as pd\n",
        "import numpy as np\n",
        "import matplotlib.pyplot as plt\n",
        "import seaborn as sns"
      ],
      "execution_count": 1,
      "outputs": []
    },
    {
      "cell_type": "code",
      "metadata": {
        "colab": {
          "base_uri": "https://localhost:8080/"
        },
        "id": "-UzGYdVjB5JH",
        "outputId": "d415c2e3-0212-4ce4-8675-f458d0ef9bd8"
      },
      "source": [
        "from google.colab import drive\n",
        "drive.mount('/content/drive')"
      ],
      "execution_count": 2,
      "outputs": [
        {
          "output_type": "stream",
          "name": "stdout",
          "text": [
            "Mounted at /content/drive\n"
          ]
        }
      ]
    },
    {
      "cell_type": "code",
      "metadata": {
        "id": "dB-dDFspEDN0"
      },
      "source": [
        "path = '/content/drive/MyDrive/Capstone Project/Telecom Churn Analysis/Telecom Churn.csv'\n",
        "telecom_churn_df = pd.read_csv(path)"
      ],
      "execution_count": 4,
      "outputs": []
    },
    {
      "cell_type": "code",
      "metadata": {
        "colab": {
          "base_uri": "https://localhost:8080/"
        },
        "id": "cvlbKKL-EUkJ",
        "outputId": "ec250f8a-e232-4a8f-ed32-e03ea13d6ea8"
      },
      "source": [
        "telecom_churn_df.shape"
      ],
      "execution_count": 5,
      "outputs": [
        {
          "output_type": "execute_result",
          "data": {
            "text/plain": [
              "(3333, 20)"
            ]
          },
          "metadata": {},
          "execution_count": 5
        }
      ]
    },
    {
      "cell_type": "code",
      "metadata": {
        "colab": {
          "base_uri": "https://localhost:8080/",
          "height": 260
        },
        "id": "CY2u0Vy1EbO2",
        "outputId": "e0f52a99-6825-4c0b-ed91-9834cf5a0670"
      },
      "source": [
        "telecom_churn_df.head()"
      ],
      "execution_count": 6,
      "outputs": [
        {
          "output_type": "execute_result",
          "data": {
            "text/html": [
              "<div>\n",
              "<style scoped>\n",
              "    .dataframe tbody tr th:only-of-type {\n",
              "        vertical-align: middle;\n",
              "    }\n",
              "\n",
              "    .dataframe tbody tr th {\n",
              "        vertical-align: top;\n",
              "    }\n",
              "\n",
              "    .dataframe thead th {\n",
              "        text-align: right;\n",
              "    }\n",
              "</style>\n",
              "<table border=\"1\" class=\"dataframe\">\n",
              "  <thead>\n",
              "    <tr style=\"text-align: right;\">\n",
              "      <th></th>\n",
              "      <th>State</th>\n",
              "      <th>Account length</th>\n",
              "      <th>Area code</th>\n",
              "      <th>International plan</th>\n",
              "      <th>Voice mail plan</th>\n",
              "      <th>Number vmail messages</th>\n",
              "      <th>Total day minutes</th>\n",
              "      <th>Total day calls</th>\n",
              "      <th>Total day charge</th>\n",
              "      <th>Total eve minutes</th>\n",
              "      <th>Total eve calls</th>\n",
              "      <th>Total eve charge</th>\n",
              "      <th>Total night minutes</th>\n",
              "      <th>Total night calls</th>\n",
              "      <th>Total night charge</th>\n",
              "      <th>Total intl minutes</th>\n",
              "      <th>Total intl calls</th>\n",
              "      <th>Total intl charge</th>\n",
              "      <th>Customer service calls</th>\n",
              "      <th>Churn</th>\n",
              "    </tr>\n",
              "  </thead>\n",
              "  <tbody>\n",
              "    <tr>\n",
              "      <th>0</th>\n",
              "      <td>KS</td>\n",
              "      <td>128</td>\n",
              "      <td>415</td>\n",
              "      <td>No</td>\n",
              "      <td>Yes</td>\n",
              "      <td>25</td>\n",
              "      <td>265.1</td>\n",
              "      <td>110</td>\n",
              "      <td>45.07</td>\n",
              "      <td>197.4</td>\n",
              "      <td>99</td>\n",
              "      <td>16.78</td>\n",
              "      <td>244.7</td>\n",
              "      <td>91</td>\n",
              "      <td>11.01</td>\n",
              "      <td>10.0</td>\n",
              "      <td>3</td>\n",
              "      <td>2.70</td>\n",
              "      <td>1</td>\n",
              "      <td>False</td>\n",
              "    </tr>\n",
              "    <tr>\n",
              "      <th>1</th>\n",
              "      <td>OH</td>\n",
              "      <td>107</td>\n",
              "      <td>415</td>\n",
              "      <td>No</td>\n",
              "      <td>Yes</td>\n",
              "      <td>26</td>\n",
              "      <td>161.6</td>\n",
              "      <td>123</td>\n",
              "      <td>27.47</td>\n",
              "      <td>195.5</td>\n",
              "      <td>103</td>\n",
              "      <td>16.62</td>\n",
              "      <td>254.4</td>\n",
              "      <td>103</td>\n",
              "      <td>11.45</td>\n",
              "      <td>13.7</td>\n",
              "      <td>3</td>\n",
              "      <td>3.70</td>\n",
              "      <td>1</td>\n",
              "      <td>False</td>\n",
              "    </tr>\n",
              "    <tr>\n",
              "      <th>2</th>\n",
              "      <td>NJ</td>\n",
              "      <td>137</td>\n",
              "      <td>415</td>\n",
              "      <td>No</td>\n",
              "      <td>No</td>\n",
              "      <td>0</td>\n",
              "      <td>243.4</td>\n",
              "      <td>114</td>\n",
              "      <td>41.38</td>\n",
              "      <td>121.2</td>\n",
              "      <td>110</td>\n",
              "      <td>10.30</td>\n",
              "      <td>162.6</td>\n",
              "      <td>104</td>\n",
              "      <td>7.32</td>\n",
              "      <td>12.2</td>\n",
              "      <td>5</td>\n",
              "      <td>3.29</td>\n",
              "      <td>0</td>\n",
              "      <td>False</td>\n",
              "    </tr>\n",
              "    <tr>\n",
              "      <th>3</th>\n",
              "      <td>OH</td>\n",
              "      <td>84</td>\n",
              "      <td>408</td>\n",
              "      <td>Yes</td>\n",
              "      <td>No</td>\n",
              "      <td>0</td>\n",
              "      <td>299.4</td>\n",
              "      <td>71</td>\n",
              "      <td>50.90</td>\n",
              "      <td>61.9</td>\n",
              "      <td>88</td>\n",
              "      <td>5.26</td>\n",
              "      <td>196.9</td>\n",
              "      <td>89</td>\n",
              "      <td>8.86</td>\n",
              "      <td>6.6</td>\n",
              "      <td>7</td>\n",
              "      <td>1.78</td>\n",
              "      <td>2</td>\n",
              "      <td>False</td>\n",
              "    </tr>\n",
              "    <tr>\n",
              "      <th>4</th>\n",
              "      <td>OK</td>\n",
              "      <td>75</td>\n",
              "      <td>415</td>\n",
              "      <td>Yes</td>\n",
              "      <td>No</td>\n",
              "      <td>0</td>\n",
              "      <td>166.7</td>\n",
              "      <td>113</td>\n",
              "      <td>28.34</td>\n",
              "      <td>148.3</td>\n",
              "      <td>122</td>\n",
              "      <td>12.61</td>\n",
              "      <td>186.9</td>\n",
              "      <td>121</td>\n",
              "      <td>8.41</td>\n",
              "      <td>10.1</td>\n",
              "      <td>3</td>\n",
              "      <td>2.73</td>\n",
              "      <td>3</td>\n",
              "      <td>False</td>\n",
              "    </tr>\n",
              "  </tbody>\n",
              "</table>\n",
              "</div>"
            ],
            "text/plain": [
              "  State  Account length  ...  Customer service calls  Churn\n",
              "0    KS             128  ...                       1  False\n",
              "1    OH             107  ...                       1  False\n",
              "2    NJ             137  ...                       0  False\n",
              "3    OH              84  ...                       2  False\n",
              "4    OK              75  ...                       3  False\n",
              "\n",
              "[5 rows x 20 columns]"
            ]
          },
          "metadata": {},
          "execution_count": 6
        }
      ]
    },
    {
      "cell_type": "code",
      "metadata": {
        "colab": {
          "base_uri": "https://localhost:8080/"
        },
        "id": "CfLVuXoqEjdR",
        "outputId": "789cbe1b-f02f-447e-9829-e3b763723b0c"
      },
      "source": [
        "telecom_churn_df.info()"
      ],
      "execution_count": 7,
      "outputs": [
        {
          "output_type": "stream",
          "name": "stdout",
          "text": [
            "<class 'pandas.core.frame.DataFrame'>\n",
            "RangeIndex: 3333 entries, 0 to 3332\n",
            "Data columns (total 20 columns):\n",
            " #   Column                  Non-Null Count  Dtype  \n",
            "---  ------                  --------------  -----  \n",
            " 0   State                   3333 non-null   object \n",
            " 1   Account length          3333 non-null   int64  \n",
            " 2   Area code               3333 non-null   int64  \n",
            " 3   International plan      3333 non-null   object \n",
            " 4   Voice mail plan         3333 non-null   object \n",
            " 5   Number vmail messages   3333 non-null   int64  \n",
            " 6   Total day minutes       3333 non-null   float64\n",
            " 7   Total day calls         3333 non-null   int64  \n",
            " 8   Total day charge        3333 non-null   float64\n",
            " 9   Total eve minutes       3333 non-null   float64\n",
            " 10  Total eve calls         3333 non-null   int64  \n",
            " 11  Total eve charge        3333 non-null   float64\n",
            " 12  Total night minutes     3333 non-null   float64\n",
            " 13  Total night calls       3333 non-null   int64  \n",
            " 14  Total night charge      3333 non-null   float64\n",
            " 15  Total intl minutes      3333 non-null   float64\n",
            " 16  Total intl calls        3333 non-null   int64  \n",
            " 17  Total intl charge       3333 non-null   float64\n",
            " 18  Customer service calls  3333 non-null   int64  \n",
            " 19  Churn                   3333 non-null   bool   \n",
            "dtypes: bool(1), float64(8), int64(8), object(3)\n",
            "memory usage: 498.1+ KB\n"
          ]
        }
      ]
    },
    {
      "cell_type": "code",
      "metadata": {
        "id": "VWXb8nRVv6zN"
      },
      "source": [
        "churn_copy_df = telecom_churn_df.copy()"
      ],
      "execution_count": 8,
      "outputs": []
    },
    {
      "cell_type": "code",
      "metadata": {
        "colab": {
          "base_uri": "https://localhost:8080/"
        },
        "id": "leG0iGguHCV_",
        "outputId": "f01522a0-ff32-4741-f050-5aea138917ba"
      },
      "source": [
        "churn_copy_df.isna().sum()"
      ],
      "execution_count": 9,
      "outputs": [
        {
          "output_type": "execute_result",
          "data": {
            "text/plain": [
              "State                     0\n",
              "Account length            0\n",
              "Area code                 0\n",
              "International plan        0\n",
              "Voice mail plan           0\n",
              "Number vmail messages     0\n",
              "Total day minutes         0\n",
              "Total day calls           0\n",
              "Total day charge          0\n",
              "Total eve minutes         0\n",
              "Total eve calls           0\n",
              "Total eve charge          0\n",
              "Total night minutes       0\n",
              "Total night calls         0\n",
              "Total night charge        0\n",
              "Total intl minutes        0\n",
              "Total intl calls          0\n",
              "Total intl charge         0\n",
              "Customer service calls    0\n",
              "Churn                     0\n",
              "dtype: int64"
            ]
          },
          "metadata": {},
          "execution_count": 9
        }
      ]
    },
    {
      "cell_type": "code",
      "metadata": {
        "colab": {
          "base_uri": "https://localhost:8080/"
        },
        "id": "GWOW77E1wGcu",
        "outputId": "20e06b04-82ca-4d91-b273-1a4a96e5b3a7"
      },
      "source": [
        "churn_copy_df.columns"
      ],
      "execution_count": 10,
      "outputs": [
        {
          "output_type": "execute_result",
          "data": {
            "text/plain": [
              "Index(['State', 'Account length', 'Area code', 'International plan',\n",
              "       'Voice mail plan', 'Number vmail messages', 'Total day minutes',\n",
              "       'Total day calls', 'Total day charge', 'Total eve minutes',\n",
              "       'Total eve calls', 'Total eve charge', 'Total night minutes',\n",
              "       'Total night calls', 'Total night charge', 'Total intl minutes',\n",
              "       'Total intl calls', 'Total intl charge', 'Customer service calls',\n",
              "       'Churn'],\n",
              "      dtype='object')"
            ]
          },
          "metadata": {},
          "execution_count": 10
        }
      ]
    },
    {
      "cell_type": "code",
      "metadata": {
        "colab": {
          "base_uri": "https://localhost:8080/"
        },
        "id": "oePEjMIQwdR9",
        "outputId": "539902e2-c092-463e-a51c-3e5e9cb86d1b"
      },
      "source": [
        "churn_copy_df['State'].nunique()"
      ],
      "execution_count": 11,
      "outputs": [
        {
          "output_type": "execute_result",
          "data": {
            "text/plain": [
              "51"
            ]
          },
          "metadata": {},
          "execution_count": 11
        }
      ]
    },
    {
      "cell_type": "code",
      "metadata": {
        "colab": {
          "base_uri": "https://localhost:8080/",
          "height": 301
        },
        "id": "BgYwX3jjwlIo",
        "outputId": "51579551-b45d-4b28-971a-ec12c0827114"
      },
      "source": [
        "sns.barplot(x='Churn', y='Customer service calls',data=churn_copy_df)"
      ],
      "execution_count": 12,
      "outputs": [
        {
          "output_type": "execute_result",
          "data": {
            "text/plain": [
              "<matplotlib.axes._subplots.AxesSubplot at 0x7f1848a2c810>"
            ]
          },
          "metadata": {},
          "execution_count": 12
        },
        {
          "output_type": "display_data",
          "data": {
            "image/png": "[encoded data removed]",
            "text/plain": [
              "<Figure size 432x288 with 1 Axes>"
            ]
          },
          "metadata": {
            "needs_background": "light"
          }
        }
      ]
    },
    {
      "cell_type": "code",
      "metadata": {
        "colab": {
          "base_uri": "https://localhost:8080/"
        },
        "id": "S2TeD_5NyrCV",
        "outputId": "2a73ec3e-cfb0-4a1f-d678-143a761f6e45"
      },
      "source": [
        "print('Total percentage of churn = ',100*churn_copy_df[churn_copy_df['Churn']==True].shape[0]/churn_copy_df.shape[0])"
      ],
      "execution_count": 13,
      "outputs": [
        {
          "output_type": "stream",
          "name": "stdout",
          "text": [
            "Total percentage of churn =  14.491449144914492\n"
          ]
        }
      ]
    },
    {
      "cell_type": "code",
      "metadata": {
        "id": "PAy-CkaIxS7_"
      },
      "source": [
        "areawise_df = churn_copy_df.groupby('Area code')['Customer service calls'].sum().reset_index()"
      ],
      "execution_count": 14,
      "outputs": []
    },
    {
      "cell_type": "code",
      "metadata": {
        "colab": {
          "base_uri": "https://localhost:8080/",
          "height": 143
        },
        "id": "hzaXlIVyx62D",
        "outputId": "a299cabe-c4c9-46f9-ed88-15867944d00f"
      },
      "source": [
        "areawise_df"
      ],
      "execution_count": 15,
      "outputs": [
        {
          "output_type": "execute_result",
          "data": {
            "text/html": [
              "<div>\n",
              "<style scoped>\n",
              "    .dataframe tbody tr th:only-of-type {\n",
              "        vertical-align: middle;\n",
              "    }\n",
              "\n",
              "    .dataframe tbody tr th {\n",
              "        vertical-align: top;\n",
              "    }\n",
              "\n",
              "    .dataframe thead th {\n",
              "        text-align: right;\n",
              "    }\n",
              "</style>\n",
              "<table border=\"1\" class=\"dataframe\">\n",
              "  <thead>\n",
              "    <tr style=\"text-align: right;\">\n",
              "      <th></th>\n",
              "      <th>Area code</th>\n",
              "      <th>Customer service calls</th>\n",
              "    </tr>\n",
              "  </thead>\n",
              "  <tbody>\n",
              "    <tr>\n",
              "      <th>0</th>\n",
              "      <td>408</td>\n",
              "      <td>1273</td>\n",
              "    </tr>\n",
              "    <tr>\n",
              "      <th>1</th>\n",
              "      <td>415</td>\n",
              "      <td>2572</td>\n",
              "    </tr>\n",
              "    <tr>\n",
              "      <th>2</th>\n",
              "      <td>510</td>\n",
              "      <td>1364</td>\n",
              "    </tr>\n",
              "  </tbody>\n",
              "</table>\n",
              "</div>"
            ],
            "text/plain": [
              "   Area code  Customer service calls\n",
              "0        408                    1273\n",
              "1        415                    2572\n",
              "2        510                    1364"
            ]
          },
          "metadata": {},
          "execution_count": 15
        }
      ]
    },
    {
      "cell_type": "code",
      "metadata": {
        "colab": {
          "base_uri": "https://localhost:8080/",
          "height": 297
        },
        "id": "bDRKg5uwxCQJ",
        "outputId": "73b18d11-6b0a-4f95-bc95-8c164be586a5"
      },
      "source": [
        "sns.barplot(x='Area code', y='Customer service calls',data=areawise_df)"
      ],
      "execution_count": 16,
      "outputs": [
        {
          "output_type": "execute_result",
          "data": {
            "text/plain": [
              "<matplotlib.axes._subplots.AxesSubplot at 0x7f18488c2390>"
            ]
          },
          "metadata": {},
          "execution_count": 16
        },
        {
          "output_type": "display_data",
          "data": {
            "image/png": "[encoded data removed]",
            "text/plain": [
              "<Figure size 432x288 with 1 Axes>"
            ]
          },
          "metadata": {
            "needs_background": "light"
          }
        }
      ]
    },
    {
      "cell_type": "code",
      "metadata": {
        "colab": {
          "base_uri": "https://localhost:8080/"
        },
        "id": "w-xxn-vT2fcd",
        "outputId": "cc912320-a879-4959-c606-4a0090ae851d"
      },
      "source": [
        "churn_copy_df[churn_copy_df['Churn'] == True].shape"
      ],
      "execution_count": 17,
      "outputs": [
        {
          "output_type": "execute_result",
          "data": {
            "text/plain": [
              "(483, 20)"
            ]
          },
          "metadata": {},
          "execution_count": 17
        }
      ]
    },
    {
      "cell_type": "code",
      "metadata": {
        "colab": {
          "base_uri": "https://localhost:8080/"
        },
        "id": "-Ei4WaCi2xeb",
        "outputId": "5f63fb8f-720d-4a7c-91ea-7c158acee207"
      },
      "source": [
        "count = 0\n",
        "for row, cols in churn_copy_df.iterrows():\n",
        "  if cols['Area code'] == 408 and cols['Churn']==True:\n",
        "    count+=1\n",
        "count"
      ],
      "execution_count": 18,
      "outputs": [
        {
          "output_type": "execute_result",
          "data": {
            "text/plain": [
              "122"
            ]
          },
          "metadata": {},
          "execution_count": 18
        }
      ]
    },
    {
      "cell_type": "code",
      "metadata": {
        "id": "g3hCa8WT3Jnv"
      },
      "source": [
        "def churn_percent_by_areacode(code):\n",
        "  count = 0\n",
        "  for row, cols in churn_copy_df.iterrows():\n",
        "    if cols['Area code'] == code and cols['Churn']==True:\n",
        "      count+=1\n",
        "  percent_count = 100*count/churn_copy_df[churn_copy_df['Churn'] == True].shape[0]\n",
        "  return print(f'For area code {code} the unsubscribed customer is {percent_count}%')"
      ],
      "execution_count": 19,
      "outputs": []
    },
    {
      "cell_type": "code",
      "metadata": {
        "id": "nmJ8_pmzDBlh",
        "colab": {
          "base_uri": "https://localhost:8080/"
        },
        "outputId": "065cb7ef-e8a5-4d74-c447-b505f1c67614"
      },
      "source": [
        "churn_copy_df[churn_copy_df['Churn'] == True].shape[0]"
      ],
      "execution_count": 20,
      "outputs": [
        {
          "output_type": "execute_result",
          "data": {
            "text/plain": [
              "483"
            ]
          },
          "metadata": {},
          "execution_count": 20
        }
      ]
    },
    {
      "cell_type": "code",
      "metadata": {
        "colab": {
          "base_uri": "https://localhost:8080/"
        },
        "id": "lxnPgZ_834Lt",
        "outputId": "5187f7d0-3987-4a1d-c1b6-28441e8cfd8d"
      },
      "source": [
        "area_code = [408,415,510]\n",
        "for code in area_code:\n",
        "  churn_percent_by_areacode(code)"
      ],
      "execution_count": 21,
      "outputs": [
        {
          "output_type": "stream",
          "name": "stdout",
          "text": [
            "For area code 408 the unsubscribed customer is 25.25879917184265%\n",
            "For area code 415 the unsubscribed customer is 48.86128364389234%\n",
            "For area code 510 the unsubscribed customer is 25.87991718426501%\n"
          ]
        }
      ]
    },
    {
      "cell_type": "code",
      "metadata": {
        "id": "dEDlW_QtIGEv"
      },
      "source": [
        "def unsubscribed_count(code):\n",
        "  count = 0\n",
        "  for row, cols in churn_copy_df.iterrows():\n",
        "    if cols['Area code'] == code and cols['Churn']==True:\n",
        "      count+=1\n",
        "  return 100*count/churn_copy_df[churn_copy_df['Churn'] == True].shape[0]\n",
        "    \n",
        "\n",
        "area_code_count = []\n",
        "for num in area_code:\n",
        "  area_code_count.append(unsubscribed_count(num))\n",
        "\n",
        "area_code_count_df = pd.DataFrame({'Area_code' : area_code, 'Unsubscribed_percent': area_code_count})\n"
      ],
      "execution_count": 22,
      "outputs": []
    },
    {
      "cell_type": "code",
      "metadata": {
        "colab": {
          "base_uri": "https://localhost:8080/",
          "height": 143
        },
        "id": "IoZo9DVCK4g9",
        "outputId": "cb8af646-a27d-4a05-bc16-0d9898fe1718"
      },
      "source": [
        "area_code_count_df"
      ],
      "execution_count": 23,
      "outputs": [
        {
          "output_type": "execute_result",
          "data": {
            "text/html": [
              "<div>\n",
              "<style scoped>\n",
              "    .dataframe tbody tr th:only-of-type {\n",
              "        vertical-align: middle;\n",
              "    }\n",
              "\n",
              "    .dataframe tbody tr th {\n",
              "        vertical-align: top;\n",
              "    }\n",
              "\n",
              "    .dataframe thead th {\n",
              "        text-align: right;\n",
              "    }\n",
              "</style>\n",
              "<table border=\"1\" class=\"dataframe\">\n",
              "  <thead>\n",
              "    <tr style=\"text-align: right;\">\n",
              "      <th></th>\n",
              "      <th>Area_code</th>\n",
              "      <th>Unsubscribed_percent</th>\n",
              "    </tr>\n",
              "  </thead>\n",
              "  <tbody>\n",
              "    <tr>\n",
              "      <th>0</th>\n",
              "      <td>408</td>\n",
              "      <td>25.258799</td>\n",
              "    </tr>\n",
              "    <tr>\n",
              "      <th>1</th>\n",
              "      <td>415</td>\n",
              "      <td>48.861284</td>\n",
              "    </tr>\n",
              "    <tr>\n",
              "      <th>2</th>\n",
              "      <td>510</td>\n",
              "      <td>25.879917</td>\n",
              "    </tr>\n",
              "  </tbody>\n",
              "</table>\n",
              "</div>"
            ],
            "text/plain": [
              "   Area_code  Unsubscribed_percent\n",
              "0        408             25.258799\n",
              "1        415             48.861284\n",
              "2        510             25.879917"
            ]
          },
          "metadata": {},
          "execution_count": 23
        }
      ]
    },
    {
      "cell_type": "code",
      "metadata": {
        "colab": {
          "base_uri": "https://localhost:8080/",
          "height": 315
        },
        "id": "FhTS5BHYMqYh",
        "outputId": "a2c603fd-6954-446e-92a0-451f883c7cf7"
      },
      "source": [
        "ax = sns.barplot(x='Area_code', y='Unsubscribed_percent',data=area_code_count_df)\n",
        "ax.set_title('Percentage of unsubscribtion by area code')"
      ],
      "execution_count": 24,
      "outputs": [
        {
          "output_type": "execute_result",
          "data": {
            "text/plain": [
              "Text(0.5, 1.0, 'Percentage of unsubscribtion by area code')"
            ]
          },
          "metadata": {},
          "execution_count": 24
        },
        {
          "output_type": "display_data",
          "data": {
            "image/png": "[encoded data removed]",
            "text/plain": [
              "<Figure size 432x288 with 1 Axes>"
            ]
          },
          "metadata": {
            "needs_background": "light"
          }
        }
      ]
    },
    {
      "cell_type": "code",
      "metadata": {
        "colab": {
          "base_uri": "https://localhost:8080/"
        },
        "id": "lOzgXx6BwMhP",
        "outputId": "99ffbb54-e283-4117-9fcb-0a7999200406"
      },
      "source": [
        "churn_copy_df['State'].unique()"
      ],
      "execution_count": 25,
      "outputs": [
        {
          "output_type": "execute_result",
          "data": {
            "text/plain": [
              "array(['KS', 'OH', 'NJ', 'OK', 'AL', 'MA', 'MO', 'LA', 'WV', 'IN', 'RI',\n",
              "       'IA', 'MT', 'NY', 'ID', 'VT', 'VA', 'TX', 'FL', 'CO', 'AZ', 'SC',\n",
              "       'NE', 'WY', 'HI', 'IL', 'NH', 'GA', 'AK', 'MD', 'AR', 'WI', 'OR',\n",
              "       'MI', 'DE', 'UT', 'CA', 'MN', 'SD', 'NC', 'WA', 'NM', 'NV', 'DC',\n",
              "       'KY', 'ME', 'MS', 'TN', 'PA', 'CT', 'ND'], dtype=object)"
            ]
          },
          "metadata": {},
          "execution_count": 25
        }
      ]
    },
    {
      "cell_type": "code",
      "metadata": {
        "colab": {
          "base_uri": "https://localhost:8080/"
        },
        "id": "mMG6M9wH2D3p",
        "outputId": "05a8fee7-606f-4209-fddd-fad23436feee"
      },
      "source": [
        "churn_copy_df['Area code'].nunique()"
      ],
      "execution_count": 26,
      "outputs": [
        {
          "output_type": "execute_result",
          "data": {
            "text/plain": [
              "3"
            ]
          },
          "metadata": {},
          "execution_count": 26
        }
      ]
    },
    {
      "cell_type": "code",
      "metadata": {
        "id": "gmVBWMBEYPzs",
        "colab": {
          "base_uri": "https://localhost:8080/",
          "height": 406
        },
        "outputId": "cec4b088-7d57-4bb5-c42e-de64f4a3d88a"
      },
      "source": [
        "unsubscribed_df = churn_copy_df[churn_copy_df['Churn'] == True]\n",
        "statewise_churn_count =unsubscribed_df.groupby(['State'])['Churn'].sum()\n",
        "state_count = churn_copy_df['State'].value_counts()\n",
        "average_statewise_churn_ratio =statewise_churn_count/state_count\n",
        "\n",
        "\n",
        "ss =pd.DataFrame(average_statewise_churn_ratio)\n",
        "ss.reset_index(inplace=True)\n",
        "ss.columns=['State','Average Churn ratio']\n",
        "ss['Average Subscription rate']=1-ss['Average Churn ratio']\n",
        "ss.sort_values('Average Churn ratio',inplace=True)\n",
        "fig1 = plt.figure(figsize=(18, 6))\n",
        "sns.barplot(x='State',y='Average Churn ratio',data=ss)"
      ],
      "execution_count": 27,
      "outputs": [
        {
          "output_type": "execute_result",
          "data": {
            "text/plain": [
              "<matplotlib.axes._subplots.AxesSubplot at 0x7f18477df050>"
            ]
          },
          "metadata": {},
          "execution_count": 27
        },
        {
          "output_type": "display_data",
          "data": {
            "image/png": "[encoded data removed]",
            "text/plain": [
              "<Figure size 1296x432 with 1 Axes>"
            ]
          },
          "metadata": {
            "needs_background": "light"
          }
        }
      ]
    },
    {
      "cell_type": "code",
      "metadata": {
        "id": "tysQUn1I59lX"
      },
      "source": [
        "lst=[]\n",
        "for name,group in unsubscribed_df.groupby(['State','Churn']):\n",
        "    lst.append([name[1],name[0],group.shape[0]])"
      ],
      "execution_count": 28,
      "outputs": []
    },
    {
      "cell_type": "code",
      "metadata": {
        "colab": {
          "base_uri": "https://localhost:8080/",
          "height": 388
        },
        "id": "SBx9kAdi6TyZ",
        "outputId": "a87b7304-da52-4a68-f0d5-d980e411e2fa"
      },
      "source": [
        "df_state_count=pd.DataFrame(lst)\n",
        "df_state_count.columns=['Churn','State','Count']\n",
        "df_state_count.sort_values('Count',inplace=True)\n",
        "fig = plt.figure(figsize=(18, 6))\n",
        "ax = sns.barplot(x=\"State\", y = 'Count', data=df_state_count)\n"
      ],
      "execution_count": 30,
      "outputs": [
        {
          "output_type": "display_data",
          "data": {
            "image/png": "[encoded data removed]",
            "text/plain": [
              "<Figure size 1296x432 with 1 Axes>"
            ]
          },
          "metadata": {
            "needs_background": "light"
          }
        }
      ]
    },
    {
      "cell_type": "code",
      "metadata": {
        "id": "mqSaJ5PwZGR9"
      },
      "source": [
        "state_with_high_unsubs_df = df_state_count[df_state_count['Count'] > 10]"
      ],
      "execution_count": 31,
      "outputs": []
    },
    {
      "cell_type": "code",
      "metadata": {
        "colab": {
          "base_uri": "https://localhost:8080/"
        },
        "id": "CGIG0ndFDTwR",
        "outputId": "27088feb-42b8-4fb6-fd2e-1050f5714fe4"
      },
      "source": [
        "state_with_high_unsubs_df['State'].nunique()"
      ],
      "execution_count": 32,
      "outputs": [
        {
          "output_type": "execute_result",
          "data": {
            "text/plain": [
              "18"
            ]
          },
          "metadata": {},
          "execution_count": 32
        }
      ]
    },
    {
      "cell_type": "code",
      "metadata": {
        "id": "oRTqYhCDceXn"
      },
      "source": [
        "lst=[]\n",
        "for name,group in churn_copy_df.groupby(['State','Churn']):\n",
        "    lst.append([name[1],name[0],group.shape[0]])\n",
        "df_state_count=pd.DataFrame(lst)\n",
        "df_state_count.columns=['Churn','State','Count']\n"
      ],
      "execution_count": 34,
      "outputs": []
    },
    {
      "cell_type": "code",
      "metadata": {
        "colab": {
          "base_uri": "https://localhost:8080/",
          "height": 205
        },
        "id": "bwokeOr87tEn",
        "outputId": "884399a7-647e-4508-88cb-98f59cf7689f"
      },
      "source": [
        "df_state_count.head(5)\n"
      ],
      "execution_count": 35,
      "outputs": [
        {
          "output_type": "execute_result",
          "data": {
            "text/html": [
              "<div>\n",
              "<style scoped>\n",
              "    .dataframe tbody tr th:only-of-type {\n",
              "        vertical-align: middle;\n",
              "    }\n",
              "\n",
              "    .dataframe tbody tr th {\n",
              "        vertical-align: top;\n",
              "    }\n",
              "\n",
              "    .dataframe thead th {\n",
              "        text-align: right;\n",
              "    }\n",
              "</style>\n",
              "<table border=\"1\" class=\"dataframe\">\n",
              "  <thead>\n",
              "    <tr style=\"text-align: right;\">\n",
              "      <th></th>\n",
              "      <th>Churn</th>\n",
              "      <th>State</th>\n",
              "      <th>Count</th>\n",
              "    </tr>\n",
              "  </thead>\n",
              "  <tbody>\n",
              "    <tr>\n",
              "      <th>0</th>\n",
              "      <td>False</td>\n",
              "      <td>AK</td>\n",
              "      <td>49</td>\n",
              "    </tr>\n",
              "    <tr>\n",
              "      <th>1</th>\n",
              "      <td>True</td>\n",
              "      <td>AK</td>\n",
              "      <td>3</td>\n",
              "    </tr>\n",
              "    <tr>\n",
              "      <th>2</th>\n",
              "      <td>False</td>\n",
              "      <td>AL</td>\n",
              "      <td>72</td>\n",
              "    </tr>\n",
              "    <tr>\n",
              "      <th>3</th>\n",
              "      <td>True</td>\n",
              "      <td>AL</td>\n",
              "      <td>8</td>\n",
              "    </tr>\n",
              "    <tr>\n",
              "      <th>4</th>\n",
              "      <td>False</td>\n",
              "      <td>AR</td>\n",
              "      <td>44</td>\n",
              "    </tr>\n",
              "  </tbody>\n",
              "</table>\n",
              "</div>"
            ],
            "text/plain": [
              "   Churn State  Count\n",
              "0  False    AK     49\n",
              "1   True    AK      3\n",
              "2  False    AL     72\n",
              "3   True    AL      8\n",
              "4  False    AR     44"
            ]
          },
          "metadata": {},
          "execution_count": 35
        }
      ]
    },
    {
      "cell_type": "code",
      "metadata": {
        "colab": {
          "base_uri": "https://localhost:8080/",
          "height": 542
        },
        "id": "J-TKkm2OL9VI",
        "outputId": "0264e15f-1611-4da9-e3e2-dd3065d7183e"
      },
      "source": [
        "import plotly.express as px\n",
        "\n",
        "#long_df = px.data.df_state_count()\n",
        "\n",
        "fig2 = px.bar(ss, x=\"State\", y=\"Average Churn ratio\", title=\"Average Unsubscription rate by State\").update_xaxes(categoryorder ='total ascending')\n",
        "fig2.show()"
      ],
      "execution_count": 36,
      "outputs": [
        {
          "output_type": "display_data",
          "data": {
            "text/html": [
              "<html>\n",
              "<head><meta charset=\"utf-8\" /></head>\n",
              "<body>\n",
              "    <div>\n",
              "            <script src=\"https://cdnjs.cloudflare.com/ajax/libs/mathjax/2.7.5/MathJax.js?config=TeX-AMS-MML_SVG\"></script><script type=\"text/javascript\">if (window.MathJax) {MathJax.Hub.Config({SVG: {font: \"STIX-Web\"}});}</script>\n",
              "                <script type=\"text/javascript\">window.PlotlyConfig = {MathJaxConfig: 'local'};</script>\n",
              "        <script src=\"https://cdn.plot.ly/plotly-latest.min.js\"></script>    \n",
              "            <div id=\"7aa215ff-a52a-4c2a-824b-80ebeed399d9\" class=\"plotly-graph-div\" style=\"height:525px; width:100%;\"></div>\n",
              "            <script type=\"text/javascript\">\n",
              "                \n",
              "                    window.PLOTLYENV=window.PLOTLYENV || {};\n",
              "                    \n",
              "                if (document.getElementById(\"7aa215ff-a52a-4c2a-824b-80ebeed399d9\")) {\n",
              "                    Plotly.newPlot(\n",
              "                        '7aa215ff-a52a-4c2a-824b-80ebeed399d9',\n",
              "                        [{\"alignmentgroup\": \"True\", \"hoverlabel\": {\"namelength\": 0}, \"hovertemplate\": \"State=%{x}<br>Average Churn ratio=%{y}\", \"legendgroup\": \"\", \"marker\": {\"color\": \"#636efa\"}, \"name\": \"\", \"offsetgroup\": \"\", \"orientation\": \"v\", \"showlegend\": false, \"textposition\": \"auto\", \"type\": \"bar\", \"x\": [\"HI\", \"AK\", \"AZ\", \"VA\", \"IA\", \"LA\", \"NE\", \"IL\", \"WI\", \"RI\", \"DC\", \"TN\", \"WV\", \"NM\", \"ND\", \"AL\", \"VT\", \"MO\", \"WY\", \"ID\", \"IN\", \"FL\", \"OH\", \"SD\", \"KY\", \"CO\", \"UT\", \"OR\", \"OK\", \"DE\", \"GA\", \"NH\", \"NC\", \"CT\", \"MA\", \"PA\", \"MN\", \"NY\", \"KS\", \"AR\", \"MT\", \"ME\", \"WA\", \"NV\", \"MS\", \"MI\", \"SC\", \"MD\", \"TX\", \"NJ\", \"CA\"], \"xaxis\": \"x\", \"y\": [0.05660377358490566, 0.057692307692307696, 0.0625, 0.06493506493506493, 0.06818181818181818, 0.0784313725490196, 0.08196721311475409, 0.08620689655172414, 0.08974358974358974, 0.09230769230769231, 0.09259259259259259, 0.09433962264150944, 0.09433962264150944, 0.0967741935483871, 0.0967741935483871, 0.1, 0.1095890410958904, 0.1111111111111111, 0.11688311688311688, 0.1232876712328767, 0.1267605633802817, 0.12698412698412698, 0.1282051282051282, 0.13333333333333333, 0.13559322033898305, 0.13636363636363635, 0.1388888888888889, 0.14102564102564102, 0.14754098360655737, 0.14754098360655737, 0.14814814814814814, 0.16071428571428573, 0.16176470588235295, 0.16216216216216217, 0.16923076923076924, 0.17777777777777778, 0.17857142857142858, 0.18072289156626506, 0.18571428571428572, 0.2, 0.20588235294117646, 0.20967741935483872, 0.21212121212121213, 0.21212121212121213, 0.2153846153846154, 0.2191780821917808, 0.23333333333333334, 0.24285714285714285, 0.25, 0.2647058823529412, 0.2647058823529412], \"yaxis\": \"y\"}],\n",
              "                        {\"barmode\": \"relative\", \"legend\": {\"tracegroupgap\": 0}, \"template\": {\"data\": {\"bar\": [{\"error_x\": {\"color\": \"#2a3f5f\"}, \"error_y\": {\"color\": \"#2a3f5f\"}, \"marker\": {\"line\": {\"color\": \"#E5ECF6\", \"width\": 0.5}}, \"type\": \"bar\"}], \"barpolar\": [{\"marker\": {\"line\": {\"color\": \"#E5ECF6\", \"width\": 0.5}}, \"type\": \"barpolar\"}], \"carpet\": [{\"aaxis\": {\"endlinecolor\": \"#2a3f5f\", \"gridcolor\": \"white\", \"linecolor\": \"white\", \"minorgridcolor\": \"white\", \"startlinecolor\": \"#2a3f5f\"}, \"baxis\": {\"endlinecolor\": \"#2a3f5f\", \"gridcolor\": \"white\", \"linecolor\": \"white\", \"minorgridcolor\": \"white\", \"startlinecolor\": \"#2a3f5f\"}, \"type\": \"carpet\"}], \"choropleth\": [{\"colorbar\": {\"outlinewidth\": 0, \"ticks\": \"\"}, \"type\": \"choropleth\"}], \"contour\": [{\"colorbar\": {\"outlinewidth\": 0, \"ticks\": \"\"}, \"colorscale\": [[0.0, \"#0d0887\"], [0.1111111111111111, \"#46039f\"], [0.2222222222222222, \"#7201a8\"], [0.3333333333333333, \"#9c179e\"], [0.4444444444444444, \"#bd3786\"], [0.5555555555555556, \"#d8576b\"], [0.6666666666666666, \"#ed7953\"], [0.7777777777777778, \"#fb9f3a\"], [0.8888888888888888, \"#fdca26\"], [1.0, \"#f0f921\"]], \"type\": \"contour\"}], \"contourcarpet\": [{\"colorbar\": {\"outlinewidth\": 0, \"ticks\": \"\"}, \"type\": \"contourcarpet\"}], \"heatmap\": [{\"colorbar\": {\"outlinewidth\": 0, \"ticks\": \"\"}, \"colorscale\": [[0.0, \"#0d0887\"], [0.1111111111111111, \"#46039f\"], [0.2222222222222222, \"#7201a8\"], [0.3333333333333333, \"#9c179e\"], [0.4444444444444444, \"#bd3786\"], [0.5555555555555556, \"#d8576b\"], [0.6666666666666666, \"#ed7953\"], [0.7777777777777778, \"#fb9f3a\"], [0.8888888888888888, \"#fdca26\"], [1.0, \"#f0f921\"]], \"type\": \"heatmap\"}], \"heatmapgl\": [{\"colorbar\": {\"outlinewidth\": 0, \"ticks\": \"\"}, \"colorscale\": [[0.0, \"#0d0887\"], [0.1111111111111111, \"#46039f\"], [0.2222222222222222, \"#7201a8\"], [0.3333333333333333, \"#9c179e\"], [0.4444444444444444, \"#bd3786\"], [0.5555555555555556, \"#d8576b\"], [0.6666666666666666, \"#ed7953\"], [0.7777777777777778, \"#fb9f3a\"], [0.8888888888888888, \"#fdca26\"], [1.0, \"#f0f921\"]], \"type\": \"heatmapgl\"}], \"histogram\": [{\"marker\": {\"colorbar\": {\"outlinewidth\": 0, \"ticks\": \"\"}}, \"type\": \"histogram\"}], \"histogram2d\": [{\"colorbar\": {\"outlinewidth\": 0, \"ticks\": \"\"}, \"colorscale\": [[0.0, \"#0d0887\"], [0.1111111111111111, \"#46039f\"], [0.2222222222222222, \"#7201a8\"], [0.3333333333333333, \"#9c179e\"], [0.4444444444444444, \"#bd3786\"], [0.5555555555555556, \"#d8576b\"], [0.6666666666666666, \"#ed7953\"], [0.7777777777777778, \"#fb9f3a\"], [0.8888888888888888, \"#fdca26\"], [1.0, \"#f0f921\"]], \"type\": \"histogram2d\"}], \"histogram2dcontour\": [{\"colorbar\": {\"outlinewidth\": 0, \"ticks\": \"\"}, \"colorscale\": [[0.0, \"#0d0887\"], [0.1111111111111111, \"#46039f\"], [0.2222222222222222, \"#7201a8\"], [0.3333333333333333, \"#9c179e\"], [0.4444444444444444, \"#bd3786\"], [0.5555555555555556, \"#d8576b\"], [0.6666666666666666, \"#ed7953\"], [0.7777777777777778, \"#fb9f3a\"], [0.8888888888888888, \"#fdca26\"], [1.0, \"#f0f921\"]], \"type\": \"histogram2dcontour\"}], \"mesh3d\": [{\"colorbar\": {\"outlinewidth\": 0, \"ticks\": \"\"}, \"type\": \"mesh3d\"}], \"parcoords\": [{\"line\": {\"colorbar\": {\"outlinewidth\": 0, \"ticks\": \"\"}}, \"type\": \"parcoords\"}], \"pie\": [{\"automargin\": true, \"type\": \"pie\"}], \"scatter\": [{\"marker\": {\"colorbar\": {\"outlinewidth\": 0, \"ticks\": \"\"}}, \"type\": \"scatter\"}], \"scatter3d\": [{\"line\": {\"colorbar\": {\"outlinewidth\": 0, \"ticks\": \"\"}}, \"marker\": {\"colorbar\": {\"outlinewidth\": 0, \"ticks\": \"\"}}, \"type\": \"scatter3d\"}], \"scattercarpet\": [{\"marker\": {\"colorbar\": {\"outlinewidth\": 0, \"ticks\": \"\"}}, \"type\": \"scattercarpet\"}], \"scattergeo\": [{\"marker\": {\"colorbar\": {\"outlinewidth\": 0, \"ticks\": \"\"}}, \"type\": \"scattergeo\"}], \"scattergl\": [{\"marker\": {\"colorbar\": {\"outlinewidth\": 0, \"ticks\": \"\"}}, \"type\": \"scattergl\"}], \"scattermapbox\": [{\"marker\": {\"colorbar\": {\"outlinewidth\": 0, \"ticks\": \"\"}}, \"type\": \"scattermapbox\"}], \"scatterpolar\": [{\"marker\": {\"colorbar\": {\"outlinewidth\": 0, \"ticks\": \"\"}}, \"type\": \"scatterpolar\"}], \"scatterpolargl\": [{\"marker\": {\"colorbar\": {\"outlinewidth\": 0, \"ticks\": \"\"}}, \"type\": \"scatterpolargl\"}], \"scatterternary\": [{\"marker\": {\"colorbar\": {\"outlinewidth\": 0, \"ticks\": \"\"}}, \"type\": \"scatterternary\"}], \"surface\": [{\"colorbar\": {\"outlinewidth\": 0, \"ticks\": \"\"}, \"colorscale\": [[0.0, \"#0d0887\"], [0.1111111111111111, \"#46039f\"], [0.2222222222222222, \"#7201a8\"], [0.3333333333333333, \"#9c179e\"], [0.4444444444444444, \"#bd3786\"], [0.5555555555555556, \"#d8576b\"], [0.6666666666666666, \"#ed7953\"], [0.7777777777777778, \"#fb9f3a\"], [0.8888888888888888, \"#fdca26\"], [1.0, \"#f0f921\"]], \"type\": \"surface\"}], \"table\": [{\"cells\": {\"fill\": {\"color\": \"#EBF0F8\"}, \"line\": {\"color\": \"white\"}}, \"header\": {\"fill\": {\"color\": \"#C8D4E3\"}, \"line\": {\"color\": \"white\"}}, \"type\": \"table\"}]}, \"layout\": {\"annotationdefaults\": {\"arrowcolor\": \"#2a3f5f\", \"arrowhead\": 0, \"arrowwidth\": 1}, \"coloraxis\": {\"colorbar\": {\"outlinewidth\": 0, \"ticks\": \"\"}}, \"colorscale\": {\"diverging\": [[0, \"#8e0152\"], [0.1, \"#c51b7d\"], [0.2, \"#de77ae\"], [0.3, \"#f1b6da\"], [0.4, \"#fde0ef\"], [0.5, \"#f7f7f7\"], [0.6, \"#e6f5d0\"], [0.7, \"#b8e186\"], [0.8, \"#7fbc41\"], [0.9, \"#4d9221\"], [1, \"#276419\"]], \"sequential\": [[0.0, \"#0d0887\"], [0.1111111111111111, \"#46039f\"], [0.2222222222222222, \"#7201a8\"], [0.3333333333333333, \"#9c179e\"], [0.4444444444444444, \"#bd3786\"], [0.5555555555555556, \"#d8576b\"], [0.6666666666666666, \"#ed7953\"], [0.7777777777777778, \"#fb9f3a\"], [0.8888888888888888, \"#fdca26\"], [1.0, \"#f0f921\"]], \"sequentialminus\": [[0.0, \"#0d0887\"], [0.1111111111111111, \"#46039f\"], [0.2222222222222222, \"#7201a8\"], [0.3333333333333333, \"#9c179e\"], [0.4444444444444444, \"#bd3786\"], [0.5555555555555556, \"#d8576b\"], [0.6666666666666666, \"#ed7953\"], [0.7777777777777778, \"#fb9f3a\"], [0.8888888888888888, \"#fdca26\"], [1.0, \"#f0f921\"]]}, \"colorway\": [\"#636efa\", \"#EF553B\", \"#00cc96\", \"#ab63fa\", \"#FFA15A\", \"#19d3f3\", \"#FF6692\", \"#B6E880\", \"#FF97FF\", \"#FECB52\"], \"font\": {\"color\": \"#2a3f5f\"}, \"geo\": {\"bgcolor\": \"white\", \"lakecolor\": \"white\", \"landcolor\": \"#E5ECF6\", \"showlakes\": true, \"showland\": true, \"subunitcolor\": \"white\"}, \"hoverlabel\": {\"align\": \"left\"}, \"hovermode\": \"closest\", \"mapbox\": {\"style\": \"light\"}, \"paper_bgcolor\": \"white\", \"plot_bgcolor\": \"#E5ECF6\", \"polar\": {\"angularaxis\": {\"gridcolor\": \"white\", \"linecolor\": \"white\", \"ticks\": \"\"}, \"bgcolor\": \"#E5ECF6\", \"radialaxis\": {\"gridcolor\": \"white\", \"linecolor\": \"white\", \"ticks\": \"\"}}, \"scene\": {\"xaxis\": {\"backgroundcolor\": \"#E5ECF6\", \"gridcolor\": \"white\", \"gridwidth\": 2, \"linecolor\": \"white\", \"showbackground\": true, \"ticks\": \"\", \"zerolinecolor\": \"white\"}, \"yaxis\": {\"backgroundcolor\": \"#E5ECF6\", \"gridcolor\": \"white\", \"gridwidth\": 2, \"linecolor\": \"white\", \"showbackground\": true, \"ticks\": \"\", \"zerolinecolor\": \"white\"}, \"zaxis\": {\"backgroundcolor\": \"#E5ECF6\", \"gridcolor\": \"white\", \"gridwidth\": 2, \"linecolor\": \"white\", \"showbackground\": true, \"ticks\": \"\", \"zerolinecolor\": \"white\"}}, \"shapedefaults\": {\"line\": {\"color\": \"#2a3f5f\"}}, \"ternary\": {\"aaxis\": {\"gridcolor\": \"white\", \"linecolor\": \"white\", \"ticks\": \"\"}, \"baxis\": {\"gridcolor\": \"white\", \"linecolor\": \"white\", \"ticks\": \"\"}, \"bgcolor\": \"#E5ECF6\", \"caxis\": {\"gridcolor\": \"white\", \"linecolor\": \"white\", \"ticks\": \"\"}}, \"title\": {\"x\": 0.05}, \"xaxis\": {\"automargin\": true, \"gridcolor\": \"white\", \"linecolor\": \"white\", \"ticks\": \"\", \"title\": {\"standoff\": 15}, \"zerolinecolor\": \"white\", \"zerolinewidth\": 2}, \"yaxis\": {\"automargin\": true, \"gridcolor\": \"white\", \"linecolor\": \"white\", \"ticks\": \"\", \"title\": {\"standoff\": 15}, \"zerolinecolor\": \"white\", \"zerolinewidth\": 2}}}, \"title\": {\"text\": \"Average Unsubscription rate by State\"}, \"xaxis\": {\"anchor\": \"y\", \"categoryorder\": \"total ascending\", \"domain\": [0.0, 1.0], \"title\": {\"text\": \"State\"}}, \"yaxis\": {\"anchor\": \"x\", \"domain\": [0.0, 1.0], \"title\": {\"text\": \"Average Churn ratio\"}}},\n",
              "                        {\"responsive\": true}\n",
              "                    ).then(function(){\n",
              "                            \n",
              "var gd = document.getElementById('7aa215ff-a52a-4c2a-824b-80ebeed399d9');\n",
              "var x = new MutationObserver(function (mutations, observer) {{\n",
              "        var display = window.getComputedStyle(gd).display;\n",
              "        if (!display || display === 'none') {{\n",
              "            console.log([gd, 'removed!']);\n",
              "            Plotly.purge(gd);\n",
              "            observer.disconnect();\n",
              "        }}\n",
              "}});\n",
              "\n",
              "// Listen for the removal of the full notebook cells\n",
              "var notebookContainer = gd.closest('#notebook-container');\n",
              "if (notebookContainer) {{\n",
              "    x.observe(notebookContainer, {childList: true});\n",
              "}}\n",
              "\n",
              "// Listen for the clearing of the current output cell\n",
              "var outputEl = gd.closest('.output');\n",
              "if (outputEl) {{\n",
              "    x.observe(outputEl, {childList: true});\n",
              "}}\n",
              "\n",
              "                        })\n",
              "                };\n",
              "                \n",
              "            </script>\n",
              "        </div>\n",
              "</body>\n",
              "</html>"
            ]
          },
          "metadata": {}
        }
      ]
    },
    {
      "cell_type": "code",
      "metadata": {
        "colab": {
          "base_uri": "https://localhost:8080/",
          "height": 542
        },
        "id": "PfZpplrm4wa7",
        "outputId": "2a8ff45e-654a-4525-8d8c-9f0995836431"
      },
      "source": [
        "import plotly.express as px\n",
        "\n",
        "#long_df = px.data.df_state_count()\n",
        "\n",
        "fig = px.bar(df_state_count, x=\"State\", y=\"Count\", color=\"Count\", title=\"No of Unsubscription by State\").update_xaxes(categoryorder ='total ascending')\n",
        "fig.show()"
      ],
      "execution_count": 37,
      "outputs": [
        {
          "output_type": "display_data",
          "data": {
            "text/html": [
              "<html>\n",
              "<head><meta charset=\"utf-8\" /></head>\n",
              "<body>\n",
              "    <div>\n",
              "            <script src=\"https://cdnjs.cloudflare.com/ajax/libs/mathjax/2.7.5/MathJax.js?config=TeX-AMS-MML_SVG\"></script><script type=\"text/javascript\">if (window.MathJax) {MathJax.Hub.Config({SVG: {font: \"STIX-Web\"}});}</script>\n",
              "                <script type=\"text/javascript\">window.PlotlyConfig = {MathJaxConfig: 'local'};</script>\n",
              "        <script src=\"https://cdn.plot.ly/plotly-latest.min.js\"></script>    \n",
              "            <div id=\"3164d1a9-f1e5-44fb-bb90-70a53c81ac27\" class=\"plotly-graph-div\" style=\"height:525px; width:100%;\"></div>\n",
              "            <script type=\"text/javascript\">\n",
              "                \n",
              "                    window.PLOTLYENV=window.PLOTLYENV || {};\n",
              "                    \n",
              "                if (document.getElementById(\"3164d1a9-f1e5-44fb-bb90-70a53c81ac27\")) {\n",
              "                    Plotly.newPlot(\n",
              "                        '3164d1a9-f1e5-44fb-bb90-70a53c81ac27',\n",
              "                        [{\"alignmentgroup\": \"True\", \"hoverlabel\": {\"namelength\": 0}, \"hovertemplate\": \"State=%{x}<br>Count=%{marker.color}\", \"legendgroup\": \"\", \"marker\": {\"color\": [49, 3, 72, 8, 44, 11, 60, 4, 25, 9, 57, 9, 62, 12, 49, 5, 52, 9, 55, 8, 46, 8, 50, 3, 41, 3, 64, 9, 53, 5, 62, 9, 57, 13, 51, 8, 47, 4, 54, 11, 53, 17, 49, 13, 57, 16, 69, 15, 56, 7, 51, 14, 54, 14, 57, 11, 56, 6, 56, 5, 47, 9, 50, 18, 56, 6, 52, 14, 68, 15, 68, 10, 52, 9, 67, 11, 37, 8, 59, 6, 46, 14, 52, 8, 48, 5, 54, 18, 62, 10, 72, 5, 65, 8, 52, 14, 71, 7, 96, 10, 68, 9], \"coloraxis\": \"coloraxis\"}, \"name\": \"\", \"offsetgroup\": \"\", \"orientation\": \"v\", \"showlegend\": false, \"textposition\": \"auto\", \"type\": \"bar\", \"x\": [\"AK\", \"AK\", \"AL\", \"AL\", \"AR\", \"AR\", \"AZ\", \"AZ\", \"CA\", \"CA\", \"CO\", \"CO\", \"CT\", \"CT\", \"DC\", \"DC\", \"DE\", \"DE\", \"FL\", \"FL\", \"GA\", \"GA\", \"HI\", \"HI\", \"IA\", \"IA\", \"ID\", \"ID\", \"IL\", \"IL\", \"IN\", \"IN\", \"KS\", \"KS\", \"KY\", \"KY\", \"LA\", \"LA\", \"MA\", \"MA\", \"MD\", \"MD\", \"ME\", \"ME\", \"MI\", \"MI\", \"MN\", \"MN\", \"MO\", \"MO\", \"MS\", \"MS\", \"MT\", \"MT\", \"NC\", \"NC\", \"ND\", \"ND\", \"NE\", \"NE\", \"NH\", \"NH\", \"NJ\", \"NJ\", \"NM\", \"NM\", \"NV\", \"NV\", \"NY\", \"NY\", \"OH\", \"OH\", \"OK\", \"OK\", \"OR\", \"OR\", \"PA\", \"PA\", \"RI\", \"RI\", \"SC\", \"SC\", \"SD\", \"SD\", \"TN\", \"TN\", \"TX\", \"TX\", \"UT\", \"UT\", \"VA\", \"VA\", \"VT\", \"VT\", \"WA\", \"WA\", \"WI\", \"WI\", \"WV\", \"WV\", \"WY\", \"WY\"], \"xaxis\": \"x\", \"y\": [49, 3, 72, 8, 44, 11, 60, 4, 25, 9, 57, 9, 62, 12, 49, 5, 52, 9, 55, 8, 46, 8, 50, 3, 41, 3, 64, 9, 53, 5, 62, 9, 57, 13, 51, 8, 47, 4, 54, 11, 53, 17, 49, 13, 57, 16, 69, 15, 56, 7, 51, 14, 54, 14, 57, 11, 56, 6, 56, 5, 47, 9, 50, 18, 56, 6, 52, 14, 68, 15, 68, 10, 52, 9, 67, 11, 37, 8, 59, 6, 46, 14, 52, 8, 48, 5, 54, 18, 62, 10, 72, 5, 65, 8, 52, 14, 71, 7, 96, 10, 68, 9], \"yaxis\": \"y\"}],\n",
              "                        {\"barmode\": \"relative\", \"coloraxis\": {\"colorbar\": {\"title\": {\"text\": \"Count\"}}, \"colorscale\": [[0.0, \"#0d0887\"], [0.1111111111111111, \"#46039f\"], [0.2222222222222222, \"#7201a8\"], [0.3333333333333333, \"#9c179e\"], [0.4444444444444444, \"#bd3786\"], [0.5555555555555556, \"#d8576b\"], [0.6666666666666666, \"#ed7953\"], [0.7777777777777778, \"#fb9f3a\"], [0.8888888888888888, \"#fdca26\"], [1.0, \"#f0f921\"]]}, \"legend\": {\"tracegroupgap\": 0}, \"template\": {\"data\": {\"bar\": [{\"error_x\": {\"color\": \"#2a3f5f\"}, \"error_y\": {\"color\": \"#2a3f5f\"}, \"marker\": {\"line\": {\"color\": \"#E5ECF6\", \"width\": 0.5}}, \"type\": \"bar\"}], \"barpolar\": [{\"marker\": {\"line\": {\"color\": \"#E5ECF6\", \"width\": 0.5}}, \"type\": \"barpolar\"}], \"carpet\": [{\"aaxis\": {\"endlinecolor\": \"#2a3f5f\", \"gridcolor\": \"white\", \"linecolor\": \"white\", \"minorgridcolor\": \"white\", \"startlinecolor\": \"#2a3f5f\"}, \"baxis\": {\"endlinecolor\": \"#2a3f5f\", \"gridcolor\": \"white\", \"linecolor\": \"white\", \"minorgridcolor\": \"white\", \"startlinecolor\": \"#2a3f5f\"}, \"type\": \"carpet\"}], \"choropleth\": [{\"colorbar\": {\"outlinewidth\": 0, \"ticks\": \"\"}, \"type\": \"choropleth\"}], \"contour\": [{\"colorbar\": {\"outlinewidth\": 0, \"ticks\": \"\"}, \"colorscale\": [[0.0, \"#0d0887\"], [0.1111111111111111, \"#46039f\"], [0.2222222222222222, \"#7201a8\"], [0.3333333333333333, \"#9c179e\"], [0.4444444444444444, \"#bd3786\"], [0.5555555555555556, \"#d8576b\"], [0.6666666666666666, \"#ed7953\"], [0.7777777777777778, \"#fb9f3a\"], [0.8888888888888888, \"#fdca26\"], [1.0, \"#f0f921\"]], \"type\": \"contour\"}], \"contourcarpet\": [{\"colorbar\": {\"outlinewidth\": 0, \"ticks\": \"\"}, \"type\": \"contourcarpet\"}], \"heatmap\": [{\"colorbar\": {\"outlinewidth\": 0, \"ticks\": \"\"}, \"colorscale\": [[0.0, \"#0d0887\"], [0.1111111111111111, \"#46039f\"], [0.2222222222222222, \"#7201a8\"], [0.3333333333333333, \"#9c179e\"], [0.4444444444444444, \"#bd3786\"], [0.5555555555555556, \"#d8576b\"], [0.6666666666666666, \"#ed7953\"], [0.7777777777777778, \"#fb9f3a\"], [0.8888888888888888, \"#fdca26\"], [1.0, \"#f0f921\"]], \"type\": \"heatmap\"}], \"heatmapgl\": [{\"colorbar\": {\"outlinewidth\": 0, \"ticks\": \"\"}, \"colorscale\": [[0.0, \"#0d0887\"], [0.1111111111111111, \"#46039f\"], [0.2222222222222222, \"#7201a8\"], [0.3333333333333333, \"#9c179e\"], [0.4444444444444444, \"#bd3786\"], [0.5555555555555556, \"#d8576b\"], [0.6666666666666666, \"#ed7953\"], [0.7777777777777778, \"#fb9f3a\"], [0.8888888888888888, \"#fdca26\"], [1.0, \"#f0f921\"]], \"type\": \"heatmapgl\"}], \"histogram\": [{\"marker\": {\"colorbar\": {\"outlinewidth\": 0, \"ticks\": \"\"}}, \"type\": \"histogram\"}], \"histogram2d\": [{\"colorbar\": {\"outlinewidth\": 0, \"ticks\": \"\"}, \"colorscale\": [[0.0, \"#0d0887\"], [0.1111111111111111, \"#46039f\"], [0.2222222222222222, \"#7201a8\"], [0.3333333333333333, \"#9c179e\"], [0.4444444444444444, \"#bd3786\"], [0.5555555555555556, \"#d8576b\"], [0.6666666666666666, \"#ed7953\"], [0.7777777777777778, \"#fb9f3a\"], [0.8888888888888888, \"#fdca26\"], [1.0, \"#f0f921\"]], \"type\": \"histogram2d\"}], \"histogram2dcontour\": [{\"colorbar\": {\"outlinewidth\": 0, \"ticks\": \"\"}, \"colorscale\": [[0.0, \"#0d0887\"], [0.1111111111111111, \"#46039f\"], [0.2222222222222222, \"#7201a8\"], [0.3333333333333333, \"#9c179e\"], [0.4444444444444444, \"#bd3786\"], [0.5555555555555556, \"#d8576b\"], [0.6666666666666666, \"#ed7953\"], [0.7777777777777778, \"#fb9f3a\"], [0.8888888888888888, \"#fdca26\"], [1.0, \"#f0f921\"]], \"type\": \"histogram2dcontour\"}], \"mesh3d\": [{\"colorbar\": {\"outlinewidth\": 0, \"ticks\": \"\"}, \"type\": \"mesh3d\"}], \"parcoords\": [{\"line\": {\"colorbar\": {\"outlinewidth\": 0, \"ticks\": \"\"}}, \"type\": \"parcoords\"}], \"pie\": [{\"automargin\": true, \"type\": \"pie\"}], \"scatter\": [{\"marker\": {\"colorbar\": {\"outlinewidth\": 0, \"ticks\": \"\"}}, \"type\": \"scatter\"}], \"scatter3d\": [{\"line\": {\"colorbar\": {\"outlinewidth\": 0, \"ticks\": \"\"}}, \"marker\": {\"colorbar\": {\"outlinewidth\": 0, \"ticks\": \"\"}}, \"type\": \"scatter3d\"}], \"scattercarpet\": [{\"marker\": {\"colorbar\": {\"outlinewidth\": 0, \"ticks\": \"\"}}, \"type\": \"scattercarpet\"}], \"scattergeo\": [{\"marker\": {\"colorbar\": {\"outlinewidth\": 0, \"ticks\": \"\"}}, \"type\": \"scattergeo\"}], \"scattergl\": [{\"marker\": {\"colorbar\": {\"outlinewidth\": 0, \"ticks\": \"\"}}, \"type\": \"scattergl\"}], \"scattermapbox\": [{\"marker\": {\"colorbar\": {\"outlinewidth\": 0, \"ticks\": \"\"}}, \"type\": \"scattermapbox\"}], \"scatterpolar\": [{\"marker\": {\"colorbar\": {\"outlinewidth\": 0, \"ticks\": \"\"}}, \"type\": \"scatterpolar\"}], \"scatterpolargl\": [{\"marker\": {\"colorbar\": {\"outlinewidth\": 0, \"ticks\": \"\"}}, \"type\": \"scatterpolargl\"}], \"scatterternary\": [{\"marker\": {\"colorbar\": {\"outlinewidth\": 0, \"ticks\": \"\"}}, \"type\": \"scatterternary\"}], \"surface\": [{\"colorbar\": {\"outlinewidth\": 0, \"ticks\": \"\"}, \"colorscale\": [[0.0, \"#0d0887\"], [0.1111111111111111, \"#46039f\"], [0.2222222222222222, \"#7201a8\"], [0.3333333333333333, \"#9c179e\"], [0.4444444444444444, \"#bd3786\"], [0.5555555555555556, \"#d8576b\"], [0.6666666666666666, \"#ed7953\"], [0.7777777777777778, \"#fb9f3a\"], [0.8888888888888888, \"#fdca26\"], [1.0, \"#f0f921\"]], \"type\": \"surface\"}], \"table\": [{\"cells\": {\"fill\": {\"color\": \"#EBF0F8\"}, \"line\": {\"color\": \"white\"}}, \"header\": {\"fill\": {\"color\": \"#C8D4E3\"}, \"line\": {\"color\": \"white\"}}, \"type\": \"table\"}]}, \"layout\": {\"annotationdefaults\": {\"arrowcolor\": \"#2a3f5f\", \"arrowhead\": 0, \"arrowwidth\": 1}, \"coloraxis\": {\"colorbar\": {\"outlinewidth\": 0, \"ticks\": \"\"}}, \"colorscale\": {\"diverging\": [[0, \"#8e0152\"], [0.1, \"#c51b7d\"], [0.2, \"#de77ae\"], [0.3, \"#f1b6da\"], [0.4, \"#fde0ef\"], [0.5, \"#f7f7f7\"], [0.6, \"#e6f5d0\"], [0.7, \"#b8e186\"], [0.8, \"#7fbc41\"], [0.9, \"#4d9221\"], [1, \"#276419\"]], \"sequential\": [[0.0, \"#0d0887\"], [0.1111111111111111, \"#46039f\"], [0.2222222222222222, \"#7201a8\"], [0.3333333333333333, \"#9c179e\"], [0.4444444444444444, \"#bd3786\"], [0.5555555555555556, \"#d8576b\"], [0.6666666666666666, \"#ed7953\"], [0.7777777777777778, \"#fb9f3a\"], [0.8888888888888888, \"#fdca26\"], [1.0, \"#f0f921\"]], \"sequentialminus\": [[0.0, \"#0d0887\"], [0.1111111111111111, \"#46039f\"], [0.2222222222222222, \"#7201a8\"], [0.3333333333333333, \"#9c179e\"], [0.4444444444444444, \"#bd3786\"], [0.5555555555555556, \"#d8576b\"], [0.6666666666666666, \"#ed7953\"], [0.7777777777777778, \"#fb9f3a\"], [0.8888888888888888, \"#fdca26\"], [1.0, \"#f0f921\"]]}, \"colorway\": [\"#636efa\", \"#EF553B\", \"#00cc96\", \"#ab63fa\", \"#FFA15A\", \"#19d3f3\", \"#FF6692\", \"#B6E880\", \"#FF97FF\", \"#FECB52\"], \"font\": {\"color\": \"#2a3f5f\"}, \"geo\": {\"bgcolor\": \"white\", \"lakecolor\": \"white\", \"landcolor\": \"#E5ECF6\", \"showlakes\": true, \"showland\": true, \"subunitcolor\": \"white\"}, \"hoverlabel\": {\"align\": \"left\"}, \"hovermode\": \"closest\", \"mapbox\": {\"style\": \"light\"}, \"paper_bgcolor\": \"white\", \"plot_bgcolor\": \"#E5ECF6\", \"polar\": {\"angularaxis\": {\"gridcolor\": \"white\", \"linecolor\": \"white\", \"ticks\": \"\"}, \"bgcolor\": \"#E5ECF6\", \"radialaxis\": {\"gridcolor\": \"white\", \"linecolor\": \"white\", \"ticks\": \"\"}}, \"scene\": {\"xaxis\": {\"backgroundcolor\": \"#E5ECF6\", \"gridcolor\": \"white\", \"gridwidth\": 2, \"linecolor\": \"white\", \"showbackground\": true, \"ticks\": \"\", \"zerolinecolor\": \"white\"}, \"yaxis\": {\"backgroundcolor\": \"#E5ECF6\", \"gridcolor\": \"white\", \"gridwidth\": 2, \"linecolor\": \"white\", \"showbackground\": true, \"ticks\": \"\", \"zerolinecolor\": \"white\"}, \"zaxis\": {\"backgroundcolor\": \"#E5ECF6\", \"gridcolor\": \"white\", \"gridwidth\": 2, \"linecolor\": \"white\", \"showbackground\": true, \"ticks\": \"\", \"zerolinecolor\": \"white\"}}, \"shapedefaults\": {\"line\": {\"color\": \"#2a3f5f\"}}, \"ternary\": {\"aaxis\": {\"gridcolor\": \"white\", \"linecolor\": \"white\", \"ticks\": \"\"}, \"baxis\": {\"gridcolor\": \"white\", \"linecolor\": \"white\", \"ticks\": \"\"}, \"bgcolor\": \"#E5ECF6\", \"caxis\": {\"gridcolor\": \"white\", \"linecolor\": \"white\", \"ticks\": \"\"}}, \"title\": {\"x\": 0.05}, \"xaxis\": {\"automargin\": true, \"gridcolor\": \"white\", \"linecolor\": \"white\", \"ticks\": \"\", \"title\": {\"standoff\": 15}, \"zerolinecolor\": \"white\", \"zerolinewidth\": 2}, \"yaxis\": {\"automargin\": true, \"gridcolor\": \"white\", \"linecolor\": \"white\", \"ticks\": \"\", \"title\": {\"standoff\": 15}, \"zerolinecolor\": \"white\", \"zerolinewidth\": 2}}}, \"title\": {\"text\": \"No of Unsubscription by State\"}, \"xaxis\": {\"anchor\": \"y\", \"categoryorder\": \"total ascending\", \"domain\": [0.0, 1.0], \"title\": {\"text\": \"State\"}}, \"yaxis\": {\"anchor\": \"x\", \"domain\": [0.0, 1.0], \"title\": {\"text\": \"Count\"}}},\n",
              "                        {\"responsive\": true}\n",
              "                    ).then(function(){\n",
              "                            \n",
              "var gd = document.getElementById('3164d1a9-f1e5-44fb-bb90-70a53c81ac27');\n",
              "var x = new MutationObserver(function (mutations, observer) {{\n",
              "        var display = window.getComputedStyle(gd).display;\n",
              "        if (!display || display === 'none') {{\n",
              "            console.log([gd, 'removed!']);\n",
              "            Plotly.purge(gd);\n",
              "            observer.disconnect();\n",
              "        }}\n",
              "}});\n",
              "\n",
              "// Listen for the removal of the full notebook cells\n",
              "var notebookContainer = gd.closest('#notebook-container');\n",
              "if (notebookContainer) {{\n",
              "    x.observe(notebookContainer, {childList: true});\n",
              "}}\n",
              "\n",
              "// Listen for the clearing of the current output cell\n",
              "var outputEl = gd.closest('.output');\n",
              "if (outputEl) {{\n",
              "    x.observe(outputEl, {childList: true});\n",
              "}}\n",
              "\n",
              "                        })\n",
              "                };\n",
              "                \n",
              "            </script>\n",
              "        </div>\n",
              "</body>\n",
              "</html>"
            ]
          },
          "metadata": {}
        }
      ]
    },
    {
      "cell_type": "code",
      "metadata": {
        "colab": {
          "base_uri": "https://localhost:8080/"
        },
        "id": "T9uImx4khZPl",
        "outputId": "d0010927-331a-4a85-c1c6-96d9ea43dc94"
      },
      "source": [
        "churn_copy_df['International plan'].unique()"
      ],
      "execution_count": 38,
      "outputs": [
        {
          "output_type": "execute_result",
          "data": {
            "text/plain": [
              "array(['No', 'Yes'], dtype=object)"
            ]
          },
          "metadata": {},
          "execution_count": 38
        }
      ]
    },
    {
      "cell_type": "code",
      "metadata": {
        "id": "VmHPu4HKFrY2"
      },
      "source": [
        "churn_intel_plan_df = unsubscribed_df.groupby('International plan')['Churn'].count().reset_index()"
      ],
      "execution_count": 39,
      "outputs": []
    },
    {
      "cell_type": "code",
      "metadata": {
        "colab": {
          "base_uri": "https://localhost:8080/",
          "height": 112
        },
        "id": "xNkahS4EHR4D",
        "outputId": "442563c3-df4c-4373-d2ae-ccdd0de1fc61"
      },
      "source": [
        "churn_intel_plan_df"
      ],
      "execution_count": 40,
      "outputs": [
        {
          "output_type": "execute_result",
          "data": {
            "text/html": [
              "<div>\n",
              "<style scoped>\n",
              "    .dataframe tbody tr th:only-of-type {\n",
              "        vertical-align: middle;\n",
              "    }\n",
              "\n",
              "    .dataframe tbody tr th {\n",
              "        vertical-align: top;\n",
              "    }\n",
              "\n",
              "    .dataframe thead th {\n",
              "        text-align: right;\n",
              "    }\n",
              "</style>\n",
              "<table border=\"1\" class=\"dataframe\">\n",
              "  <thead>\n",
              "    <tr style=\"text-align: right;\">\n",
              "      <th></th>\n",
              "      <th>International plan</th>\n",
              "      <th>Churn</th>\n",
              "    </tr>\n",
              "  </thead>\n",
              "  <tbody>\n",
              "    <tr>\n",
              "      <th>0</th>\n",
              "      <td>No</td>\n",
              "      <td>346</td>\n",
              "    </tr>\n",
              "    <tr>\n",
              "      <th>1</th>\n",
              "      <td>Yes</td>\n",
              "      <td>137</td>\n",
              "    </tr>\n",
              "  </tbody>\n",
              "</table>\n",
              "</div>"
            ],
            "text/plain": [
              "  International plan  Churn\n",
              "0                 No    346\n",
              "1                Yes    137"
            ]
          },
          "metadata": {},
          "execution_count": 40
        }
      ]
    },
    {
      "cell_type": "code",
      "metadata": {
        "colab": {
          "base_uri": "https://localhost:8080/"
        },
        "id": "Bnp436cjPX9Q",
        "outputId": "e74258c0-9830-489c-d666-877fcdfa4ed7"
      },
      "source": [
        "churn_copy_df.groupby('Churn')['International plan'].value_counts()"
      ],
      "execution_count": 41,
      "outputs": [
        {
          "output_type": "execute_result",
          "data": {
            "text/plain": [
              "Churn  International plan\n",
              "False  No                    2664\n",
              "       Yes                    186\n",
              "True   No                     346\n",
              "       Yes                    137\n",
              "Name: International plan, dtype: int64"
            ]
          },
          "metadata": {},
          "execution_count": 41
        }
      ]
    },
    {
      "cell_type": "code",
      "metadata": {
        "colab": {
          "base_uri": "https://localhost:8080/",
          "height": 279
        },
        "id": "pkjkUxhgILCB",
        "outputId": "80420f4b-974e-4fad-8aae-c3b566492eff"
      },
      "source": [
        "ax = sns.barplot(x='International plan', y='Churn', data=churn_intel_plan_df)"
      ],
      "execution_count": 42,
      "outputs": [
        {
          "output_type": "display_data",
          "data": {
            "image/png": "[encoded data removed]",
            "text/plain": [
              "<Figure size 432x288 with 1 Axes>"
            ]
          },
          "metadata": {
            "needs_background": "light"
          }
        }
      ]
    },
    {
      "cell_type": "code",
      "metadata": {
        "colab": {
          "base_uri": "https://localhost:8080/",
          "height": 542
        },
        "id": "amVeryTeLG4B",
        "outputId": "1253aff5-51d9-40a9-9ef5-757586ff7f86"
      },
      "source": [
        "fig = px.box(churn_copy_df,x=\"International plan\",color ='Churn',points=\"all\")\n",
        "fig.show()"
      ],
      "execution_count": 43,
      "outputs": [
        {
          "output_type": "display_data",
          "data": {
            "text/html": [
              "<html>\n",
              "<head><meta charset=\"utf-8\" /></head>\n",
              "<body>\n",
              "    <div>\n",
              "            <script src=\"https://cdnjs.cloudflare.com/ajax/libs/mathjax/2.7.5/MathJax.js?config=TeX-AMS-MML_SVG\"></script><script type=\"text/javascript\">if (window.MathJax) {MathJax.Hub.Config({SVG: {font: \"STIX-Web\"}});}</script>\n",
              "                <script type=\"text/javascript\">window.PlotlyConfig = {MathJaxConfig: 'local'};</script>\n",
              "        <script src=\"https://cdn.plot.ly/plotly-latest.min.js\"></script>    \n",
              "            <div id=\"08df8ee5-8b19-42a6-ae3d-c33dd3e2e6d2\" class=\"plotly-graph-div\" style=\"height:525px; width:100%;\"></div>\n",
              "            <script type=\"text/javascript\">\n",
              "                \n",
              "                    window.PLOTLYENV=window.PLOTLYENV || {};\n",
              "                    \n",
              "                if (document.getElementById(\"08df8ee5-8b19-42a6-ae3d-c33dd3e2e6d2\")) {\n",
              "                    Plotly.newPlot(\n",
              "                        '08df8ee5-8b19-42a6-ae3d-c33dd3e2e6d2',\n",
              "                        [{\"alignmentgroup\": \"True\", \"boxpoints\": \"all\", \"hoverlabel\": {\"namelength\": 0}, \"hovertemplate\": \"Churn=False<br>International plan=%{x}\", \"legendgroup\": \"Churn=False\", \"marker\": {\"color\": \"#636efa\"}, \"name\": \"Churn=False\", \"notched\": false, \"offsetgroup\": \"Churn=False\", \"orientation\": \"v\", \"showlegend\": true, \"type\": \"box\", \"x\": [\"No\", \"No\", \"No\", \"Yes\", \"Yes\", \"Yes\", \"No\", \"Yes\", \"No\", \"Yes\", \"No\", \"No\", \"No\", \"No\", \"No\", \"No\", \"No\", \"No\", \"No\", \"No\", \"No\", \"No\", \"No\", \"No\", \"No\", \"No\", \"No\", \"No\", \"No\", \"No\", \"No\", \"No\", \"No\", \"No\", \"Yes\", \"No\", \"No\", \"No\", \"No\", \"No\", \"No\", \"No\", \"No\", \"No\", \"No\", \"No\", \"No\", \"No\", \"No\", \"No\", \"No\", \"No\", \"No\", \"No\", \"No\", \"No\", \"No\", \"No\", \"Yes\", \"Yes\", \"No\", \"No\", \"No\", \"No\", \"No\", \"No\", \"No\", \"No\", \"No\", \"No\", \"Yes\", \"No\", \"No\", \"No\", \"No\", \"No\", \"No\", \"No\", \"No\", \"No\", \"No\", \"No\", \"No\", \"No\", \"No\", \"No\", \"No\", \"No\", \"No\", \"No\", \"No\", \"No\", \"No\", \"No\", \"No\", \"No\", \"No\", \"No\", \"No\", \"No\", \"No\", \"No\", \"No\", \"No\", \"No\", \"No\", \"No\", \"No\", \"No\", \"No\", \"No\", \"No\", \"No\", \"No\", \"Yes\", \"No\", \"No\", \"No\", \"No\", \"No\", \"No\", \"No\", \"No\", \"No\", \"No\", \"Yes\", \"No\", \"No\", \"No\", \"No\", \"No\", \"No\", \"No\", \"No\", \"No\", \"No\", \"No\", \"No\", \"No\", \"No\", \"No\", \"No\", \"No\", \"No\", \"No\", \"No\", \"No\", \"No\", \"No\", \"No\", \"No\", \"No\", \"No\", \"No\", \"No\", \"No\", \"No\", \"Yes\", \"No\", \"No\", \"Yes\", \"No\", \"No\", \"No\", \"No\", \"No\", \"No\", \"No\", \"No\", \"No\", \"No\", \"No\", \"No\", \"No\", \"No\", \"No\", \"No\", \"No\", \"No\", \"No\", \"No\", \"No\", \"No\", \"No\", \"No\", \"Yes\", \"No\", \"No\", \"No\", \"No\", \"No\", \"No\", \"No\", \"No\", \"No\", \"No\", \"No\", \"No\", \"No\", \"No\", \"No\", \"No\", \"Yes\", \"No\", \"No\", \"Yes\", \"No\", \"No\", \"No\", \"No\", \"No\", \"No\", \"No\", \"No\", \"No\", \"No\", \"No\", \"No\", \"No\", \"No\", \"No\", \"Yes\", \"No\", \"No\", \"No\", \"No\", \"No\", \"No\", \"No\", \"No\", \"No\", \"No\", \"No\", \"No\", \"No\", \"Yes\", \"No\", \"No\", \"No\", \"No\", \"No\", \"No\", \"Yes\", \"No\", \"Yes\", \"No\", \"No\", \"No\", \"No\", \"No\", \"No\", \"No\", \"No\", \"No\", \"No\", \"No\", \"No\", \"No\", \"No\", \"No\", \"No\", \"No\", \"No\", \"No\", \"No\", \"No\", \"No\", \"No\", \"No\", \"No\", \"No\", \"No\", \"No\", \"No\", \"No\", \"No\", \"No\", \"No\", \"No\", \"No\", \"No\", \"No\", \"No\", \"No\", \"No\", \"No\", \"No\", \"No\", \"No\", \"No\", \"No\", \"No\", \"No\", \"No\", \"No\", \"No\", \"No\", \"No\", \"No\", \"No\", \"No\", \"No\", \"No\", \"No\", \"Yes\", \"No\", \"No\", \"No\", \"Yes\", \"No\", \"Yes\", \"No\", \"No\", \"No\", \"No\", \"No\", \"No\", \"No\", \"No\", \"No\", \"No\", \"No\", \"No\", \"No\", \"No\", \"No\", \"No\", \"No\", \"No\", \"No\", \"Yes\", \"Yes\", \"No\", \"No\", \"No\", \"No\", \"No\", \"No\", \"No\", \"No\", \"No\", \"No\", \"No\", \"No\", \"No\", \"No\", \"No\", \"No\", \"No\", \"No\", \"Yes\", \"No\", \"Yes\", \"No\", \"No\", \"No\", \"No\", \"No\", \"No\", \"No\", \"No\", \"No\", \"No\", \"No\", \"No\", \"No\", \"No\", \"Yes\", \"No\", \"No\", \"No\", \"No\", \"No\", \"No\", \"No\", \"No\", \"No\", \"No\", \"No\", \"No\", \"No\", \"No\", \"No\", \"No\", \"Yes\", \"No\", \"No\", \"No\", \"No\", \"No\", \"No\", \"No\", \"No\", \"No\", \"No\", \"No\", \"No\", \"No\", \"No\", \"No\", \"No\", \"No\", \"No\", \"No\", \"No\", \"No\", \"No\", \"No\", \"No\", \"No\", \"No\", \"No\", \"No\", \"No\", \"No\", \"No\", \"No\", \"No\", \"No\", \"No\", \"No\", \"Yes\", \"No\", \"No\", \"No\", \"No\", \"No\", \"No\", \"Yes\", \"No\", \"No\", \"No\", \"No\", \"No\", \"Yes\", \"No\", \"No\", \"No\", \"No\", \"No\", \"No\", \"No\", \"No\", \"No\", \"No\", \"No\", \"No\", \"No\", \"No\", \"No\", \"No\", \"No\", \"No\", \"No\", \"No\", \"No\", \"Yes\", \"No\", \"No\", \"No\", \"No\", \"No\", \"No\", \"No\", \"No\", \"No\", \"No\", \"No\", \"No\", \"No\", \"No\", \"No\", \"No\", \"No\", \"No\", \"Yes\", \"No\", \"No\", \"No\", \"No\", \"No\", \"No\", \"No\", \"No\", \"No\", \"No\", \"No\", \"No\", \"Yes\", \"No\", \"No\", \"No\", \"Yes\", \"No\", \"No\", \"No\", \"No\", \"No\", \"No\", \"No\", \"No\", \"No\", \"No\", \"Yes\", \"No\", \"No\", \"No\", \"No\", \"No\", \"No\", \"No\", \"No\", \"No\", \"No\", \"No\", \"No\", \"No\", \"No\", \"No\", \"No\", \"No\", \"No\", \"No\", \"No\", \"No\", \"No\", \"No\", \"No\", \"No\", \"Yes\", \"No\", \"No\", \"No\", \"No\", \"No\", \"No\", \"No\", \"No\", \"No\", \"No\", \"No\", \"No\", \"No\", \"No\", \"No\", \"No\", \"No\", \"No\", \"No\", \"No\", \"No\", \"No\", \"No\", \"No\", \"No\", \"No\", \"No\", \"No\", \"No\", \"No\", \"No\", \"No\", \"No\", \"No\", \"No\", \"No\", \"No\", \"No\", \"No\", \"No\", \"No\", \"No\", \"No\", \"No\", \"No\", \"No\", \"No\", \"No\", \"No\", \"No\", \"No\", \"No\", \"No\", \"No\", \"No\", \"No\", \"No\", \"No\", \"No\", \"No\", \"No\", \"No\", \"No\", \"No\", \"No\", \"No\", \"No\", \"No\", \"No\", \"No\", \"No\", \"No\", \"No\", \"No\", \"No\", \"No\", \"No\", \"No\", \"No\", \"No\", \"No\", \"No\", \"No\", \"No\", \"Yes\", \"No\", \"No\", \"No\", \"No\", \"No\", \"No\", \"Yes\", \"No\", \"No\", \"No\", \"No\", \"No\", \"No\", \"No\", \"No\", \"No\", \"No\", \"No\", \"No\", \"No\", \"No\", \"No\", \"Yes\", \"Yes\", \"No\", \"No\", \"No\", \"No\", \"No\", \"No\", \"No\", \"No\", \"No\", \"No\", \"No\", \"Yes\", \"No\", \"No\", \"No\", \"No\", \"No\", \"No\", \"No\", \"No\", \"No\", \"No\", \"No\", \"No\", \"Yes\", \"No\", \"No\", \"No\", \"No\", \"No\", \"No\", \"No\", \"No\", \"No\", \"No\", \"No\", \"Yes\", \"No\", \"Yes\", \"Yes\", \"Yes\", \"No\", \"Yes\", \"No\", \"No\", \"No\", \"No\", \"No\", \"Yes\", \"No\", \"No\", \"No\", \"No\", \"No\", \"No\", \"No\", \"No\", \"No\", \"No\", \"No\", \"No\", \"No\", \"No\", \"No\", \"Yes\", \"No\", \"No\", \"No\", \"No\", \"No\", \"No\", \"No\", \"No\", \"No\", \"No\", \"No\", \"No\", \"No\", \"No\", \"No\", \"No\", \"Yes\", \"No\", \"No\", \"No\", \"No\", \"No\", \"No\", \"No\", \"No\", \"Yes\", \"No\", \"No\", \"No\", \"No\", \"Yes\", \"No\", \"No\", \"No\", \"No\", \"No\", \"No\", \"No\", \"No\", \"No\", \"No\", \"No\", \"No\", \"No\", \"No\", \"No\", \"No\", \"No\", \"No\", \"No\", \"No\", \"No\", \"No\", \"No\", \"Yes\", \"No\", \"No\", \"No\", \"No\", \"No\", \"No\", \"Yes\", \"No\", \"No\", \"No\", \"No\", \"No\", \"No\", \"No\", \"No\", \"No\", \"No\", \"No\", \"No\", \"No\", \"No\", \"Yes\", \"No\", \"No\", \"No\", \"No\", \"No\", \"Yes\", \"No\", \"No\", \"No\", \"No\", \"No\", \"No\", \"No\", \"No\", \"No\", \"No\", \"No\", \"No\", \"No\", \"No\", \"No\", \"No\", \"No\", \"No\", \"No\", \"No\", \"No\", \"No\", \"No\", \"No\", \"No\", \"No\", \"No\", \"No\", \"No\", \"No\", \"No\", \"No\", \"No\", \"No\", \"No\", \"No\", \"No\", \"No\", \"No\", \"No\", \"No\", \"No\", \"No\", \"No\", \"No\", \"No\", \"No\", \"No\", \"Yes\", \"No\", \"No\", \"No\", \"No\", \"No\", \"No\", \"No\", \"No\", \"No\", \"No\", \"No\", \"No\", \"No\", \"No\", \"No\", \"No\", \"No\", \"No\", \"No\", \"No\", \"No\", \"No\", \"No\", \"No\", \"No\", \"No\", \"No\", \"No\", \"No\", \"No\", \"No\", \"No\", \"No\", \"No\", \"No\", \"No\", \"No\", \"No\", \"No\", \"Yes\", \"No\", \"No\", \"No\", \"No\", \"No\", \"No\", \"No\", \"No\", \"No\", \"No\", \"No\", \"No\", \"No\", \"No\", \"No\", \"No\", \"No\", \"Yes\", \"No\", \"No\", \"No\", \"No\", \"No\", \"No\", \"No\", \"No\", \"No\", \"No\", \"Yes\", \"No\", \"No\", \"No\", \"Yes\", \"No\", \"Yes\", \"No\", \"No\", \"No\", \"No\", \"No\", \"No\", \"No\", \"Yes\", \"No\", \"No\", \"No\", \"No\", \"No\", \"No\", \"No\", \"No\", \"No\", \"No\", \"No\", \"Yes\", \"No\", \"No\", \"No\", \"No\", \"No\", \"No\", \"No\", \"No\", \"No\", \"No\", \"No\", \"No\", \"No\", \"No\", \"No\", \"No\", \"Yes\", \"No\", \"No\", \"No\", \"No\", \"No\", \"No\", \"No\", \"No\", \"No\", \"No\", \"No\", \"No\", \"No\", \"No\", \"No\", \"No\", \"No\", \"No\", \"No\", \"No\", \"No\", \"No\", \"No\", \"No\", \"No\", \"No\", \"No\", \"No\", \"No\", \"No\", \"Yes\", \"No\", \"No\", \"No\", \"No\", \"No\", \"No\", \"No\", \"No\", \"Yes\", \"No\", \"No\", \"No\", \"No\", \"No\", \"No\", \"No\", \"No\", \"No\", \"No\", \"No\", \"No\", \"No\", \"No\", \"No\", \"No\", \"No\", \"Yes\", \"No\", \"No\", \"No\", \"No\", \"No\", \"No\", \"Yes\", \"No\", \"No\", \"Yes\", \"No\", \"No\", \"No\", \"Yes\", \"No\", \"No\", \"No\", \"Yes\", \"No\", \"No\", \"No\", \"No\", \"No\", \"No\", \"No\", \"No\", \"No\", \"No\", \"No\", \"No\", \"No\", \"No\", \"No\", \"No\", \"No\", \"No\", \"No\", \"No\", \"Yes\", \"No\", \"No\", \"No\", \"No\", \"No\", \"No\", \"No\", \"No\", \"No\", \"No\", \"No\", \"No\", \"No\", \"No\", \"Yes\", \"No\", \"No\", \"No\", \"No\", \"No\", \"No\", \"No\", \"No\", \"No\", \"No\", \"No\", \"No\", \"No\", \"No\", \"No\", \"No\", \"No\", \"No\", \"No\", \"No\", \"No\", \"No\", \"No\", \"No\", \"No\", \"No\", \"Yes\", \"No\", \"No\", \"Yes\", \"No\", \"No\", \"No\", \"No\", \"No\", \"Yes\", \"No\", \"No\", \"No\", \"No\", \"Yes\", \"No\", \"No\", \"No\", \"Yes\", \"No\", \"No\", \"No\", \"No\", \"No\", \"No\", \"No\", \"No\", \"No\", \"No\", \"Yes\", \"No\", \"No\", \"No\", \"No\", \"No\", \"No\", \"No\", \"No\", \"No\", \"No\", \"No\", \"No\", \"No\", \"No\", \"No\", \"No\", \"No\", \"No\", \"No\", \"No\", \"No\", \"No\", \"No\", \"No\", \"No\", \"No\", \"No\", \"No\", \"No\", \"Yes\", \"No\", \"No\", \"No\", \"No\", \"No\", \"No\", \"No\", \"No\", \"No\", \"No\", \"No\", \"No\", \"No\", \"No\", \"No\", \"No\", \"No\", \"No\", \"No\", \"No\", \"No\", \"No\", \"No\", \"No\", \"No\", \"No\", \"No\", \"No\", \"No\", \"No\", \"No\", \"No\", \"No\", \"No\", \"No\", \"No\", \"No\", \"No\", \"No\", \"No\", \"No\", \"No\", \"No\", \"No\", \"Yes\", \"No\", \"No\", \"No\", \"No\", \"No\", \"No\", \"No\", \"No\", \"Yes\", \"No\", \"No\", \"No\", \"No\", \"No\", \"No\", \"No\", \"No\", \"No\", \"Yes\", \"No\", \"No\", \"No\", \"No\", \"No\", \"No\", \"Yes\", \"No\", \"No\", \"No\", \"No\", \"No\", \"No\", \"No\", \"No\", \"No\", \"No\", \"No\", \"No\", \"No\", \"No\", \"No\", \"No\", \"No\", \"No\", \"No\", \"Yes\", \"No\", \"No\", \"No\", \"Yes\", \"No\", \"No\", \"No\", \"No\", \"Yes\", \"No\", \"No\", \"No\", \"No\", \"No\", \"No\", \"No\", \"Yes\", \"No\", \"No\", \"No\", \"No\", \"Yes\", \"No\", \"No\", \"No\", \"No\", \"No\", \"No\", \"No\", \"No\", \"No\", \"No\", \"No\", \"No\", \"No\", \"No\", \"No\", \"No\", \"No\", \"No\", \"No\", \"No\", \"No\", \"No\", \"No\", \"No\", \"No\", \"No\", \"Yes\", \"No\", \"No\", \"No\", \"No\", \"No\", \"No\", \"No\", \"No\", \"No\", \"Yes\", \"No\", \"No\", \"No\", \"No\", \"No\", \"No\", \"No\", \"No\", \"No\", \"No\", \"No\", \"No\", \"No\", \"No\", \"No\", \"No\", \"No\", \"Yes\", \"No\", \"No\", \"No\", \"No\", \"No\", \"No\", \"No\", \"No\", \"No\", \"No\", \"No\", \"No\", \"No\", \"No\", \"No\", \"No\", \"No\", \"No\", \"No\", \"No\", \"No\", \"No\", \"No\", \"No\", \"No\", \"No\", \"Yes\", \"No\", \"No\", \"Yes\", \"No\", \"No\", \"No\", \"No\", \"No\", \"No\", \"No\", \"No\", \"No\", \"No\", \"No\", \"No\", \"No\", \"No\", \"No\", \"No\", \"No\", \"No\", \"No\", \"No\", \"No\", \"No\", \"No\", \"No\", \"No\", \"No\", \"No\", \"No\", \"No\", \"No\", \"Yes\", \"No\", \"No\", \"No\", \"No\", \"No\", \"No\", \"No\", \"No\", \"No\", \"No\", \"No\", \"No\", \"Yes\", \"No\", \"No\", \"No\", \"No\", \"No\", \"No\", \"No\", \"No\", \"No\", \"No\", \"No\", \"Yes\", \"No\", \"No\", \"No\", \"No\", \"No\", \"No\", \"No\", \"Yes\", \"No\", \"No\", \"No\", \"No\", \"No\", \"Yes\", \"No\", \"No\", \"No\", \"No\", \"No\", \"No\", \"No\", \"No\", \"No\", \"No\", \"No\", \"No\", \"No\", \"No\", \"No\", \"No\", \"No\", \"No\", \"No\", \"No\", \"Yes\", \"No\", \"No\", \"No\", \"No\", \"No\", \"No\", \"No\", \"No\", \"No\", \"No\", \"No\", \"No\", \"No\", \"No\", \"No\", \"No\", \"No\", \"No\", \"No\", \"No\", \"No\", \"No\", \"No\", \"No\", \"No\", \"No\", \"No\", \"No\", \"No\", \"No\", \"No\", \"No\", \"No\", \"No\", \"No\", \"No\", \"No\", \"No\", \"No\", \"No\", \"No\", \"No\", \"No\", \"No\", \"No\", \"No\", \"No\", \"No\", \"No\", \"No\", \"No\", \"No\", \"No\", \"No\", \"No\", \"No\", \"Yes\", \"No\", \"No\", \"No\", \"No\", \"No\", \"No\", \"No\", \"No\", \"No\", \"No\", \"No\", \"No\", \"No\", \"No\", \"No\", \"No\", \"No\", \"No\", \"No\", \"No\", \"No\", \"No\", \"No\", \"No\", \"No\", \"No\", \"No\", \"No\", \"No\", \"No\", \"No\", \"No\", \"No\", \"No\", \"Yes\", \"Yes\", \"Yes\", \"No\", \"No\", \"No\", \"No\", \"No\", \"No\", \"No\", \"No\", \"No\", \"No\", \"No\", \"No\", \"Yes\", \"No\", \"No\", \"No\", \"No\", \"No\", \"No\", \"No\", \"No\", \"No\", \"No\", \"No\", \"No\", \"No\", \"No\", \"No\", \"No\", \"No\", \"No\", \"No\", \"No\", \"No\", \"No\", \"No\", \"No\", \"No\", \"No\", \"No\", \"No\", \"No\", \"No\", \"No\", \"No\", \"No\", \"No\", \"Yes\", \"No\", \"No\", \"No\", \"No\", \"No\", \"No\", \"No\", \"No\", \"No\", \"No\", \"No\", \"No\", \"No\", \"No\", \"No\", \"No\", \"No\", \"No\", \"No\", \"No\", \"No\", \"No\", \"No\", \"No\", \"No\", \"No\", \"No\", \"No\", \"No\", \"No\", \"No\", \"Yes\", \"No\", \"No\", \"No\", \"No\", \"No\", \"No\", \"No\", \"No\", \"Yes\", \"No\", \"Yes\", \"No\", \"No\", \"No\", \"Yes\", \"No\", \"No\", \"No\", \"No\", \"Yes\", \"No\", \"Yes\", \"No\", \"Yes\", \"No\", \"No\", \"No\", \"No\", \"No\", \"No\", \"No\", \"No\", \"No\", \"No\", \"No\", \"No\", \"No\", \"No\", \"No\", \"No\", \"No\", \"No\", \"No\", \"No\", \"No\", \"No\", \"No\", \"No\", \"No\", \"No\", \"No\", \"No\", \"No\", \"No\", \"No\", \"No\", \"No\", \"No\", \"No\", \"No\", \"No\", \"Yes\", \"No\", \"No\", \"No\", \"No\", \"No\", \"No\", \"No\", \"No\", \"No\", \"No\", \"No\", \"No\", \"No\", \"No\", \"Yes\", \"No\", \"No\", \"No\", \"No\", \"No\", \"No\", \"No\", \"No\", \"No\", \"No\", \"No\", \"No\", \"No\", \"No\", \"No\", \"No\", \"No\", \"No\", \"No\", \"No\", \"No\", \"No\", \"No\", \"No\", \"No\", \"No\", \"No\", \"No\", \"No\", \"No\", \"No\", \"No\", \"No\", \"No\", \"No\", \"No\", \"No\", \"No\", \"No\", \"No\", \"No\", \"No\", \"No\", \"No\", \"Yes\", \"No\", \"No\", \"No\", \"No\", \"No\", \"No\", \"No\", \"No\", \"No\", \"No\", \"No\", \"No\", \"No\", \"No\", \"No\", \"No\", \"No\", \"No\", \"No\", \"No\", \"No\", \"No\", \"No\", \"Yes\", \"No\", \"No\", \"No\", \"No\", \"No\", \"No\", \"No\", \"No\", \"No\", \"No\", \"No\", \"No\", \"Yes\", \"No\", \"No\", \"No\", \"No\", \"No\", \"No\", \"Yes\", \"No\", \"No\", \"No\", \"No\", \"No\", \"No\", \"No\", \"No\", \"No\", \"No\", \"No\", \"No\", \"No\", \"No\", \"No\", \"No\", \"No\", \"No\", \"No\", \"No\", \"No\", \"No\", \"No\", \"No\", \"No\", \"No\", \"No\", \"No\", \"No\", \"No\", \"No\", \"No\", \"No\", \"No\", \"No\", \"No\", \"No\", \"No\", \"No\", \"No\", \"No\", \"No\", \"No\", \"No\", \"No\", \"No\", \"No\", \"No\", \"No\", \"No\", \"No\", \"No\", \"No\", \"No\", \"No\", \"No\", \"No\", \"No\", \"No\", \"No\", \"No\", \"No\", \"No\", \"No\", \"No\", \"No\", \"No\", \"No\", \"No\", \"No\", \"No\", \"No\", \"No\", \"No\", \"No\", \"No\", \"No\", \"No\", \"No\", \"No\", \"Yes\", \"No\", \"No\", \"No\", \"Yes\", \"No\", \"Yes\", \"No\", \"No\", \"No\", \"No\", \"No\", \"No\", \"No\", \"No\", \"No\", \"No\", \"No\", \"No\", \"No\", \"No\", \"No\", \"No\", \"No\", \"No\", \"No\", \"No\", \"No\", \"No\", \"No\", \"No\", \"No\", \"No\", \"No\", \"No\", \"No\", \"No\", \"No\", \"No\", \"Yes\", \"No\", \"No\", \"No\", \"No\", \"No\", \"No\", \"No\", \"Yes\", \"No\", \"No\", \"No\", \"No\", \"No\", \"Yes\", \"No\", \"No\", \"No\", \"No\", \"No\", \"No\", \"No\", \"No\", \"No\", \"No\", \"No\", \"No\", \"No\", \"No\", \"No\", \"No\", \"Yes\", \"No\", \"No\", \"No\", \"No\", \"No\", \"No\", \"No\", \"No\", \"No\", \"No\", \"No\", \"No\", \"No\", \"No\", \"No\", \"No\", \"No\", \"No\", \"No\", \"No\", \"Yes\", \"No\", \"No\", \"No\", \"No\", \"No\", \"Yes\", \"No\", \"No\", \"No\", \"No\", \"No\", \"No\", \"No\", \"No\", \"No\", \"No\", \"No\", \"No\", \"No\", \"Yes\", \"No\", \"No\", \"No\", \"No\", \"No\", \"No\", \"No\", \"No\", \"No\", \"No\", \"No\", \"No\", \"Yes\", \"No\", \"No\", \"Yes\", \"No\", \"No\", \"No\", \"No\", \"No\", \"No\", \"No\", \"No\", \"No\", \"No\", \"No\", \"No\", \"No\", \"No\", \"No\", \"Yes\", \"No\", \"No\", \"No\", \"No\", \"No\", \"No\", \"Yes\", \"No\", \"No\", \"No\", \"No\", \"No\", \"No\", \"No\", \"No\", \"No\", \"No\", \"No\", \"No\", \"No\", \"No\", \"No\", \"No\", \"No\", \"No\", \"No\", \"No\", \"No\", \"No\", \"No\", \"No\", \"No\", \"No\", \"No\", \"No\", \"No\", \"No\", \"Yes\", \"No\", \"No\", \"No\", \"No\", \"No\", \"No\", \"No\", \"No\", \"No\", \"No\", \"No\", \"No\", \"No\", \"No\", \"No\", \"No\", \"Yes\", \"No\", \"No\", \"No\", \"No\", \"No\", \"No\", \"Yes\", \"No\", \"No\", \"No\", \"No\", \"No\", \"No\", \"No\", \"Yes\", \"No\", \"No\", \"Yes\", \"No\", \"No\", \"No\", \"No\", \"No\", \"No\", \"No\", \"No\", \"Yes\", \"No\", \"No\", \"No\", \"No\", \"No\", \"No\", \"No\", \"No\", \"No\", \"No\", \"No\", \"No\", \"No\", \"No\", \"No\", \"No\", \"No\", \"No\", \"No\", \"No\", \"No\", \"No\", \"No\", \"No\", \"No\", \"No\", \"No\", \"No\", \"No\", \"No\", \"No\", \"No\", \"No\", \"No\", \"No\", \"No\", \"No\", \"No\", \"No\", \"No\", \"No\", \"No\", \"No\", \"No\", \"Yes\", \"No\", \"No\", \"No\", \"No\", \"No\", \"No\", \"No\", \"No\", \"No\", \"Yes\", \"No\", \"No\", \"No\", \"No\", \"No\", \"No\", \"No\", \"No\", \"No\", \"No\", \"No\", \"No\", \"No\", \"No\", \"No\", \"No\", \"No\", \"No\", \"No\", \"No\", \"No\", \"No\", \"No\", \"No\", \"No\", \"No\", \"No\", \"No\", \"No\", \"No\", \"No\", \"No\", \"No\", \"Yes\", \"No\", \"No\", \"No\", \"No\", \"No\", \"No\", \"No\", \"No\", \"No\", \"No\", \"No\", \"No\", \"No\", \"No\", \"No\", \"No\", \"No\", \"No\", \"No\", \"No\", \"No\", \"No\", \"No\", \"No\", \"No\", \"Yes\", \"No\", \"No\", \"No\", \"No\", \"No\", \"No\", \"No\", \"No\", \"No\", \"No\", \"No\", \"No\", \"No\", \"No\", \"No\", \"No\", \"No\", \"Yes\", \"No\", \"No\", \"No\", \"No\", \"No\", \"No\", \"No\", \"No\", \"No\", \"No\", \"No\", \"No\", \"No\", \"No\", \"No\", \"No\", \"No\", \"No\", \"No\", \"No\", \"No\", \"No\", \"No\", \"No\", \"No\", \"No\", \"No\", \"No\", \"No\", \"No\", \"No\", \"No\", \"No\", \"No\", \"No\", \"No\", \"No\", \"No\", \"Yes\", \"No\", \"No\", \"No\", \"No\", \"No\", \"No\", \"No\", \"No\", \"No\", \"No\", \"No\", \"No\", \"No\", \"No\", \"No\", \"No\", \"No\", \"No\", \"No\", \"Yes\", \"Yes\", \"No\", \"No\", \"No\", \"No\", \"No\", \"No\", \"No\", \"No\", \"No\", \"No\", \"No\", \"No\", \"No\", \"No\", \"No\", \"No\", \"No\", \"Yes\", \"No\", \"No\", \"No\", \"No\", \"No\", \"No\", \"No\", \"No\", \"No\", \"No\", \"No\", \"Yes\", \"No\", \"No\", \"No\", \"No\", \"No\", \"No\", \"No\", \"No\", \"Yes\", \"No\", \"No\", \"No\", \"No\", \"No\", \"Yes\", \"No\", \"No\", \"No\", \"No\", \"No\", \"No\", \"No\", \"No\", \"No\", \"No\", \"No\", \"No\", \"No\", \"No\", \"No\", \"No\", \"No\", \"No\", \"No\", \"No\", \"No\", \"No\", \"Yes\", \"No\", \"No\", \"No\", \"No\", \"Yes\", \"No\", \"No\", \"No\", \"No\", \"No\", \"No\", \"No\", \"No\", \"No\", \"No\", \"No\", \"No\", \"No\", \"No\", \"No\", \"No\", \"No\", \"No\", \"No\", \"No\", \"No\", \"No\", \"No\", \"No\", \"No\", \"No\", \"No\", \"Yes\", \"No\", \"No\", \"No\", \"No\", \"No\", \"No\", \"No\", \"No\", \"No\", \"No\", \"No\", \"No\", \"No\", \"No\", \"No\", \"No\", \"No\", \"No\", \"No\", \"No\", \"No\", \"No\", \"No\", \"No\", \"No\", \"No\", \"No\", \"No\", \"No\", \"No\", \"Yes\", \"No\", \"No\", \"No\", \"No\", \"No\", \"No\", \"No\", \"No\", \"No\", \"No\", \"No\", \"Yes\", \"No\", \"No\", \"Yes\", \"No\", \"No\", \"No\", \"No\", \"No\", \"No\", \"No\", \"No\", \"No\", \"No\", \"No\", \"No\", \"No\", \"No\", \"No\", \"No\", \"No\", \"No\", \"Yes\", \"No\", \"Yes\", \"No\", \"No\", \"No\", \"No\", \"No\", \"No\", \"No\", \"No\", \"No\", \"No\", \"No\", \"No\", \"No\", \"No\", \"No\", \"No\", \"No\", \"No\", \"No\", \"No\", \"No\", \"No\", \"No\", \"No\", \"No\", \"No\", \"No\", \"No\", \"No\", \"No\", \"No\", \"No\", \"No\", \"No\", \"No\", \"No\", \"No\", \"No\", \"No\", \"No\", \"No\", \"Yes\", \"No\", \"No\", \"No\", \"No\", \"No\", \"No\", \"Yes\", \"No\", \"No\", \"No\", \"No\", \"No\", \"Yes\", \"No\", \"No\", \"No\", \"No\", \"No\", \"No\", \"No\", \"No\", \"No\", \"No\", \"No\", \"No\", \"No\", \"No\", \"No\", \"No\", \"No\", \"No\", \"Yes\", \"No\", \"No\", \"No\", \"No\", \"No\", \"No\", \"No\", \"No\", \"No\", \"No\", \"Yes\", \"Yes\", \"No\", \"No\", \"No\", \"No\", \"No\", \"No\", \"No\", \"No\", \"No\", \"No\", \"No\", \"No\", \"No\", \"No\", \"No\", \"No\", \"No\", \"Yes\", \"No\", \"No\", \"No\", \"No\", \"No\", \"No\", \"No\", \"No\", \"No\", \"No\", \"Yes\", \"No\", \"No\", \"No\", \"No\", \"No\", \"No\", \"No\", \"No\", \"No\", \"No\", \"No\", \"No\", \"No\", \"No\", \"No\", \"No\", \"No\", \"No\", \"No\", \"No\", \"No\", \"No\", \"No\", \"No\", \"No\", \"No\", \"No\", \"No\", \"No\", \"No\", \"No\", \"No\", \"No\", \"No\", \"No\", \"Yes\", \"No\", \"No\", \"No\", \"No\", \"No\", \"No\", \"No\", \"No\", \"No\", \"No\", \"No\", \"No\", \"No\", \"No\", \"No\", \"No\", \"No\", \"No\", \"No\", \"No\", \"No\", \"No\", \"No\", \"No\", \"No\", \"No\", \"No\", \"No\", \"No\", \"No\", \"No\", \"No\", \"No\", \"No\", \"No\", \"No\", \"No\", \"No\", \"No\", \"No\", \"No\", \"No\", \"No\", \"No\", \"No\", \"No\", \"Yes\", \"Yes\", \"No\", \"No\", \"No\", \"No\", \"No\", \"No\", \"No\", \"No\", \"No\", \"No\", \"No\", \"No\", \"No\", \"No\", \"No\", \"No\", \"No\", \"No\", \"No\", \"No\", \"No\", \"Yes\", \"No\", \"No\", \"No\", \"No\", \"No\", \"No\", \"No\", \"No\", \"No\", \"No\", \"No\", \"No\", \"No\", \"No\", \"No\", \"No\", \"No\", \"No\", \"No\", \"No\", \"No\", \"No\", \"No\", \"No\", \"No\", \"No\", \"No\", \"No\", \"No\", \"No\", \"No\", \"No\", \"No\", \"No\", \"No\", \"No\", \"No\", \"No\", \"No\", \"No\", \"No\", \"No\", \"No\", \"No\", \"No\", \"No\", \"No\", \"No\", \"No\", \"No\", \"No\", \"No\", \"No\", \"No\", \"No\", \"No\", \"No\", \"No\", \"Yes\", \"No\", \"No\", \"No\", \"No\", \"No\", \"No\", \"No\", \"Yes\", \"No\", \"No\", \"No\", \"No\", \"No\", \"No\", \"No\", \"No\", \"Yes\", \"No\", \"No\", \"No\", \"No\", \"No\", \"No\", \"No\", \"Yes\", \"No\", \"No\", \"No\", \"Yes\", \"No\", \"No\", \"No\", \"No\", \"No\", \"No\", \"No\", \"Yes\", \"No\", \"No\", \"No\", \"No\", \"No\", \"No\", \"No\", \"No\", \"No\", \"No\", \"No\", \"No\", \"Yes\", \"No\", \"No\", \"No\", \"No\", \"No\", \"No\", \"No\", \"No\", \"No\", \"No\", \"No\", \"No\", \"No\", \"No\", \"No\", \"No\", \"No\", \"No\", \"No\", \"No\", \"No\", \"No\", \"No\", \"Yes\", \"No\", \"No\", \"No\", \"No\", \"No\", \"No\", \"No\", \"No\", \"No\", \"No\", \"No\", \"No\", \"No\", \"No\", \"No\", \"No\", \"No\", \"No\", \"No\", \"No\", \"No\", \"No\", \"No\", \"No\", \"No\", \"No\", \"No\", \"Yes\", \"No\", \"No\", \"No\", \"No\", \"No\", \"Yes\", \"No\", \"No\", \"No\", \"No\", \"No\", \"No\", \"No\", \"Yes\", \"No\", \"No\", \"No\", \"No\", \"No\", \"No\", \"No\", \"No\", \"No\", \"No\", \"Yes\", \"No\"], \"x0\": \" \", \"xaxis\": \"x\", \"y0\": \" \", \"yaxis\": \"y\"}, {\"alignmentgroup\": \"True\", \"boxpoints\": \"all\", \"hoverlabel\": {\"namelength\": 0}, \"hovertemplate\": \"Churn=True<br>International plan=%{x}\", \"legendgroup\": \"Churn=True\", \"marker\": {\"color\": \"#EF553B\"}, \"name\": \"Churn=True\", \"notched\": false, \"offsetgroup\": \"Churn=True\", \"orientation\": \"v\", \"showlegend\": true, \"type\": \"box\", \"x\": [\"No\", \"No\", \"No\", \"No\", \"Yes\", \"No\", \"No\", \"No\", \"No\", \"No\", \"No\", \"No\", \"No\", \"No\", \"No\", \"No\", \"No\", \"Yes\", \"No\", \"No\", \"No\", \"Yes\", \"No\", \"No\", \"No\", \"Yes\", \"Yes\", \"No\", \"Yes\", \"No\", \"Yes\", \"No\", \"No\", \"Yes\", \"No\", \"No\", \"No\", \"No\", \"No\", \"No\", \"No\", \"No\", \"Yes\", \"No\", \"No\", \"No\", \"No\", \"Yes\", \"Yes\", \"No\", \"Yes\", \"Yes\", \"No\", \"No\", \"No\", \"No\", \"No\", \"Yes\", \"No\", \"No\", \"No\", \"No\", \"Yes\", \"No\", \"No\", \"Yes\", \"Yes\", \"Yes\", \"Yes\", \"No\", \"No\", \"Yes\", \"No\", \"Yes\", \"Yes\", \"Yes\", \"No\", \"No\", \"No\", \"Yes\", \"No\", \"No\", \"No\", \"No\", \"Yes\", \"No\", \"Yes\", \"Yes\", \"Yes\", \"No\", \"No\", \"No\", \"No\", \"Yes\", \"Yes\", \"No\", \"No\", \"No\", \"Yes\", \"Yes\", \"Yes\", \"Yes\", \"No\", \"Yes\", \"Yes\", \"No\", \"Yes\", \"No\", \"No\", \"Yes\", \"No\", \"No\", \"No\", \"No\", \"No\", \"No\", \"No\", \"No\", \"No\", \"Yes\", \"No\", \"No\", \"No\", \"No\", \"No\", \"No\", \"No\", \"Yes\", \"Yes\", \"No\", \"No\", \"Yes\", \"No\", \"No\", \"No\", \"No\", \"No\", \"No\", \"No\", \"No\", \"No\", \"No\", \"Yes\", \"No\", \"No\", \"No\", \"No\", \"Yes\", \"Yes\", \"Yes\", \"No\", \"No\", \"No\", \"No\", \"No\", \"No\", \"No\", \"No\", \"No\", \"No\", \"No\", \"No\", \"No\", \"No\", \"No\", \"Yes\", \"No\", \"No\", \"No\", \"Yes\", \"Yes\", \"No\", \"No\", \"Yes\", \"No\", \"No\", \"No\", \"No\", \"No\", \"No\", \"No\", \"No\", \"Yes\", \"Yes\", \"No\", \"No\", \"Yes\", \"Yes\", \"Yes\", \"No\", \"No\", \"No\", \"No\", \"Yes\", \"No\", \"Yes\", \"No\", \"Yes\", \"No\", \"No\", \"No\", \"Yes\", \"Yes\", \"No\", \"No\", \"No\", \"No\", \"No\", \"Yes\", \"Yes\", \"Yes\", \"Yes\", \"No\", \"No\", \"No\", \"No\", \"No\", \"No\", \"No\", \"No\", \"No\", \"Yes\", \"No\", \"No\", \"No\", \"No\", \"No\", \"Yes\", \"Yes\", \"No\", \"No\", \"Yes\", \"No\", \"Yes\", \"No\", \"Yes\", \"Yes\", \"No\", \"No\", \"Yes\", \"No\", \"No\", \"No\", \"No\", \"Yes\", \"Yes\", \"No\", \"No\", \"No\", \"No\", \"No\", \"No\", \"Yes\", \"No\", \"Yes\", \"No\", \"No\", \"Yes\", \"No\", \"No\", \"No\", \"No\", \"No\", \"Yes\", \"No\", \"No\", \"No\", \"No\", \"No\", \"Yes\", \"Yes\", \"No\", \"No\", \"No\", \"Yes\", \"No\", \"No\", \"No\", \"No\", \"Yes\", \"No\", \"No\", \"Yes\", \"No\", \"No\", \"No\", \"Yes\", \"Yes\", \"No\", \"Yes\", \"No\", \"No\", \"No\", \"No\", \"Yes\", \"Yes\", \"Yes\", \"Yes\", \"No\", \"No\", \"Yes\", \"No\", \"No\", \"No\", \"No\", \"No\", \"No\", \"Yes\", \"No\", \"No\", \"No\", \"No\", \"No\", \"No\", \"Yes\", \"Yes\", \"Yes\", \"No\", \"No\", \"No\", \"No\", \"No\", \"No\", \"No\", \"Yes\", \"No\", \"No\", \"No\", \"No\", \"Yes\", \"No\", \"No\", \"Yes\", \"No\", \"No\", \"No\", \"Yes\", \"No\", \"No\", \"No\", \"No\", \"No\", \"Yes\", \"No\", \"Yes\", \"No\", \"No\", \"No\", \"Yes\", \"No\", \"No\", \"No\", \"Yes\", \"No\", \"No\", \"No\", \"No\", \"No\", \"No\", \"No\", \"Yes\", \"No\", \"No\", \"Yes\", \"No\", \"Yes\", \"Yes\", \"No\", \"No\", \"Yes\", \"No\", \"No\", \"Yes\", \"Yes\", \"Yes\", \"Yes\", \"No\", \"No\", \"No\", \"Yes\", \"No\", \"No\", \"No\", \"No\", \"No\", \"No\", \"No\", \"Yes\", \"Yes\", \"No\", \"No\", \"Yes\", \"No\", \"No\", \"Yes\", \"No\", \"No\", \"No\", \"Yes\", \"Yes\", \"No\", \"No\", \"No\", \"No\", \"Yes\", \"No\", \"No\", \"Yes\", \"No\", \"Yes\", \"No\", \"No\", \"No\", \"No\", \"No\", \"No\", \"No\", \"No\", \"No\", \"No\", \"Yes\", \"No\", \"No\", \"No\", \"No\", \"No\", \"No\", \"No\", \"No\", \"Yes\", \"No\", \"No\", \"No\", \"Yes\", \"Yes\", \"No\", \"No\", \"No\", \"No\", \"No\", \"No\", \"No\", \"No\", \"No\", \"No\", \"No\", \"No\", \"No\", \"No\", \"No\", \"No\", \"No\", \"No\", \"Yes\", \"No\", \"Yes\", \"No\", \"No\", \"No\", \"Yes\", \"No\", \"No\", \"No\", \"Yes\", \"No\", \"No\", \"No\", \"Yes\", \"Yes\", \"Yes\", \"No\", \"Yes\", \"No\", \"No\", \"No\", \"No\", \"No\", \"Yes\", \"No\", \"Yes\", \"Yes\", \"No\", \"No\"], \"x0\": \" \", \"xaxis\": \"x\", \"y0\": \" \", \"yaxis\": \"y\"}],\n",
              "                        {\"boxmode\": \"group\", \"legend\": {\"tracegroupgap\": 0}, \"margin\": {\"t\": 60}, \"template\": {\"data\": {\"bar\": [{\"error_x\": {\"color\": \"#2a3f5f\"}, \"error_y\": {\"color\": \"#2a3f5f\"}, \"marker\": {\"line\": {\"color\": \"#E5ECF6\", \"width\": 0.5}}, \"type\": \"bar\"}], \"barpolar\": [{\"marker\": {\"line\": {\"color\": \"#E5ECF6\", \"width\": 0.5}}, \"type\": \"barpolar\"}], \"carpet\": [{\"aaxis\": {\"endlinecolor\": \"#2a3f5f\", \"gridcolor\": \"white\", \"linecolor\": \"white\", \"minorgridcolor\": \"white\", \"startlinecolor\": \"#2a3f5f\"}, \"baxis\": {\"endlinecolor\": \"#2a3f5f\", \"gridcolor\": \"white\", \"linecolor\": \"white\", \"minorgridcolor\": \"white\", \"startlinecolor\": \"#2a3f5f\"}, \"type\": \"carpet\"}], \"choropleth\": [{\"colorbar\": {\"outlinewidth\": 0, \"ticks\": \"\"}, \"type\": \"choropleth\"}], \"contour\": [{\"colorbar\": {\"outlinewidth\": 0, \"ticks\": \"\"}, \"colorscale\": [[0.0, \"#0d0887\"], [0.1111111111111111, \"#46039f\"], [0.2222222222222222, \"#7201a8\"], [0.3333333333333333, \"#9c179e\"], [0.4444444444444444, \"#bd3786\"], [0.5555555555555556, \"#d8576b\"], [0.6666666666666666, \"#ed7953\"], [0.7777777777777778, \"#fb9f3a\"], [0.8888888888888888, \"#fdca26\"], [1.0, \"#f0f921\"]], \"type\": \"contour\"}], \"contourcarpet\": [{\"colorbar\": {\"outlinewidth\": 0, \"ticks\": \"\"}, \"type\": \"contourcarpet\"}], \"heatmap\": [{\"colorbar\": {\"outlinewidth\": 0, \"ticks\": \"\"}, \"colorscale\": [[0.0, \"#0d0887\"], [0.1111111111111111, \"#46039f\"], [0.2222222222222222, \"#7201a8\"], [0.3333333333333333, \"#9c179e\"], [0.4444444444444444, \"#bd3786\"], [0.5555555555555556, \"#d8576b\"], [0.6666666666666666, \"#ed7953\"], [0.7777777777777778, \"#fb9f3a\"], [0.8888888888888888, \"#fdca26\"], [1.0, \"#f0f921\"]], \"type\": \"heatmap\"}], \"heatmapgl\": [{\"colorbar\": {\"outlinewidth\": 0, \"ticks\": \"\"}, \"colorscale\": [[0.0, \"#0d0887\"], [0.1111111111111111, \"#46039f\"], [0.2222222222222222, \"#7201a8\"], [0.3333333333333333, \"#9c179e\"], [0.4444444444444444, \"#bd3786\"], [0.5555555555555556, \"#d8576b\"], [0.6666666666666666, \"#ed7953\"], [0.7777777777777778, \"#fb9f3a\"], [0.8888888888888888, \"#fdca26\"], [1.0, \"#f0f921\"]], \"type\": \"heatmapgl\"}], \"histogram\": [{\"marker\": {\"colorbar\": {\"outlinewidth\": 0, \"ticks\": \"\"}}, \"type\": \"histogram\"}], \"histogram2d\": [{\"colorbar\": {\"outlinewidth\": 0, \"ticks\": \"\"}, \"colorscale\": [[0.0, \"#0d0887\"], [0.1111111111111111, \"#46039f\"], [0.2222222222222222, \"#7201a8\"], [0.3333333333333333, \"#9c179e\"], [0.4444444444444444, \"#bd3786\"], [0.5555555555555556, \"#d8576b\"], [0.6666666666666666, \"#ed7953\"], [0.7777777777777778, \"#fb9f3a\"], [0.8888888888888888, \"#fdca26\"], [1.0, \"#f0f921\"]], \"type\": \"histogram2d\"}], \"histogram2dcontour\": [{\"colorbar\": {\"outlinewidth\": 0, \"ticks\": \"\"}, \"colorscale\": [[0.0, \"#0d0887\"], [0.1111111111111111, \"#46039f\"], [0.2222222222222222, \"#7201a8\"], [0.3333333333333333, \"#9c179e\"], [0.4444444444444444, \"#bd3786\"], [0.5555555555555556, \"#d8576b\"], [0.6666666666666666, \"#ed7953\"], [0.7777777777777778, \"#fb9f3a\"], [0.8888888888888888, \"#fdca26\"], [1.0, \"#f0f921\"]], \"type\": \"histogram2dcontour\"}], \"mesh3d\": [{\"colorbar\": {\"outlinewidth\": 0, \"ticks\": \"\"}, \"type\": \"mesh3d\"}], \"parcoords\": [{\"line\": {\"colorbar\": {\"outlinewidth\": 0, \"ticks\": \"\"}}, \"type\": \"parcoords\"}], \"pie\": [{\"automargin\": true, \"type\": \"pie\"}], \"scatter\": [{\"marker\": {\"colorbar\": {\"outlinewidth\": 0, \"ticks\": \"\"}}, \"type\": \"scatter\"}], \"scatter3d\": [{\"line\": {\"colorbar\": {\"outlinewidth\": 0, \"ticks\": \"\"}}, \"marker\": {\"colorbar\": {\"outlinewidth\": 0, \"ticks\": \"\"}}, \"type\": \"scatter3d\"}], \"scattercarpet\": [{\"marker\": {\"colorbar\": {\"outlinewidth\": 0, \"ticks\": \"\"}}, \"type\": \"scattercarpet\"}], \"scattergeo\": [{\"marker\": {\"colorbar\": {\"outlinewidth\": 0, \"ticks\": \"\"}}, \"type\": \"scattergeo\"}], \"scattergl\": [{\"marker\": {\"colorbar\": {\"outlinewidth\": 0, \"ticks\": \"\"}}, \"type\": \"scattergl\"}], \"scattermapbox\": [{\"marker\": {\"colorbar\": {\"outlinewidth\": 0, \"ticks\": \"\"}}, \"type\": \"scattermapbox\"}], \"scatterpolar\": [{\"marker\": {\"colorbar\": {\"outlinewidth\": 0, \"ticks\": \"\"}}, \"type\": \"scatterpolar\"}], \"scatterpolargl\": [{\"marker\": {\"colorbar\": {\"outlinewidth\": 0, \"ticks\": \"\"}}, \"type\": \"scatterpolargl\"}], \"scatterternary\": [{\"marker\": {\"colorbar\": {\"outlinewidth\": 0, \"ticks\": \"\"}}, \"type\": \"scatterternary\"}], \"surface\": [{\"colorbar\": {\"outlinewidth\": 0, \"ticks\": \"\"}, \"colorscale\": [[0.0, \"#0d0887\"], [0.1111111111111111, \"#46039f\"], [0.2222222222222222, \"#7201a8\"], [0.3333333333333333, \"#9c179e\"], [0.4444444444444444, \"#bd3786\"], [0.5555555555555556, \"#d8576b\"], [0.6666666666666666, \"#ed7953\"], [0.7777777777777778, \"#fb9f3a\"], [0.8888888888888888, \"#fdca26\"], [1.0, \"#f0f921\"]], \"type\": \"surface\"}], \"table\": [{\"cells\": {\"fill\": {\"color\": \"#EBF0F8\"}, \"line\": {\"color\": \"white\"}}, \"header\": {\"fill\": {\"color\": \"#C8D4E3\"}, \"line\": {\"color\": \"white\"}}, \"type\": \"table\"}]}, \"layout\": {\"annotationdefaults\": {\"arrowcolor\": \"#2a3f5f\", \"arrowhead\": 0, \"arrowwidth\": 1}, \"coloraxis\": {\"colorbar\": {\"outlinewidth\": 0, \"ticks\": \"\"}}, \"colorscale\": {\"diverging\": [[0, \"#8e0152\"], [0.1, \"#c51b7d\"], [0.2, \"#de77ae\"], [0.3, \"#f1b6da\"], [0.4, \"#fde0ef\"], [0.5, \"#f7f7f7\"], [0.6, \"#e6f5d0\"], [0.7, \"#b8e186\"], [0.8, \"#7fbc41\"], [0.9, \"#4d9221\"], [1, \"#276419\"]], \"sequential\": [[0.0, \"#0d0887\"], [0.1111111111111111, \"#46039f\"], [0.2222222222222222, \"#7201a8\"], [0.3333333333333333, \"#9c179e\"], [0.4444444444444444, \"#bd3786\"], [0.5555555555555556, \"#d8576b\"], [0.6666666666666666, \"#ed7953\"], [0.7777777777777778, \"#fb9f3a\"], [0.8888888888888888, \"#fdca26\"], [1.0, \"#f0f921\"]], \"sequentialminus\": [[0.0, \"#0d0887\"], [0.1111111111111111, \"#46039f\"], [0.2222222222222222, \"#7201a8\"], [0.3333333333333333, \"#9c179e\"], [0.4444444444444444, \"#bd3786\"], [0.5555555555555556, \"#d8576b\"], [0.6666666666666666, \"#ed7953\"], [0.7777777777777778, \"#fb9f3a\"], [0.8888888888888888, \"#fdca26\"], [1.0, \"#f0f921\"]]}, \"colorway\": [\"#636efa\", \"#EF553B\", \"#00cc96\", \"#ab63fa\", \"#FFA15A\", \"#19d3f3\", \"#FF6692\", \"#B6E880\", \"#FF97FF\", \"#FECB52\"], \"font\": {\"color\": \"#2a3f5f\"}, \"geo\": {\"bgcolor\": \"white\", \"lakecolor\": \"white\", \"landcolor\": \"#E5ECF6\", \"showlakes\": true, \"showland\": true, \"subunitcolor\": \"white\"}, \"hoverlabel\": {\"align\": \"left\"}, \"hovermode\": \"closest\", \"mapbox\": {\"style\": \"light\"}, \"paper_bgcolor\": \"white\", \"plot_bgcolor\": \"#E5ECF6\", \"polar\": {\"angularaxis\": {\"gridcolor\": \"white\", \"linecolor\": \"white\", \"ticks\": \"\"}, \"bgcolor\": \"#E5ECF6\", \"radialaxis\": {\"gridcolor\": \"white\", \"linecolor\": \"white\", \"ticks\": \"\"}}, \"scene\": {\"xaxis\": {\"backgroundcolor\": \"#E5ECF6\", \"gridcolor\": \"white\", \"gridwidth\": 2, \"linecolor\": \"white\", \"showbackground\": true, \"ticks\": \"\", \"zerolinecolor\": \"white\"}, \"yaxis\": {\"backgroundcolor\": \"#E5ECF6\", \"gridcolor\": \"white\", \"gridwidth\": 2, \"linecolor\": \"white\", \"showbackground\": true, \"ticks\": \"\", \"zerolinecolor\": \"white\"}, \"zaxis\": {\"backgroundcolor\": \"#E5ECF6\", \"gridcolor\": \"white\", \"gridwidth\": 2, \"linecolor\": \"white\", \"showbackground\": true, \"ticks\": \"\", \"zerolinecolor\": \"white\"}}, \"shapedefaults\": {\"line\": {\"color\": \"#2a3f5f\"}}, \"ternary\": {\"aaxis\": {\"gridcolor\": \"white\", \"linecolor\": \"white\", \"ticks\": \"\"}, \"baxis\": {\"gridcolor\": \"white\", \"linecolor\": \"white\", \"ticks\": \"\"}, \"bgcolor\": \"#E5ECF6\", \"caxis\": {\"gridcolor\": \"white\", \"linecolor\": \"white\", \"ticks\": \"\"}}, \"title\": {\"x\": 0.05}, \"xaxis\": {\"automargin\": true, \"gridcolor\": \"white\", \"linecolor\": \"white\", \"ticks\": \"\", \"title\": {\"standoff\": 15}, \"zerolinecolor\": \"white\", \"zerolinewidth\": 2}, \"yaxis\": {\"automargin\": true, \"gridcolor\": \"white\", \"linecolor\": \"white\", \"ticks\": \"\", \"title\": {\"standoff\": 15}, \"zerolinecolor\": \"white\", \"zerolinewidth\": 2}}}, \"xaxis\": {\"anchor\": \"y\", \"domain\": [0.0, 1.0], \"title\": {\"text\": \"International plan\"}}, \"yaxis\": {\"anchor\": \"x\", \"domain\": [0.0, 1.0]}},\n",
              "                        {\"responsive\": true}\n",
              "                    ).then(function(){\n",
              "                            \n",
              "var gd = document.getElementById('08df8ee5-8b19-42a6-ae3d-c33dd3e2e6d2');\n",
              "var x = new MutationObserver(function (mutations, observer) {{\n",
              "        var display = window.getComputedStyle(gd).display;\n",
              "        if (!display || display === 'none') {{\n",
              "            console.log([gd, 'removed!']);\n",
              "            Plotly.purge(gd);\n",
              "            observer.disconnect();\n",
              "        }}\n",
              "}});\n",
              "\n",
              "// Listen for the removal of the full notebook cells\n",
              "var notebookContainer = gd.closest('#notebook-container');\n",
              "if (notebookContainer) {{\n",
              "    x.observe(notebookContainer, {childList: true});\n",
              "}}\n",
              "\n",
              "// Listen for the clearing of the current output cell\n",
              "var outputEl = gd.closest('.output');\n",
              "if (outputEl) {{\n",
              "    x.observe(outputEl, {childList: true});\n",
              "}}\n",
              "\n",
              "                        })\n",
              "                };\n",
              "                \n",
              "            </script>\n",
              "        </div>\n",
              "</body>\n",
              "</html>"
            ]
          },
          "metadata": {}
        }
      ]
    },
    {
      "cell_type": "code",
      "metadata": {
        "colab": {
          "base_uri": "https://localhost:8080/"
        },
        "id": "UPiPGE8LI2jV",
        "outputId": "8dfefc1f-4761-4c43-ac5f-1974642b3547"
      },
      "source": [
        "churn_copy_df.columns"
      ],
      "execution_count": 44,
      "outputs": [
        {
          "output_type": "execute_result",
          "data": {
            "text/plain": [
              "Index(['State', 'Account length', 'Area code', 'International plan',\n",
              "       'Voice mail plan', 'Number vmail messages', 'Total day minutes',\n",
              "       'Total day calls', 'Total day charge', 'Total eve minutes',\n",
              "       'Total eve calls', 'Total eve charge', 'Total night minutes',\n",
              "       'Total night calls', 'Total night charge', 'Total intl minutes',\n",
              "       'Total intl calls', 'Total intl charge', 'Customer service calls',\n",
              "       'Churn'],\n",
              "      dtype='object')"
            ]
          },
          "metadata": {},
          "execution_count": 44
        }
      ]
    },
    {
      "cell_type": "code",
      "metadata": {
        "colab": {
          "base_uri": "https://localhost:8080/"
        },
        "id": "2TefmrkJIjoB",
        "outputId": "0c783e0b-1107-4e43-c2a3-bb822863a1b1"
      },
      "source": [
        "churn_copy_df['Voice mail plan'].unique()"
      ],
      "execution_count": 45,
      "outputs": [
        {
          "output_type": "execute_result",
          "data": {
            "text/plain": [
              "array(['Yes', 'No'], dtype=object)"
            ]
          },
          "metadata": {},
          "execution_count": 45
        }
      ]
    },
    {
      "cell_type": "code",
      "metadata": {
        "colab": {
          "base_uri": "https://localhost:8080/",
          "height": 112
        },
        "id": "x09tyxAtJBu0",
        "outputId": "20df906f-6883-49af-baa8-741364215cfe"
      },
      "source": [
        "churn_voice_mail_plan_df = unsubscribed_df.groupby('Voice mail plan')['Churn'].count().reset_index()\n",
        "churn_voice_mail_plan_df"
      ],
      "execution_count": 46,
      "outputs": [
        {
          "output_type": "execute_result",
          "data": {
            "text/html": [
              "<div>\n",
              "<style scoped>\n",
              "    .dataframe tbody tr th:only-of-type {\n",
              "        vertical-align: middle;\n",
              "    }\n",
              "\n",
              "    .dataframe tbody tr th {\n",
              "        vertical-align: top;\n",
              "    }\n",
              "\n",
              "    .dataframe thead th {\n",
              "        text-align: right;\n",
              "    }\n",
              "</style>\n",
              "<table border=\"1\" class=\"dataframe\">\n",
              "  <thead>\n",
              "    <tr style=\"text-align: right;\">\n",
              "      <th></th>\n",
              "      <th>Voice mail plan</th>\n",
              "      <th>Churn</th>\n",
              "    </tr>\n",
              "  </thead>\n",
              "  <tbody>\n",
              "    <tr>\n",
              "      <th>0</th>\n",
              "      <td>No</td>\n",
              "      <td>403</td>\n",
              "    </tr>\n",
              "    <tr>\n",
              "      <th>1</th>\n",
              "      <td>Yes</td>\n",
              "      <td>80</td>\n",
              "    </tr>\n",
              "  </tbody>\n",
              "</table>\n",
              "</div>"
            ],
            "text/plain": [
              "  Voice mail plan  Churn\n",
              "0              No    403\n",
              "1             Yes     80"
            ]
          },
          "metadata": {},
          "execution_count": 46
        }
      ]
    },
    {
      "cell_type": "code",
      "metadata": {
        "colab": {
          "base_uri": "https://localhost:8080/",
          "height": 279
        },
        "id": "_p5Th_X0JPRz",
        "outputId": "e047af19-6e40-4d7c-9175-8d6f9916977e"
      },
      "source": [
        "ax = sns.barplot(x='Voice mail plan', y='Churn', data=churn_voice_mail_plan_df)"
      ],
      "execution_count": 47,
      "outputs": [
        {
          "output_type": "display_data",
          "data": {
            "image/png": "[encoded data removed]",
            "text/plain": [
              "<Figure size 432x288 with 1 Axes>"
            ]
          },
          "metadata": {
            "needs_background": "light"
          }
        }
      ]
    },
    {
      "cell_type": "code",
      "metadata": {
        "colab": {
          "base_uri": "https://localhost:8080/",
          "height": 542
        },
        "id": "GzyJ_2WrMNUY",
        "outputId": "f30991f7-968b-4982-b3c2-e32a75edeb7f"
      },
      "source": [
        "fig = px.box(churn_copy_df, x=\"Churn\", points=\"all\",color='Voice mail plan')\n",
        "fig.show()"
      ],
      "execution_count": 48,
      "outputs": [
        {
          "output_type": "display_data",
          "data": {
            "text/html": [
              "<html>\n",
              "<head><meta charset=\"utf-8\" /></head>\n",
              "<body>\n",
              "    <div>\n",
              "            <script src=\"https://cdnjs.cloudflare.com/ajax/libs/mathjax/2.7.5/MathJax.js?config=TeX-AMS-MML_SVG\"></script><script type=\"text/javascript\">if (window.MathJax) {MathJax.Hub.Config({SVG: {font: \"STIX-Web\"}});}</script>\n",
              "                <script type=\"text/javascript\">window.PlotlyConfig = {MathJaxConfig: 'local'};</script>\n",
              "        <script src=\"https://cdn.plot.ly/plotly-latest.min.js\"></script>    \n",
              "            <div id=\"bf22ace1-7fff-42a9-ab4a-e7578eaccdae\" class=\"plotly-graph-div\" style=\"height:525px; width:100%;\"></div>\n",
              "            <script type=\"text/javascript\">\n",
              "                \n",
              "                    window.PLOTLYENV=window.PLOTLYENV || {};\n",
              "                    \n",
              "                if (document.getElementById(\"bf22ace1-7fff-42a9-ab4a-e7578eaccdae\")) {\n",
              "                    Plotly.newPlot(\n",
              "                        'bf22ace1-7fff-42a9-ab4a-e7578eaccdae',\n",
              "                        [{\"alignmentgroup\": \"True\", \"boxpoints\": \"all\", \"hoverlabel\": {\"namelength\": 0}, \"hovertemplate\": \"Voice mail plan=Yes<br>Churn=%{x}\", \"legendgroup\": \"Voice mail plan=Yes\", \"marker\": {\"color\": \"#636efa\"}, \"name\": \"Voice mail plan=Yes\", \"notched\": false, \"offsetgroup\": \"Voice mail plan=Yes\", \"orientation\": \"v\", \"showlegend\": true, \"type\": \"box\", \"x\": [false, false, false, false, false, false, false, false, false, false, false, true, false, false, true, false, false, false, false, false, false, false, false, false, false, false, false, false, true, false, false, true, false, false, false, false, false, false, false, false, false, false, false, false, false, false, false, false, false, false, true, false, false, false, false, false, false, false, false, false, false, false, false, true, false, false, false, false, false, false, false, false, true, false, false, false, false, false, true, false, false, false, false, false, true, false, false, false, false, false, false, false, false, false, false, false, false, false, false, false, false, false, false, false, false, false, false, false, false, false, false, false, false, false, false, false, false, false, false, false, true, false, false, true, false, false, false, false, false, false, false, false, false, false, true, false, false, true, false, false, false, false, false, false, false, false, false, false, true, false, false, true, false, false, false, false, false, false, false, false, true, false, false, false, false, false, false, false, false, false, false, false, true, false, false, false, false, true, false, false, false, false, false, false, false, false, false, false, false, false, false, false, false, false, false, false, false, false, false, false, false, false, false, false, false, true, false, false, false, false, false, false, false, false, false, false, false, false, false, false, false, false, true, false, false, false, false, false, false, true, false, false, false, false, false, false, false, false, false, false, false, false, false, false, false, false, false, false, false, false, false, false, false, false, false, false, true, false, false, false, false, false, false, false, false, false, false, true, false, false, false, false, false, false, false, true, true, false, true, false, false, false, true, false, false, false, false, false, false, false, false, false, false, false, true, false, false, false, false, false, false, false, false, false, false, false, false, false, false, false, false, true, false, false, false, false, false, false, false, false, false, true, false, false, false, false, false, false, false, false, false, false, false, false, false, false, false, false, false, false, false, true, false, false, false, false, false, false, false, false, false, false, false, false, false, false, true, false, false, true, false, false, true, false, true, false, false, false, false, false, false, false, false, false, false, true, false, false, false, false, false, false, false, false, false, false, false, false, false, false, false, false, false, false, false, false, true, false, false, false, false, false, false, false, false, false, false, false, true, false, false, false, false, false, false, false, true, false, true, false, false, false, false, false, false, false, true, false, false, false, false, false, false, false, false, false, true, true, false, false, false, false, false, false, false, false, false, false, false, false, false, false, false, false, false, false, false, false, false, false, false, false, false, false, false, false, false, false, false, false, false, false, false, false, false, false, false, false, false, false, false, false, false, false, false, false, false, false, false, false, false, false, false, false, false, false, false, false, false, false, false, false, false, false, false, false, false, false, false, false, false, false, false, false, false, false, false, false, false, false, false, false, false, false, false, false, false, false, false, false, false, false, true, false, false, true, false, true, false, false, false, false, false, true, false, false, false, true, true, false, false, false, false, false, true, false, false, false, false, false, false, false, false, false, true, false, false, false, false, false, false, false, false, false, false, false, false, false, false, false, false, false, false, false, false, false, false, false, false, false, false, false, false, false, false, false, true, false, false, false, false, false, false, false, false, false, false, false, false, false, false, false, false, false, false, false, false, false, false, false, false, false, false, false, false, false, false, false, false, false, false, false, false, false, false, false, false, false, false, false, false, false, false, false, false, false, false, false, false, false, false, false, false, false, false, true, false, false, false, false, false, true, false, false, true, false, false, false, true, true, true, false, false, false, false, false, false, false, false, true, false, false, false, false, false, false, false, false, false, true, false, false, false, false, true, false, false, false, false, false, false, false, false, false, false, false, true, false, false, false, false, false, false, false, false, false, false, false, false, false, false, false, false, false, true, false, false, false, true, false, false, false, false, false, false, false, false, true, false, false, false, false, false, true, false, false, false, false, false, false, false, false, false, false, false, false, true, false, false, false, true, false, false, false, false, false, false, false, false, true, true, false, false, false, true, false, false, false, false, false, false, false, false, false, false, false, false, false, false, false, false, false, false, false, true, false, false, false, false, false, false, false, false, false, false, false, true, false, false, false, false, false, false, false, false, false, false, true, false, false, false, true, false, false, false, false, false, false, false, false, false, false, false, false, true, false, false, false, false, false, false, false, false, false, false, false, false, false, false, false, false, false, false, false, false, false, false, false, false, false, false, false, false, false, false, false, false, false, false, false, false, false, false, false, false, false, false, false, false, false, false, false, false, false, false, true, false, false, false, false, false, false, false, false, false, false, false, false, false, false, true, false, false, false, false, false, false, false, false, false, false, true, true, false, false, false, false, false, false, false, false, false], \"x0\": \" \", \"xaxis\": \"x\", \"y0\": \" \", \"yaxis\": \"y\"}, {\"alignmentgroup\": \"True\", \"boxpoints\": \"all\", \"hoverlabel\": {\"namelength\": 0}, \"hovertemplate\": \"Voice mail plan=No<br>Churn=%{x}\", \"legendgroup\": \"Voice mail plan=No\", \"marker\": {\"color\": \"#EF553B\"}, \"name\": \"Voice mail plan=No\", \"notched\": false, \"offsetgroup\": \"Voice mail plan=No\", \"orientation\": \"v\", \"showlegend\": true, \"type\": \"box\", \"x\": [false, false, false, false, false, false, true, false, false, false, false, true, false, false, false, true, false, false, false, false, false, false, false, false, false, false, true, false, false, false, false, false, false, false, false, true, false, false, false, false, true, false, false, false, false, false, false, false, false, false, true, false, false, false, false, false, true, true, false, false, false, false, true, true, false, true, false, true, false, false, false, false, false, false, true, true, false, false, false, false, false, false, false, false, false, false, false, false, true, false, false, false, false, false, false, true, false, false, false, false, false, false, false, false, false, false, true, false, false, false, false, false, false, false, false, false, false, true, false, false, false, false, false, false, false, false, false, false, false, false, false, false, false, false, true, false, false, false, false, false, false, false, false, false, false, false, false, true, false, false, false, false, false, false, false, false, false, false, false, true, false, false, false, true, false, false, false, false, false, false, false, true, false, false, false, true, false, false, false, false, true, false, false, true, false, false, false, false, false, false, false, false, true, false, false, false, false, false, false, false, false, false, false, false, false, false, false, false, false, false, false, false, true, false, false, false, false, false, false, false, false, true, true, false, false, false, true, true, false, false, true, false, false, false, false, false, false, false, false, false, false, false, true, true, false, false, false, false, false, false, true, false, false, false, true, false, false, false, true, false, false, true, false, false, false, true, false, false, false, false, false, false, true, false, false, false, false, true, false, false, false, false, false, false, false, false, false, false, false, false, false, false, true, false, true, false, true, false, false, false, false, false, true, false, false, false, false, false, false, false, true, true, false, false, false, false, false, false, false, false, true, false, false, false, false, true, false, false, false, false, false, false, false, false, false, false, false, true, true, false, false, false, false, false, false, true, false, false, false, false, false, false, false, false, false, false, false, false, false, false, false, false, false, false, true, true, false, false, false, true, false, true, false, false, true, false, false, false, false, false, false, false, true, false, false, false, false, false, false, false, false, false, false, false, false, true, true, false, true, false, false, false, true, false, false, false, false, false, false, false, false, true, false, false, true, false, false, true, false, false, false, true, false, false, false, false, false, false, false, false, true, false, false, false, true, false, false, false, false, false, false, false, false, true, false, false, false, false, false, false, false, true, false, false, false, false, false, false, false, false, false, false, true, false, false, true, false, false, false, false, true, false, false, false, false, false, false, false, false, false, false, false, false, false, true, false, false, false, false, false, false, false, false, false, false, false, false, false, false, false, false, false, false, false, false, false, false, false, false, false, false, false, true, false, false, false, false, false, false, false, false, true, false, false, false, true, true, false, false, false, false, false, false, false, false, false, false, false, false, false, false, false, false, false, false, true, false, false, false, false, true, false, false, false, false, false, false, false, false, true, false, false, false, false, false, false, true, false, false, false, false, false, false, false, false, false, false, true, false, false, false, false, false, false, false, false, false, false, false, false, true, false, true, false, false, false, false, false, false, false, true, false, false, false, true, false, false, false, false, false, true, false, false, false, false, false, false, false, false, false, true, false, false, false, false, false, false, false, false, false, false, false, false, false, false, false, false, true, false, false, false, true, false, false, true, true, false, false, true, false, true, false, false, false, false, false, false, false, false, false, false, false, false, false, false, false, false, true, false, false, false, false, false, false, false, false, false, false, true, false, false, false, false, false, false, false, false, false, false, false, false, false, false, false, false, false, false, true, false, true, false, false, false, false, true, false, false, false, false, false, false, false, false, true, false, false, false, false, false, false, false, false, false, false, false, false, false, true, false, false, false, false, false, true, false, false, false, false, false, false, false, false, true, false, false, false, false, false, false, false, false, false, false, false, false, false, false, false, false, false, false, false, false, false, false, false, false, false, false, false, true, true, false, false, false, false, false, false, false, false, false, false, false, false, false, false, false, false, false, false, false, true, false, false, false, false, false, false, false, false, false, true, false, false, false, false, false, true, true, false, false, false, false, true, false, false, false, false, true, false, false, false, false, false, true, false, false, true, false, false, false, false, false, false, false, false, false, false, false, false, false, false, false, false, false, true, false, false, false, false, false, true, false, false, false, false, false, true, false, false, false, false, false, false, false, false, false, false, false, false, false, false, false, false, false, false, true, true, false, false, false, false, false, false, false, false, false, false, false, false, false, false, false, false, false, false, false, false, false, false, false, false, false, false, false, false, false, true, false, true, true, false, true, false, false, false, true, false, false, false, false, false, false, false, false, false, true, false, false, true, false, false, false, true, false, false, false, true, false, false, false, false, false, false, false, false, false, true, false, false, false, true, false, false, false, true, false, false, true, false, true, false, false, true, true, true, false, false, true, false, false, false, false, false, false, true, false, false, false, true, false, false, false, false, false, false, false, false, true, true, false, false, false, false, false, false, false, false, false, true, false, false, false, false, false, false, false, false, false, true, false, false, false, false, false, false, false, false, false, true, false, false, false, false, false, false, false, false, false, false, true, false, false, false, false, false, false, false, false, false, false, false, false, false, false, false, false, false, false, false, true, false, false, false, false, false, false, false, false, true, false, false, false, false, false, false, false, false, false, false, false, false, false, false, false, false, false, false, false, false, false, false, false, true, false, false, false, false, false, false, false, false, true, false, true, true, true, true, false, false, true, false, false, false, false, false, false, false, false, false, false, true, false, false, false, false, false, false, false, false, false, false, false, false, false, false, false, false, false, false, false, true, false, false, false, false, false, true, false, false, false, true, false, false, false, false, false, false, false, true, false, false, false, true, false, false, false, false, false, false, false, false, false, false, false, false, true, false, true, false, false, false, false, false, false, true, false, false, false, true, true, false, false, false, false, true, false, false, false, false, false, false, false, true, false, false, false, false, true, false, false, false, false, false, false, true, true, true, false, false, false, false, false, true, true, true, false, true, false, false, false, true, false, false, true, false, false, false, false, false, false, false, false, false, false, true, false, false, false, true, false, true, false, false, false, false, true, false, false, true, false, true, false, true, false, false, false, false, true, true, false, true, false, false, false, false, false, true, false, false, false, true, false, false, false, false, false, false, true, false, false, false, false, false, false, true, false, false, false, false, false, false, false, false, false, false, false, false, false, false, false, false, false, false, false, false, false, false, true, false, true, false, true, false, true, true, false, false, false, false, true, false, false, false, true, false, false, true, true, false, true, false, false, false, false, false, false, false, true, false, true, true, false, false, false, true, false, false, true, true, false, false, true, false, false, false, false, false, false, true, false, false, false, false, false, true, false, false, false, false, false, false, false, false, false, false, false, false, false, true, true, false, true, false, false, false, false, false, false, false, false, false, true, false, false, true, false, false, false, false, false, false, false, false, true, false, false, false, false, false, false, true, true, false, false, false, false, true, false, false, false, false, false, false, false, false, false, false, false, false, false, true, false, false, false, false, false, false, false, false, false, false, false, false, false, false, false, false, false, false, true, true, false, false, true, false, false, false, false, true, false, false, false, false, false, false, false, false, false, false, false, false, true, false, false, false, false, false, false, true, false, false, false, false, false, true, false, false, false, false, false, false, false, false, false, false, false, false, false, false, false, false, false, false, true, false, false, true, false, false, true, false, false, true, true, false, true, false, false, true, true, false, false, false, false, false, false, false, false, false, false, false, false, false, true, false, true, false, false, false, false, true, false, true, false, false, false, true, false, false, true, false, true, false, false, true, false, false, false, false, false, false, false, false, true, false, false, false, false, false, false, false, false, true, true, false, false, false, false, false, false, false, false, false, false, true, false, false, false, false, false, false, true, true, false, true, false, true, false, false, false, false, false, false, false, false, false, false, false, false, false, true, true, false, false, false, false, false, false, false, false, false, false, false, false, false, false, true, false, false, true, false, false, false, false, false, false, false, false, false, false, true, false, false, false, false, true, false, false, false, false, false, false, false, false, false, false, false, false, false, false, false, false, false, false, false, false, false, false, false, false, false, true, true, false, true, false, false, false, false, false, false, true, false, false, false, false, false, true, false, false, false, false, false, false, false, false, true, false, true, true, false, false, false, false, false, false, false, true, false, false, false, false, false, false, true, false, false, true, false, false, false, true, true, true, false, false, false, false, false, true, false, false, true, false, false, false, false, false, false, true, false, false, true, false, false, false, true, true, true, false, false, false, true, true, false, false, false, false, false, false, false, false, false, false, false, false, false, true, false, false, false, false, false, false, false, false, false, false, false, false, true, false, false, false, false, false, false, false, false, false, true, false, false, false, true, false, false, false, false, false, false, false, false, false, false, false, false, false, false, false, true, false, false, false, false, false, false, false, false, true, false, false, false, false, false, false, true, false, true, true, false, false, false, true, false, false, false, false, false, false, false, false, false, false, false, false, false, false, false, false, false, false, false, false, true, false, false, false, true, true, false, true, false, false, false, false, true, false, false, false, false, false, false, false, true, false, false, true, true, false, false, false, true, false, true, false, true, false, false, false, false, true, false, false, false, false, true, false, false, false, false, false, false, false, false, false, false, false, false, true, false, true, false, false, false, false, false, false, false, false, false, false, true, false, true, false, false, true, false, false, true, true, false, false, false, true, false, false, true, false, false, false, false, false, false, false, false, false, false, true, false, true, false, false, true, false, false, false, false, false, false, true, true, false, false, false, false, false, false, true, false, false, false, false, false, true, true, false, false, false, false, false, false, false, false, true, false, false, false, false, false, false, false, false, false, false, true, false, false, false, false, false, true, false, false, false, false, false, false, true, true, false, false, false, false, true, false, false, false, false, false, true, false, false, false, false, false, false, false, false, false, false, true, false, false, true, false, false, false, true, false, false, true, true, false, false, false, false, false, false, false, true, false, false, false, false, false, false, false, false, false, false, false, false, false, false, false, false, false, false, false, false, true, false, false, false, false, true, false, false, false, true, false, true, false, false, true, false, false, false, false, false, false, true, false, false, false, true, false, false, false, false, false, false, false, false, false, false, false, false, false, false, true, true, true, false, false, false, false, false, false, true, false, true, false, false, false, true, false, false, true, false, false, true, false, true, false, false, false, false, true, false, true, false, true, false, false, true, false, true, false, false, false, false, false, false, true, true, false, false, false, false, false, true, false, true, false, false, true, false, false, false, false, true, false, false, false, false, false, false, false, false, false, false, false, false, true, false, false, false, false, false, false, false, true, false, false, false, false, false, false, false, false, true, false, false, false, false, true, false, false, false, false, false, false, false, false, false, false, true, false, false, true, true, false, false, false, true, false, false, false, false, false, false, false, false, false, false, false, true, false, false, false, false, false, false, false, false, false, true, true, false, false, false, false, false, false, false, true, false, true, false, false, true, false, false, false, false, false, false, false, false, false, true, false, false, false, true, false, true, false, false, false, false, true, false, false, false, false, false, false, true, false, true, true, false, false, false, false, false, false, false, false, false, false, false, false, false, false, false, true, true, true, false, false, false, false, false, false, false, true, false, false, false, false, false, false, false, false, true, false, true, false, false, false, false, false, false, false, true, false, true, true, false, false, true, false, false, false, false, false, true, false, false, false, false, false, false, false, false, true, false, true, false, false, false, true, false, false, false, false, true, false, false, false, false, false, false, false, false, false, false, false, false, false, true, false, true, false, false, false, false, false, false, false, false, false, false, false, true, false, true, true, false, false, false, false, false, false, false], \"x0\": \" \", \"xaxis\": \"x\", \"y0\": \" \", \"yaxis\": \"y\"}],\n",
              "                        {\"boxmode\": \"group\", \"legend\": {\"tracegroupgap\": 0}, \"margin\": {\"t\": 60}, \"template\": {\"data\": {\"bar\": [{\"error_x\": {\"color\": \"#2a3f5f\"}, \"error_y\": {\"color\": \"#2a3f5f\"}, \"marker\": {\"line\": {\"color\": \"#E5ECF6\", \"width\": 0.5}}, \"type\": \"bar\"}], \"barpolar\": [{\"marker\": {\"line\": {\"color\": \"#E5ECF6\", \"width\": 0.5}}, \"type\": \"barpolar\"}], \"carpet\": [{\"aaxis\": {\"endlinecolor\": \"#2a3f5f\", \"gridcolor\": \"white\", \"linecolor\": \"white\", \"minorgridcolor\": \"white\", \"startlinecolor\": \"#2a3f5f\"}, \"baxis\": {\"endlinecolor\": \"#2a3f5f\", \"gridcolor\": \"white\", \"linecolor\": \"white\", \"minorgridcolor\": \"white\", \"startlinecolor\": \"#2a3f5f\"}, \"type\": \"carpet\"}], \"choropleth\": [{\"colorbar\": {\"outlinewidth\": 0, \"ticks\": \"\"}, \"type\": \"choropleth\"}], \"contour\": [{\"colorbar\": {\"outlinewidth\": 0, \"ticks\": \"\"}, \"colorscale\": [[0.0, \"#0d0887\"], [0.1111111111111111, \"#46039f\"], [0.2222222222222222, \"#7201a8\"], [0.3333333333333333, \"#9c179e\"], [0.4444444444444444, \"#bd3786\"], [0.5555555555555556, \"#d8576b\"], [0.6666666666666666, \"#ed7953\"], [0.7777777777777778, \"#fb9f3a\"], [0.8888888888888888, \"#fdca26\"], [1.0, \"#f0f921\"]], \"type\": \"contour\"}], \"contourcarpet\": [{\"colorbar\": {\"outlinewidth\": 0, \"ticks\": \"\"}, \"type\": \"contourcarpet\"}], \"heatmap\": [{\"colorbar\": {\"outlinewidth\": 0, \"ticks\": \"\"}, \"colorscale\": [[0.0, \"#0d0887\"], [0.1111111111111111, \"#46039f\"], [0.2222222222222222, \"#7201a8\"], [0.3333333333333333, \"#9c179e\"], [0.4444444444444444, \"#bd3786\"], [0.5555555555555556, \"#d8576b\"], [0.6666666666666666, \"#ed7953\"], [0.7777777777777778, \"#fb9f3a\"], [0.8888888888888888, \"#fdca26\"], [1.0, \"#f0f921\"]], \"type\": \"heatmap\"}], \"heatmapgl\": [{\"colorbar\": {\"outlinewidth\": 0, \"ticks\": \"\"}, \"colorscale\": [[0.0, \"#0d0887\"], [0.1111111111111111, \"#46039f\"], [0.2222222222222222, \"#7201a8\"], [0.3333333333333333, \"#9c179e\"], [0.4444444444444444, \"#bd3786\"], [0.5555555555555556, \"#d8576b\"], [0.6666666666666666, \"#ed7953\"], [0.7777777777777778, \"#fb9f3a\"], [0.8888888888888888, \"#fdca26\"], [1.0, \"#f0f921\"]], \"type\": \"heatmapgl\"}], \"histogram\": [{\"marker\": {\"colorbar\": {\"outlinewidth\": 0, \"ticks\": \"\"}}, \"type\": \"histogram\"}], \"histogram2d\": [{\"colorbar\": {\"outlinewidth\": 0, \"ticks\": \"\"}, \"colorscale\": [[0.0, \"#0d0887\"], [0.1111111111111111, \"#46039f\"], [0.2222222222222222, \"#7201a8\"], [0.3333333333333333, \"#9c179e\"], [0.4444444444444444, \"#bd3786\"], [0.5555555555555556, \"#d8576b\"], [0.6666666666666666, \"#ed7953\"], [0.7777777777777778, \"#fb9f3a\"], [0.8888888888888888, \"#fdca26\"], [1.0, \"#f0f921\"]], \"type\": \"histogram2d\"}], \"histogram2dcontour\": [{\"colorbar\": {\"outlinewidth\": 0, \"ticks\": \"\"}, \"colorscale\": [[0.0, \"#0d0887\"], [0.1111111111111111, \"#46039f\"], [0.2222222222222222, \"#7201a8\"], [0.3333333333333333, \"#9c179e\"], [0.4444444444444444, \"#bd3786\"], [0.5555555555555556, \"#d8576b\"], [0.6666666666666666, \"#ed7953\"], [0.7777777777777778, \"#fb9f3a\"], [0.8888888888888888, \"#fdca26\"], [1.0, \"#f0f921\"]], \"type\": \"histogram2dcontour\"}], \"mesh3d\": [{\"colorbar\": {\"outlinewidth\": 0, \"ticks\": \"\"}, \"type\": \"mesh3d\"}], \"parcoords\": [{\"line\": {\"colorbar\": {\"outlinewidth\": 0, \"ticks\": \"\"}}, \"type\": \"parcoords\"}], \"pie\": [{\"automargin\": true, \"type\": \"pie\"}], \"scatter\": [{\"marker\": {\"colorbar\": {\"outlinewidth\": 0, \"ticks\": \"\"}}, \"type\": \"scatter\"}], \"scatter3d\": [{\"line\": {\"colorbar\": {\"outlinewidth\": 0, \"ticks\": \"\"}}, \"marker\": {\"colorbar\": {\"outlinewidth\": 0, \"ticks\": \"\"}}, \"type\": \"scatter3d\"}], \"scattercarpet\": [{\"marker\": {\"colorbar\": {\"outlinewidth\": 0, \"ticks\": \"\"}}, \"type\": \"scattercarpet\"}], \"scattergeo\": [{\"marker\": {\"colorbar\": {\"outlinewidth\": 0, \"ticks\": \"\"}}, \"type\": \"scattergeo\"}], \"scattergl\": [{\"marker\": {\"colorbar\": {\"outlinewidth\": 0, \"ticks\": \"\"}}, \"type\": \"scattergl\"}], \"scattermapbox\": [{\"marker\": {\"colorbar\": {\"outlinewidth\": 0, \"ticks\": \"\"}}, \"type\": \"scattermapbox\"}], \"scatterpolar\": [{\"marker\": {\"colorbar\": {\"outlinewidth\": 0, \"ticks\": \"\"}}, \"type\": \"scatterpolar\"}], \"scatterpolargl\": [{\"marker\": {\"colorbar\": {\"outlinewidth\": 0, \"ticks\": \"\"}}, \"type\": \"scatterpolargl\"}], \"scatterternary\": [{\"marker\": {\"colorbar\": {\"outlinewidth\": 0, \"ticks\": \"\"}}, \"type\": \"scatterternary\"}], \"surface\": [{\"colorbar\": {\"outlinewidth\": 0, \"ticks\": \"\"}, \"colorscale\": [[0.0, \"#0d0887\"], [0.1111111111111111, \"#46039f\"], [0.2222222222222222, \"#7201a8\"], [0.3333333333333333, \"#9c179e\"], [0.4444444444444444, \"#bd3786\"], [0.5555555555555556, \"#d8576b\"], [0.6666666666666666, \"#ed7953\"], [0.7777777777777778, \"#fb9f3a\"], [0.8888888888888888, \"#fdca26\"], [1.0, \"#f0f921\"]], \"type\": \"surface\"}], \"table\": [{\"cells\": {\"fill\": {\"color\": \"#EBF0F8\"}, \"line\": {\"color\": \"white\"}}, \"header\": {\"fill\": {\"color\": \"#C8D4E3\"}, \"line\": {\"color\": \"white\"}}, \"type\": \"table\"}]}, \"layout\": {\"annotationdefaults\": {\"arrowcolor\": \"#2a3f5f\", \"arrowhead\": 0, \"arrowwidth\": 1}, \"coloraxis\": {\"colorbar\": {\"outlinewidth\": 0, \"ticks\": \"\"}}, \"colorscale\": {\"diverging\": [[0, \"#8e0152\"], [0.1, \"#c51b7d\"], [0.2, \"#de77ae\"], [0.3, \"#f1b6da\"], [0.4, \"#fde0ef\"], [0.5, \"#f7f7f7\"], [0.6, \"#e6f5d0\"], [0.7, \"#b8e186\"], [0.8, \"#7fbc41\"], [0.9, \"#4d9221\"], [1, \"#276419\"]], \"sequential\": [[0.0, \"#0d0887\"], [0.1111111111111111, \"#46039f\"], [0.2222222222222222, \"#7201a8\"], [0.3333333333333333, \"#9c179e\"], [0.4444444444444444, \"#bd3786\"], [0.5555555555555556, \"#d8576b\"], [0.6666666666666666, \"#ed7953\"], [0.7777777777777778, \"#fb9f3a\"], [0.8888888888888888, \"#fdca26\"], [1.0, \"#f0f921\"]], \"sequentialminus\": [[0.0, \"#0d0887\"], [0.1111111111111111, \"#46039f\"], [0.2222222222222222, \"#7201a8\"], [0.3333333333333333, \"#9c179e\"], [0.4444444444444444, \"#bd3786\"], [0.5555555555555556, \"#d8576b\"], [0.6666666666666666, \"#ed7953\"], [0.7777777777777778, \"#fb9f3a\"], [0.8888888888888888, \"#fdca26\"], [1.0, \"#f0f921\"]]}, \"colorway\": [\"#636efa\", \"#EF553B\", \"#00cc96\", \"#ab63fa\", \"#FFA15A\", \"#19d3f3\", \"#FF6692\", \"#B6E880\", \"#FF97FF\", \"#FECB52\"], \"font\": {\"color\": \"#2a3f5f\"}, \"geo\": {\"bgcolor\": \"white\", \"lakecolor\": \"white\", \"landcolor\": \"#E5ECF6\", \"showlakes\": true, \"showland\": true, \"subunitcolor\": \"white\"}, \"hoverlabel\": {\"align\": \"left\"}, \"hovermode\": \"closest\", \"mapbox\": {\"style\": \"light\"}, \"paper_bgcolor\": \"white\", \"plot_bgcolor\": \"#E5ECF6\", \"polar\": {\"angularaxis\": {\"gridcolor\": \"white\", \"linecolor\": \"white\", \"ticks\": \"\"}, \"bgcolor\": \"#E5ECF6\", \"radialaxis\": {\"gridcolor\": \"white\", \"linecolor\": \"white\", \"ticks\": \"\"}}, \"scene\": {\"xaxis\": {\"backgroundcolor\": \"#E5ECF6\", \"gridcolor\": \"white\", \"gridwidth\": 2, \"linecolor\": \"white\", \"showbackground\": true, \"ticks\": \"\", \"zerolinecolor\": \"white\"}, \"yaxis\": {\"backgroundcolor\": \"#E5ECF6\", \"gridcolor\": \"white\", \"gridwidth\": 2, \"linecolor\": \"white\", \"showbackground\": true, \"ticks\": \"\", \"zerolinecolor\": \"white\"}, \"zaxis\": {\"backgroundcolor\": \"#E5ECF6\", \"gridcolor\": \"white\", \"gridwidth\": 2, \"linecolor\": \"white\", \"showbackground\": true, \"ticks\": \"\", \"zerolinecolor\": \"white\"}}, \"shapedefaults\": {\"line\": {\"color\": \"#2a3f5f\"}}, \"ternary\": {\"aaxis\": {\"gridcolor\": \"white\", \"linecolor\": \"white\", \"ticks\": \"\"}, \"baxis\": {\"gridcolor\": \"white\", \"linecolor\": \"white\", \"ticks\": \"\"}, \"bgcolor\": \"#E5ECF6\", \"caxis\": {\"gridcolor\": \"white\", \"linecolor\": \"white\", \"ticks\": \"\"}}, \"title\": {\"x\": 0.05}, \"xaxis\": {\"automargin\": true, \"gridcolor\": \"white\", \"linecolor\": \"white\", \"ticks\": \"\", \"title\": {\"standoff\": 15}, \"zerolinecolor\": \"white\", \"zerolinewidth\": 2}, \"yaxis\": {\"automargin\": true, \"gridcolor\": \"white\", \"linecolor\": \"white\", \"ticks\": \"\", \"title\": {\"standoff\": 15}, \"zerolinecolor\": \"white\", \"zerolinewidth\": 2}}}, \"xaxis\": {\"anchor\": \"y\", \"domain\": [0.0, 1.0], \"title\": {\"text\": \"Churn\"}}, \"yaxis\": {\"anchor\": \"x\", \"domain\": [0.0, 1.0]}},\n",
              "                        {\"responsive\": true}\n",
              "                    ).then(function(){\n",
              "                            \n",
              "var gd = document.getElementById('bf22ace1-7fff-42a9-ab4a-e7578eaccdae');\n",
              "var x = new MutationObserver(function (mutations, observer) {{\n",
              "        var display = window.getComputedStyle(gd).display;\n",
              "        if (!display || display === 'none') {{\n",
              "            console.log([gd, 'removed!']);\n",
              "            Plotly.purge(gd);\n",
              "            observer.disconnect();\n",
              "        }}\n",
              "}});\n",
              "\n",
              "// Listen for the removal of the full notebook cells\n",
              "var notebookContainer = gd.closest('#notebook-container');\n",
              "if (notebookContainer) {{\n",
              "    x.observe(notebookContainer, {childList: true});\n",
              "}}\n",
              "\n",
              "// Listen for the clearing of the current output cell\n",
              "var outputEl = gd.closest('.output');\n",
              "if (outputEl) {{\n",
              "    x.observe(outputEl, {childList: true});\n",
              "}}\n",
              "\n",
              "                        })\n",
              "                };\n",
              "                \n",
              "            </script>\n",
              "        </div>\n",
              "</body>\n",
              "</html>"
            ]
          },
          "metadata": {}
        }
      ]
    },
    {
      "cell_type": "code",
      "metadata": {
        "colab": {
          "base_uri": "https://localhost:8080/",
          "height": 175
        },
        "id": "nsrKkqTUJutt",
        "outputId": "e1aab88b-b10a-4e50-d6c2-611a6262b047"
      },
      "source": [
        "churn_voice_mail_plan_df = unsubscribed_df.groupby(['Voice mail plan','International plan'])['Churn'].count().reset_index()\n",
        "churn_voice_mail_plan_df"
      ],
      "execution_count": 49,
      "outputs": [
        {
          "output_type": "execute_result",
          "data": {
            "text/html": [
              "<div>\n",
              "<style scoped>\n",
              "    .dataframe tbody tr th:only-of-type {\n",
              "        vertical-align: middle;\n",
              "    }\n",
              "\n",
              "    .dataframe tbody tr th {\n",
              "        vertical-align: top;\n",
              "    }\n",
              "\n",
              "    .dataframe thead th {\n",
              "        text-align: right;\n",
              "    }\n",
              "</style>\n",
              "<table border=\"1\" class=\"dataframe\">\n",
              "  <thead>\n",
              "    <tr style=\"text-align: right;\">\n",
              "      <th></th>\n",
              "      <th>Voice mail plan</th>\n",
              "      <th>International plan</th>\n",
              "      <th>Churn</th>\n",
              "    </tr>\n",
              "  </thead>\n",
              "  <tbody>\n",
              "    <tr>\n",
              "      <th>0</th>\n",
              "      <td>No</td>\n",
              "      <td>No</td>\n",
              "      <td>302</td>\n",
              "    </tr>\n",
              "    <tr>\n",
              "      <th>1</th>\n",
              "      <td>No</td>\n",
              "      <td>Yes</td>\n",
              "      <td>101</td>\n",
              "    </tr>\n",
              "    <tr>\n",
              "      <th>2</th>\n",
              "      <td>Yes</td>\n",
              "      <td>No</td>\n",
              "      <td>44</td>\n",
              "    </tr>\n",
              "    <tr>\n",
              "      <th>3</th>\n",
              "      <td>Yes</td>\n",
              "      <td>Yes</td>\n",
              "      <td>36</td>\n",
              "    </tr>\n",
              "  </tbody>\n",
              "</table>\n",
              "</div>"
            ],
            "text/plain": [
              "  Voice mail plan International plan  Churn\n",
              "0              No                 No    302\n",
              "1              No                Yes    101\n",
              "2             Yes                 No     44\n",
              "3             Yes                Yes     36"
            ]
          },
          "metadata": {},
          "execution_count": 49
        }
      ]
    },
    {
      "cell_type": "code",
      "metadata": {
        "colab": {
          "base_uri": "https://localhost:8080/",
          "height": 542
        },
        "id": "ESSpF_fqhpJb",
        "outputId": "017d00df-55a6-4166-d699-dbc9f2b97d8a"
      },
      "source": [
        "fig = px.box(churn_copy_df, x=\"Churn\", y= 'Account length', points=\"all\")\n",
        "fig.show()"
      ],
      "execution_count": 50,
      "outputs": [
        {
          "output_type": "display_data",
          "data": {
            "text/html": [
              "<html>\n",
              "<head><meta charset=\"utf-8\" /></head>\n",
              "<body>\n",
              "    <div>\n",
              "            <script src=\"https://cdnjs.cloudflare.com/ajax/libs/mathjax/2.7.5/MathJax.js?config=TeX-AMS-MML_SVG\"></script><script type=\"text/javascript\">if (window.MathJax) {MathJax.Hub.Config({SVG: {font: \"STIX-Web\"}});}</script>\n",
              "                <script type=\"text/javascript\">window.PlotlyConfig = {MathJaxConfig: 'local'};</script>\n",
              "        <script src=\"https://cdn.plot.ly/plotly-latest.min.js\"></script>    \n",
              "            <div id=\"7fcee263-a64d-48cc-ae3b-a7bf53dad81b\" class=\"plotly-graph-div\" style=\"height:525px; width:100%;\"></div>\n",
              "            <script type=\"text/javascript\">\n",
              "                \n",
              "                    window.PLOTLYENV=window.PLOTLYENV || {};\n",
              "                    \n",
              "                if (document.getElementById(\"7fcee263-a64d-48cc-ae3b-a7bf53dad81b\")) {\n",
              "                    Plotly.newPlot(\n",
              "                        '7fcee263-a64d-48cc-ae3b-a7bf53dad81b',\n",
              "                        [{\"alignmentgroup\": \"True\", \"boxpoints\": \"all\", \"hoverlabel\": {\"namelength\": 0}, \"hovertemplate\": \"Churn=%{x}<br>Account length=%{y}\", \"legendgroup\": \"\", \"marker\": {\"color\": \"#636efa\"}, \"name\": \"\", \"notched\": false, \"offsetgroup\": \"\", \"orientation\": \"v\", \"showlegend\": false, \"type\": \"box\", \"x\": [false, false, false, false, false, false, false, false, false, false, true, false, false, false, false, true, false, false, false, false, false, true, false, false, false, false, false, false, false, false, false, false, false, true, false, false, false, false, false, false, false, true, false, false, false, false, false, false, true, false, false, false, false, false, true, false, false, true, false, false, false, false, false, false, false, false, false, false, false, true, false, false, false, false, false, false, true, true, false, false, false, false, false, false, true, false, true, false, false, true, false, true, false, false, false, false, false, false, true, true, false, false, false, false, false, false, false, false, false, false, false, false, false, false, false, true, false, true, false, false, false, false, false, false, false, false, true, true, false, false, false, false, false, false, false, false, false, false, false, false, false, false, false, false, true, false, false, false, false, false, false, false, false, false, false, false, true, false, false, false, false, false, false, false, false, false, false, false, false, false, false, false, false, false, false, false, false, false, false, false, false, true, false, false, false, false, false, false, false, false, false, false, false, false, false, false, false, true, true, false, false, false, false, false, false, false, false, false, false, false, false, false, false, false, true, false, false, false, true, false, false, false, false, false, false, false, false, false, false, false, true, false, false, false, false, true, false, false, false, false, false, true, false, false, true, false, false, false, false, false, true, false, false, false, false, false, false, false, true, false, false, false, false, false, false, false, false, false, false, false, false, false, false, false, false, false, false, true, false, false, false, false, false, false, false, false, false, false, false, true, false, false, false, true, false, false, false, false, false, false, false, true, true, false, false, false, true, true, false, false, true, false, false, false, false, false, false, false, false, true, false, false, false, false, false, false, false, false, false, false, false, true, true, false, false, false, false, false, false, false, true, false, false, false, false, false, false, false, false, true, false, false, false, false, true, false, false, false, false, false, true, false, false, false, false, true, false, false, false, false, false, false, true, false, false, false, false, false, true, false, false, false, false, false, false, false, false, false, false, false, false, false, false, false, true, false, false, true, false, true, false, false, false, false, false, false, false, true, false, false, false, false, false, false, false, true, true, false, false, false, false, false, false, false, false, false, false, false, false, false, true, false, false, false, false, false, false, true, false, false, false, false, false, false, false, false, false, false, false, false, false, false, false, false, true, true, false, false, false, false, false, false, false, false, false, true, true, false, false, false, false, false, false, true, false, false, false, false, false, false, false, false, false, false, false, false, false, false, false, false, false, true, true, false, false, false, false, false, true, false, false, false, true, false, false, false, false, true, false, true, false, false, false, false, true, false, false, false, false, false, false, true, false, false, false, false, false, false, false, false, false, false, false, false, false, false, false, false, false, false, false, false, true, false, false, false, true, true, false, false, true, false, true, false, false, false, false, false, true, false, false, false, false, false, false, false, false, false, false, true, false, false, false, false, true, false, false, false, false, false, true, false, false, false, true, false, false, false, true, false, false, false, false, false, false, false, false, false, false, false, false, true, false, false, false, true, false, false, false, false, false, false, false, true, false, false, false, false, false, true, false, false, false, false, false, false, true, false, false, true, false, false, false, false, false, false, false, false, false, false, false, false, false, false, false, false, false, false, false, true, false, false, false, false, false, true, false, false, false, false, true, false, false, false, false, false, false, false, false, false, false, false, false, false, false, false, false, false, false, true, false, false, false, false, false, false, false, false, false, false, false, false, false, false, false, false, false, false, false, false, false, false, false, false, false, false, false, false, false, false, false, false, false, false, false, true, false, false, false, false, false, true, false, false, false, false, false, false, false, false, true, false, false, false, false, false, true, true, false, false, false, false, false, false, false, false, false, false, false, false, false, false, false, false, false, false, false, false, false, false, false, false, false, false, false, false, true, false, false, false, false, true, false, true, false, false, false, false, false, false, false, false, false, false, false, false, false, true, false, false, false, false, true, false, false, false, false, true, false, false, false, false, false, false, false, false, false, false, false, false, false, false, false, false, false, true, false, false, false, false, false, false, false, false, false, false, false, false, false, false, true, false, true, false, false, false, false, false, false, false, false, false, false, false, false, false, true, false, false, false, false, true, false, false, false, false, false, false, false, true, false, false, false, false, false, false, false, false, false, false, false, true, false, false, false, false, false, false, false, false, false, false, false, false, false, false, false, false, false, false, false, false, true, false, true, false, false, false, false, false, false, true, false, false, true, true, false, false, false, false, false, true, false, false, true, false, false, false, false, false, false, false, false, false, false, false, false, false, false, false, false, false, false, true, false, false, false, false, false, false, false, false, false, false, true, false, true, false, false, false, false, false, false, false, false, false, false, false, false, false, false, false, false, false, false, false, true, false, true, false, false, false, false, false, false, true, false, true, true, false, false, false, false, false, false, true, false, true, false, false, false, false, false, false, false, false, false, false, false, false, true, false, false, false, false, false, false, false, false, false, false, false, false, false, false, false, false, false, true, false, false, false, false, false, false, false, false, true, false, false, true, false, false, false, false, false, false, false, true, false, false, false, false, false, false, false, false, false, false, false, false, false, false, false, false, false, false, false, false, false, false, false, false, false, false, false, false, false, false, false, false, false, false, false, false, false, false, true, true, false, false, false, false, false, false, false, false, false, false, false, false, false, false, false, false, false, false, false, false, false, false, false, true, false, false, true, false, false, false, false, false, false, false, false, false, true, false, false, false, false, false, true, true, false, false, false, false, false, false, false, false, false, false, true, false, false, true, false, false, false, false, false, true, false, false, false, false, false, false, false, true, false, false, false, false, true, false, false, false, false, false, false, false, false, false, false, false, false, false, false, false, false, false, false, false, false, false, false, false, false, false, false, true, false, false, false, false, false, false, false, false, false, true, true, false, false, false, false, false, false, false, false, false, false, true, false, false, false, false, false, false, false, false, false, false, false, false, false, false, false, false, false, false, false, false, false, false, false, false, false, false, true, true, false, false, false, false, false, false, false, true, false, false, false, false, false, false, false, false, false, false, false, false, false, true, false, false, false, false, false, false, false, false, true, false, false, false, false, false, true, false, false, false, true, false, false, true, false, true, false, true, false, false, false, true, false, false, false, false, false, false, false, false, false, false, false, false, false, false, true, false, false, true, false, false, false, true, false, false, false, true, false, false, false, false, false, false, false, false, false, false, false, true, false, false, true, false, true, false, false, false, false, false, false, true, false, false, true, false, true, false, false, false, false, true, true, true, false, false, false, true, false, false, false, false, false, false, false, false, true, false, false, false, false, true, false, false, false, false, false, false, false, false, true, false, false, true, false, false, false, false, false, false, false, false, false, false, false, false, false, false, false, true, false, false, false, false, false, false, false, false, false, false, false, false, true, false, true, false, false, false, false, false, false, false, false, false, false, false, false, true, false, false, false, false, false, false, false, false, false, false, false, false, false, false, true, false, false, false, false, false, false, true, false, false, false, false, false, false, false, false, false, false, false, true, false, false, false, false, false, false, false, false, false, false, false, false, true, false, false, false, false, true, false, false, false, false, false, false, false, false, false, false, false, true, false, false, false, false, false, false, false, false, true, false, false, false, false, false, false, false, false, false, false, false, false, false, false, false, false, false, false, false, false, false, false, true, false, false, false, false, false, false, false, false, false, false, false, true, false, true, true, true, true, true, false, false, true, true, false, false, false, false, false, false, false, false, false, false, false, false, true, false, false, false, false, false, false, false, false, false, false, false, false, false, false, false, false, false, false, false, false, false, false, false, false, false, false, false, false, false, false, false, false, false, true, false, false, false, false, false, false, false, true, false, false, false, false, false, false, false, true, false, false, false, false, false, false, false, false, false, false, false, false, true, false, false, false, false, true, false, false, false, false, false, false, false, false, false, false, false, false, false, false, false, true, false, false, true, false, false, false, false, false, false, false, true, false, false, false, false, true, false, true, false, false, false, false, false, false, false, false, true, false, false, false, false, false, false, false, false, false, false, false, true, false, false, false, false, true, false, false, false, false, false, false, false, false, false, false, false, true, true, false, true, false, false, false, false, false, false, true, true, false, true, false, false, true, false, false, false, false, false, true, false, false, false, false, true, false, false, false, false, false, false, false, false, false, false, false, false, true, false, false, false, false, true, false, false, true, false, false, false, false, false, false, true, false, false, false, true, false, true, false, true, false, false, false, false, false, false, false, false, false, true, true, false, false, true, false, false, false, false, false, false, false, false, true, false, false, false, false, false, false, true, false, false, false, false, false, false, false, false, false, true, false, false, false, false, false, false, false, false, false, true, false, false, false, false, false, false, false, false, false, false, false, false, false, false, false, false, false, false, false, false, false, false, false, false, false, false, false, false, false, false, false, false, true, false, false, false, false, true, false, true, true, false, false, false, true, true, true, false, false, false, false, false, true, false, false, false, true, true, false, false, true, true, false, false, true, false, false, false, false, false, false, false, false, true, false, true, true, false, false, false, false, false, true, false, true, false, false, true, true, false, false, false, false, true, false, false, false, false, true, true, false, false, false, false, false, false, false, true, false, false, false, false, false, false, true, false, false, false, false, false, false, false, false, false, false, false, false, false, true, true, true, false, false, false, true, false, false, false, false, false, false, false, false, false, false, true, false, false, false, true, false, false, false, false, false, false, false, false, false, false, true, false, false, false, false, false, false, false, false, true, false, false, true, true, false, false, false, false, false, true, false, false, false, false, false, false, false, false, false, false, false, false, false, false, false, false, true, false, false, false, false, false, false, false, false, false, false, false, false, false, false, false, false, false, false, false, false, false, false, false, false, false, false, true, true, false, false, false, true, false, false, false, false, true, false, false, false, false, false, false, false, false, false, false, false, false, false, false, false, false, false, false, false, false, true, false, false, false, false, false, false, false, false, false, true, false, false, false, false, false, false, true, false, false, false, false, false, false, false, false, false, false, false, false, false, false, false, false, false, false, false, false, false, false, true, false, false, false, true, false, false, true, true, false, false, false, false, true, true, false, true, false, false, true, true, false, false, false, false, false, false, false, false, false, false, false, false, false, false, false, false, false, false, false, true, false, false, true, false, false, false, false, true, false, false, true, false, false, false, false, true, false, false, true, false, true, false, false, false, true, false, false, false, false, false, false, false, false, true, false, false, false, false, false, false, false, false, false, false, false, false, true, true, false, false, false, false, false, false, false, false, false, false, false, false, false, false, false, true, false, false, false, false, false, false, true, false, false, true, false, true, false, false, true, false, false, false, false, false, false, false, false, false, false, false, false, false, false, false, false, false, false, true, true, false, false, false, false, false, false, false, false, false, false, false, false, false, false, false, false, false, false, false, true, false, false, false, false, false, false, false, false, true, false, false, false, false, false, false, false, false, false, false, false, false, false, false, false, true, false, false, false, false, false, false, true, false, false, false, false, false, false, false, false, false, false, false, false, false, false, false, false, false, false, false, false, false, false, false, false, false, false, false, false, false, false, false, false, false, true, true, false, true, false, false, false, false, false, false, false, true, false, false, false, false, false, false, false, true, false, false, false, true, false, false, false, false, false, false, true, false, true, true, false, false, false, false, false, false, false, false, false, false, false, true, false, false, false, false, false, false, true, true, false, false, true, false, false, false, false, false, true, true, true, true, false, false, false, false, false, false, false, true, false, false, false, true, true, false, false, true, false, true, false, false, false, false, true, false, false, true, false, false, false, true, true, true, false, false, false, false, false, false, true, false, false, false, true, false, false, false, false, true, false, false, false, false, false, false, false, false, false, false, false, false, false, true, false, false, false, false, false, false, false, false, false, false, false, false, false, false, false, false, true, false, false, false, true, false, false, false, false, false, false, true, false, false, false, false, false, false, false, false, false, true, false, false, false, true, false, false, false, false, false, false, false, false, false, false, false, false, false, false, false, false, false, false, false, false, false, true, false, false, false, false, false, false, false, false, false, false, true, false, false, false, false, false, false, true, false, true, true, false, false, true, false, false, true, false, false, false, false, false, false, false, false, false, false, false, false, false, false, false, false, false, false, false, false, false, false, false, false, true, false, false, false, false, true, true, false, true, false, false, false, false, false, true, false, false, false, false, false, false, false, false, false, true, false, false, true, true, false, false, false, true, false, false, true, false, false, false, true, false, false, false, false, false, false, false, true, false, false, false, false, true, false, false, false, false, true, false, false, false, false, true, false, false, false, false, false, false, false, false, false, false, false, false, false, false, false, true, false, true, false, false, false, false, false, false, false, false, false, false, false, false, true, false, true, false, true, false, true, false, false, false, false, false, true, true, false, false, false, true, false, false, false, true, false, false, false, false, false, true, false, false, false, false, false, false, true, false, true, false, false, false, true, false, false, false, false, false, false, false, true, false, true, false, false, false, false, false, false, false, false, false, false, false, false, false, true, false, false, false, false, false, false, true, true, false, false, true, false, false, false, false, false, false, false, false, false, true, false, true, false, false, false, false, false, false, false, false, false, false, false, false, true, false, false, false, false, false, false, false, false, false, false, false, true, true, true, false, false, false, false, false, false, false, false, false, true, true, true, false, false, false, false, false, false, false, true, false, false, false, false, false, true, false, false, false, false, false, false, false, false, false, false, false, false, false, false, false, true, false, false, true, false, false, false, false, true, false, false, true, true, false, false, false, false, false, false, false, false, false, false, true, false, false, false, false, false, false, false, false, false, false, false, false, false, false, false, false, false, false, false, false, false, false, false, false, false, true, false, false, true, false, false, false, false, false, true, false, false, false, false, false, false, false, true, false, true, false, false, false, false, true, false, false, false, false, false, false, false, false, false, false, true, true, false, false, false, false, false, false, true, false, false, false, false, false, false, false, false, false, false, false, false, false, false, false, true, true, true, false, false, false, false, false, false, false, true, false, true, false, false, false, false, false, true, false, false, false, false, true, false, false, true, false, true, false, false, false, false, false, true, false, true, true, false, false, true, false, false, false, true, false, false, true, true, false, false, false, false, false, false, true, true, false, false, false, false, false, false, true, false, true, false, false, false, false, true, false, false, false, false, false, false, false, true, false, false, false, false, false, false, false, false, false, false, false, false, false, false, false, false, true, false, false, false, true, false, false, false, false, false, false, false, false, false, false, false, true, false, false, false, false, false, false, false, false, false, true, false, false, false, false, true, false, false, false, false, false, false, false, false, false, false, false, false, false, true, false, false, false, false, false, true, false, true, false, false, false, false, false, false, true, false, false, false, false, false, false, false, false, false, false, false, false, false, true, false, false, false, false, false, false, false, false, false, false, false, false, false, false, false, false, false, false, true, true, false, false, false, false, false, false, false, false, false, false, false, true, false, true, false, false, false, false, true, false, false, false, false, false, false, false, false, false, false, false, true, false, false, false, true, false, false, true, false, false, false, false, false, true, false, false, false, false, false, false, false, false, true, false, true, true, false, false, false, false, false, false, false, false, false, false, false, false, false, false, false, false, false, false, false, true, true, true, false, false, false, false, false, false, false, false, false, false, false, false, false, true, false, false, false, true, false, false, false, false, false, false, false, false, false, false, false, false, false, false, true, false, true, false, false, false, false, false, false, false, false, false, false, false, true, false, false, true, false, true, false, false, true, true, false, false, false, false, false, false, false, true, false, false, false, false, false, false, false, false, false, true, false, false, true, false, false, false, true, false, false, false, false, false, false, false, true, false, false, false, false, false, false, true, false, false, false, true, false, false, false, false, false, false, false, false, false, true, false, false, true, false, false, false, false, false, false, false, false, false, false, false, false, false, false, false, true, false, true, true, false, false, false, false, false, false, false, false, false], \"x0\": \" \", \"xaxis\": \"x\", \"y\": [128, 107, 137, 84, 75, 118, 121, 147, 117, 141, 65, 74, 168, 95, 62, 161, 85, 93, 76, 73, 147, 77, 130, 111, 132, 174, 57, 54, 20, 49, 142, 75, 172, 12, 57, 72, 36, 78, 136, 149, 98, 135, 34, 160, 64, 59, 65, 142, 119, 97, 52, 60, 10, 96, 87, 81, 141, 121, 68, 125, 174, 116, 74, 149, 38, 40, 43, 113, 126, 150, 138, 162, 147, 90, 85, 50, 82, 144, 46, 70, 144, 116, 55, 70, 106, 128, 94, 111, 74, 128, 82, 155, 80, 78, 90, 104, 73, 99, 120, 77, 98, 108, 135, 95, 122, 95, 36, 93, 141, 157, 120, 103, 98, 125, 63, 36, 64, 74, 112, 97, 46, 41, 121, 193, 130, 85, 162, 61, 92, 131, 90, 75, 78, 82, 163, 91, 75, 91, 127, 113, 110, 120, 157, 103, 117, 140, 127, 83, 121, 145, 113, 117, 65, 56, 96, 151, 83, 139, 6, 115, 87, 141, 141, 62, 146, 92, 185, 148, 94, 32, 68, 64, 25, 65, 179, 94, 62, 127, 116, 70, 94, 126, 67, 19, 170, 73, 106, 93, 164, 51, 107, 130, 80, 94, 118, 117, 78, 208, 131, 63, 53, 62, 97, 105, 157, 66, 122, 38, 106, 99, 99, 144, 82, 86, 70, 93, 93, 120, 136, 106, 81, 127, 65, 35, 88, 65, 123, 126, 104, 45, 93, 63, 100, 53, 92, 139, 110, 110, 215, 73, 138, 137, 36, 85, 108, 22, 107, 51, 94, 119, 33, 106, 82, 86, 97, 106, 108, 114, 92, 59, 24, 151, 117, 78, 155, 114, 114, 119, 64, 118, 101, 117, 49, 139, 92, 83, 148, 144, 131, 146, 143, 81, 48, 86, 71, 145, 137, 137, 167, 89, 199, 132, 94, 96, 96, 166, 74, 36, 113, 94, 67, 127, 121, 158, 136, 196, 113, 122, 112, 209, 62, 110, 16, 73, 128, 39, 103, 119, 173, 128, 86, 114, 104, 148, 129, 100, 121, 143, 76, 158, 116, 54, 86, 108, 66, 151, 99, 55, 77, 78, 89, 101, 44, 98, 64, 141, 81, 162, 83, 100, 59, 179, 79, 117, 64, 31, 124, 122, 37, 90, 159, 148, 39, 77, 194, 154, 112, 45, 132, 128, 135, 56, 151, 32, 90, 87, 138, 79, 95, 127, 137, 97, 149, 117, 84, 137, 99, 54, 85, 150, 43, 35, 98, 112, 16, 98, 84, 94, 84, 66, 98, 74, 96, 119, 73, 92, 21, 122, 133, 145, 25, 64, 85, 126, 76, 113, 224, 117, 128, 115, 141, 51, 100, 96, 112, 129, 163, 67, 140, 49, 46, 148, 112, 78, 61, 58, 155, 100, 113, 81, 135, 99, 59, 135, 85, 70, 88, 55, 75, 79, 85, 86, 91, 149, 97, 88, 60, 54, 11, 109, 90, 115, 144, 91, 105, 71, 132, 112, 86, 41, 44, 78, 149, 72, 139, 74, 50, 141, 140, 99, 166, 124, 74, 117, 85, 36, 102, 76, 165, 130, 78, 55, 92, 129, 18, 161, 93, 144, 75, 95, 126, 124, 93, 109, 80, 41, 136, 92, 143, 118, 193, 73, 62, 30, 60, 148, 96, 52, 87, 41, 112, 88, 122, 61, 87, 176, 30, 95, 46, 100, 47, 77, 98, 125, 67, 194, 128, 190, 165, 59, 47, 150, 152, 26, 79, 95, 69, 95, 31, 121, 111, 157, 44, 61, 65, 74, 123, 58, 74, 125, 80, 53, 99, 99, 66, 97, 75, 85, 108, 133, 51, 186, 44, 64, 44, 114, 92, 110, 90, 72, 113, 171, 104, 165, 104, 110, 90, 114, 101, 117, 109, 82, 92, 82, 90, 87, 124, 39, 84, 75, 102, 62, 143, 53, 30, 112, 129, 63, 28, 111, 91, 90, 151, 105, 41, 48, 166, 79, 153, 110, 163, 126, 105, 172, 126, 97, 95, 87, 97, 76, 140, 169, 68, 122, 36, 120, 121, 64, 13, 106, 88, 74, 83, 49, 111, 50, 153, 88, 131, 79, 140, 105, 54, 87, 96, 79, 55, 130, 34, 139, 109, 65, 63, 152, 147, 112, 120, 27, 171, 101, 32, 3, 151, 60, 119, 43, 42, 84, 65, 75, 116, 107, 189, 123, 110, 63, 176, 108, 13, 71, 88, 137, 82, 92, 165, 96, 156, 63, 37, 98, 121, 94, 99, 163, 161, 99, 108, 84, 83, 139, 69, 129, 106, 158, 168, 115, 57, 67, 127, 78, 100, 103, 113, 78, 129, 57, 82, 64, 86, 151, 94, 90, 48, 85, 93, 169, 68, 91, 68, 101, 67, 66, 116, 158, 78, 119, 120, 155, 106, 87, 146, 101, 22, 90, 41, 69, 33, 112, 108, 136, 128, 27, 161, 33, 120, 113, 122, 148, 74, 106, 179, 149, 77, 127, 80, 106, 61, 135, 115, 167, 107, 112, 35, 103, 107, 69, 85, 24, 90, 137, 92, 38, 69, 45, 73, 92, 113, 68, 135, 100, 96, 108, 84, 134, 72, 83, 137, 56, 61, 171, 123, 58, 156, 166, 75, 75, 83, 243, 153, 150, 92, 80, 134, 77, 147, 74, 138, 143, 64, 120, 121, 88, 87, 100, 104, 27, 81, 64, 107, 88, 111, 77, 67, 102, 146, 144, 96, 70, 149, 129, 166, 136, 149, 70, 120, 66, 104, 160, 129, 93, 169, 58, 75, 45, 155, 52, 119, 86, 42, 127, 123, 98, 149, 160, 103, 132, 137, 129, 62, 122, 32, 86, 130, 42, 73, 66, 103, 128, 104, 103, 124, 87, 109, 167, 97, 106, 125, 108, 125, 89, 72, 23, 149, 73, 61, 161, 73, 118, 23, 127, 42, 118, 45, 50, 179, 152, 105, 72, 52, 125, 143, 65, 80, 1, 60, 43, 143, 81, 205, 24, 74, 77, 74, 74, 200, 86, 91, 76, 130, 56, 117, 63, 126, 132, 81, 122, 46, 150, 99, 87, 108, 101, 53, 132, 158, 114, 77, 144, 91, 58, 5, 97, 107, 142, 9, 73, 48, 43, 122, 93, 85, 59, 87, 137, 21, 129, 104, 93, 63, 161, 50, 103, 84, 92, 77, 64, 159, 110, 138, 178, 38, 50, 45, 70, 147, 94, 179, 116, 59, 165, 133, 140, 93, 52, 64, 12, 48, 181, 168, 155, 105, 11, 182, 104, 102, 122, 41, 132, 76, 13, 115, 67, 154, 100, 146, 148, 67, 161, 70, 116, 99, 87, 87, 70, 131, 119, 119, 87, 112, 75, 150, 161, 91, 124, 94, 217, 158, 102, 85, 79, 139, 103, 98, 78, 50, 161, 67, 86, 92, 174, 124, 132, 190, 101, 185, 68, 117, 118, 124, 22, 75, 134, 164, 44, 177, 110, 53, 108, 80, 158, 114, 64, 88, 82, 111, 60, 113, 109, 105, 85, 131, 59, 148, 210, 115, 106, 93, 57, 98, 157, 116, 30, 111, 52, 72, 135, 86, 98, 151, 118, 117, 55, 82, 152, 108, 98, 130, 136, 47, 189, 107, 91, 159, 11, 167, 111, 99, 159, 114, 71, 122, 100, 83, 64, 105, 144, 106, 19, 46, 127, 9, 157, 105, 105, 155, 31, 161, 95, 122, 37, 132, 119, 16, 99, 76, 167, 129, 116, 60, 128, 47, 40, 173, 157, 66, 50, 72, 130, 143, 89, 108, 32, 166, 109, 72, 134, 13, 90, 111, 101, 72, 67, 172, 154, 69, 123, 130, 142, 29, 87, 149, 146, 88, 119, 48, 135, 100, 98, 75, 180, 100, 119, 86, 155, 78, 153, 92, 13, 154, 144, 48, 94, 139, 126, 122, 139, 95, 80, 131, 36, 180, 25, 113, 88, 120, 74, 109, 162, 124, 177, 91, 105, 24, 48, 86, 163, 91, 56, 147, 64, 108, 159, 136, 116, 45, 122, 138, 132, 101, 58, 81, 87, 116, 85, 62, 90, 98, 73, 107, 55, 76, 30, 157, 40, 72, 95, 42, 86, 131, 55, 74, 81, 81, 28, 111, 3, 51, 68, 163, 87, 58, 109, 111, 144, 135, 109, 107, 149, 56, 129, 92, 67, 120, 166, 66, 76, 79, 98, 141, 49, 46, 137, 171, 10, 88, 89, 82, 139, 87, 137, 45, 90, 103, 100, 110, 124, 10, 89, 121, 101, 103, 51, 2, 111, 118, 17, 130, 193, 114, 137, 185, 101, 95, 7, 126, 71, 124, 97, 28, 90, 190, 31, 52, 73, 111, 98, 106, 111, 59, 71, 55, 13, 136, 123, 105, 50, 118, 97, 51, 73, 35, 64, 63, 117, 115, 162, 89, 94, 129, 86, 96, 190, 80, 108, 97, 84, 65, 131, 58, 36, 54, 45, 125, 72, 141, 113, 20, 212, 99, 94, 40, 86, 101, 170, 105, 103, 140, 101, 98, 104, 115, 112, 70, 126, 87, 125, 86, 73, 232, 1, 133, 103, 131, 95, 182, 99, 27, 141, 29, 65, 81, 37, 107, 127, 78, 55, 86, 176, 96, 11, 48, 127, 63, 79, 47, 89, 83, 126, 60, 122, 136, 172, 102, 113, 79, 55, 111, 160, 110, 192, 93, 101, 77, 105, 133, 131, 106, 118, 125, 95, 80, 145, 37, 87, 69, 83, 195, 67, 75, 123, 41, 75, 76, 86, 140, 70, 121, 112, 118, 66, 78, 129, 6, 107, 107, 138, 103, 116, 189, 161, 1, 89, 64, 126, 129, 128, 81, 114, 50, 86, 96, 72, 64, 57, 65, 163, 136, 116, 93, 142, 92, 70, 22, 37, 51, 174, 68, 130, 104, 134, 108, 103, 62, 162, 93, 42, 155, 36, 143, 197, 81, 138, 103, 127, 136, 99, 95, 118, 113, 128, 117, 48, 81, 57, 140, 107, 56, 159, 102, 107, 106, 225, 75, 86, 169, 122, 106, 52, 79, 135, 70, 80, 37, 161, 137, 123, 80, 94, 105, 73, 112, 179, 57, 127, 122, 33, 94, 100, 106, 148, 120, 91, 86, 78, 94, 85, 89, 128, 115, 76, 75, 90, 30, 105, 102, 83, 63, 155, 82, 87, 115, 99, 121, 54, 105, 73, 95, 21, 163, 57, 104, 83, 141, 95, 184, 74, 67, 104, 71, 149, 154, 138, 117, 130, 73, 100, 149, 29, 131, 153, 84, 133, 112, 87, 72, 66, 65, 74, 116, 68, 68, 54, 99, 107, 124, 95, 173, 110, 102, 130, 91, 64, 176, 93, 84, 138, 101, 136, 111, 132, 128, 92, 197, 191, 99, 106, 88, 78, 98, 17, 56, 84, 95, 16, 76, 93, 83, 123, 64, 82, 107, 110, 96, 47, 115, 69, 163, 90, 98, 90, 174, 95, 79, 123, 99, 114, 141, 132, 133, 133, 93, 34, 140, 96, 144, 24, 54, 50, 92, 96, 146, 138, 102, 76, 99, 83, 36, 70, 109, 100, 104, 106, 84, 80, 100, 99, 50, 105, 113, 111, 161, 70, 97, 130, 92, 119, 115, 134, 127, 80, 153, 85, 79, 35, 120, 68, 60, 120, 71, 124, 23, 225, 181, 63, 54, 80, 118, 42, 134, 66, 66, 127, 146, 93, 77, 111, 125, 115, 115, 114, 106, 118, 59, 87, 21, 142, 62, 149, 54, 112, 68, 201, 88, 85, 51, 45, 116, 146, 63, 133, 125, 72, 130, 97, 54, 160, 79, 92, 59, 132, 21, 93, 147, 101, 125, 63, 107, 110, 83, 117, 124, 115, 156, 89, 72, 101, 53, 116, 78, 117, 56, 123, 127, 116, 138, 120, 102, 95, 102, 89, 50, 93, 68, 70, 138, 141, 112, 117, 1, 70, 87, 52, 97, 105, 77, 80, 120, 54, 148, 119, 162, 85, 101, 172, 80, 67, 86, 107, 133, 116, 63, 119, 133, 94, 69, 146, 119, 142, 123, 101, 43, 69, 15, 107, 67, 99, 46, 55, 39, 92, 56, 76, 132, 140, 51, 27, 224, 105, 117, 91, 135, 146, 147, 68, 68, 86, 131, 86, 159, 134, 113, 132, 85, 93, 174, 61, 91, 88, 88, 195, 182, 118, 103, 65, 61, 172, 72, 113, 177, 100, 67, 136, 71, 134, 124, 84, 39, 110, 102, 70, 142, 81, 17, 119, 105, 108, 90, 100, 155, 113, 123, 145, 42, 125, 131, 107, 48, 76, 128, 73, 52, 126, 124, 137, 71, 139, 107, 147, 116, 60, 38, 63, 94, 131, 158, 139, 77, 140, 72, 52, 103, 74, 124, 85, 113, 71, 177, 49, 106, 60, 43, 66, 125, 114, 112, 101, 70, 59, 59, 124, 99, 150, 81, 86, 84, 118, 89, 93, 85, 160, 28, 73, 156, 33, 77, 119, 91, 102, 86, 82, 89, 86, 134, 92, 87, 64, 80, 165, 153, 41, 108, 104, 115, 87, 159, 119, 69, 87, 93, 154, 57, 130, 151, 162, 60, 81, 132, 86, 136, 121, 105, 105, 51, 64, 80, 56, 120, 103, 164, 116, 121, 55, 183, 104, 90, 82, 101, 9, 97, 94, 127, 125, 140, 90, 67, 113, 121, 93, 121, 53, 75, 132, 162, 140, 91, 73, 95, 145, 100, 122, 109, 82, 65, 52, 136, 75, 146, 105, 48, 45, 106, 33, 68, 106, 141, 98, 94, 65, 85, 71, 112, 110, 111, 74, 105, 40, 128, 123, 122, 114, 102, 126, 150, 60, 123, 138, 29, 111, 37, 111, 81, 46, 69, 125, 43, 127, 94, 46, 73, 146, 93, 52, 202, 129, 94, 100, 43, 130, 124, 92, 48, 98, 100, 79, 164, 105, 89, 126, 96, 120, 212, 72, 155, 89, 126, 172, 75, 143, 166, 132, 94, 99, 136, 119, 115, 160, 166, 120, 173, 156, 70, 41, 132, 47, 160, 180, 93, 109, 80, 54, 121, 157, 170, 138, 92, 126, 41, 167, 91, 127, 88, 113, 78, 123, 136, 68, 132, 133, 127, 110, 121, 116, 112, 97, 43, 110, 67, 166, 129, 103, 71, 112, 8, 98, 90, 13, 58, 137, 116, 94, 87, 120, 97, 134, 68, 93, 120, 41, 80, 83, 109, 66, 104, 89, 127, 117, 128, 88, 61, 22, 78, 56, 192, 70, 148, 65, 119, 80, 152, 113, 75, 80, 148, 63, 97, 166, 94, 85, 80, 210, 88, 100, 154, 32, 18, 126, 144, 29, 86, 138, 146, 175, 74, 48, 74, 105, 157, 217, 68, 80, 38, 107, 140, 98, 114, 46, 118, 37, 34, 98, 113, 69, 121, 59, 59, 190, 109, 136, 86, 100, 106, 104, 129, 205, 93, 123, 99, 61, 71, 4, 148, 141, 56, 160, 43, 42, 135, 106, 106, 83, 110, 153, 109, 31, 124, 110, 124, 82, 122, 137, 69, 46, 103, 16, 119, 124, 122, 139, 67, 84, 101, 40, 61, 120, 95, 98, 114, 68, 149, 22, 176, 152, 118, 101, 102, 118, 105, 153, 71, 71, 68, 66, 101, 116, 54, 112, 122, 74, 90, 112, 85, 100, 114, 83, 157, 51, 42, 101, 112, 56, 53, 64, 123, 68, 40, 132, 120, 108, 161, 130, 122, 130, 90, 139, 57, 128, 127, 107, 177, 121, 99, 126, 77, 21, 56, 92, 81, 139, 68, 183, 90, 165, 89, 59, 16, 114, 113, 120, 115, 37, 100, 132, 38, 1, 97, 55, 75, 83, 40, 101, 120, 183, 75, 80, 88, 112, 63, 105, 92, 177, 118, 111, 82, 74, 121, 131, 125, 19, 138, 119, 137, 182, 135, 134, 45, 129, 142, 130, 163, 105, 119, 78, 92, 146, 125, 88, 83, 3, 152, 48, 189, 95, 129, 66, 80, 1, 84, 96, 123, 116, 105, 80, 157, 67, 141, 79, 76, 111, 94, 143, 109, 138, 73, 21, 148, 103, 143, 79, 89, 120, 121, 101, 115, 168, 90, 70, 138, 43, 117, 108, 118, 169, 62, 86, 44, 111, 127, 151, 53, 15, 123, 137, 106, 88, 106, 95, 57, 184, 109, 127, 82, 180, 174, 92, 81, 125, 119, 122, 34, 138, 90, 73, 19, 120, 160, 141, 90, 72, 117, 79, 87, 102, 49, 67, 107, 190, 118, 120, 94, 115, 61, 143, 110, 104, 16, 183, 147, 58, 102, 123, 64, 103, 152, 124, 97, 131, 57, 157, 194, 66, 155, 123, 116, 63, 64, 96, 53, 105, 53, 101, 129, 122, 163, 93, 115, 25, 73, 120, 196, 97, 148, 85, 86, 78, 106, 147, 145, 91, 81, 116, 69, 135, 73, 48, 125, 100, 165, 64, 116, 147, 115, 84, 86, 134, 105, 88, 90, 86, 37, 141, 148, 163, 89, 63, 102, 76, 104, 109, 105, 63, 105, 68, 63, 74, 76, 91, 101, 116, 131, 84, 104, 108, 111, 155, 66, 64, 69, 116, 101, 15, 88, 197, 50, 172, 188, 85, 103, 136, 155, 145, 116, 152, 65, 180, 67, 60, 138, 44, 25, 145, 122, 121, 55, 77, 12, 64, 92, 125, 160, 79, 36, 102, 138, 164, 125, 72, 74, 134, 145, 136, 209, 66, 152, 162, 72, 101, 125, 46, 132, 193, 63, 124, 144, 116, 189, 97, 137, 142, 84, 119, 158, 50, 98, 101, 182, 51, 117, 92, 86, 122, 156, 127, 130, 158, 145, 90, 127, 109, 88, 101, 171, 21, 145, 90, 33, 61, 107, 147, 117, 95, 186, 128, 55, 134, 96, 107, 123, 35, 74, 130, 137, 88, 80, 116, 123, 120, 146, 106, 121, 137, 84, 67, 161, 134, 62, 120, 130, 20, 68, 112, 77, 109, 108, 79, 119, 38, 109, 78, 134, 47, 59, 151, 129, 107, 137, 76, 24, 169, 30, 70, 52, 3, 38, 104, 27, 166, 13, 52, 114, 156, 90, 62, 82, 52, 146, 120, 130, 90, 147, 159, 74, 130, 155, 87, 81, 99, 131, 89, 123, 130, 99, 36, 87, 139, 189, 96, 112, 75, 178, 112, 108, 100, 121, 116, 161, 19, 104, 119, 125, 156, 109, 95, 90, 105, 101, 95, 123, 160, 141, 87, 81, 75, 126, 28, 153, 97, 115, 95, 17, 105, 121, 125, 124, 35, 134, 123, 124, 133, 185, 1, 107, 91, 178, 123, 170, 135, 85, 134, 148, 93, 138, 159, 103, 150, 37, 33, 55, 134, 107, 80, 78, 85, 61, 97, 136, 135, 87, 165, 148, 99, 123, 127, 151, 185, 65, 58, 104, 44, 58, 108, 132, 80, 162, 110, 96, 168, 72, 125, 170, 71, 124, 68, 97, 98, 24, 136, 44, 96, 31, 72, 24, 112, 117, 137, 136, 95, 82, 145, 56, 155, 133, 53, 123, 136, 57, 62, 112, 55, 95, 125, 1, 98, 105, 113, 99, 103, 177, 149, 160, 116, 90, 148, 147, 95, 201, 80, 122, 132, 83, 99, 84, 46, 87, 150, 73, 7, 89, 131, 105, 108, 47, 101, 182, 161, 128, 69, 113, 87, 71, 76, 87, 117, 177, 95, 76, 66, 110, 204, 32, 133, 185, 103, 91, 131, 153, 132, 148, 141, 105, 169, 127, 57, 123, 103, 101, 123, 78, 101, 129, 67, 37, 64, 173, 135, 75, 88, 112, 113, 121, 70, 90, 39, 142, 176, 105, 57, 110, 88, 95, 147, 101, 115, 103, 82, 141, 149, 131, 119, 112, 116, 94, 90, 114, 63, 130, 122, 166, 62, 78, 148, 154, 110, 75, 84, 113, 181, 51, 102, 107, 88, 82, 204, 130, 174, 129, 190, 54, 78, 100, 70, 111, 117, 68, 27, 91, 181, 118, 112, 93, 102, 93, 107, 100, 115, 63, 57, 119, 73, 98, 139, 31, 129, 115, 108, 139, 102, 149, 113, 131, 83, 96, 98, 3, 77, 75, 40, 108, 100, 16, 115, 108, 107, 161, 147, 107, 120, 107, 58, 91, 13, 104, 93, 95, 104, 35, 62, 143, 62, 60, 41, 34, 56, 183, 94, 73, 123, 64, 127, 33, 27, 123, 148, 81, 122, 52, 91, 54, 152, 201, 78, 67, 100, 41, 133, 36, 51, 122, 84, 91, 110, 91, 121, 109, 95, 72, 73, 108, 58, 148, 76, 103, 87, 35, 88, 67, 77, 124, 30, 53, 152, 100, 59, 143, 142, 105, 111, 143, 93, 79, 68, 93, 103, 144, 93, 149, 23, 221, 164, 104, 150, 184, 88, 61, 110, 115, 33, 100, 209, 27, 117, 87, 129, 142, 112, 75, 97, 121, 142, 121, 87, 34, 177, 58, 113, 101, 89, 77, 146, 93, 160, 55, 88, 63, 127, 57, 138, 115, 171, 148, 127, 61, 131, 88, 130, 89, 82, 138, 115, 84, 117, 60, 62, 133, 131, 65, 120, 142, 134, 87, 139, 76, 100, 99, 99, 48, 57, 106, 170, 78, 39, 127, 119, 114, 95, 116, 110, 74, 148, 83, 73, 111, 84, 75, 114, 71, 58, 106, 172, 45, 100, 94, 128, 181, 127, 89, 149, 103, 163, 52, 89, 122, 60, 62, 117, 159, 78, 96, 79, 192, 68, 28, 184, 74], \"y0\": \" \", \"yaxis\": \"y\"}],\n",
              "                        {\"boxmode\": \"group\", \"legend\": {\"tracegroupgap\": 0}, \"margin\": {\"t\": 60}, \"template\": {\"data\": {\"bar\": [{\"error_x\": {\"color\": \"#2a3f5f\"}, \"error_y\": {\"color\": \"#2a3f5f\"}, \"marker\": {\"line\": {\"color\": \"#E5ECF6\", \"width\": 0.5}}, \"type\": \"bar\"}], \"barpolar\": [{\"marker\": {\"line\": {\"color\": \"#E5ECF6\", \"width\": 0.5}}, \"type\": \"barpolar\"}], \"carpet\": [{\"aaxis\": {\"endlinecolor\": \"#2a3f5f\", \"gridcolor\": \"white\", \"linecolor\": \"white\", \"minorgridcolor\": \"white\", \"startlinecolor\": \"#2a3f5f\"}, \"baxis\": {\"endlinecolor\": \"#2a3f5f\", \"gridcolor\": \"white\", \"linecolor\": \"white\", \"minorgridcolor\": \"white\", \"startlinecolor\": \"#2a3f5f\"}, \"type\": \"carpet\"}], \"choropleth\": [{\"colorbar\": {\"outlinewidth\": 0, \"ticks\": \"\"}, \"type\": \"choropleth\"}], \"contour\": [{\"colorbar\": {\"outlinewidth\": 0, \"ticks\": \"\"}, \"colorscale\": [[0.0, \"#0d0887\"], [0.1111111111111111, \"#46039f\"], [0.2222222222222222, \"#7201a8\"], [0.3333333333333333, \"#9c179e\"], [0.4444444444444444, \"#bd3786\"], [0.5555555555555556, \"#d8576b\"], [0.6666666666666666, \"#ed7953\"], [0.7777777777777778, \"#fb9f3a\"], [0.8888888888888888, \"#fdca26\"], [1.0, \"#f0f921\"]], \"type\": \"contour\"}], \"contourcarpet\": [{\"colorbar\": {\"outlinewidth\": 0, \"ticks\": \"\"}, \"type\": \"contourcarpet\"}], \"heatmap\": [{\"colorbar\": {\"outlinewidth\": 0, \"ticks\": \"\"}, \"colorscale\": [[0.0, \"#0d0887\"], [0.1111111111111111, \"#46039f\"], [0.2222222222222222, \"#7201a8\"], [0.3333333333333333, \"#9c179e\"], [0.4444444444444444, \"#bd3786\"], [0.5555555555555556, \"#d8576b\"], [0.6666666666666666, \"#ed7953\"], [0.7777777777777778, \"#fb9f3a\"], [0.8888888888888888, \"#fdca26\"], [1.0, \"#f0f921\"]], \"type\": \"heatmap\"}], \"heatmapgl\": [{\"colorbar\": {\"outlinewidth\": 0, \"ticks\": \"\"}, \"colorscale\": [[0.0, \"#0d0887\"], [0.1111111111111111, \"#46039f\"], [0.2222222222222222, \"#7201a8\"], [0.3333333333333333, \"#9c179e\"], [0.4444444444444444, \"#bd3786\"], [0.5555555555555556, \"#d8576b\"], [0.6666666666666666, \"#ed7953\"], [0.7777777777777778, \"#fb9f3a\"], [0.8888888888888888, \"#fdca26\"], [1.0, \"#f0f921\"]], \"type\": \"heatmapgl\"}], \"histogram\": [{\"marker\": {\"colorbar\": {\"outlinewidth\": 0, \"ticks\": \"\"}}, \"type\": \"histogram\"}], \"histogram2d\": [{\"colorbar\": {\"outlinewidth\": 0, \"ticks\": \"\"}, \"colorscale\": [[0.0, \"#0d0887\"], [0.1111111111111111, \"#46039f\"], [0.2222222222222222, \"#7201a8\"], [0.3333333333333333, \"#9c179e\"], [0.4444444444444444, \"#bd3786\"], [0.5555555555555556, \"#d8576b\"], [0.6666666666666666, \"#ed7953\"], [0.7777777777777778, \"#fb9f3a\"], [0.8888888888888888, \"#fdca26\"], [1.0, \"#f0f921\"]], \"type\": \"histogram2d\"}], \"histogram2dcontour\": [{\"colorbar\": {\"outlinewidth\": 0, \"ticks\": \"\"}, \"colorscale\": [[0.0, \"#0d0887\"], [0.1111111111111111, \"#46039f\"], [0.2222222222222222, \"#7201a8\"], [0.3333333333333333, \"#9c179e\"], [0.4444444444444444, \"#bd3786\"], [0.5555555555555556, \"#d8576b\"], [0.6666666666666666, \"#ed7953\"], [0.7777777777777778, \"#fb9f3a\"], [0.8888888888888888, \"#fdca26\"], [1.0, \"#f0f921\"]], \"type\": \"histogram2dcontour\"}], \"mesh3d\": [{\"colorbar\": {\"outlinewidth\": 0, \"ticks\": \"\"}, \"type\": \"mesh3d\"}], \"parcoords\": [{\"line\": {\"colorbar\": {\"outlinewidth\": 0, \"ticks\": \"\"}}, \"type\": \"parcoords\"}], \"pie\": [{\"automargin\": true, \"type\": \"pie\"}], \"scatter\": [{\"marker\": {\"colorbar\": {\"outlinewidth\": 0, \"ticks\": \"\"}}, \"type\": \"scatter\"}], \"scatter3d\": [{\"line\": {\"colorbar\": {\"outlinewidth\": 0, \"ticks\": \"\"}}, \"marker\": {\"colorbar\": {\"outlinewidth\": 0, \"ticks\": \"\"}}, \"type\": \"scatter3d\"}], \"scattercarpet\": [{\"marker\": {\"colorbar\": {\"outlinewidth\": 0, \"ticks\": \"\"}}, \"type\": \"scattercarpet\"}], \"scattergeo\": [{\"marker\": {\"colorbar\": {\"outlinewidth\": 0, \"ticks\": \"\"}}, \"type\": \"scattergeo\"}], \"scattergl\": [{\"marker\": {\"colorbar\": {\"outlinewidth\": 0, \"ticks\": \"\"}}, \"type\": \"scattergl\"}], \"scattermapbox\": [{\"marker\": {\"colorbar\": {\"outlinewidth\": 0, \"ticks\": \"\"}}, \"type\": \"scattermapbox\"}], \"scatterpolar\": [{\"marker\": {\"colorbar\": {\"outlinewidth\": 0, \"ticks\": \"\"}}, \"type\": \"scatterpolar\"}], \"scatterpolargl\": [{\"marker\": {\"colorbar\": {\"outlinewidth\": 0, \"ticks\": \"\"}}, \"type\": \"scatterpolargl\"}], \"scatterternary\": [{\"marker\": {\"colorbar\": {\"outlinewidth\": 0, \"ticks\": \"\"}}, \"type\": \"scatterternary\"}], \"surface\": [{\"colorbar\": {\"outlinewidth\": 0, \"ticks\": \"\"}, \"colorscale\": [[0.0, \"#0d0887\"], [0.1111111111111111, \"#46039f\"], [0.2222222222222222, \"#7201a8\"], [0.3333333333333333, \"#9c179e\"], [0.4444444444444444, \"#bd3786\"], [0.5555555555555556, \"#d8576b\"], [0.6666666666666666, \"#ed7953\"], [0.7777777777777778, \"#fb9f3a\"], [0.8888888888888888, \"#fdca26\"], [1.0, \"#f0f921\"]], \"type\": \"surface\"}], \"table\": [{\"cells\": {\"fill\": {\"color\": \"#EBF0F8\"}, \"line\": {\"color\": \"white\"}}, \"header\": {\"fill\": {\"color\": \"#C8D4E3\"}, \"line\": {\"color\": \"white\"}}, \"type\": \"table\"}]}, \"layout\": {\"annotationdefaults\": {\"arrowcolor\": \"#2a3f5f\", \"arrowhead\": 0, \"arrowwidth\": 1}, \"coloraxis\": {\"colorbar\": {\"outlinewidth\": 0, \"ticks\": \"\"}}, \"colorscale\": {\"diverging\": [[0, \"#8e0152\"], [0.1, \"#c51b7d\"], [0.2, \"#de77ae\"], [0.3, \"#f1b6da\"], [0.4, \"#fde0ef\"], [0.5, \"#f7f7f7\"], [0.6, \"#e6f5d0\"], [0.7, \"#b8e186\"], [0.8, \"#7fbc41\"], [0.9, \"#4d9221\"], [1, \"#276419\"]], \"sequential\": [[0.0, \"#0d0887\"], [0.1111111111111111, \"#46039f\"], [0.2222222222222222, \"#7201a8\"], [0.3333333333333333, \"#9c179e\"], [0.4444444444444444, \"#bd3786\"], [0.5555555555555556, \"#d8576b\"], [0.6666666666666666, \"#ed7953\"], [0.7777777777777778, \"#fb9f3a\"], [0.8888888888888888, \"#fdca26\"], [1.0, \"#f0f921\"]], \"sequentialminus\": [[0.0, \"#0d0887\"], [0.1111111111111111, \"#46039f\"], [0.2222222222222222, \"#7201a8\"], [0.3333333333333333, \"#9c179e\"], [0.4444444444444444, \"#bd3786\"], [0.5555555555555556, \"#d8576b\"], [0.6666666666666666, \"#ed7953\"], [0.7777777777777778, \"#fb9f3a\"], [0.8888888888888888, \"#fdca26\"], [1.0, \"#f0f921\"]]}, \"colorway\": [\"#636efa\", \"#EF553B\", \"#00cc96\", \"#ab63fa\", \"#FFA15A\", \"#19d3f3\", \"#FF6692\", \"#B6E880\", \"#FF97FF\", \"#FECB52\"], \"font\": {\"color\": \"#2a3f5f\"}, \"geo\": {\"bgcolor\": \"white\", \"lakecolor\": \"white\", \"landcolor\": \"#E5ECF6\", \"showlakes\": true, \"showland\": true, \"subunitcolor\": \"white\"}, \"hoverlabel\": {\"align\": \"left\"}, \"hovermode\": \"closest\", \"mapbox\": {\"style\": \"light\"}, \"paper_bgcolor\": \"white\", \"plot_bgcolor\": \"#E5ECF6\", \"polar\": {\"angularaxis\": {\"gridcolor\": \"white\", \"linecolor\": \"white\", \"ticks\": \"\"}, \"bgcolor\": \"#E5ECF6\", \"radialaxis\": {\"gridcolor\": \"white\", \"linecolor\": \"white\", \"ticks\": \"\"}}, \"scene\": {\"xaxis\": {\"backgroundcolor\": \"#E5ECF6\", \"gridcolor\": \"white\", \"gridwidth\": 2, \"linecolor\": \"white\", \"showbackground\": true, \"ticks\": \"\", \"zerolinecolor\": \"white\"}, \"yaxis\": {\"backgroundcolor\": \"#E5ECF6\", \"gridcolor\": \"white\", \"gridwidth\": 2, \"linecolor\": \"white\", \"showbackground\": true, \"ticks\": \"\", \"zerolinecolor\": \"white\"}, \"zaxis\": {\"backgroundcolor\": \"#E5ECF6\", \"gridcolor\": \"white\", \"gridwidth\": 2, \"linecolor\": \"white\", \"showbackground\": true, \"ticks\": \"\", \"zerolinecolor\": \"white\"}}, \"shapedefaults\": {\"line\": {\"color\": \"#2a3f5f\"}}, \"ternary\": {\"aaxis\": {\"gridcolor\": \"white\", \"linecolor\": \"white\", \"ticks\": \"\"}, \"baxis\": {\"gridcolor\": \"white\", \"linecolor\": \"white\", \"ticks\": \"\"}, \"bgcolor\": \"#E5ECF6\", \"caxis\": {\"gridcolor\": \"white\", \"linecolor\": \"white\", \"ticks\": \"\"}}, \"title\": {\"x\": 0.05}, \"xaxis\": {\"automargin\": true, \"gridcolor\": \"white\", \"linecolor\": \"white\", \"ticks\": \"\", \"title\": {\"standoff\": 15}, \"zerolinecolor\": \"white\", \"zerolinewidth\": 2}, \"yaxis\": {\"automargin\": true, \"gridcolor\": \"white\", \"linecolor\": \"white\", \"ticks\": \"\", \"title\": {\"standoff\": 15}, \"zerolinecolor\": \"white\", \"zerolinewidth\": 2}}}, \"xaxis\": {\"anchor\": \"y\", \"domain\": [0.0, 1.0], \"title\": {\"text\": \"Churn\"}}, \"yaxis\": {\"anchor\": \"x\", \"domain\": [0.0, 1.0], \"title\": {\"text\": \"Account length\"}}},\n",
              "                        {\"responsive\": true}\n",
              "                    ).then(function(){\n",
              "                            \n",
              "var gd = document.getElementById('7fcee263-a64d-48cc-ae3b-a7bf53dad81b');\n",
              "var x = new MutationObserver(function (mutations, observer) {{\n",
              "        var display = window.getComputedStyle(gd).display;\n",
              "        if (!display || display === 'none') {{\n",
              "            console.log([gd, 'removed!']);\n",
              "            Plotly.purge(gd);\n",
              "            observer.disconnect();\n",
              "        }}\n",
              "}});\n",
              "\n",
              "// Listen for the removal of the full notebook cells\n",
              "var notebookContainer = gd.closest('#notebook-container');\n",
              "if (notebookContainer) {{\n",
              "    x.observe(notebookContainer, {childList: true});\n",
              "}}\n",
              "\n",
              "// Listen for the clearing of the current output cell\n",
              "var outputEl = gd.closest('.output');\n",
              "if (outputEl) {{\n",
              "    x.observe(outputEl, {childList: true});\n",
              "}}\n",
              "\n",
              "                        })\n",
              "                };\n",
              "                \n",
              "            </script>\n",
              "        </div>\n",
              "</body>\n",
              "</html>"
            ]
          },
          "metadata": {}
        }
      ]
    },
    {
      "cell_type": "code",
      "metadata": {
        "colab": {
          "base_uri": "https://localhost:8080/"
        },
        "id": "rOP0FHEnS2oX",
        "outputId": "8de5f44b-c3bc-45fe-e0fe-5844566db4fc"
      },
      "source": [
        "# mean account length of people who churn out\n",
        "aa =churn_copy_df[(churn_copy_df['Churn']==True)].agg({'Account length':'mean'})\n",
        "aa"
      ],
      "execution_count": 52,
      "outputs": [
        {
          "output_type": "execute_result",
          "data": {
            "text/plain": [
              "Account length    102.664596\n",
              "dtype: float64"
            ]
          },
          "metadata": {},
          "execution_count": 52
        }
      ]
    },
    {
      "cell_type": "code",
      "metadata": {
        "colab": {
          "base_uri": "https://localhost:8080/",
          "height": 476
        },
        "id": "EsM-hk_uTg9_",
        "outputId": "a4072ea6-61c8-4831-f03b-26ae11ed5542"
      },
      "source": [
        "# people who did not churn out and have account length higher than those who unsubscribed.\n",
        "bb = churn_copy_df[(churn_copy_df['Churn']==False) & (churn_copy_df['Account length']>= int(aa))]\n",
        "bb"
      ],
      "execution_count": 53,
      "outputs": [
        {
          "output_type": "execute_result",
          "data": {
            "text/html": [
              "<div>\n",
              "<style scoped>\n",
              "    .dataframe tbody tr th:only-of-type {\n",
              "        vertical-align: middle;\n",
              "    }\n",
              "\n",
              "    .dataframe tbody tr th {\n",
              "        vertical-align: top;\n",
              "    }\n",
              "\n",
              "    .dataframe thead th {\n",
              "        text-align: right;\n",
              "    }\n",
              "</style>\n",
              "<table border=\"1\" class=\"dataframe\">\n",
              "  <thead>\n",
              "    <tr style=\"text-align: right;\">\n",
              "      <th></th>\n",
              "      <th>State</th>\n",
              "      <th>Account length</th>\n",
              "      <th>Area code</th>\n",
              "      <th>International plan</th>\n",
              "      <th>Voice mail plan</th>\n",
              "      <th>Number vmail messages</th>\n",
              "      <th>Total day minutes</th>\n",
              "      <th>Total day calls</th>\n",
              "      <th>Total day charge</th>\n",
              "      <th>Total eve minutes</th>\n",
              "      <th>Total eve calls</th>\n",
              "      <th>Total eve charge</th>\n",
              "      <th>Total night minutes</th>\n",
              "      <th>Total night calls</th>\n",
              "      <th>Total night charge</th>\n",
              "      <th>Total intl minutes</th>\n",
              "      <th>Total intl calls</th>\n",
              "      <th>Total intl charge</th>\n",
              "      <th>Customer service calls</th>\n",
              "      <th>Churn</th>\n",
              "    </tr>\n",
              "  </thead>\n",
              "  <tbody>\n",
              "    <tr>\n",
              "      <th>0</th>\n",
              "      <td>KS</td>\n",
              "      <td>128</td>\n",
              "      <td>415</td>\n",
              "      <td>No</td>\n",
              "      <td>Yes</td>\n",
              "      <td>25</td>\n",
              "      <td>265.1</td>\n",
              "      <td>110</td>\n",
              "      <td>45.07</td>\n",
              "      <td>197.4</td>\n",
              "      <td>99</td>\n",
              "      <td>16.78</td>\n",
              "      <td>244.7</td>\n",
              "      <td>91</td>\n",
              "      <td>11.01</td>\n",
              "      <td>10.0</td>\n",
              "      <td>3</td>\n",
              "      <td>2.70</td>\n",
              "      <td>1</td>\n",
              "      <td>False</td>\n",
              "    </tr>\n",
              "    <tr>\n",
              "      <th>1</th>\n",
              "      <td>OH</td>\n",
              "      <td>107</td>\n",
              "      <td>415</td>\n",
              "      <td>No</td>\n",
              "      <td>Yes</td>\n",
              "      <td>26</td>\n",
              "      <td>161.6</td>\n",
              "      <td>123</td>\n",
              "      <td>27.47</td>\n",
              "      <td>195.5</td>\n",
              "      <td>103</td>\n",
              "      <td>16.62</td>\n",
              "      <td>254.4</td>\n",
              "      <td>103</td>\n",
              "      <td>11.45</td>\n",
              "      <td>13.7</td>\n",
              "      <td>3</td>\n",
              "      <td>3.70</td>\n",
              "      <td>1</td>\n",
              "      <td>False</td>\n",
              "    </tr>\n",
              "    <tr>\n",
              "      <th>2</th>\n",
              "      <td>NJ</td>\n",
              "      <td>137</td>\n",
              "      <td>415</td>\n",
              "      <td>No</td>\n",
              "      <td>No</td>\n",
              "      <td>0</td>\n",
              "      <td>243.4</td>\n",
              "      <td>114</td>\n",
              "      <td>41.38</td>\n",
              "      <td>121.2</td>\n",
              "      <td>110</td>\n",
              "      <td>10.30</td>\n",
              "      <td>162.6</td>\n",
              "      <td>104</td>\n",
              "      <td>7.32</td>\n",
              "      <td>12.2</td>\n",
              "      <td>5</td>\n",
              "      <td>3.29</td>\n",
              "      <td>0</td>\n",
              "      <td>False</td>\n",
              "    </tr>\n",
              "    <tr>\n",
              "      <th>5</th>\n",
              "      <td>AL</td>\n",
              "      <td>118</td>\n",
              "      <td>510</td>\n",
              "      <td>Yes</td>\n",
              "      <td>No</td>\n",
              "      <td>0</td>\n",
              "      <td>223.4</td>\n",
              "      <td>98</td>\n",
              "      <td>37.98</td>\n",
              "      <td>220.6</td>\n",
              "      <td>101</td>\n",
              "      <td>18.75</td>\n",
              "      <td>203.9</td>\n",
              "      <td>118</td>\n",
              "      <td>9.18</td>\n",
              "      <td>6.3</td>\n",
              "      <td>6</td>\n",
              "      <td>1.70</td>\n",
              "      <td>0</td>\n",
              "      <td>False</td>\n",
              "    </tr>\n",
              "    <tr>\n",
              "      <th>6</th>\n",
              "      <td>MA</td>\n",
              "      <td>121</td>\n",
              "      <td>510</td>\n",
              "      <td>No</td>\n",
              "      <td>Yes</td>\n",
              "      <td>24</td>\n",
              "      <td>218.2</td>\n",
              "      <td>88</td>\n",
              "      <td>37.09</td>\n",
              "      <td>348.5</td>\n",
              "      <td>108</td>\n",
              "      <td>29.62</td>\n",
              "      <td>212.6</td>\n",
              "      <td>118</td>\n",
              "      <td>9.57</td>\n",
              "      <td>7.5</td>\n",
              "      <td>7</td>\n",
              "      <td>2.03</td>\n",
              "      <td>3</td>\n",
              "      <td>False</td>\n",
              "    </tr>\n",
              "    <tr>\n",
              "      <th>...</th>\n",
              "      <td>...</td>\n",
              "      <td>...</td>\n",
              "      <td>...</td>\n",
              "      <td>...</td>\n",
              "      <td>...</td>\n",
              "      <td>...</td>\n",
              "      <td>...</td>\n",
              "      <td>...</td>\n",
              "      <td>...</td>\n",
              "      <td>...</td>\n",
              "      <td>...</td>\n",
              "      <td>...</td>\n",
              "      <td>...</td>\n",
              "      <td>...</td>\n",
              "      <td>...</td>\n",
              "      <td>...</td>\n",
              "      <td>...</td>\n",
              "      <td>...</td>\n",
              "      <td>...</td>\n",
              "      <td>...</td>\n",
              "    </tr>\n",
              "    <tr>\n",
              "      <th>3316</th>\n",
              "      <td>MS</td>\n",
              "      <td>103</td>\n",
              "      <td>510</td>\n",
              "      <td>No</td>\n",
              "      <td>Yes</td>\n",
              "      <td>29</td>\n",
              "      <td>164.1</td>\n",
              "      <td>111</td>\n",
              "      <td>27.90</td>\n",
              "      <td>219.1</td>\n",
              "      <td>96</td>\n",
              "      <td>18.62</td>\n",
              "      <td>220.3</td>\n",
              "      <td>108</td>\n",
              "      <td>9.91</td>\n",
              "      <td>12.3</td>\n",
              "      <td>9</td>\n",
              "      <td>3.32</td>\n",
              "      <td>0</td>\n",
              "      <td>False</td>\n",
              "    </tr>\n",
              "    <tr>\n",
              "      <th>3317</th>\n",
              "      <td>SD</td>\n",
              "      <td>163</td>\n",
              "      <td>415</td>\n",
              "      <td>Yes</td>\n",
              "      <td>No</td>\n",
              "      <td>0</td>\n",
              "      <td>197.2</td>\n",
              "      <td>90</td>\n",
              "      <td>33.52</td>\n",
              "      <td>188.5</td>\n",
              "      <td>113</td>\n",
              "      <td>16.02</td>\n",
              "      <td>211.1</td>\n",
              "      <td>94</td>\n",
              "      <td>9.50</td>\n",
              "      <td>7.8</td>\n",
              "      <td>8</td>\n",
              "      <td>2.11</td>\n",
              "      <td>1</td>\n",
              "      <td>False</td>\n",
              "    </tr>\n",
              "    <tr>\n",
              "      <th>3324</th>\n",
              "      <td>WV</td>\n",
              "      <td>159</td>\n",
              "      <td>415</td>\n",
              "      <td>No</td>\n",
              "      <td>No</td>\n",
              "      <td>0</td>\n",
              "      <td>169.8</td>\n",
              "      <td>114</td>\n",
              "      <td>28.87</td>\n",
              "      <td>197.7</td>\n",
              "      <td>105</td>\n",
              "      <td>16.80</td>\n",
              "      <td>193.7</td>\n",
              "      <td>82</td>\n",
              "      <td>8.72</td>\n",
              "      <td>11.6</td>\n",
              "      <td>4</td>\n",
              "      <td>3.13</td>\n",
              "      <td>1</td>\n",
              "      <td>False</td>\n",
              "    </tr>\n",
              "    <tr>\n",
              "      <th>3328</th>\n",
              "      <td>AZ</td>\n",
              "      <td>192</td>\n",
              "      <td>415</td>\n",
              "      <td>No</td>\n",
              "      <td>Yes</td>\n",
              "      <td>36</td>\n",
              "      <td>156.2</td>\n",
              "      <td>77</td>\n",
              "      <td>26.55</td>\n",
              "      <td>215.5</td>\n",
              "      <td>126</td>\n",
              "      <td>18.32</td>\n",
              "      <td>279.1</td>\n",
              "      <td>83</td>\n",
              "      <td>12.56</td>\n",
              "      <td>9.9</td>\n",
              "      <td>6</td>\n",
              "      <td>2.67</td>\n",
              "      <td>2</td>\n",
              "      <td>False</td>\n",
              "    </tr>\n",
              "    <tr>\n",
              "      <th>3331</th>\n",
              "      <td>CT</td>\n",
              "      <td>184</td>\n",
              "      <td>510</td>\n",
              "      <td>Yes</td>\n",
              "      <td>No</td>\n",
              "      <td>0</td>\n",
              "      <td>213.8</td>\n",
              "      <td>105</td>\n",
              "      <td>36.35</td>\n",
              "      <td>159.6</td>\n",
              "      <td>84</td>\n",
              "      <td>13.57</td>\n",
              "      <td>139.2</td>\n",
              "      <td>137</td>\n",
              "      <td>6.26</td>\n",
              "      <td>5.0</td>\n",
              "      <td>10</td>\n",
              "      <td>1.35</td>\n",
              "      <td>2</td>\n",
              "      <td>False</td>\n",
              "    </tr>\n",
              "  </tbody>\n",
              "</table>\n",
              "<p>1385 rows × 20 columns</p>\n",
              "</div>"
            ],
            "text/plain": [
              "     State  Account length  ...  Customer service calls  Churn\n",
              "0       KS             128  ...                       1  False\n",
              "1       OH             107  ...                       1  False\n",
              "2       NJ             137  ...                       0  False\n",
              "5       AL             118  ...                       0  False\n",
              "6       MA             121  ...                       3  False\n",
              "...    ...             ...  ...                     ...    ...\n",
              "3316    MS             103  ...                       0  False\n",
              "3317    SD             163  ...                       1  False\n",
              "3324    WV             159  ...                       1  False\n",
              "3328    AZ             192  ...                       2  False\n",
              "3331    CT             184  ...                       2  False\n",
              "\n",
              "[1385 rows x 20 columns]"
            ]
          },
          "metadata": {},
          "execution_count": 53
        }
      ]
    },
    {
      "cell_type": "code",
      "metadata": {
        "colab": {
          "base_uri": "https://localhost:8080/"
        },
        "id": "CvlN8vhOTt92",
        "outputId": "7114115a-e263-40a8-9b3b-496c2da4d4b3"
      },
      "source": [
        "# analysizing the International plan\n",
        "cc= bb.groupby(['Area code'])['International plan'].value_counts()\n",
        "cc"
      ],
      "execution_count": 54,
      "outputs": [
        {
          "output_type": "execute_result",
          "data": {
            "text/plain": [
              "Area code  International plan\n",
              "408        No                    331\n",
              "           Yes                    21\n",
              "415        No                    635\n",
              "           Yes                    46\n",
              "510        No                    325\n",
              "           Yes                    27\n",
              "Name: International plan, dtype: int64"
            ]
          },
          "metadata": {},
          "execution_count": 54
        }
      ]
    },
    {
      "cell_type": "code",
      "metadata": {
        "colab": {
          "base_uri": "https://localhost:8080/"
        },
        "id": "wCqUvBhbTwd-",
        "outputId": "241b22a8-3069-4d2a-ecf5-d25a2b9bfee2"
      },
      "source": [
        "dd =(bb['International plan']=='Yes').mean()\n",
        "dd\n",
        "qq= (churn_copy_df['International plan']=='Yes').mean()\n",
        "qq\n",
        "print(f'the average availers of international plan who did not churn out is  {round(dd,3)*100} which is less than overall mean of international plan availers{round(qq,3)*100}')\n",
        "print('so we can conclude that non-international plan users are less prone to churn out')"
      ],
      "execution_count": 56,
      "outputs": [
        {
          "output_type": "stream",
          "name": "stdout",
          "text": [
            "the average availers of international plan who did not churn out is  6.800000000000001 which is less than overall mean of international plan availers9.700000000000001\n",
            "so we can conclude that non-international plan users are less prone to churn out\n"
          ]
        }
      ]
    },
    {
      "cell_type": "code",
      "metadata": {
        "colab": {
          "base_uri": "https://localhost:8080/"
        },
        "id": "WDOe6DqeUAFu",
        "outputId": "40203a04-a28b-476a-c084-c3cafb0b7f15"
      },
      "source": [
        "#analysing voice mail plan service\n",
        "ee = bb.groupby(['Area code'])['Voice mail plan'].value_counts()\n",
        "ee"
      ],
      "execution_count": 57,
      "outputs": [
        {
          "output_type": "execute_result",
          "data": {
            "text/plain": [
              "Area code  Voice mail plan\n",
              "408        No                 263\n",
              "           Yes                 89\n",
              "415        No                 459\n",
              "           Yes                222\n",
              "510        No                 252\n",
              "           Yes                100\n",
              "Name: Voice mail plan, dtype: int64"
            ]
          },
          "metadata": {},
          "execution_count": 57
        }
      ]
    },
    {
      "cell_type": "code",
      "metadata": {
        "colab": {
          "base_uri": "https://localhost:8080/"
        },
        "id": "RlDqUN0_UGoD",
        "outputId": "e878d379-578c-4a32-88bf-8746b4ef5f24"
      },
      "source": [
        "ff =(bb['Voice mail plan']=='Yes').mean()\n",
        "ff\n",
        "ww= (churn_copy_df['Voice mail plan']=='Yes').mean()\n",
        "ww\n",
        "print(f'the average availers of voice mail plan who did not churn out is  {round(ff,3)*100}% which is more than overall mean of voice mail plan availers {round(ww,3)*100} %')\n",
        "print('so we can conclude that voice mail plan subscribers  are less prone to churn out.')"
      ],
      "execution_count": 59,
      "outputs": [
        {
          "output_type": "stream",
          "name": "stdout",
          "text": [
            "the average availers of voice mail plan who did not churn out is  29.7% which is more than overall mean of voice mail plan availers 27.700000000000003 %\n",
            "so we can conclude that voice mail plan subscribers  are less prone to churn out.\n"
          ]
        }
      ]
    },
    {
      "cell_type": "code",
      "metadata": {
        "colab": {
          "base_uri": "https://localhost:8080/",
          "height": 281
        },
        "id": "Uq8hzwUbUMVL",
        "outputId": "fef2975c-d2ee-41f7-f104-d1f32dea6621"
      },
      "source": [
        "import matplotlib.pyplot as plt\n",
        "import numpy as np\n",
        "\n",
        "\n",
        "labels = ['Average of services availed by all the customers', 'People who have still subscribed and have longer account record than average unsubscribers account record']\n",
        "data = [dd,qq]\n",
        "data1 = [ff,ww]\n",
        "\n",
        "x = np.arange(len(labels))  # the label locations\n",
        "width = 0.25  # the width of the bars\n",
        "\n",
        "fig, ax = plt.subplots(figsize =(10, 4))\n",
        "rects1 = ax.bar(x - width/2, data, width, label='International Plan')\n",
        "rects2 = ax.bar(x + width/2, data1, width, label='Voice mail plan')\n",
        "\n",
        "# Add some text for labels, title and custom x-axis tick labels, etc.\n",
        "ax.set_ylabel('Average of services')\n",
        "ax.set_title('difference in services availed')\n",
        "ax.set_xticks(x)\n",
        "\n",
        "ax.set_xticklabels(labels)\n",
        "ax.legend()\n",
        "\n",
        "plt.show()"
      ],
      "execution_count": 60,
      "outputs": [
        {
          "output_type": "display_data",
          "data": {
            "image/png": "[encoded data removed]",
            "text/plain": [
              "<Figure size 720x288 with 1 Axes>"
            ]
          },
          "metadata": {
            "needs_background": "light"
          }
        }
      ]
    },
    {
      "cell_type": "code",
      "metadata": {
        "id": "Iew2uKIjNsNE"
      },
      "source": [
        "churn_copy2_df = churn_copy_df.copy()"
      ],
      "execution_count": 51,
      "outputs": []
    },
    {
      "cell_type": "code",
      "metadata": {
        "id": "WoHE0Hj-Exk3"
      },
      "source": [
        "churn_copy2_df['Total charge'] = churn_copy2_df['Total day charge'] + churn_copy2_df['Total eve charge'] + churn_copy2_df['Total night charge'] + churn_copy2_df['Total intl charge']"
      ],
      "execution_count": null,
      "outputs": []
    },
    {
      "cell_type": "code",
      "metadata": {
        "colab": {
          "base_uri": "https://localhost:8080/",
          "height": 258
        },
        "id": "ozs0T4whAXmW",
        "outputId": "3de2399d-f256-4234-c802-aab20f3119bb"
      },
      "source": [
        "churn_copy2_df.head()"
      ],
      "execution_count": null,
      "outputs": [
        {
          "output_type": "execute_result",
          "data": {
            "text/html": [
              "<div>\n",
              "<style scoped>\n",
              "    .dataframe tbody tr th:only-of-type {\n",
              "        vertical-align: middle;\n",
              "    }\n",
              "\n",
              "    .dataframe tbody tr th {\n",
              "        vertical-align: top;\n",
              "    }\n",
              "\n",
              "    .dataframe thead th {\n",
              "        text-align: right;\n",
              "    }\n",
              "</style>\n",
              "<table border=\"1\" class=\"dataframe\">\n",
              "  <thead>\n",
              "    <tr style=\"text-align: right;\">\n",
              "      <th></th>\n",
              "      <th>State</th>\n",
              "      <th>Account length</th>\n",
              "      <th>Area code</th>\n",
              "      <th>International plan</th>\n",
              "      <th>Voice mail plan</th>\n",
              "      <th>Number vmail messages</th>\n",
              "      <th>Total day minutes</th>\n",
              "      <th>Total day calls</th>\n",
              "      <th>Total day charge</th>\n",
              "      <th>Total eve minutes</th>\n",
              "      <th>Total eve calls</th>\n",
              "      <th>Total eve charge</th>\n",
              "      <th>Total night minutes</th>\n",
              "      <th>Total night calls</th>\n",
              "      <th>Total night charge</th>\n",
              "      <th>Total intl minutes</th>\n",
              "      <th>Total intl calls</th>\n",
              "      <th>Total intl charge</th>\n",
              "      <th>Customer service calls</th>\n",
              "      <th>Churn</th>\n",
              "      <th>Total charge</th>\n",
              "    </tr>\n",
              "  </thead>\n",
              "  <tbody>\n",
              "    <tr>\n",
              "      <th>0</th>\n",
              "      <td>KS</td>\n",
              "      <td>128</td>\n",
              "      <td>415</td>\n",
              "      <td>No</td>\n",
              "      <td>Yes</td>\n",
              "      <td>25</td>\n",
              "      <td>265.1</td>\n",
              "      <td>110</td>\n",
              "      <td>45.07</td>\n",
              "      <td>197.4</td>\n",
              "      <td>99</td>\n",
              "      <td>16.78</td>\n",
              "      <td>244.7</td>\n",
              "      <td>91</td>\n",
              "      <td>11.01</td>\n",
              "      <td>10.0</td>\n",
              "      <td>3</td>\n",
              "      <td>2.70</td>\n",
              "      <td>1</td>\n",
              "      <td>False</td>\n",
              "      <td>75.56</td>\n",
              "    </tr>\n",
              "    <tr>\n",
              "      <th>1</th>\n",
              "      <td>OH</td>\n",
              "      <td>107</td>\n",
              "      <td>415</td>\n",
              "      <td>No</td>\n",
              "      <td>Yes</td>\n",
              "      <td>26</td>\n",
              "      <td>161.6</td>\n",
              "      <td>123</td>\n",
              "      <td>27.47</td>\n",
              "      <td>195.5</td>\n",
              "      <td>103</td>\n",
              "      <td>16.62</td>\n",
              "      <td>254.4</td>\n",
              "      <td>103</td>\n",
              "      <td>11.45</td>\n",
              "      <td>13.7</td>\n",
              "      <td>3</td>\n",
              "      <td>3.70</td>\n",
              "      <td>1</td>\n",
              "      <td>False</td>\n",
              "      <td>59.24</td>\n",
              "    </tr>\n",
              "    <tr>\n",
              "      <th>2</th>\n",
              "      <td>NJ</td>\n",
              "      <td>137</td>\n",
              "      <td>415</td>\n",
              "      <td>No</td>\n",
              "      <td>No</td>\n",
              "      <td>0</td>\n",
              "      <td>243.4</td>\n",
              "      <td>114</td>\n",
              "      <td>41.38</td>\n",
              "      <td>121.2</td>\n",
              "      <td>110</td>\n",
              "      <td>10.30</td>\n",
              "      <td>162.6</td>\n",
              "      <td>104</td>\n",
              "      <td>7.32</td>\n",
              "      <td>12.2</td>\n",
              "      <td>5</td>\n",
              "      <td>3.29</td>\n",
              "      <td>0</td>\n",
              "      <td>False</td>\n",
              "      <td>62.29</td>\n",
              "    </tr>\n",
              "    <tr>\n",
              "      <th>3</th>\n",
              "      <td>OH</td>\n",
              "      <td>84</td>\n",
              "      <td>408</td>\n",
              "      <td>Yes</td>\n",
              "      <td>No</td>\n",
              "      <td>0</td>\n",
              "      <td>299.4</td>\n",
              "      <td>71</td>\n",
              "      <td>50.90</td>\n",
              "      <td>61.9</td>\n",
              "      <td>88</td>\n",
              "      <td>5.26</td>\n",
              "      <td>196.9</td>\n",
              "      <td>89</td>\n",
              "      <td>8.86</td>\n",
              "      <td>6.6</td>\n",
              "      <td>7</td>\n",
              "      <td>1.78</td>\n",
              "      <td>2</td>\n",
              "      <td>False</td>\n",
              "      <td>66.80</td>\n",
              "    </tr>\n",
              "    <tr>\n",
              "      <th>4</th>\n",
              "      <td>OK</td>\n",
              "      <td>75</td>\n",
              "      <td>415</td>\n",
              "      <td>Yes</td>\n",
              "      <td>No</td>\n",
              "      <td>0</td>\n",
              "      <td>166.7</td>\n",
              "      <td>113</td>\n",
              "      <td>28.34</td>\n",
              "      <td>148.3</td>\n",
              "      <td>122</td>\n",
              "      <td>12.61</td>\n",
              "      <td>186.9</td>\n",
              "      <td>121</td>\n",
              "      <td>8.41</td>\n",
              "      <td>10.1</td>\n",
              "      <td>3</td>\n",
              "      <td>2.73</td>\n",
              "      <td>3</td>\n",
              "      <td>False</td>\n",
              "      <td>52.09</td>\n",
              "    </tr>\n",
              "  </tbody>\n",
              "</table>\n",
              "</div>"
            ],
            "text/plain": [
              "  State  Account length  Area code  ... Customer service calls  Churn  Total charge\n",
              "0    KS             128        415  ...                      1  False         75.56\n",
              "1    OH             107        415  ...                      1  False         59.24\n",
              "2    NJ             137        415  ...                      0  False         62.29\n",
              "3    OH              84        408  ...                      2  False         66.80\n",
              "4    OK              75        415  ...                      3  False         52.09\n",
              "\n",
              "[5 rows x 21 columns]"
            ]
          },
          "metadata": {},
          "execution_count": 48
        }
      ]
    },
    {
      "cell_type": "code",
      "metadata": {
        "colab": {
          "base_uri": "https://localhost:8080/",
          "height": 542
        },
        "id": "GQqvAPM4Oj8I",
        "outputId": "3510097b-2f9d-483f-f0df-c52e5433d7ef"
      },
      "source": [
        "fig = px.pie(churn_copy2_df, values='Total charge', names='Area code')\n",
        "fig.show()"
      ],
      "execution_count": null,
      "outputs": [
        {
          "output_type": "display_data",
          "data": {
            "text/html": [
              "<html>\n",
              "<head><meta charset=\"utf-8\" /></head>\n",
              "<body>\n",
              "    <div>\n",
              "            <script src=\"https://cdnjs.cloudflare.com/ajax/libs/mathjax/2.7.5/MathJax.js?config=TeX-AMS-MML_SVG\"></script><script type=\"text/javascript\">if (window.MathJax) {MathJax.Hub.Config({SVG: {font: \"STIX-Web\"}});}</script>\n",
              "                <script type=\"text/javascript\">window.PlotlyConfig = {MathJaxConfig: 'local'};</script>\n",
              "        <script src=\"https://cdn.plot.ly/plotly-latest.min.js\"></script>    \n",
              "            <div id=\"247097a6-d8bb-431b-99bb-3766bef5be94\" class=\"plotly-graph-div\" style=\"height:525px; width:100%;\"></div>\n",
              "            <script type=\"text/javascript\">\n",
              "                \n",
              "                    window.PLOTLYENV=window.PLOTLYENV || {};\n",
              "                    \n",
              "                if (document.getElementById(\"247097a6-d8bb-431b-99bb-3766bef5be94\")) {\n",
              "                    Plotly.newPlot(\n",
              "                        '247097a6-d8bb-431b-99bb-3766bef5be94',\n",
              "                        [{\"domain\": {\"x\": [0.0, 1.0], \"y\": [0.0, 1.0]}, \"hoverlabel\": {\"namelength\": 0}, \"hovertemplate\": \"Area code=%{label}<br>Total charge=%{value}\", \"labels\": [415, 415, 415, 408, 415, 510, 510, 415, 408, 415, 415, 415, 408, 510, 415, 415, 408, 510, 510, 415, 415, 408, 415, 415, 510, 415, 408, 408, 415, 510, 415, 510, 408, 408, 408, 415, 408, 415, 415, 408, 408, 408, 510, 415, 510, 408, 415, 408, 415, 415, 408, 408, 408, 415, 415, 408, 415, 408, 415, 408, 408, 415, 510, 408, 408, 415, 415, 408, 408, 510, 408, 510, 510, 415, 415, 415, 415, 408, 415, 408, 415, 415, 408, 415, 510, 510, 408, 510, 415, 415, 510, 415, 415, 415, 415, 408, 415, 415, 408, 415, 510, 415, 415, 408, 408, 408, 510, 510, 415, 408, 408, 415, 408, 408, 415, 510, 510, 415, 510, 408, 408, 408, 510, 415, 510, 408, 415, 510, 408, 408, 415, 408, 415, 408, 408, 510, 415, 510, 510, 415, 510, 415, 415, 510, 408, 415, 408, 408, 408, 408, 408, 415, 408, 415, 415, 408, 415, 510, 510, 510, 415, 415, 510, 415, 415, 415, 510, 415, 408, 510, 408, 408, 415, 415, 408, 415, 415, 415, 408, 408, 510, 415, 408, 408, 510, 415, 408, 415, 510, 408, 415, 415, 408, 415, 408, 415, 415, 510, 510, 408, 415, 408, 415, 510, 415, 415, 415, 415, 510, 510, 415, 510, 415, 408, 510, 415, 415, 415, 415, 415, 415, 408, 415, 408, 408, 415, 415, 408, 415, 415, 408, 415, 415, 415, 415, 510, 408, 408, 510, 415, 510, 415, 415, 408, 408, 408, 415, 510, 408, 510, 415, 415, 408, 510, 415, 408, 510, 415, 408, 510, 510, 408, 415, 510, 408, 510, 510, 408, 510, 408, 415, 415, 415, 415, 408, 415, 510, 408, 415, 510, 415, 415, 415, 415, 415, 408, 510, 408, 510, 510, 415, 510, 510, 415, 510, 510, 415, 415, 415, 415, 415, 415, 408, 415, 510, 415, 415, 408, 510, 415, 415, 415, 510, 408, 408, 408, 415, 415, 510, 510, 510, 415, 408, 415, 408, 510, 408, 408, 510, 510, 510, 415, 415, 510, 510, 408, 510, 415, 510, 408, 415, 415, 415, 408, 510, 415, 415, 510, 415, 510, 510, 415, 408, 415, 408, 415, 408, 408, 408, 408, 408, 415, 415, 408, 408, 415, 415, 415, 415, 415, 415, 408, 415, 415, 415, 415, 415, 408, 415, 415, 510, 415, 415, 415, 408, 415, 415, 510, 415, 510, 415, 415, 415, 510, 510, 415, 408, 415, 510, 415, 415, 415, 408, 510, 415, 415, 415, 510, 510, 415, 408, 415, 415, 415, 415, 415, 510, 408, 408, 415, 415, 510, 415, 415, 415, 510, 415, 415, 408, 510, 510, 415, 510, 415, 408, 510, 415, 510, 510, 415, 510, 408, 510, 510, 408, 510, 510, 510, 415, 510, 408, 408, 510, 415, 408, 415, 415, 408, 415, 415, 415, 408, 415, 408, 415, 415, 510, 415, 415, 510, 415, 408, 408, 510, 415, 510, 510, 510, 408, 408, 408, 408, 415, 510, 510, 415, 510, 415, 510, 415, 415, 415, 415, 415, 408, 415, 415, 415, 408, 415, 415, 415, 415, 415, 510, 415, 415, 415, 408, 415, 408, 415, 408, 415, 408, 510, 510, 408, 415, 408, 415, 510, 408, 408, 510, 408, 510, 415, 415, 510, 415, 415, 415, 415, 510, 408, 415, 415, 415, 408, 408, 415, 415, 415, 510, 510, 510, 510, 415, 408, 415, 415, 510, 510, 415, 415, 408, 408, 408, 415, 415, 408, 408, 415, 415, 510, 510, 510, 510, 408, 510, 415, 415, 408, 510, 415, 415, 408, 408, 408, 415, 415, 415, 408, 510, 408, 408, 415, 408, 408, 408, 408, 510, 510, 415, 408, 510, 408, 415, 510, 510, 415, 510, 415, 415, 415, 415, 415, 415, 415, 510, 415, 510, 415, 408, 510, 408, 510, 510, 415, 415, 510, 408, 415, 415, 510, 408, 510, 415, 415, 408, 415, 408, 415, 408, 510, 408, 408, 415, 415, 415, 408, 415, 415, 510, 415, 408, 415, 415, 408, 415, 408, 415, 415, 510, 510, 415, 415, 415, 415, 408, 408, 415, 415, 408, 415, 415, 510, 415, 415, 408, 415, 408, 408, 415, 415, 408, 408, 510, 415, 510, 415, 415, 408, 408, 415, 415, 510, 510, 415, 415, 510, 408, 510, 510, 415, 415, 408, 415, 415, 415, 415, 415, 510, 510, 415, 415, 510, 415, 510, 510, 510, 415, 415, 415, 510, 408, 415, 408, 510, 415, 510, 415, 510, 510, 510, 408, 415, 510, 415, 510, 415, 510, 408, 415, 415, 415, 415, 510, 510, 510, 415, 415, 408, 415, 415, 415, 510, 408, 510, 415, 415, 510, 415, 415, 415, 415, 415, 510, 415, 510, 408, 415, 415, 415, 415, 415, 415, 415, 415, 415, 415, 510, 408, 415, 510, 415, 510, 415, 408, 510, 415, 510, 408, 415, 415, 408, 408, 415, 510, 415, 415, 510, 408, 408, 415, 415, 408, 415, 415, 415, 510, 510, 408, 415, 408, 408, 415, 510, 510, 510, 510, 510, 510, 510, 415, 510, 510, 408, 415, 510, 415, 415, 510, 510, 415, 510, 415, 415, 510, 408, 415, 408, 510, 415, 510, 415, 510, 510, 415, 408, 415, 415, 408, 408, 415, 415, 415, 408, 415, 408, 408, 510, 415, 415, 510, 408, 415, 415, 408, 415, 415, 510, 408, 510, 415, 415, 510, 408, 510, 408, 510, 510, 408, 415, 415, 415, 415, 415, 510, 408, 510, 415, 408, 415, 408, 510, 408, 415, 415, 415, 510, 415, 415, 510, 415, 415, 408, 415, 415, 510, 510, 510, 415, 415, 415, 408, 415, 408, 415, 415, 415, 510, 408, 510, 408, 415, 415, 408, 415, 510, 415, 415, 415, 408, 415, 415, 415, 510, 415, 415, 510, 415, 510, 408, 408, 510, 415, 415, 408, 415, 510, 415, 510, 415, 415, 408, 415, 408, 408, 415, 415, 415, 415, 510, 415, 415, 415, 510, 408, 415, 408, 415, 415, 408, 415, 510, 408, 408, 415, 415, 415, 415, 408, 510, 510, 415, 408, 415, 415, 510, 408, 415, 510, 415, 415, 415, 415, 510, 408, 415, 415, 510, 510, 510, 510, 510, 415, 510, 415, 408, 415, 408, 510, 415, 510, 415, 408, 415, 415, 510, 415, 415, 415, 415, 415, 415, 415, 415, 415, 415, 408, 510, 510, 510, 415, 415, 510, 415, 510, 415, 415, 510, 408, 408, 510, 408, 510, 415, 415, 510, 510, 510, 415, 510, 408, 510, 415, 510, 510, 510, 415, 415, 408, 408, 415, 408, 415, 510, 415, 510, 415, 415, 510, 415, 415, 510, 408, 415, 510, 415, 408, 408, 510, 415, 408, 415, 415, 408, 408, 415, 408, 415, 510, 415, 408, 408, 408, 510, 510, 510, 510, 408, 408, 415, 510, 415, 415, 510, 415, 415, 510, 510, 415, 415, 510, 510, 415, 510, 415, 415, 510, 408, 415, 408, 408, 415, 408, 415, 415, 415, 415, 415, 408, 415, 408, 408, 415, 415, 415, 415, 408, 415, 408, 408, 415, 415, 510, 408, 510, 415, 415, 415, 415, 408, 415, 415, 408, 415, 415, 415, 408, 408, 408, 408, 415, 415, 408, 415, 415, 408, 510, 510, 510, 408, 415, 415, 510, 408, 510, 415, 408, 415, 408, 408, 415, 415, 415, 415, 408, 415, 510, 408, 510, 510, 415, 415, 415, 415, 408, 415, 408, 415, 415, 510, 415, 510, 415, 510, 415, 415, 415, 415, 408, 415, 415, 510, 510, 415, 510, 408, 408, 415, 415, 415, 510, 415, 408, 415, 510, 510, 415, 415, 415, 415, 415, 510, 510, 510, 408, 510, 408, 510, 510, 408, 510, 510, 510, 415, 415, 510, 510, 510, 415, 408, 415, 415, 415, 415, 510, 415, 415, 510, 415, 510, 415, 415, 415, 510, 408, 415, 510, 415, 408, 408, 415, 415, 415, 415, 510, 415, 408, 408, 415, 510, 510, 415, 415, 408, 510, 510, 408, 415, 415, 415, 415, 415, 408, 510, 408, 408, 415, 415, 415, 408, 408, 415, 415, 510, 415, 510, 415, 408, 415, 510, 415, 415, 510, 415, 415, 510, 415, 415, 415, 510, 415, 510, 415, 408, 415, 415, 408, 415, 510, 415, 510, 408, 415, 510, 415, 408, 408, 415, 408, 408, 415, 415, 510, 415, 415, 408, 415, 415, 510, 415, 415, 408, 408, 408, 510, 408, 415, 415, 408, 408, 408, 415, 408, 510, 415, 415, 415, 510, 415, 415, 408, 415, 415, 408, 415, 510, 415, 408, 415, 408, 415, 415, 415, 415, 415, 415, 510, 415, 415, 408, 510, 415, 415, 415, 510, 510, 510, 415, 415, 510, 415, 415, 510, 408, 408, 415, 408, 415, 510, 510, 510, 415, 415, 408, 415, 408, 510, 415, 408, 415, 510, 510, 408, 415, 415, 415, 415, 510, 415, 408, 510, 415, 415, 415, 510, 415, 510, 415, 510, 408, 415, 510, 415, 510, 415, 408, 408, 510, 415, 415, 510, 415, 415, 415, 415, 408, 415, 510, 415, 408, 408, 510, 415, 408, 415, 415, 408, 408, 415, 415, 510, 415, 415, 510, 415, 415, 415, 415, 415, 408, 415, 510, 415, 415, 415, 408, 415, 408, 510, 415, 415, 510, 415, 408, 415, 415, 408, 408, 415, 415, 510, 415, 510, 408, 415, 408, 510, 510, 415, 510, 408, 415, 408, 408, 510, 408, 415, 408, 415, 415, 408, 415, 415, 415, 408, 415, 415, 510, 415, 510, 415, 415, 510, 415, 510, 510, 510, 415, 510, 510, 415, 415, 408, 415, 408, 408, 415, 510, 510, 408, 510, 415, 415, 415, 408, 408, 415, 408, 415, 415, 510, 408, 415, 415, 415, 408, 408, 415, 415, 510, 415, 415, 415, 415, 415, 415, 408, 510, 415, 415, 510, 408, 408, 415, 415, 415, 415, 510, 415, 510, 415, 415, 415, 415, 415, 415, 415, 408, 415, 415, 415, 510, 408, 415, 510, 415, 510, 415, 510, 408, 415, 415, 415, 408, 415, 408, 415, 415, 415, 415, 408, 415, 415, 415, 415, 408, 510, 415, 408, 415, 510, 510, 408, 510, 510, 510, 510, 415, 415, 415, 510, 510, 415, 408, 510, 415, 415, 408, 408, 510, 415, 510, 408, 510, 408, 408, 415, 415, 510, 510, 510, 415, 408, 510, 408, 415, 408, 415, 408, 415, 415, 415, 415, 408, 408, 415, 415, 510, 415, 510, 415, 408, 415, 408, 510, 510, 510, 408, 415, 510, 415, 408, 415, 415, 408, 415, 415, 415, 415, 415, 415, 510, 408, 510, 408, 510, 415, 415, 415, 510, 408, 415, 408, 415, 408, 415, 415, 408, 510, 415, 510, 510, 510, 415, 415, 408, 415, 510, 510, 510, 408, 510, 415, 415, 415, 408, 415, 415, 510, 415, 408, 415, 415, 408, 415, 415, 415, 415, 415, 408, 510, 408, 510, 510, 415, 510, 415, 415, 415, 415, 408, 408, 408, 408, 415, 415, 415, 510, 408, 415, 415, 415, 510, 510, 408, 415, 415, 510, 415, 415, 408, 415, 415, 510, 510, 510, 415, 510, 415, 415, 510, 510, 408, 510, 510, 408, 510, 408, 415, 415, 415, 415, 415, 415, 510, 510, 415, 415, 510, 415, 415, 415, 408, 415, 408, 415, 510, 408, 408, 415, 415, 415, 408, 408, 415, 510, 408, 408, 415, 510, 415, 408, 415, 408, 415, 408, 415, 510, 408, 415, 415, 415, 510, 408, 415, 510, 510, 408, 408, 510, 415, 510, 408, 510, 408, 408, 510, 510, 415, 415, 510, 408, 415, 510, 510, 408, 408, 408, 408, 510, 408, 510, 408, 408, 408, 415, 408, 510, 510, 510, 415, 415, 408, 415, 510, 415, 415, 408, 510, 510, 408, 510, 510, 408, 415, 415, 415, 415, 510, 408, 408, 415, 415, 415, 415, 510, 408, 415, 510, 408, 415, 415, 408, 408, 415, 415, 408, 408, 510, 408, 415, 415, 510, 408, 408, 415, 415, 415, 408, 415, 415, 408, 510, 510, 415, 415, 510, 415, 408, 415, 415, 415, 415, 408, 510, 415, 408, 415, 510, 415, 415, 408, 510, 415, 415, 415, 415, 415, 408, 510, 415, 510, 408, 510, 510, 510, 408, 415, 415, 510, 510, 415, 415, 408, 510, 510, 415, 415, 510, 408, 408, 415, 415, 510, 510, 408, 510, 415, 510, 415, 408, 415, 408, 408, 415, 415, 510, 510, 510, 510, 510, 415, 415, 415, 408, 415, 408, 408, 415, 510, 415, 510, 510, 415, 415, 408, 415, 408, 415, 510, 408, 510, 415, 415, 415, 415, 415, 408, 415, 415, 510, 415, 408, 510, 415, 415, 510, 415, 408, 415, 510, 415, 408, 408, 415, 510, 415, 415, 408, 510, 415, 415, 510, 510, 415, 408, 415, 415, 408, 408, 415, 415, 415, 415, 408, 510, 510, 415, 415, 415, 415, 510, 408, 408, 408, 415, 510, 408, 415, 408, 510, 408, 408, 415, 415, 415, 408, 415, 510, 415, 415, 408, 408, 415, 415, 415, 510, 408, 408, 415, 408, 510, 510, 415, 510, 408, 415, 415, 408, 510, 408, 408, 408, 510, 408, 415, 415, 415, 408, 408, 510, 510, 415, 510, 408, 510, 510, 510, 408, 415, 415, 510, 408, 408, 408, 415, 408, 510, 510, 415, 415, 415, 415, 415, 510, 415, 510, 415, 415, 415, 415, 408, 415, 408, 415, 415, 415, 415, 415, 408, 408, 415, 510, 510, 415, 408, 415, 415, 415, 510, 415, 510, 510, 415, 415, 415, 510, 408, 510, 510, 415, 415, 415, 510, 415, 415, 510, 510, 510, 415, 415, 415, 415, 510, 510, 408, 415, 510, 408, 408, 415, 415, 415, 415, 415, 510, 510, 415, 510, 510, 415, 408, 408, 408, 510, 415, 415, 415, 415, 415, 415, 415, 415, 408, 415, 415, 415, 415, 415, 510, 408, 415, 408, 510, 415, 510, 510, 510, 510, 510, 408, 510, 415, 408, 415, 415, 415, 415, 415, 510, 415, 510, 415, 408, 510, 510, 415, 408, 415, 415, 415, 408, 408, 415, 415, 415, 408, 408, 510, 408, 415, 510, 510, 408, 415, 415, 415, 510, 415, 510, 415, 510, 415, 415, 415, 415, 415, 415, 415, 415, 408, 415, 510, 415, 415, 510, 408, 415, 510, 510, 415, 415, 415, 510, 415, 510, 415, 415, 510, 415, 415, 415, 415, 415, 510, 408, 415, 408, 415, 408, 415, 415, 415, 510, 415, 415, 408, 510, 510, 510, 415, 415, 415, 415, 415, 510, 415, 415, 510, 415, 510, 415, 415, 510, 408, 510, 510, 415, 408, 415, 408, 415, 415, 415, 408, 415, 415, 408, 415, 408, 408, 415, 510, 415, 415, 415, 415, 415, 415, 415, 408, 408, 415, 415, 415, 510, 415, 415, 510, 415, 510, 415, 415, 510, 510, 408, 415, 408, 510, 510, 408, 408, 408, 510, 415, 510, 408, 510, 415, 415, 510, 510, 415, 408, 415, 510, 415, 415, 415, 408, 415, 510, 510, 415, 415, 408, 408, 415, 510, 415, 415, 510, 408, 415, 510, 415, 415, 408, 408, 415, 415, 415, 415, 510, 415, 415, 415, 510, 415, 415, 415, 510, 415, 415, 415, 510, 408, 510, 415, 415, 408, 408, 415, 415, 415, 510, 415, 415, 415, 415, 408, 415, 415, 408, 415, 415, 408, 415, 415, 408, 415, 408, 510, 510, 510, 415, 415, 415, 408, 510, 408, 408, 415, 415, 510, 415, 415, 408, 510, 415, 415, 408, 510, 415, 408, 510, 415, 415, 415, 415, 408, 408, 408, 415, 415, 415, 415, 408, 415, 415, 510, 415, 408, 510, 408, 408, 408, 408, 510, 408, 510, 510, 415, 415, 415, 408, 415, 415, 510, 415, 510, 510, 408, 510, 415, 510, 415, 415, 415, 408, 408, 408, 415, 408, 415, 415, 408, 510, 408, 415, 510, 408, 415, 408, 408, 408, 415, 408, 408, 415, 408, 510, 415, 408, 510, 415, 510, 510, 415, 510, 510, 408, 415, 510, 415, 415, 510, 415, 415, 415, 415, 415, 510, 510, 415, 510, 415, 510, 415, 510, 510, 415, 510, 510, 415, 510, 408, 415, 408, 510, 408, 408, 415, 415, 510, 408, 408, 510, 415, 415, 415, 415, 415, 408, 415, 415, 510, 510, 415, 415, 415, 415, 415, 510, 408, 415, 415, 510, 415, 415, 408, 408, 408, 415, 415, 408, 408, 415, 415, 415, 510, 408, 510, 510, 415, 415, 415, 408, 415, 415, 408, 415, 408, 415, 415, 415, 510, 415, 408, 510, 510, 415, 415, 415, 415, 415, 415, 415, 510, 415, 408, 510, 408, 408, 415, 510, 408, 415, 415, 415, 415, 510, 415, 510, 408, 510, 415, 510, 415, 415, 510, 415, 415, 408, 415, 415, 415, 408, 510, 415, 408, 415, 415, 415, 510, 510, 415, 510, 408, 510, 415, 415, 408, 408, 415, 510, 510, 415, 408, 415, 408, 510, 415, 510, 415, 415, 415, 408, 415, 415, 408, 510, 415, 408, 415, 408, 510, 408, 408, 510, 415, 510, 415, 415, 510, 510, 415, 408, 415, 408, 408, 415, 408, 510, 415, 510, 415, 408, 415, 415, 415, 415, 415, 408, 408, 408, 415, 408, 408, 510, 415, 415, 510, 408, 510, 408, 510, 408, 510, 415, 415, 408, 408, 415, 415, 408, 415, 415, 415, 408, 510, 415, 415, 415, 415, 408, 415, 415, 510, 408, 510, 415, 408, 408, 415, 510, 408, 415, 415, 408, 415, 408, 408, 415, 408, 415, 415, 415, 510, 510, 415, 415, 408, 408, 415, 510, 408, 408, 415, 415, 510, 510, 510, 415, 510, 415, 408, 415, 415, 510, 415, 408, 408, 415, 415, 415, 510, 510, 415, 415, 415, 415, 415, 415, 510, 415, 510, 408, 415, 510, 415, 415, 408, 510, 415, 415, 415, 408, 415, 415, 408, 408, 408, 415, 415, 415, 408, 415, 408, 510, 510, 415, 510, 415, 415, 415, 415, 408, 415, 415, 415, 408, 415, 415, 415, 415, 510, 415, 408, 408, 415, 415, 408, 408, 408, 408, 408, 415, 415, 408, 408, 415, 510, 415, 415, 415, 415, 415, 408, 415, 510, 415, 415, 408, 415, 510, 415, 415, 510, 415, 408, 510, 408, 510, 510, 415, 415, 415, 510, 408, 510, 408, 415, 415, 415, 415, 415, 415, 415, 408, 415, 415, 415, 415, 408, 408, 415, 415, 415, 415, 408, 415, 415, 408, 415, 415, 415, 415, 415, 408, 415, 408, 415, 415, 408, 415, 415, 415, 510, 510, 415, 415, 408, 510, 408, 415, 415, 510, 415, 408, 415, 415, 408, 415, 408, 415, 415, 415, 408, 408, 415, 408, 408, 415, 415, 510, 408, 415, 415, 415, 415, 415, 510, 415, 408, 408, 415, 510, 415, 510, 415, 510, 408, 415, 408, 415, 415, 415, 510, 415, 415, 510, 415, 415, 415, 415, 415, 510, 510, 415, 415, 415, 408, 510, 415, 415, 408, 408, 408, 408, 415, 510, 415, 408, 415, 415, 415, 415, 415, 415, 408, 510, 510, 510, 510, 415, 408, 415, 408, 408, 408, 510, 415, 415, 415, 510, 408, 415, 408, 510, 510, 415, 408, 408, 510, 415, 415, 510, 510, 415, 415, 510, 408, 415, 510, 510, 408, 415, 510, 415, 415, 415, 415, 415, 408, 415, 415, 415, 415, 510, 415, 408, 408, 408, 415, 408, 510, 415, 415, 408, 408, 408, 415, 408, 408, 415, 408, 415, 408, 408, 510, 415, 415, 415, 510, 510, 510, 415, 415, 415, 510, 408, 510, 408, 415, 408, 415, 510, 415, 408, 415, 510, 415, 415, 510, 415, 408, 415, 415, 415, 408, 408, 415, 415, 415, 408, 510, 415, 510, 415, 408, 415, 510, 415, 415, 415, 408, 510, 415, 408, 510, 415, 408, 415, 408, 408, 408, 415, 510, 415, 415, 415, 408, 415, 510, 415, 415, 510, 415, 415, 510, 510, 415, 415, 510, 510, 408, 510, 510, 408, 408, 510, 408, 415, 415, 510, 415, 510, 415, 510, 510, 510, 510, 415, 415, 408, 408, 415, 408, 415, 408, 510, 415, 510, 415, 408, 510, 510, 415, 510, 408, 408, 415, 510, 415, 408, 415, 415, 415, 415, 415, 408, 510, 415, 415, 415, 408, 510, 415, 415, 510, 408, 415, 408, 510, 415, 415, 408, 510, 415, 415, 510, 415, 415, 510, 415, 415, 510, 408, 408, 510, 510, 415, 415, 415, 408, 408, 415, 510, 415, 415, 415, 415, 415, 408, 510, 510, 408, 408, 408, 415, 510, 408, 510, 408, 415, 415, 510, 415, 510, 415, 408, 408, 415, 408, 415, 415, 408, 408, 415, 415, 510, 415, 415, 415, 510, 415, 408, 415, 415, 408, 415, 415, 415, 415, 510, 510, 415], \"legendgroup\": \"\", \"name\": \"\", \"showlegend\": true, \"type\": \"pie\", \"values\": [75.56, 59.24000000000001, 62.290000000000006, 66.8, 52.089999999999996, 67.61, 78.31, 46.900000000000006, 73.32, 80.53999999999999, 54.2, 57.08, 40.190000000000005, 59.64, 59.309999999999995, 92.29, 65.02, 58.989999999999995, 60.50000000000001, 63.9, 59.0, 36.019999999999996, 48.06, 41.05, 48.08, 60.15, 63.24, 44.61, 64.12, 49.6, 41.14, 69.42999999999999, 55.29, 79.67999999999999, 58.49, 66.72, 48.42, 54.2, 58.03, 58.44, 46.63999999999999, 56.199999999999996, 61.92999999999999, 39.15, 58.260000000000005, 48.3, 59.36000000000001, 56.129999999999995, 55.53, 47.25, 68.32, 68.49000000000001, 63.620000000000005, 62.76, 56.14, 65.94, 45.370000000000005, 49.849999999999994, 55.36000000000001, 65.82, 57.67999999999999, 71.41999999999999, 64.0, 62.029999999999994, 45.51, 50.89000000000001, 70.46, 46.88, 63.42999999999999, 55.199999999999996, 72.08, 68.96, 64.84, 62.67999999999999, 65.16, 55.49999999999999, 81.75, 27.02, 60.57, 56.459999999999994, 73.63, 69.96000000000001, 50.599999999999994, 77.16000000000001, 68.94, 66.53999999999999, 50.709999999999994, 65.6, 48.72, 74.64, 48.96, 62.03, 49.36000000000001, 72.6, 55.26, 64.21000000000001, 56.68999999999999, 62.25000000000001, 62.809999999999995, 75.32000000000001, 57.24, 56.129999999999995, 46.849999999999994, 52.980000000000004, 57.989999999999995, 68.13, 75.88000000000001, 46.42999999999999, 49.0, 65.09, 62.61000000000001, 63.86, 57.120000000000005, 53.78999999999999, 36.48, 66.75, 47.010000000000005, 76.91000000000001, 43.410000000000004, 67.83, 67.59, 56.74, 60.61, 48.51, 48.29, 68.33999999999999, 34.84, 56.23, 42.41, 64.63, 52.78999999999999, 54.919999999999995, 73.17999999999999, 62.34, 62.46, 50.95, 60.49999999999999, 64.42999999999999, 56.790000000000006, 57.660000000000004, 60.8, 67.04, 56.14, 70.71, 58.53, 61.86, 55.09, 73.16, 58.989999999999995, 73.5, 62.38, 51.239999999999995, 57.60000000000001, 67.72000000000001, 71.92, 69.83, 87.89, 63.150000000000006, 63.82, 49.760000000000005, 45.92, 72.08999999999999, 65.57, 42.26, 56.87, 73.05999999999999, 60.10000000000001, 69.71000000000001, 53.580000000000005, 63.81, 67.25, 55.650000000000006, 53.2, 47.09, 62.61999999999999, 68.0, 53.26, 65.75, 59.73, 73.36, 67.00999999999999, 31.05, 50.169999999999995, 66.83000000000001, 73.32999999999998, 73.02, 44.13, 72.09, 52.02, 68.3, 45.54, 51.06, 64.00999999999999, 51.019999999999996, 71.30999999999999, 58.690000000000005, 55.32999999999999, 81.57000000000001, 81.97999999999999, 43.73, 58.3, 72.94, 65.25, 50.68, 59.300000000000004, 47.81, 60.370000000000005, 61.89, 64.26, 72.33, 65.82, 67.6, 55.559999999999995, 52.49999999999999, 65.97, 58.9, 52.279999999999994, 62.87, 75.54, 57.68, 57.02, 56.81999999999999, 57.44, 56.21, 39.769999999999996, 68.19000000000001, 68.02, 53.8, 76.12, 70.6, 76.66999999999999, 70.45, 64.77000000000001, 57.309999999999995, 62.78, 52.27, 57.54, 41.04, 37.58, 55.83, 57.209999999999994, 47.73, 73.25999999999999, 63.95, 75.02000000000001, 44.57, 33.67, 64.74000000000001, 61.66, 63.28, 53.09, 62.480000000000004, 65.21, 53.01, 58.599999999999994, 58.199999999999996, 51.28, 48.260000000000005, 38.78, 56.349999999999994, 58.03, 49.269999999999996, 53.76, 61.64, 69.97999999999999, 73.35, 67.52999999999999, 53.53, 35.480000000000004, 53.1, 69.42999999999999, 49.32, 67.88, 65.35000000000001, 55.71, 65.5, 67.04, 54.160000000000004, 66.33999999999999, 66.23, 56.059999999999995, 63.17, 59.35, 75.42000000000002, 63.540000000000006, 55.559999999999995, 57.10000000000001, 69.76, 61.83, 89.31, 73.48, 36.14, 54.79, 52.07, 55.03, 62.33, 44.76, 56.49, 66.33000000000001, 62.58, 50.57, 78.74000000000001, 75.14999999999999, 65.03, 49.61000000000001, 71.24, 81.0, 77.76, 60.559999999999995, 71.24000000000001, 76.5, 67.7, 62.199999999999996, 51.71, 55.29, 45.23, 52.849999999999994, 50.55, 71.16, 63.559999999999995, 66.60000000000001, 50.33, 58.690000000000005, 50.0, 63.01, 37.43, 41.42, 70.27999999999999, 64.02, 62.81, 67.25, 78.92999999999999, 48.080000000000005, 63.07, 59.730000000000004, 58.199999999999996, 62.36, 63.53, 74.02, 67.04, 65.5, 68.31, 65.48, 36.97, 44.43000000000001, 67.47999999999999, 52.98, 61.92999999999999, 49.58, 41.57, 61.83, 70.75000000000001, 46.699999999999996, 61.44, 71.02, 48.029999999999994, 69.94999999999999, 49.93999999999999, 51.01, 57.62, 80.86999999999999, 50.86, 57.07000000000001, 64.85000000000001, 57.33, 92.2, 63.56, 51.17, 42.57, 67.75, 65.42, 65.43, 62.24, 59.09, 63.31, 60.59, 50.52, 65.18, 64.53, 63.56000000000001, 71.21, 53.75, 55.050000000000004, 71.9, 58.52, 69.96, 65.09, 61.22, 49.870000000000005, 57.269999999999996, 62.00999999999999, 51.839999999999996, 63.92000000000001, 65.25, 66.91000000000001, 62.71, 51.77, 74.67, 52.66, 59.480000000000004, 52.62, 60.67, 51.23, 62.00000000000001, 62.84, 70.06, 47.11000000000001, 53.599999999999994, 51.86, 57.50999999999999, 53.81, 43.660000000000004, 73.83, 70.93, 51.93, 77.88, 53.67, 67.72, 55.839999999999996, 70.69, 67.88000000000001, 66.75999999999999, 70.96999999999998, 68.87, 60.79, 60.730000000000004, 41.940000000000005, 48.59, 58.61000000000001, 56.53, 77.07, 65.56, 71.97999999999999, 51.44, 77.86, 61.39, 69.78, 74.39999999999999, 66.62, 53.53000000000001, 73.94999999999999, 58.89, 49.190000000000005, 68.27000000000001, 63.08, 44.349999999999994, 54.22, 70.7, 45.18, 71.67, 57.27, 72.99000000000001, 60.12, 69.54, 79.89, 77.1, 44.6, 57.44, 60.839999999999996, 51.400000000000006, 72.0, 60.629999999999995, 39.39, 53.54, 66.17999999999999, 56.41, 68.38000000000001, 60.739999999999995, 40.239999999999995, 66.57, 68.53, 44.38, 33.22, 52.25000000000001, 67.78999999999999, 53.38, 70.89, 51.22, 54.88999999999999, 61.05, 60.589999999999996, 54.540000000000006, 54.99999999999999, 60.41, 70.5, 44.379999999999995, 68.66, 73.41, 69.39999999999999, 56.86, 73.02999999999999, 67.42, 57.9, 57.46, 69.74, 52.949999999999996, 53.43000000000001, 65.94, 55.440000000000005, 55.989999999999995, 49.83, 75.24000000000001, 69.21000000000001, 64.43, 63.45, 52.57, 57.769999999999996, 68.68, 64.29, 56.230000000000004, 50.88, 68.03, 60.089999999999996, 67.13000000000001, 72.18, 43.629999999999995, 53.059999999999995, 58.07, 58.8, 55.1, 66.59, 39.17, 73.66000000000001, 30.039999999999996, 60.46999999999999, 32.5, 66.17999999999999, 33.39, 45.879999999999995, 52.800000000000004, 57.61, 58.64, 70.08, 44.93, 71.99000000000001, 46.86, 54.120000000000005, 51.60999999999999, 66.5, 49.199999999999996, 45.519999999999996, 57.28, 77.67999999999999, 67.84, 44.919999999999995, 58.45, 78.67, 49.129999999999995, 51.03, 69.37, 54.22, 63.59, 82.32, 37.529999999999994, 57.46, 54.709999999999994, 66.39, 64.45, 64.77, 49.98, 61.370000000000005, 61.29, 66.80999999999999, 46.44, 73.46, 58.75, 57.97, 60.309999999999995, 72.64, 71.86999999999999, 58.8, 44.95, 43.13, 69.93, 77.54, 81.80000000000001, 67.09, 50.22999999999999, 59.33, 73.1, 78.19, 63.05, 51.61000000000001, 58.8, 75.65, 35.18, 67.01, 43.91, 48.66, 40.089999999999996, 72.89, 50.739999999999995, 49.81999999999999, 67.00999999999999, 64.25, 49.94, 49.18000000000001, 49.04, 52.16, 67.07000000000001, 48.480000000000004, 53.16, 56.29, 46.470000000000006, 58.739999999999995, 90.46000000000001, 57.67, 46.86, 65.32000000000001, 56.77, 67.44999999999999, 62.93, 57.32, 68.15, 70.11, 58.91, 60.949999999999996, 59.41, 55.92, 81.81, 64.53999999999999, 43.21, 56.42, 62.94, 58.78, 54.019999999999996, 63.519999999999996, 70.42999999999999, 46.26, 83.37, 61.53, 47.97, 48.07, 46.62, 66.03, 56.88, 52.48, 54.17, 72.80000000000001, 45.81, 53.620000000000005, 57.0, 62.14, 73.88, 67.08, 67.53999999999999, 71.24, 52.52, 27.54, 75.56, 69.64999999999999, 64.36, 57.47, 65.3, 58.739999999999995, 56.25, 59.14, 58.88999999999999, 47.910000000000004, 45.77, 82.38, 74.3, 71.07999999999998, 50.08, 62.01, 64.6, 65.03, 51.66, 67.96999999999998, 63.5, 79.07000000000001, 46.8, 52.47, 54.95, 60.4, 65.63, 60.61, 64.83, 59.05, 77.32, 61.14999999999999, 48.419999999999995, 65.05, 58.46, 49.05, 33.86, 65.84, 61.96999999999999, 86.38, 66.29999999999998, 63.61, 51.92999999999999, 65.27000000000001, 56.06999999999999, 60.48, 38.6, 55.2, 60.4, 66.92, 64.49, 38.94, 45.06999999999999, 61.2, 56.46, 64.59, 40.23, 62.97, 60.89, 41.099999999999994, 59.019999999999996, 66.7, 62.38999999999999, 36.58, 66.48, 57.71, 74.05, 71.63999999999999, 64.48, 56.22, 63.58, 56.94, 39.65, 61.480000000000004, 56.64, 62.0, 56.04, 54.0, 66.81, 73.01, 61.949999999999996, 76.4, 72.41999999999999, 73.21, 62.39, 57.470000000000006, 40.8, 52.24999999999999, 54.169999999999995, 60.13, 61.70000000000001, 65.11, 38.4, 67.57, 59.84, 64.72999999999999, 56.89, 47.93, 60.339999999999996, 68.31, 54.27, 50.830000000000005, 50.04, 54.18, 40.489999999999995, 60.05, 56.69, 66.08, 52.220000000000006, 76.39000000000001, 62.89, 66.88000000000001, 62.34000000000001, 63.60999999999999, 72.3, 58.48, 59.09, 71.1, 66.38, 67.93, 62.56999999999999, 58.510000000000005, 44.67, 61.93, 54.620000000000005, 57.43, 57.550000000000004, 71.14, 52.1, 61.28, 68.23, 72.00999999999999, 53.519999999999996, 68.7, 40.309999999999995, 73.78999999999999, 70.51, 64.27, 74.11, 55.75, 48.230000000000004, 70.89, 59.099999999999994, 77.34999999999998, 51.02, 63.83, 66.45, 51.45, 56.75, 65.56, 51.74, 74.32000000000001, 69.69, 72.46000000000001, 73.47, 73.79, 57.94, 51.83, 48.27, 54.71999999999999, 62.78, 63.4, 59.7, 41.85, 65.77, 50.62, 82.28, 69.17999999999999, 43.82, 62.53, 56.2, 49.53, 33.79, 57.14, 46.49999999999999, 56.629999999999995, 58.580000000000005, 58.129999999999995, 58.03, 61.330000000000005, 61.42, 50.949999999999996, 66.75999999999999, 83.14, 64.06, 35.54, 35.72, 65.15, 48.79, 73.59, 69.02, 52.44, 63.43, 47.89, 61.010000000000005, 57.489999999999995, 76.11, 63.010000000000005, 52.24, 68.53, 63.71999999999999, 65.14, 58.129999999999995, 73.06, 56.71, 70.92, 68.99, 54.58, 60.97, 60.39, 79.36999999999999, 58.31, 55.55, 59.38, 61.419999999999995, 49.74, 59.86000000000001, 69.81, 48.830000000000005, 61.44, 61.81, 54.870000000000005, 78.13, 63.79, 64.77000000000001, 58.5, 56.309999999999995, 57.57000000000001, 69.44, 64.93, 75.61, 56.78, 53.160000000000004, 59.47, 50.81, 66.49, 74.05, 45.599999999999994, 63.71, 63.29, 48.77, 61.5, 43.33, 59.370000000000005, 57.63, 46.910000000000004, 56.67, 47.93, 66.73, 55.68000000000001, 69.35, 46.96, 85.46, 58.5, 61.84, 75.08000000000001, 51.489999999999995, 62.040000000000006, 45.010000000000005, 60.41, 41.150000000000006, 53.72, 85.7, 47.60000000000001, 77.98, 88.13000000000001, 40.2, 55.24, 43.93000000000001, 71.98000000000002, 57.059999999999995, 43.06999999999999, 47.83, 71.78000000000002, 47.74999999999999, 51.83, 32.92, 56.42999999999999, 48.129999999999995, 53.31, 64.88999999999999, 57.26, 42.02, 69.89, 52.18, 44.120000000000005, 72.44000000000001, 62.43, 60.8, 52.62, 47.47, 62.629999999999995, 62.64, 61.51, 65.85, 55.919999999999995, 56.56, 78.77000000000001, 56.129999999999995, 54.14, 70.01, 47.9, 58.0, 58.129999999999995, 58.25, 57.830000000000005, 57.230000000000004, 62.43, 60.919999999999995, 67.21, 50.13, 63.0, 72.14, 60.79, 55.339999999999996, 62.36, 59.709999999999994, 63.92000000000001, 63.26, 61.88999999999999, 62.85, 62.1, 62.35, 62.86, 49.0, 56.77, 84.56, 48.76, 48.209999999999994, 83.52000000000001, 48.35000000000001, 59.4, 53.31, 52.89, 67.59, 61.74000000000001, 96.15, 43.68, 78.17, 53.620000000000005, 73.05, 69.26, 56.09000000000001, 33.32, 47.620000000000005, 75.07, 53.88999999999999, 48.21, 65.02, 62.14, 53.900000000000006, 75.28999999999999, 49.550000000000004, 50.290000000000006, 57.93000000000001, 56.519999999999996, 59.29, 67.6, 52.65, 44.779999999999994, 55.72, 72.31, 60.330000000000005, 48.480000000000004, 56.52, 43.410000000000004, 69.83, 48.43, 61.18, 75.11999999999999, 50.309999999999995, 55.91, 50.010000000000005, 52.0, 48.46, 57.61000000000001, 82.30999999999999, 50.78, 69.16, 66.29, 68.61999999999999, 68.68, 48.44, 63.660000000000004, 62.5, 45.96, 60.65, 52.87, 47.519999999999996, 39.13, 53.49, 64.18, 71.63999999999999, 44.99, 55.73, 60.05, 59.79999999999999, 70.37, 58.910000000000004, 64.93, 52.28, 43.23, 72.44, 33.64, 57.49999999999999, 47.66, 51.22, 53.540000000000006, 42.099999999999994, 58.029999999999994, 63.809999999999995, 52.35000000000001, 61.11, 42.790000000000006, 42.44, 51.4, 68.26, 71.02, 60.76, 55.99, 57.870000000000005, 53.11, 64.75, 56.24, 50.529999999999994, 67.39999999999999, 57.98, 33.97, 51.010000000000005, 82.8, 66.14999999999999, 57.36, 80.65, 65.93, 64.89, 71.88, 70.05, 56.44, 68.75999999999999, 50.629999999999995, 62.629999999999995, 53.160000000000004, 56.85, 55.96, 43.73, 67.49, 72.39, 52.95, 81.38, 58.010000000000005, 68.45000000000002, 69.15, 58.89, 51.269999999999996, 58.51, 64.18, 65.64, 62.019999999999996, 57.51, 58.1, 51.260000000000005, 59.97, 57.98, 47.69, 64.79, 64.99, 56.4, 63.25999999999999, 62.089999999999996, 56.839999999999996, 66.64, 50.550000000000004, 54.519999999999996, 66.77, 57.400000000000006, 61.940000000000005, 48.42, 44.040000000000006, 62.54, 57.28000000000001, 39.18, 36.089999999999996, 65.99, 42.519999999999996, 52.24, 64.54, 72.27000000000001, 79.56000000000002, 60.47, 54.17, 64.36999999999999, 62.05, 62.45, 46.58, 67.67999999999999, 58.120000000000005, 51.84, 55.61, 70.21, 49.45, 43.849999999999994, 54.19, 58.03, 56.919999999999995, 41.459999999999994, 62.17, 50.9, 53.94, 51.58, 60.85, 47.43999999999999, 42.59, 59.14, 48.97999999999999, 70.12, 52.150000000000006, 86.84, 47.23, 57.68, 57.339999999999996, 49.1, 63.339999999999996, 51.63, 57.24999999999999, 71.25, 47.919999999999995, 55.699999999999996, 60.37, 51.370000000000005, 56.47, 65.7, 63.81999999999999, 68.68, 74.75, 58.4, 65.92, 66.64, 54.71, 70.88000000000001, 54.28, 54.31, 41.03, 55.4, 76.17999999999999, 51.06, 58.95, 63.94, 61.080000000000005, 72.1, 47.919999999999995, 70.57, 69.86, 69.07, 52.129999999999995, 61.84, 72.24, 60.07, 51.040000000000006, 52.45, 62.01, 63.36, 71.38, 61.55, 60.32999999999999, 66.47, 51.239999999999995, 62.739999999999995, 48.22, 58.22, 74.58999999999999, 60.31999999999999, 54.68, 52.25, 65.47999999999999, 61.42, 52.57, 37.17999999999999, 57.879999999999995, 55.99, 57.58, 47.82, 69.89999999999999, 75.71, 69.36, 33.51, 45.43, 58.43999999999999, 55.15, 50.11, 73.15, 55.129999999999995, 56.44, 64.48, 72.13999999999999, 60.849999999999994, 68.92999999999999, 54.970000000000006, 62.050000000000004, 51.34, 61.96, 71.25, 45.5, 56.879999999999995, 64.61, 63.20000000000001, 64.68, 51.2, 54.91, 58.19, 68.17, 56.9, 45.17, 55.9, 58.2, 57.07000000000001, 48.959999999999994, 74.01, 49.900000000000006, 61.67, 67.56, 49.24, 63.080000000000005, 77.11, 60.22, 45.39000000000001, 56.87, 47.93, 78.88, 65.37, 75.14, 56.54, 52.38, 53.28, 73.04, 42.63999999999999, 77.48, 66.65, 47.199999999999996, 54.04, 66.6, 51.43000000000001, 70.44999999999999, 59.13, 67.9, 65.25, 47.949999999999996, 58.540000000000006, 68.99, 63.74, 73.89, 75.94000000000001, 60.97, 43.31, 74.25000000000001, 64.49000000000001, 44.78000000000001, 54.199999999999996, 62.199999999999996, 58.67, 58.01, 58.099999999999994, 39.57, 61.73, 57.019999999999996, 59.88, 52.22, 60.019999999999996, 61.010000000000005, 70.38, 60.24, 68.1, 58.86, 62.410000000000004, 45.400000000000006, 65.01, 55.12, 54.620000000000005, 67.18, 40.97, 64.17999999999999, 50.120000000000005, 57.17, 64.89, 65.7, 65.77, 79.75999999999999, 58.08, 72.34, 66.49, 57.38, 52.44, 60.55, 71.06, 54.43, 60.73, 74.89999999999999, 22.93, 49.769999999999996, 67.66999999999999, 58.87, 49.309999999999995, 82.58, 42.58, 46.239999999999995, 52.11, 54.86, 84.30000000000001, 53.81999999999999, 55.050000000000004, 70.11, 71.04, 41.29, 69.79, 38.18, 51.96, 78.82, 61.66, 43.910000000000004, 66.60999999999999, 61.480000000000004, 60.02, 58.0, 61.62, 44.69, 46.01, 58.76, 70.49, 76.3, 48.06, 58.529999999999994, 65.86, 43.35, 60.21999999999999, 75.07, 53.89000000000001, 35.379999999999995, 45.58, 51.540000000000006, 49.37, 58.63, 65.01, 37.88, 55.88, 74.36, 71.22999999999999, 71.44, 53.99, 57.8, 25.87, 52.08, 60.0, 47.14, 59.79, 66.77000000000001, 50.129999999999995, 43.04, 44.7, 57.279999999999994, 49.279999999999994, 53.309999999999995, 64.34, 60.6, 54.31, 54.940000000000005, 60.1, 57.99, 53.17, 66.14999999999999, 40.0, 63.36, 39.92, 54.489999999999995, 75.69, 59.35999999999999, 39.550000000000004, 55.05000000000001, 51.29, 53.489999999999995, 66.5, 66.15, 64.76, 68.78, 66.03, 54.93, 64.43, 51.51, 49.94, 67.37, 72.41000000000001, 68.78, 54.72, 50.410000000000004, 75.99999999999999, 62.330000000000005, 59.529999999999994, 65.02, 72.02, 44.68, 56.37, 65.42, 72.87, 46.839999999999996, 64.1, 52.169999999999995, 62.3, 61.269999999999996, 60.27, 43.36, 46.02, 54.190000000000005, 63.56, 57.699999999999996, 40.25, 57.53, 57.099999999999994, 64.07, 44.07, 39.120000000000005, 63.43000000000001, 47.440000000000005, 62.94, 53.71000000000001, 60.56, 79.54, 72.78, 48.13, 36.67999999999999, 61.190000000000005, 65.39999999999999, 71.53999999999999, 65.57000000000001, 43.48, 58.61, 61.379999999999995, 69.07000000000001, 52.54, 49.77000000000001, 55.72, 72.23, 64.59, 48.279999999999994, 69.95, 61.300000000000004, 72.68, 49.33, 63.410000000000004, 71.69, 54.45, 55.45, 64.09, 53.89000000000001, 63.18, 67.26, 64.67, 68.01, 59.79, 68.05999999999999, 71.24, 61.96, 62.38, 67.25000000000001, 72.32999999999998, 69.03, 56.790000000000006, 70.21, 60.66, 48.720000000000006, 71.28999999999999, 64.31, 53.17999999999999, 60.7, 55.86000000000001, 62.85999999999999, 55.169999999999995, 48.94, 45.10000000000001, 42.97, 66.01, 52.31, 62.519999999999996, 53.989999999999995, 77.16, 33.849999999999994, 50.839999999999996, 75.48, 74.89, 67.53999999999999, 40.32, 54.53, 30.830000000000002, 60.050000000000004, 42.11000000000001, 67.7, 71.47, 60.24, 53.75, 60.29, 49.480000000000004, 49.08, 71.10000000000001, 47.78, 35.709999999999994, 63.18, 51.879999999999995, 68.61999999999999, 65.24, 58.190000000000005, 65.62, 59.800000000000004, 53.269999999999996, 67.19, 57.15, 55.05000000000001, 56.29, 57.92999999999999, 46.22, 43.730000000000004, 69.00999999999999, 50.66, 53.68, 61.47, 58.95, 64.09, 57.07, 51.88, 69.81, 51.25999999999999, 48.17, 58.309999999999995, 52.6, 54.86, 79.30000000000001, 60.089999999999996, 50.449999999999996, 71.78, 54.81, 74.06, 38.9, 63.43, 60.62, 51.47, 66.39999999999999, 60.06, 47.18, 84.67, 42.57, 55.04, 63.28, 56.269999999999996, 45.27, 63.24, 59.0, 81.41, 69.7, 46.529999999999994, 51.09, 52.84, 71.16000000000001, 50.39, 69.86, 64.64, 69.45, 42.47, 63.08, 61.699999999999996, 76.98, 59.489999999999995, 60.51, 53.58, 59.91, 47.07, 64.33, 25.52, 61.129999999999995, 57.4, 66.05000000000001, 78.89, 59.550000000000004, 57.14, 41.519999999999996, 55.120000000000005, 65.13, 57.230000000000004, 56.89, 63.94, 60.940000000000005, 52.50000000000001, 66.12, 69.89999999999999, 52.529999999999994, 52.17999999999999, 64.88, 68.07000000000001, 34.84, 53.58, 56.260000000000005, 87.29, 77.3, 60.17, 64.27, 38.59, 72.02999999999999, 58.45, 71.9, 51.02, 37.38, 53.36, 53.239999999999995, 47.230000000000004, 57.09, 57.22, 67.98, 66.59, 52.07, 60.449999999999996, 61.03, 52.57000000000001, 63.74999999999999, 56.04, 54.69, 68.39, 51.76, 63.28, 60.4, 64.14, 73.25, 55.849999999999994, 46.480000000000004, 58.93, 58.85, 88.66, 60.35999999999999, 56.2, 51.60999999999999, 67.59, 39.81, 48.11, 72.82, 31.339999999999996, 38.95, 46.7, 68.94, 75.63, 74.99, 66.12, 52.76, 67.71, 63.970000000000006, 59.06, 63.19, 60.760000000000005, 58.17, 84.08, 52.699999999999996, 58.46, 76.34, 64.14, 71.91999999999999, 46.75, 58.7, 65.89, 63.02, 62.74000000000001, 58.019999999999996, 49.47, 56.769999999999996, 52.42, 55.71000000000001, 54.08999999999999, 74.46000000000001, 56.85, 53.910000000000004, 62.16, 40.13, 62.75999999999999, 38.74, 55.76, 52.58, 45.71, 57.019999999999996, 42.05, 54.589999999999996, 80.35000000000001, 54.96, 55.870000000000005, 65.67999999999999, 49.81, 76.64, 53.78, 65.1, 80.35999999999999, 56.45, 73.39, 38.85, 73.75999999999999, 75.54, 64.09, 63.06, 53.28, 67.77, 51.900000000000006, 47.269999999999996, 64.2, 53.59, 54.269999999999996, 63.449999999999996, 51.14, 44.40999999999999, 56.24, 68.27999999999999, 66.48, 68.83, 73.10999999999999, 55.8, 62.39, 76.08, 50.519999999999996, 53.72, 53.39, 50.47, 62.650000000000006, 59.5, 47.99, 52.11, 64.14, 70.33, 79.19, 62.14, 74.67, 47.209999999999994, 62.43, 58.61, 62.26, 59.99000000000001, 46.85999999999999, 59.36, 54.730000000000004, 54.96, 64.69000000000001, 57.300000000000004, 51.29, 61.989999999999995, 52.599999999999994, 51.26, 65.25, 79.97, 59.99, 49.089999999999996, 53.650000000000006, 68.64999999999999, 47.599999999999994, 71.85000000000001, 61.089999999999996, 70.74000000000001, 63.75, 59.959999999999994, 68.3, 63.42, 59.91, 70.33, 61.15999999999999, 66.92, 52.64, 73.84, 55.85999999999999, 60.79, 59.870000000000005, 61.13, 51.15, 56.01, 64.88, 48.1, 75.86, 52.31, 70.50999999999999, 64.13, 63.980000000000004, 58.11, 58.36, 53.040000000000006, 63.5, 71.58, 63.68999999999999, 61.56, 69.27, 66.65, 58.67, 62.29999999999999, 45.03000000000001, 61.28, 60.449999999999996, 59.42, 50.81, 76.84, 58.519999999999996, 56.33, 66.97999999999999, 55.489999999999995, 51.53000000000001, 49.96000000000001, 75.86, 61.15, 53.760000000000005, 53.47, 62.400000000000006, 61.89000000000001, 37.69, 63.74, 76.58999999999999, 72.33999999999999, 63.510000000000005, 70.23, 48.989999999999995, 74.91, 59.35, 67.65, 50.150000000000006, 47.48, 58.11, 65.36, 80.01, 64.36, 62.57000000000001, 51.32, 64.38, 57.04, 55.629999999999995, 57.4, 64.84, 82.26, 50.25, 55.76, 79.13, 65.74000000000001, 52.66, 52.12, 70.79, 45.080000000000005, 47.16, 63.59, 48.5, 64.48, 63.14, 63.11, 78.80000000000001, 48.300000000000004, 59.809999999999995, 60.42, 70.35000000000001, 75.08, 47.790000000000006, 69.14, 64.58, 65.38, 61.01, 55.75000000000001, 58.39, 43.85, 64.74000000000001, 44.050000000000004, 70.86999999999999, 44.63999999999999, 62.69, 52.730000000000004, 54.42, 46.15, 68.22000000000001, 55.21, 57.5, 61.21, 43.33, 64.82, 43.2, 65.54, 71.72, 63.379999999999995, 62.919999999999995, 55.04, 50.54, 50.28, 58.24, 55.059999999999995, 66.09, 62.17, 79.03, 84.92999999999999, 51.0, 38.54, 58.09, 51.150000000000006, 51.669999999999995, 56.7, 59.629999999999995, 63.35, 57.480000000000004, 58.660000000000004, 68.17999999999999, 58.9, 62.17, 59.230000000000004, 60.43000000000001, 47.5, 46.52000000000001, 58.989999999999995, 67.62, 76.00999999999999, 63.720000000000006, 62.0, 63.31, 42.77, 67.85, 40.61, 51.42999999999999, 53.07000000000001, 45.279999999999994, 57.349999999999994, 67.21, 55.6, 53.24, 55.8, 54.24, 59.51, 69.07000000000001, 56.83, 76.94000000000001, 55.13, 46.27, 68.30000000000001, 69.94999999999999, 59.97, 63.89, 59.800000000000004, 52.23, 62.5, 56.209999999999994, 77.13999999999999, 49.93000000000001, 23.25, 50.32, 54.14000000000001, 60.300000000000004, 55.550000000000004, 58.66, 60.489999999999995, 70.26, 49.5, 78.37, 66.42, 67.28, 43.26, 40.69, 53.71999999999999, 76.36999999999999, 60.58999999999999, 58.199999999999996, 63.11, 51.93, 57.59, 71.14, 68.36999999999999, 48.13, 45.24, 60.629999999999995, 50.63, 59.81999999999999, 57.940000000000005, 67.37, 66.99000000000001, 54.38, 60.7, 58.72, 71.57000000000001, 59.269999999999996, 47.900000000000006, 55.49, 55.209999999999994, 54.49, 57.95, 58.050000000000004, 84.67999999999999, 54.53, 68.14, 56.96, 56.2, 74.8, 61.14, 71.14999999999999, 64.31, 43.620000000000005, 79.64, 50.81, 44.699999999999996, 63.339999999999996, 73.82, 46.55, 57.83, 69.66, 56.019999999999996, 63.65, 55.07000000000001, 64.07, 59.53, 72.49, 50.27, 72.9, 49.33, 54.5, 54.379999999999995, 43.65, 73.06, 76.22, 69.44999999999999, 72.59000000000002, 62.68000000000001, 44.419999999999995, 54.31, 61.74999999999999, 64.56, 57.019999999999996, 50.6, 76.29, 58.4, 69.74, 48.529999999999994, 61.29, 58.58, 56.85, 72.73, 68.66000000000001, 42.46999999999999, 71.04, 73.42999999999999, 49.87, 66.91000000000001, 49.89, 56.72, 49.269999999999996, 54.79, 58.31, 63.48000000000001, 64.38, 67.14, 59.50000000000001, 61.5, 64.58, 56.92999999999999, 66.75, 58.93000000000001, 54.18999999999999, 55.74, 85.52999999999999, 33.97, 52.83, 71.81, 80.07, 46.02, 70.55000000000001, 64.92999999999999, 76.38000000000001, 52.739999999999995, 57.42, 49.599999999999994, 47.14, 51.559999999999995, 85.09, 70.28, 62.910000000000004, 54.51, 63.11000000000001, 57.79, 76.63, 58.69, 48.87, 83.32999999999998, 42.28999999999999, 33.74, 55.45, 71.43, 63.71, 44.08, 61.02, 72.7, 54.94, 44.79, 63.59, 69.19, 55.85, 69.66999999999999, 63.51, 64.02, 76.53999999999999, 59.79, 50.349999999999994, 44.25000000000001, 48.62, 46.309999999999995, 64.64, 59.37, 75.67000000000002, 56.53, 74.53999999999999, 75.86000000000001, 50.5, 57.42, 39.660000000000004, 70.76, 78.52999999999999, 67.12, 56.62, 44.72, 63.910000000000004, 54.02, 56.260000000000005, 71.81, 73.53999999999999, 72.17, 61.32999999999999, 64.22, 52.81, 54.56, 60.040000000000006, 63.76, 60.11, 64.27000000000001, 33.800000000000004, 37.86, 50.739999999999995, 58.339999999999996, 61.8, 47.730000000000004, 39.7, 52.0, 67.47999999999999, 65.36, 60.790000000000006, 65.38, 57.29, 80.39, 56.580000000000005, 60.83, 41.29, 48.74, 37.54, 57.04, 72.89, 47.45, 53.89999999999999, 65.45, 65.12, 65.37, 69.16, 52.48000000000001, 43.06, 60.47, 63.43, 46.96, 51.07, 59.73, 47.71, 58.870000000000005, 50.42, 78.22, 66.97999999999999, 65.1, 74.92999999999999, 64.44, 79.38, 67.86, 58.60999999999999, 56.629999999999995, 39.44, 62.64, 59.53, 58.870000000000005, 57.38999999999999, 49.72, 61.190000000000005, 51.08999999999999, 71.96, 62.01, 69.8, 60.459999999999994, 34.11, 44.87, 54.29, 63.78000000000001, 61.37, 69.65, 56.34, 75.78999999999999, 59.6, 52.91000000000001, 30.18, 63.21, 52.269999999999996, 70.72, 58.550000000000004, 52.44, 63.15, 74.08000000000001, 41.92, 68.61999999999999, 53.53000000000001, 28.73, 41.99999999999999, 53.67, 47.519999999999996, 60.84, 68.80000000000001, 75.03999999999999, 77.30000000000001, 80.13000000000001, 72.10000000000001, 37.44, 71.76, 62.24, 81.16999999999999, 64.29, 84.91999999999999, 53.75999999999999, 37.18, 69.68, 58.540000000000006, 58.59, 51.06999999999999, 71.00999999999999, 64.28, 55.59, 57.870000000000005, 65.61, 48.26, 60.190000000000005, 67.33999999999999, 57.98, 55.39000000000001, 53.559999999999995, 55.75, 54.49, 70.13, 56.050000000000004, 77.82000000000001, 75.87, 64.88, 49.39999999999999, 67.17, 54.03, 46.29, 61.76, 47.379999999999995, 38.42, 68.58999999999999, 63.1, 54.67, 57.86000000000001, 32.489999999999995, 48.34, 50.800000000000004, 70.31, 75.1, 61.26, 62.18999999999999, 72.45000000000002, 62.96, 57.949999999999996, 67.92, 67.25, 53.150000000000006, 50.300000000000004, 59.55, 62.959999999999994, 78.33, 51.05, 69.38, 76.78, 56.72, 55.72, 79.69000000000001, 68.08000000000001, 50.58, 49.45, 50.08, 54.92, 71.86999999999999, 54.83, 51.27, 40.57, 54.39, 66.42999999999999, 68.38, 51.51, 43.62, 61.32, 53.78000000000001, 57.52, 57.339999999999996, 62.03000000000001, 69.99, 51.6, 60.66, 75.69, 66.52, 43.32, 56.660000000000004, 57.7, 53.980000000000004, 77.09, 72.86999999999999, 84.85, 61.220000000000006, 43.32, 52.440000000000005, 64.56, 38.93000000000001, 65.04, 48.66, 61.35, 70.22, 50.599999999999994, 70.75, 65.26, 53.669999999999995, 57.190000000000005, 66.85, 57.43, 69.99, 59.660000000000004, 41.43000000000001, 79.58999999999999, 50.7, 58.74, 59.41, 63.099999999999994, 57.64, 47.16, 52.31, 71.43, 72.46, 59.93000000000001, 55.94, 84.1, 62.82, 62.51, 56.27, 57.9, 39.97, 60.06, 67.72, 64.6, 76.74000000000001, 54.199999999999996, 50.910000000000004, 56.62, 76.03, 51.199999999999996, 43.71999999999999, 61.71, 59.11, 59.879999999999995, 64.88000000000001, 65.04, 49.42, 45.07, 60.419999999999995, 78.86, 67.71, 41.519999999999996, 53.550000000000004, 59.449999999999996, 41.67, 63.58, 74.74000000000001, 52.550000000000004, 55.93000000000001, 46.160000000000004, 45.419999999999995, 45.489999999999995, 45.44, 54.10999999999999, 57.160000000000004, 44.349999999999994, 71.47, 56.03, 57.150000000000006, 52.349999999999994, 65.89999999999999, 41.059999999999995, 87.03, 65.67, 56.51, 65.73, 57.09, 60.400000000000006, 55.82, 66.73, 41.58, 76.81, 60.51, 54.660000000000004, 58.64999999999999, 60.55, 69.27999999999999, 52.980000000000004, 75.52000000000001, 54.940000000000005, 64.57, 50.279999999999994, 47.42, 66.93, 61.35999999999999, 73.53999999999999, 64.85, 45.02, 64.27, 55.449999999999996, 58.629999999999995, 39.19, 56.65, 44.519999999999996, 58.41, 60.01, 50.27, 63.699999999999996, 55.050000000000004, 51.900000000000006, 60.059999999999995, 56.61, 54.47, 52.769999999999996, 65.66999999999999, 81.34, 63.16, 64.53, 61.58, 67.8, 66.89, 59.74, 77.55999999999999, 49.74, 48.55, 56.260000000000005, 56.22, 66.8, 49.88999999999999, 57.95, 45.379999999999995, 65.91, 54.31999999999999, 48.449999999999996, 33.46, 47.83, 72.81, 66.39, 55.38999999999999, 68.92000000000002, 62.220000000000006, 50.04, 55.96000000000001, 68.57000000000001, 50.699999999999996, 56.06, 35.34, 66.92, 47.11, 52.16, 37.82, 62.519999999999996, 50.67, 50.94, 67.63, 56.050000000000004, 48.33, 54.330000000000005, 60.74, 50.85, 49.59, 72.55, 64.96, 42.71, 54.81, 63.410000000000004, 61.589999999999996, 71.02, 50.72, 65.7, 67.77, 50.42, 43.12, 80.98, 61.959999999999994, 52.510000000000005, 73.36, 39.43, 49.36, 77.48, 71.42999999999999, 54.42, 52.31, 59.470000000000006, 57.06000000000001, 57.71, 57.81000000000001, 58.72, 61.61999999999999, 68.01, 74.03, 52.550000000000004, 62.019999999999996, 44.08, 67.64999999999999, 45.980000000000004, 66.18, 67.92, 51.41, 53.629999999999995, 50.04, 55.120000000000005, 45.62, 58.24, 75.08, 68.67999999999999, 61.660000000000004, 41.78999999999999, 64.17000000000002, 75.39, 79.39, 52.5, 53.099999999999994, 65.75, 60.699999999999996, 60.55, 54.050000000000004, 48.54, 48.23, 61.129999999999995, 56.51, 65.98, 56.28, 57.24999999999999, 66.41, 58.88, 56.8, 61.46, 75.25, 62.300000000000004, 54.49999999999999, 88.97, 78.67, 44.160000000000004, 67.3, 52.93, 74.92999999999999, 67.25, 60.69, 50.69, 75.67, 58.68999999999999, 81.19000000000001, 77.46, 59.23, 63.46, 70.9, 46.510000000000005, 53.9, 70.2, 60.51, 81.84, 57.269999999999996, 53.459999999999994, 55.940000000000005, 62.86999999999999, 56.120000000000005, 66.38, 61.800000000000004, 56.77000000000001, 66.66, 66.37, 55.35, 55.68, 65.28999999999999, 62.10000000000001, 90.12, 61.19, 58.31, 55.28999999999999, 63.56, 50.809999999999995, 60.44, 56.39, 61.74, 57.49999999999999, 73.05, 79.55000000000001, 61.31999999999999, 50.49, 42.6, 61.23, 67.72, 65.41000000000001, 84.82000000000001, 65.84, 65.98, 50.6, 70.0, 58.949999999999996, 45.67, 65.65, 61.419999999999995, 70.62, 71.75, 68.00000000000001, 53.88, 82.76, 69.16999999999999, 54.120000000000005, 65.63000000000001, 60.779999999999994, 51.18999999999999, 72.65, 59.96000000000001, 57.769999999999996, 47.269999999999996, 60.9, 52.56, 74.52000000000001, 71.01, 48.970000000000006, 60.489999999999995, 69.52, 76.19, 72.79, 62.95, 57.82999999999999, 54.66, 36.35999999999999, 64.84, 63.68, 59.76, 59.220000000000006, 75.07000000000001, 65.16, 58.63, 70.28, 60.43, 72.28999999999999, 61.83, 74.97, 53.53, 87.27999999999999, 65.55, 66.75999999999999, 45.45, 75.08, 64.35999999999999, 54.5, 33.0, 48.75000000000001, 72.82000000000001, 61.54, 30.48, 80.44, 32.86, 78.4, 65.65, 57.8, 57.66, 54.81, 79.62, 59.81000000000001, 51.69, 63.47999999999999, 61.25000000000001, 57.25, 71.13000000000001, 46.309999999999995, 44.56999999999999, 75.15, 52.75, 57.540000000000006, 66.93, 58.580000000000005, 51.2, 64.66999999999999, 74.83, 77.92, 61.709999999999994, 56.339999999999996, 57.97, 35.43, 62.89, 52.27, 54.25, 61.38, 69.35, 69.3, 69.52, 50.260000000000005, 43.78, 59.17000000000001, 80.71000000000001, 52.480000000000004, 67.82000000000001, 48.32, 64.2, 52.120000000000005, 27.77, 62.46999999999999, 67.08, 42.49, 68.94999999999999, 64.51, 43.69, 71.03999999999999, 59.510000000000005, 32.89, 53.11, 78.99, 48.19, 58.08, 48.47, 46.83, 51.6, 47.32, 60.160000000000004, 50.78, 71.22000000000001, 69.46000000000001, 68.57000000000001, 61.76, 68.91, 56.69, 63.87999999999999, 65.37, 66.57000000000001, 62.51, 61.25, 74.67999999999999, 56.56, 53.839999999999996, 45.150000000000006, 73.42999999999999, 53.75, 40.29, 69.6, 42.02, 81.98, 75.54, 44.65999999999999, 62.60999999999999, 52.50000000000001, 38.29, 59.96, 71.06, 59.47, 50.72, 66.98, 43.93, 60.31, 70.76, 59.07, 57.68, 49.260000000000005, 67.89, 52.09, 58.480000000000004, 49.05, 50.53, 72.58, 74.41, 36.459999999999994, 52.98, 49.76, 58.81, 68.26, 59.88, 60.099999999999994, 87.27000000000001, 50.44, 60.85, 52.61, 45.34, 75.37, 44.08, 61.85, 49.43, 68.69, 58.60000000000001, 59.07000000000001, 46.269999999999996, 67.88000000000001, 55.05, 81.07, 51.910000000000004, 43.11, 67.57000000000001, 39.620000000000005, 57.12, 67.42999999999999, 67.21, 60.9, 61.55999999999999, 66.27999999999999, 52.629999999999995, 49.940000000000005, 48.52, 56.14, 68.87, 58.75999999999999, 59.31, 66.28000000000002, 82.3, 27.08, 63.519999999999996, 69.55, 46.4, 69.69, 65.08999999999999, 49.44, 45.87, 67.12, 65.84, 71.02000000000001, 45.839999999999996, 65.86, 45.28, 50.239999999999995, 83.99, 68.64, 70.75, 56.62, 59.8, 50.13, 61.48, 56.290000000000006, 48.32, 69.19000000000001, 76.86, 58.88, 58.05, 55.949999999999996, 45.239999999999995, 75.08000000000001, 62.01, 50.839999999999996, 47.129999999999995, 62.11, 58.64, 48.19, 66.96, 42.81, 42.19, 64.86, 48.449999999999996, 45.06, 73.25, 65.02, 55.07000000000001, 47.27, 55.32, 69.09, 79.39, 49.620000000000005, 55.080000000000005, 73.05, 51.41, 55.03, 60.62, 67.91, 44.08, 62.6, 60.449999999999996, 61.36, 53.870000000000005, 50.34, 57.41, 54.33, 82.29, 58.7, 83.35, 49.73, 61.46, 63.83, 48.51, 68.24, 46.64, 60.05, 49.53, 65.25, 76.30999999999999, 45.3, 44.589999999999996, 65.91, 45.400000000000006, 74.46, 80.52000000000001, 61.93, 41.989999999999995, 63.04, 55.92, 79.42, 62.03, 64.96000000000001, 51.129999999999995, 51.48, 74.69, 62.86, 56.68, 47.78, 45.32, 63.99, 53.43, 69.42999999999999, 51.980000000000004, 52.36, 67.41, 60.550000000000004, 74.47, 49.38, 64.39999999999999, 58.16, 76.57000000000001, 47.50000000000001, 52.589999999999996, 63.74000000000001, 57.8, 39.35, 65.97, 50.730000000000004, 57.19, 57.730000000000004, 68.44, 52.56, 74.75, 46.37, 59.839999999999996, 65.78, 54.76, 69.13, 56.75, 41.25, 72.22, 47.379999999999995, 52.50000000000001, 48.97, 45.690000000000005, 60.010000000000005, 74.57000000000001, 59.870000000000005, 30.209999999999997, 72.1, 70.85999999999999, 67.21000000000001, 65.72, 47.8, 76.89, 48.98, 59.44, 62.33, 55.28, 60.46000000000001, 68.0, 69.95, 42.26, 60.529999999999994, 47.09, 61.76, 53.230000000000004, 54.410000000000004, 62.33, 72.32000000000001, 52.050000000000004, 75.47000000000001, 59.02, 44.23, 45.38, 44.18, 42.63999999999999, 50.04, 66.08, 73.42, 60.38, 56.879999999999995, 60.29, 51.67, 36.85, 58.910000000000004, 64.55, 45.12, 64.28, 60.56, 43.13999999999999, 51.260000000000005, 57.59, 43.87, 61.27, 57.3, 56.669999999999995, 76.34, 34.1, 53.31, 57.63, 53.31, 56.449999999999996, 61.85, 53.19, 63.66000000000001, 60.59, 57.69, 70.41, 49.6, 60.30000000000001, 46.71999999999999, 70.28, 69.69, 63.54, 51.86999999999999, 78.17, 65.85, 62.949999999999996, 44.29, 54.410000000000004, 53.11000000000001, 55.730000000000004, 51.510000000000005, 80.74, 59.59, 36.760000000000005, 56.050000000000004, 52.52, 79.69, 36.7, 47.64, 53.22, 60.760000000000005, 60.19, 69.77, 60.150000000000006, 51.620000000000005, 63.39000000000001, 66.00999999999999, 62.980000000000004, 47.129999999999995, 44.61000000000001, 49.55, 40.88999999999999, 74.91999999999999, 47.620000000000005, 66.09, 75.37000000000002, 56.97, 57.52, 55.83, 61.45, 50.57, 52.949999999999996, 70.25, 62.419999999999995, 71.63, 49.46, 62.53, 45.489999999999995, 54.45, 63.58, 62.699999999999996, 49.339999999999996, 82.45, 50.440000000000005, 66.89, 63.28000000000001, 56.45, 59.39999999999999, 47.34, 73.94, 49.36, 60.24, 64.86, 68.54, 55.10000000000001, 73.84, 52.03999999999999, 56.53, 47.21999999999999, 48.17, 58.74, 87.35000000000001, 58.31, 42.919999999999995, 65.94, 41.900000000000006, 49.91, 49.629999999999995, 56.60000000000001, 73.8, 69.99, 56.660000000000004, 46.900000000000006, 49.42, 60.57, 65.18, 64.73, 70.64, 65.32, 58.78000000000001, 76.25, 69.52, 62.120000000000005, 56.43000000000001, 46.95, 48.18000000000001, 49.0, 61.86, 64.61, 66.99999999999999, 68.73, 51.55, 73.39999999999999, 69.02, 64.88, 74.97999999999999, 61.68000000000001, 78.14999999999999, 39.910000000000004, 52.51, 64.93, 72.25, 55.97, 33.04, 77.66999999999999, 44.209999999999994, 51.38, 59.47, 60.15, 44.94, 62.26, 58.45, 51.57, 60.85, 68.31, 56.419999999999995, 70.27, 65.1, 72.44, 54.120000000000005, 63.21999999999999, 57.51, 42.65, 53.96, 64.19, 58.15, 72.99, 53.13999999999999, 51.43, 35.24999999999999, 65.26, 61.64, 74.66, 70.85, 89.76, 52.58, 82.14, 64.61999999999999, 58.3, 64.0, 34.32, 39.17, 59.230000000000004, 58.6, 56.15, 59.65, 72.99000000000001, 61.43, 64.02, 65.08, 57.989999999999995, 50.83, 60.35, 74.94, 71.13, 75.31, 54.089999999999996, 68.87, 62.440000000000005, 54.86, 61.580000000000005, 65.31, 47.42, 56.36, 51.19, 67.18, 53.190000000000005, 77.34, 53.69, 69.03999999999999, 68.61999999999999, 64.55000000000001, 42.370000000000005, 70.02, 40.82, 49.99999999999999, 40.22, 56.88, 68.97, 57.96, 71.60000000000001, 62.55, 53.15, 68.76, 74.11, 73.66000000000001, 56.980000000000004, 66.53, 50.92999999999999, 67.86, 52.24999999999999, 55.459999999999994, 50.27, 45.48, 79.19, 60.199999999999996, 65.82, 82.51, 65.11, 59.94, 49.07, 82.96, 73.65, 61.61, 46.690000000000005, 63.800000000000004, 52.21000000000001, 70.01, 67.07, 53.42, 60.71, 71.39999999999999, 73.75999999999999, 54.49000000000001, 48.07, 66.98, 56.650000000000006, 55.4, 49.84, 44.07, 58.77, 52.75, 56.46, 38.65, 62.11, 61.48, 65.46000000000001, 43.44, 56.64, 50.44, 74.66000000000001, 52.980000000000004, 50.79, 61.53999999999999, 69.35000000000001, 44.059999999999995, 66.59, 65.56, 71.21, 53.98, 59.519999999999996, 66.99, 41.0, 58.63999999999999, 44.76, 59.74999999999999, 61.150000000000006, 58.559999999999995, 54.39, 48.51, 53.2, 88.39, 55.21, 57.52, 56.279999999999994, 54.39999999999999, 52.169999999999995, 60.10000000000001, 63.53, 67.74, 57.53, 77.01]}],\n",
              "                        {\"legend\": {\"tracegroupgap\": 0}, \"margin\": {\"t\": 60}, \"template\": {\"data\": {\"bar\": [{\"error_x\": {\"color\": \"#2a3f5f\"}, \"error_y\": {\"color\": \"#2a3f5f\"}, \"marker\": {\"line\": {\"color\": \"#E5ECF6\", \"width\": 0.5}}, \"type\": \"bar\"}], \"barpolar\": [{\"marker\": {\"line\": {\"color\": \"#E5ECF6\", \"width\": 0.5}}, \"type\": \"barpolar\"}], \"carpet\": [{\"aaxis\": {\"endlinecolor\": \"#2a3f5f\", \"gridcolor\": \"white\", \"linecolor\": \"white\", \"minorgridcolor\": \"white\", \"startlinecolor\": \"#2a3f5f\"}, \"baxis\": {\"endlinecolor\": \"#2a3f5f\", \"gridcolor\": \"white\", \"linecolor\": \"white\", \"minorgridcolor\": \"white\", \"startlinecolor\": \"#2a3f5f\"}, \"type\": \"carpet\"}], \"choropleth\": [{\"colorbar\": {\"outlinewidth\": 0, \"ticks\": \"\"}, \"type\": \"choropleth\"}], \"contour\": [{\"colorbar\": {\"outlinewidth\": 0, \"ticks\": \"\"}, \"colorscale\": [[0.0, \"#0d0887\"], [0.1111111111111111, \"#46039f\"], [0.2222222222222222, \"#7201a8\"], [0.3333333333333333, \"#9c179e\"], [0.4444444444444444, \"#bd3786\"], [0.5555555555555556, \"#d8576b\"], [0.6666666666666666, \"#ed7953\"], [0.7777777777777778, \"#fb9f3a\"], [0.8888888888888888, \"#fdca26\"], [1.0, \"#f0f921\"]], \"type\": \"contour\"}], \"contourcarpet\": [{\"colorbar\": {\"outlinewidth\": 0, \"ticks\": \"\"}, \"type\": \"contourcarpet\"}], \"heatmap\": [{\"colorbar\": {\"outlinewidth\": 0, \"ticks\": \"\"}, \"colorscale\": [[0.0, \"#0d0887\"], [0.1111111111111111, \"#46039f\"], [0.2222222222222222, \"#7201a8\"], [0.3333333333333333, \"#9c179e\"], [0.4444444444444444, \"#bd3786\"], [0.5555555555555556, \"#d8576b\"], [0.6666666666666666, \"#ed7953\"], [0.7777777777777778, \"#fb9f3a\"], [0.8888888888888888, \"#fdca26\"], [1.0, \"#f0f921\"]], \"type\": \"heatmap\"}], \"heatmapgl\": [{\"colorbar\": {\"outlinewidth\": 0, \"ticks\": \"\"}, \"colorscale\": [[0.0, \"#0d0887\"], [0.1111111111111111, \"#46039f\"], [0.2222222222222222, \"#7201a8\"], [0.3333333333333333, \"#9c179e\"], [0.4444444444444444, \"#bd3786\"], [0.5555555555555556, \"#d8576b\"], [0.6666666666666666, \"#ed7953\"], [0.7777777777777778, \"#fb9f3a\"], [0.8888888888888888, \"#fdca26\"], [1.0, \"#f0f921\"]], \"type\": \"heatmapgl\"}], \"histogram\": [{\"marker\": {\"colorbar\": {\"outlinewidth\": 0, \"ticks\": \"\"}}, \"type\": \"histogram\"}], \"histogram2d\": [{\"colorbar\": {\"outlinewidth\": 0, \"ticks\": \"\"}, \"colorscale\": [[0.0, \"#0d0887\"], [0.1111111111111111, \"#46039f\"], [0.2222222222222222, \"#7201a8\"], [0.3333333333333333, \"#9c179e\"], [0.4444444444444444, \"#bd3786\"], [0.5555555555555556, \"#d8576b\"], [0.6666666666666666, \"#ed7953\"], [0.7777777777777778, \"#fb9f3a\"], [0.8888888888888888, \"#fdca26\"], [1.0, \"#f0f921\"]], \"type\": \"histogram2d\"}], \"histogram2dcontour\": [{\"colorbar\": {\"outlinewidth\": 0, \"ticks\": \"\"}, \"colorscale\": [[0.0, \"#0d0887\"], [0.1111111111111111, \"#46039f\"], [0.2222222222222222, \"#7201a8\"], [0.3333333333333333, \"#9c179e\"], [0.4444444444444444, \"#bd3786\"], [0.5555555555555556, \"#d8576b\"], [0.6666666666666666, \"#ed7953\"], [0.7777777777777778, \"#fb9f3a\"], [0.8888888888888888, \"#fdca26\"], [1.0, \"#f0f921\"]], \"type\": \"histogram2dcontour\"}], \"mesh3d\": [{\"colorbar\": {\"outlinewidth\": 0, \"ticks\": \"\"}, \"type\": \"mesh3d\"}], \"parcoords\": [{\"line\": {\"colorbar\": {\"outlinewidth\": 0, \"ticks\": \"\"}}, \"type\": \"parcoords\"}], \"pie\": [{\"automargin\": true, \"type\": \"pie\"}], \"scatter\": [{\"marker\": {\"colorbar\": {\"outlinewidth\": 0, \"ticks\": \"\"}}, \"type\": \"scatter\"}], \"scatter3d\": [{\"line\": {\"colorbar\": {\"outlinewidth\": 0, \"ticks\": \"\"}}, \"marker\": {\"colorbar\": {\"outlinewidth\": 0, \"ticks\": \"\"}}, \"type\": \"scatter3d\"}], \"scattercarpet\": [{\"marker\": {\"colorbar\": {\"outlinewidth\": 0, \"ticks\": \"\"}}, \"type\": \"scattercarpet\"}], \"scattergeo\": [{\"marker\": {\"colorbar\": {\"outlinewidth\": 0, \"ticks\": \"\"}}, \"type\": \"scattergeo\"}], \"scattergl\": [{\"marker\": {\"colorbar\": {\"outlinewidth\": 0, \"ticks\": \"\"}}, \"type\": \"scattergl\"}], \"scattermapbox\": [{\"marker\": {\"colorbar\": {\"outlinewidth\": 0, \"ticks\": \"\"}}, \"type\": \"scattermapbox\"}], \"scatterpolar\": [{\"marker\": {\"colorbar\": {\"outlinewidth\": 0, \"ticks\": \"\"}}, \"type\": \"scatterpolar\"}], \"scatterpolargl\": [{\"marker\": {\"colorbar\": {\"outlinewidth\": 0, \"ticks\": \"\"}}, \"type\": \"scatterpolargl\"}], \"scatterternary\": [{\"marker\": {\"colorbar\": {\"outlinewidth\": 0, \"ticks\": \"\"}}, \"type\": \"scatterternary\"}], \"surface\": [{\"colorbar\": {\"outlinewidth\": 0, \"ticks\": \"\"}, \"colorscale\": [[0.0, \"#0d0887\"], [0.1111111111111111, \"#46039f\"], [0.2222222222222222, \"#7201a8\"], [0.3333333333333333, \"#9c179e\"], [0.4444444444444444, \"#bd3786\"], [0.5555555555555556, \"#d8576b\"], [0.6666666666666666, \"#ed7953\"], [0.7777777777777778, \"#fb9f3a\"], [0.8888888888888888, \"#fdca26\"], [1.0, \"#f0f921\"]], \"type\": \"surface\"}], \"table\": [{\"cells\": {\"fill\": {\"color\": \"#EBF0F8\"}, \"line\": {\"color\": \"white\"}}, \"header\": {\"fill\": {\"color\": \"#C8D4E3\"}, \"line\": {\"color\": \"white\"}}, \"type\": \"table\"}]}, \"layout\": {\"annotationdefaults\": {\"arrowcolor\": \"#2a3f5f\", \"arrowhead\": 0, \"arrowwidth\": 1}, \"coloraxis\": {\"colorbar\": {\"outlinewidth\": 0, \"ticks\": \"\"}}, \"colorscale\": {\"diverging\": [[0, \"#8e0152\"], [0.1, \"#c51b7d\"], [0.2, \"#de77ae\"], [0.3, \"#f1b6da\"], [0.4, \"#fde0ef\"], [0.5, \"#f7f7f7\"], [0.6, \"#e6f5d0\"], [0.7, \"#b8e186\"], [0.8, \"#7fbc41\"], [0.9, \"#4d9221\"], [1, \"#276419\"]], \"sequential\": [[0.0, \"#0d0887\"], [0.1111111111111111, \"#46039f\"], [0.2222222222222222, \"#7201a8\"], [0.3333333333333333, \"#9c179e\"], [0.4444444444444444, \"#bd3786\"], [0.5555555555555556, \"#d8576b\"], [0.6666666666666666, \"#ed7953\"], [0.7777777777777778, \"#fb9f3a\"], [0.8888888888888888, \"#fdca26\"], [1.0, \"#f0f921\"]], \"sequentialminus\": [[0.0, \"#0d0887\"], [0.1111111111111111, \"#46039f\"], [0.2222222222222222, \"#7201a8\"], [0.3333333333333333, \"#9c179e\"], [0.4444444444444444, \"#bd3786\"], [0.5555555555555556, \"#d8576b\"], [0.6666666666666666, \"#ed7953\"], [0.7777777777777778, \"#fb9f3a\"], [0.8888888888888888, \"#fdca26\"], [1.0, \"#f0f921\"]]}, \"colorway\": [\"#636efa\", \"#EF553B\", \"#00cc96\", \"#ab63fa\", \"#FFA15A\", \"#19d3f3\", \"#FF6692\", \"#B6E880\", \"#FF97FF\", \"#FECB52\"], \"font\": {\"color\": \"#2a3f5f\"}, \"geo\": {\"bgcolor\": \"white\", \"lakecolor\": \"white\", \"landcolor\": \"#E5ECF6\", \"showlakes\": true, \"showland\": true, \"subunitcolor\": \"white\"}, \"hoverlabel\": {\"align\": \"left\"}, \"hovermode\": \"closest\", \"mapbox\": {\"style\": \"light\"}, \"paper_bgcolor\": \"white\", \"plot_bgcolor\": \"#E5ECF6\", \"polar\": {\"angularaxis\": {\"gridcolor\": \"white\", \"linecolor\": \"white\", \"ticks\": \"\"}, \"bgcolor\": \"#E5ECF6\", \"radialaxis\": {\"gridcolor\": \"white\", \"linecolor\": \"white\", \"ticks\": \"\"}}, \"scene\": {\"xaxis\": {\"backgroundcolor\": \"#E5ECF6\", \"gridcolor\": \"white\", \"gridwidth\": 2, \"linecolor\": \"white\", \"showbackground\": true, \"ticks\": \"\", \"zerolinecolor\": \"white\"}, \"yaxis\": {\"backgroundcolor\": \"#E5ECF6\", \"gridcolor\": \"white\", \"gridwidth\": 2, \"linecolor\": \"white\", \"showbackground\": true, \"ticks\": \"\", \"zerolinecolor\": \"white\"}, \"zaxis\": {\"backgroundcolor\": \"#E5ECF6\", \"gridcolor\": \"white\", \"gridwidth\": 2, \"linecolor\": \"white\", \"showbackground\": true, \"ticks\": \"\", \"zerolinecolor\": \"white\"}}, \"shapedefaults\": {\"line\": {\"color\": \"#2a3f5f\"}}, \"ternary\": {\"aaxis\": {\"gridcolor\": \"white\", \"linecolor\": \"white\", \"ticks\": \"\"}, \"baxis\": {\"gridcolor\": \"white\", \"linecolor\": \"white\", \"ticks\": \"\"}, \"bgcolor\": \"#E5ECF6\", \"caxis\": {\"gridcolor\": \"white\", \"linecolor\": \"white\", \"ticks\": \"\"}}, \"title\": {\"x\": 0.05}, \"xaxis\": {\"automargin\": true, \"gridcolor\": \"white\", \"linecolor\": \"white\", \"ticks\": \"\", \"title\": {\"standoff\": 15}, \"zerolinecolor\": \"white\", \"zerolinewidth\": 2}, \"yaxis\": {\"automargin\": true, \"gridcolor\": \"white\", \"linecolor\": \"white\", \"ticks\": \"\", \"title\": {\"standoff\": 15}, \"zerolinecolor\": \"white\", \"zerolinewidth\": 2}}}},\n",
              "                        {\"responsive\": true}\n",
              "                    ).then(function(){\n",
              "                            \n",
              "var gd = document.getElementById('247097a6-d8bb-431b-99bb-3766bef5be94');\n",
              "var x = new MutationObserver(function (mutations, observer) {{\n",
              "        var display = window.getComputedStyle(gd).display;\n",
              "        if (!display || display === 'none') {{\n",
              "            console.log([gd, 'removed!']);\n",
              "            Plotly.purge(gd);\n",
              "            observer.disconnect();\n",
              "        }}\n",
              "}});\n",
              "\n",
              "// Listen for the removal of the full notebook cells\n",
              "var notebookContainer = gd.closest('#notebook-container');\n",
              "if (notebookContainer) {{\n",
              "    x.observe(notebookContainer, {childList: true});\n",
              "}}\n",
              "\n",
              "// Listen for the clearing of the current output cell\n",
              "var outputEl = gd.closest('.output');\n",
              "if (outputEl) {{\n",
              "    x.observe(outputEl, {childList: true});\n",
              "}}\n",
              "\n",
              "                        })\n",
              "                };\n",
              "                \n",
              "            </script>\n",
              "        </div>\n",
              "</body>\n",
              "</html>"
            ]
          },
          "metadata": {}
        }
      ]
    },
    {
      "cell_type": "code",
      "metadata": {
        "id": "QT7HqqitOmt0"
      },
      "source": [
        "unsubscribed2_df = churn_copy2_df[churn_copy2_df['Churn'] == True]"
      ],
      "execution_count": null,
      "outputs": []
    },
    {
      "cell_type": "code",
      "metadata": {
        "colab": {
          "base_uri": "https://localhost:8080/",
          "height": 279
        },
        "id": "d6xBDJzHivAU",
        "outputId": "9cb3efd4-aba3-43a8-dc94-8e814ee4ac8e"
      },
      "source": [
        "total_charge_churn_df = unsubscribed2_df.groupby('Area code')['Total day charge'].mean().reset_index()\n",
        "total_charge_churn_df = total_charge_churn_df.rename(columns={'Total day charge':'Average day charge',})\n",
        "ax = sns.barplot(y='Average day charge', x='Area code', data=total_charge_churn_df)"
      ],
      "execution_count": null,
      "outputs": [
        {
          "output_type": "display_data",
          "data": {
            "image/png": "[encoded data removed]",
            "text/plain": [
              "<Figure size 432x288 with 1 Axes>"
            ]
          },
          "metadata": {
            "needs_background": "light"
          }
        }
      ]
    },
    {
      "cell_type": "code",
      "metadata": {
        "colab": {
          "base_uri": "https://localhost:8080/",
          "height": 279
        },
        "id": "YDJgu3RwwD2w",
        "outputId": "af2bc121-d778-4184-c656-0bf44fc4e1da"
      },
      "source": [
        "total_charge_churn_df = unsubscribed2_df.groupby('Area code')['Total eve charge'].mean().reset_index()\n",
        "total_charge_churn_df = total_charge_churn_df.rename(columns={'Total eve charge':'Average evening charge',})\n",
        "ax = sns.barplot(y='Average evening charge', x='Area code', data=total_charge_churn_df)"
      ],
      "execution_count": null,
      "outputs": [
        {
          "output_type": "display_data",
          "data": {
            "image/png": "[encoded data removed]",
            "text/plain": [
              "<Figure size 432x288 with 1 Axes>"
            ]
          },
          "metadata": {
            "needs_background": "light"
          }
        }
      ]
    },
    {
      "cell_type": "code",
      "metadata": {
        "colab": {
          "base_uri": "https://localhost:8080/",
          "height": 279
        },
        "id": "Z_m2mmvmwSE7",
        "outputId": "2a5a53ec-f38e-454c-844f-318c52c7799a"
      },
      "source": [
        "\n",
        "total_charge_churn_df = unsubscribed2_df.groupby('Area code')['Total night charge'].mean().reset_index()\n",
        "total_charge_churn_df = total_charge_churn_df.rename(columns={'Total night charge':'Average night charge',})\n",
        "ax = sns.barplot(y='Average night charge', x='Area code', data=total_charge_churn_df)"
      ],
      "execution_count": null,
      "outputs": [
        {
          "output_type": "display_data",
          "data": {
            "image/png": "[encoded data removed]",
            "text/plain": [
              "<Figure size 432x288 with 1 Axes>"
            ]
          },
          "metadata": {
            "needs_background": "light"
          }
        }
      ]
    },
    {
      "cell_type": "code",
      "metadata": {
        "colab": {
          "base_uri": "https://localhost:8080/",
          "height": 279
        },
        "id": "HIEEIamVwZMy",
        "outputId": "56e741a1-c233-4512-bc13-1d0f26a6a2dd"
      },
      "source": [
        "total_charge_churn_df = unsubscribed2_df.groupby('Area code')['Total charge'].mean().reset_index()\n",
        "total_charge_churn_df = total_charge_churn_df.rename(columns={'Total charge':'Total mean charge',})\n",
        "ax = sns.barplot(y='Total mean charge', x='Area code', data=total_charge_churn_df)"
      ],
      "execution_count": null,
      "outputs": [
        {
          "output_type": "display_data",
          "data": {
            "image/png": "[encoded data removed]",
            "text/plain": [
              "<Figure size 432x288 with 1 Axes>"
            ]
          },
          "metadata": {
            "needs_background": "light"
          }
        }
      ]
    },
    {
      "cell_type": "code",
      "metadata": {
        "id": "NEv2L-iey0Ee"
      },
      "source": [
        "corr_df = churn_copy2_df.corr()"
      ],
      "execution_count": null,
      "outputs": []
    },
    {
      "cell_type": "code",
      "metadata": {
        "colab": {
          "base_uri": "https://localhost:8080/",
          "height": 454
        },
        "id": "86NNYajDyrfF",
        "outputId": "bddec383-0067-4e87-b80a-d3a0b3fef529"
      },
      "source": [
        "plt.figure(figsize=(15,5))\n",
        "sns.heatmap(corr_df)"
      ],
      "execution_count": null,
      "outputs": [
        {
          "output_type": "execute_result",
          "data": {
            "text/plain": [
              "<matplotlib.axes._subplots.AxesSubplot at 0x7f4f35088550>"
            ]
          },
          "metadata": {},
          "execution_count": 56
        },
        {
          "output_type": "display_data",
          "data": {
            "image/png": "[encoded data removed]",
            "text/plain": [
              "<Figure size 1080x360 with 2 Axes>"
            ]
          },
          "metadata": {
            "needs_background": "light"
          }
        }
      ]
    },
    {
      "cell_type": "code",
      "metadata": {
        "colab": {
          "base_uri": "https://localhost:8080/"
        },
        "id": "kc7ri9hQ0Nzu",
        "outputId": "9cc7a1a9-7333-4193-8f89-79d8b37b80bb"
      },
      "source": [
        "churn_copy2_df.columns"
      ],
      "execution_count": null,
      "outputs": [
        {
          "output_type": "execute_result",
          "data": {
            "text/plain": [
              "Index(['State', 'Account length', 'Area code', 'International plan',\n",
              "       'Voice mail plan', 'Number vmail messages', 'Total day minutes',\n",
              "       'Total day calls', 'Total day charge', 'Total eve minutes',\n",
              "       'Total eve calls', 'Total eve charge', 'Total night minutes',\n",
              "       'Total night calls', 'Total night charge', 'Total intl minutes',\n",
              "       'Total intl calls', 'Total intl charge', 'Customer service calls',\n",
              "       'Churn', 'Total charge'],\n",
              "      dtype='object')"
            ]
          },
          "metadata": {},
          "execution_count": 57
        }
      ]
    },
    {
      "cell_type": "code",
      "metadata": {
        "id": "7jZkOjXCzo5D"
      },
      "source": [
        "churn_copy2_final1_df = churn_copy2_df.drop(['Total day minutes', 'Total eve minutes','Total night minutes','Total intl minutes'], axis = 1)"
      ],
      "execution_count": null,
      "outputs": []
    },
    {
      "cell_type": "code",
      "metadata": {
        "colab": {
          "base_uri": "https://localhost:8080/",
          "height": 454
        },
        "id": "UCiPT51g0iYB",
        "outputId": "628ca745-bb0a-4b02-97f2-6cbb96a23d91"
      },
      "source": [
        "corr_final1_df = churn_copy2_final1_df.corr()\n",
        "plt.figure(figsize=(15,5))\n",
        "sns.heatmap(corr_final1_df)"
      ],
      "execution_count": null,
      "outputs": [
        {
          "output_type": "execute_result",
          "data": {
            "text/plain": [
              "<matplotlib.axes._subplots.AxesSubplot at 0x7f4f31a27490>"
            ]
          },
          "metadata": {},
          "execution_count": 59
        },
        {
          "output_type": "display_data",
          "data": {
            "image/png": "[encoded data removed]",
            "text/plain": [
              "<Figure size 1080x360 with 2 Axes>"
            ]
          },
          "metadata": {
            "needs_background": "light"
          }
        }
      ]
    },
    {
      "cell_type": "code",
      "metadata": {
        "id": "SL7M4tlb1VlC"
      },
      "source": [
        "churn_copy2_final2_df = churn_copy2_final1_df.drop(['Total day charge', 'Total eve charge','Total night charge','Total intl charge'], axis = 1)"
      ],
      "execution_count": null,
      "outputs": []
    },
    {
      "cell_type": "code",
      "metadata": {
        "id": "v0XtznbU1WHs",
        "colab": {
          "base_uri": "https://localhost:8080/",
          "height": 454
        },
        "outputId": "5ccb255a-0202-4c99-c433-7d3fff3448d1"
      },
      "source": [
        "corr_final2_df = churn_copy2_final2_df.corr()\n",
        "plt.figure(figsize=(15,5))\n",
        "sns.heatmap(corr_final2_df)"
      ],
      "execution_count": null,
      "outputs": [
        {
          "output_type": "execute_result",
          "data": {
            "text/plain": [
              "<matplotlib.axes._subplots.AxesSubplot at 0x7f4f329839d0>"
            ]
          },
          "metadata": {},
          "execution_count": 61
        },
        {
          "output_type": "display_data",
          "data": {
            "image/png": "[encoded data removed]",
            "text/plain": [
              "<Figure size 1080x360 with 2 Axes>"
            ]
          },
          "metadata": {
            "needs_background": "light"
          }
        }
      ]
    },
    {
      "cell_type": "code",
      "metadata": {
        "colab": {
          "base_uri": "https://localhost:8080/",
          "height": 437
        },
        "id": "OYLQHdUq2CJy",
        "outputId": "15a126e3-7301-4510-dae9-bdc2ecb3d12f"
      },
      "source": [
        "plt.figure(figsize=(15,5))\n",
        "ax = sns.heatmap(corr_final2_df, annot=True)"
      ],
      "execution_count": null,
      "outputs": [
        {
          "output_type": "display_data",
          "data": {
            "image/png": "[encoded data removed]",
            "text/plain": [
              "<Figure size 1080x360 with 2 Axes>"
            ]
          },
          "metadata": {
            "needs_background": "light"
          }
        }
      ]
    },
    {
      "cell_type": "code",
      "metadata": {
        "colab": {
          "base_uri": "https://localhost:8080/",
          "height": 163
        },
        "id": "Pl_pcUIOFeQF",
        "outputId": "f8affaf5-7030-4910-eaf4-d3aea253a330"
      },
      "source": [
        "telecom_churn_df_copy.columns"
      ],
      "execution_count": null,
      "outputs": [
        {
          "output_type": "error",
          "ename": "NameError",
          "evalue": "ignored",
          "traceback": [
            "\u001b[0;31m---------------------------------------------------------------------------\u001b[0m",
            "\u001b[0;31mNameError\u001b[0m                                 Traceback (most recent call last)",
            "\u001b[0;32m<ipython-input-63-ff372b096c16>\u001b[0m in \u001b[0;36m<module>\u001b[0;34m()\u001b[0m\n\u001b[0;32m----> 1\u001b[0;31m \u001b[0mtelecom_churn_df_copy\u001b[0m\u001b[0;34m.\u001b[0m\u001b[0mcolumns\u001b[0m\u001b[0;34m\u001b[0m\u001b[0;34m\u001b[0m\u001b[0m\n\u001b[0m",
            "\u001b[0;31mNameError\u001b[0m: name 'telecom_churn_df_copy' is not defined"
          ]
        }
      ]
    },
    {
      "cell_type": "code",
      "metadata": {
        "id": "j0ozSxQ8FodG"
      },
      "source": [
        "needed_columns = ['Total day minutes','Total day calls', 'Total day charge', 'Total eve minutes','Total eve calls', 'Total eve charge', \n",
        "                  'Total night minutes','Total night calls', 'Total night charge','Churn']"
      ],
      "execution_count": null,
      "outputs": []
    },
    {
      "cell_type": "code",
      "metadata": {
        "id": "rTGEfGUfGCE_"
      },
      "source": [
        "telecom_churn_df_copy = telecom_churn_df_copy[needed_columns]"
      ],
      "execution_count": null,
      "outputs": []
    },
    {
      "cell_type": "code",
      "metadata": {
        "colab": {
          "base_uri": "https://localhost:8080/",
          "height": 316
        },
        "id": "QA-FZAamGb76",
        "outputId": "568c22b0-44df-4235-d819-e3825673fffb"
      },
      "source": [
        "telecom_churn_df_copy.describe()"
      ],
      "execution_count": null,
      "outputs": [
        {
          "output_type": "execute_result",
          "data": {
            "text/html": [
              "<div>\n",
              "<style scoped>\n",
              "    .dataframe tbody tr th:only-of-type {\n",
              "        vertical-align: middle;\n",
              "    }\n",
              "\n",
              "    .dataframe tbody tr th {\n",
              "        vertical-align: top;\n",
              "    }\n",
              "\n",
              "    .dataframe thead th {\n",
              "        text-align: right;\n",
              "    }\n",
              "</style>\n",
              "<table border=\"1\" class=\"dataframe\">\n",
              "  <thead>\n",
              "    <tr style=\"text-align: right;\">\n",
              "      <th></th>\n",
              "      <th>Total day minutes</th>\n",
              "      <th>Total day calls</th>\n",
              "      <th>Total day charge</th>\n",
              "      <th>Total eve minutes</th>\n",
              "      <th>Total eve calls</th>\n",
              "      <th>Total eve charge</th>\n",
              "      <th>Total night minutes</th>\n",
              "      <th>Total night calls</th>\n",
              "      <th>Total night charge</th>\n",
              "    </tr>\n",
              "  </thead>\n",
              "  <tbody>\n",
              "    <tr>\n",
              "      <th>count</th>\n",
              "      <td>3333.000000</td>\n",
              "      <td>3333.000000</td>\n",
              "      <td>3333.000000</td>\n",
              "      <td>3333.000000</td>\n",
              "      <td>3333.000000</td>\n",
              "      <td>3333.000000</td>\n",
              "      <td>3333.000000</td>\n",
              "      <td>3333.000000</td>\n",
              "      <td>3333.000000</td>\n",
              "    </tr>\n",
              "    <tr>\n",
              "      <th>mean</th>\n",
              "      <td>179.775098</td>\n",
              "      <td>100.435644</td>\n",
              "      <td>30.562307</td>\n",
              "      <td>200.980348</td>\n",
              "      <td>100.114311</td>\n",
              "      <td>17.083540</td>\n",
              "      <td>200.872037</td>\n",
              "      <td>100.107711</td>\n",
              "      <td>9.039325</td>\n",
              "    </tr>\n",
              "    <tr>\n",
              "      <th>std</th>\n",
              "      <td>54.467389</td>\n",
              "      <td>20.069084</td>\n",
              "      <td>9.259435</td>\n",
              "      <td>50.713844</td>\n",
              "      <td>19.922625</td>\n",
              "      <td>4.310668</td>\n",
              "      <td>50.573847</td>\n",
              "      <td>19.568609</td>\n",
              "      <td>2.275873</td>\n",
              "    </tr>\n",
              "    <tr>\n",
              "      <th>min</th>\n",
              "      <td>0.000000</td>\n",
              "      <td>0.000000</td>\n",
              "      <td>0.000000</td>\n",
              "      <td>0.000000</td>\n",
              "      <td>0.000000</td>\n",
              "      <td>0.000000</td>\n",
              "      <td>23.200000</td>\n",
              "      <td>33.000000</td>\n",
              "      <td>1.040000</td>\n",
              "    </tr>\n",
              "    <tr>\n",
              "      <th>25%</th>\n",
              "      <td>143.700000</td>\n",
              "      <td>87.000000</td>\n",
              "      <td>24.430000</td>\n",
              "      <td>166.600000</td>\n",
              "      <td>87.000000</td>\n",
              "      <td>14.160000</td>\n",
              "      <td>167.000000</td>\n",
              "      <td>87.000000</td>\n",
              "      <td>7.520000</td>\n",
              "    </tr>\n",
              "    <tr>\n",
              "      <th>50%</th>\n",
              "      <td>179.400000</td>\n",
              "      <td>101.000000</td>\n",
              "      <td>30.500000</td>\n",
              "      <td>201.400000</td>\n",
              "      <td>100.000000</td>\n",
              "      <td>17.120000</td>\n",
              "      <td>201.200000</td>\n",
              "      <td>100.000000</td>\n",
              "      <td>9.050000</td>\n",
              "    </tr>\n",
              "    <tr>\n",
              "      <th>75%</th>\n",
              "      <td>216.400000</td>\n",
              "      <td>114.000000</td>\n",
              "      <td>36.790000</td>\n",
              "      <td>235.300000</td>\n",
              "      <td>114.000000</td>\n",
              "      <td>20.000000</td>\n",
              "      <td>235.300000</td>\n",
              "      <td>113.000000</td>\n",
              "      <td>10.590000</td>\n",
              "    </tr>\n",
              "    <tr>\n",
              "      <th>max</th>\n",
              "      <td>350.800000</td>\n",
              "      <td>165.000000</td>\n",
              "      <td>59.640000</td>\n",
              "      <td>363.700000</td>\n",
              "      <td>170.000000</td>\n",
              "      <td>30.910000</td>\n",
              "      <td>395.000000</td>\n",
              "      <td>175.000000</td>\n",
              "      <td>17.770000</td>\n",
              "    </tr>\n",
              "  </tbody>\n",
              "</table>\n",
              "</div>"
            ],
            "text/plain": [
              "       Total day minutes  ...  Total night charge\n",
              "count        3333.000000  ...         3333.000000\n",
              "mean          179.775098  ...            9.039325\n",
              "std            54.467389  ...            2.275873\n",
              "min             0.000000  ...            1.040000\n",
              "25%           143.700000  ...            7.520000\n",
              "50%           179.400000  ...            9.050000\n",
              "75%           216.400000  ...           10.590000\n",
              "max           350.800000  ...           17.770000\n",
              "\n",
              "[8 rows x 9 columns]"
            ]
          },
          "metadata": {},
          "execution_count": 28
        }
      ]
    },
    {
      "cell_type": "code",
      "metadata": {
        "colab": {
          "base_uri": "https://localhost:8080/",
          "height": 163
        },
        "id": "3x2lgY5bGWqN",
        "outputId": "a55a7c61-3ff2-40ce-a6d7-6ccb0abb16f2"
      },
      "source": [
        "telecom_churn_df_copy.head()"
      ],
      "execution_count": null,
      "outputs": [
        {
          "output_type": "error",
          "ename": "NameError",
          "evalue": "ignored",
          "traceback": [
            "\u001b[0;31m---------------------------------------------------------------------------\u001b[0m",
            "\u001b[0;31mNameError\u001b[0m                                 Traceback (most recent call last)",
            "\u001b[0;32m<ipython-input-64-59a54889c019>\u001b[0m in \u001b[0;36m<module>\u001b[0;34m()\u001b[0m\n\u001b[0;32m----> 1\u001b[0;31m \u001b[0mtelecom_churn_df_copy\u001b[0m\u001b[0;34m.\u001b[0m\u001b[0mhead\u001b[0m\u001b[0;34m(\u001b[0m\u001b[0;34m)\u001b[0m\u001b[0;34m\u001b[0m\u001b[0;34m\u001b[0m\u001b[0m\n\u001b[0m",
            "\u001b[0;31mNameError\u001b[0m: name 'telecom_churn_df_copy' is not defined"
          ]
        }
      ]
    },
    {
      "cell_type": "code",
      "metadata": {
        "id": "cx2sQoZgLeRZ"
      },
      "source": [
        "def total_sum(cols):\n",
        "  return telecom_churn_df_copy[cols].sum()"
      ],
      "execution_count": null,
      "outputs": []
    },
    {
      "cell_type": "code",
      "metadata": {
        "colab": {
          "base_uri": "https://localhost:8080/",
          "height": 299
        },
        "id": "ZCkM4U6YGukv",
        "outputId": "f08bc0ff-2309-43ff-b043-f0c6fc63179c"
      },
      "source": [
        "cols_list = ['Total day minutes','Total day calls', 'Total day charge', 'Total eve minutes','Total eve calls', 'Total eve charge', 'Total night minutes',\n",
        "                   'Total night calls', 'Total night charge']\n",
        "cols_list_value = []\n",
        "for cols in cols_list:\n",
        "  cols_list_value.append(total_sum(cols))\n",
        "  print(f'The {cols}: {total_sum(cols)}')\n",
        "  \n"
      ],
      "execution_count": null,
      "outputs": [
        {
          "output_type": "error",
          "ename": "NameError",
          "evalue": "ignored",
          "traceback": [
            "\u001b[0;31m---------------------------------------------------------------------------\u001b[0m",
            "\u001b[0;31mNameError\u001b[0m                                 Traceback (most recent call last)",
            "\u001b[0;32m<ipython-input-66-eccaef77de12>\u001b[0m in \u001b[0;36m<module>\u001b[0;34m()\u001b[0m\n\u001b[1;32m      3\u001b[0m \u001b[0mcols_list_value\u001b[0m \u001b[0;34m=\u001b[0m \u001b[0;34m[\u001b[0m\u001b[0;34m]\u001b[0m\u001b[0;34m\u001b[0m\u001b[0;34m\u001b[0m\u001b[0m\n\u001b[1;32m      4\u001b[0m \u001b[0;32mfor\u001b[0m \u001b[0mcols\u001b[0m \u001b[0;32min\u001b[0m \u001b[0mcols_list\u001b[0m\u001b[0;34m:\u001b[0m\u001b[0;34m\u001b[0m\u001b[0;34m\u001b[0m\u001b[0m\n\u001b[0;32m----> 5\u001b[0;31m   \u001b[0mcols_list_value\u001b[0m\u001b[0;34m.\u001b[0m\u001b[0mappend\u001b[0m\u001b[0;34m(\u001b[0m\u001b[0mtotal_sum\u001b[0m\u001b[0;34m(\u001b[0m\u001b[0mcols\u001b[0m\u001b[0;34m)\u001b[0m\u001b[0;34m)\u001b[0m\u001b[0;34m\u001b[0m\u001b[0;34m\u001b[0m\u001b[0m\n\u001b[0m\u001b[1;32m      6\u001b[0m   \u001b[0mprint\u001b[0m\u001b[0;34m(\u001b[0m\u001b[0;34mf'The {cols}: {total_sum(cols)}'\u001b[0m\u001b[0;34m)\u001b[0m\u001b[0;34m\u001b[0m\u001b[0;34m\u001b[0m\u001b[0m\n\u001b[1;32m      7\u001b[0m \u001b[0;34m\u001b[0m\u001b[0m\n",
            "\u001b[0;32m<ipython-input-65-6d2eb662aece>\u001b[0m in \u001b[0;36mtotal_sum\u001b[0;34m(cols)\u001b[0m\n\u001b[1;32m      1\u001b[0m \u001b[0;32mdef\u001b[0m \u001b[0mtotal_sum\u001b[0m\u001b[0;34m(\u001b[0m\u001b[0mcols\u001b[0m\u001b[0;34m)\u001b[0m\u001b[0;34m:\u001b[0m\u001b[0;34m\u001b[0m\u001b[0;34m\u001b[0m\u001b[0m\n\u001b[0;32m----> 2\u001b[0;31m   \u001b[0;32mreturn\u001b[0m \u001b[0mtelecom_churn_df_copy\u001b[0m\u001b[0;34m[\u001b[0m\u001b[0mcols\u001b[0m\u001b[0;34m]\u001b[0m\u001b[0;34m.\u001b[0m\u001b[0msum\u001b[0m\u001b[0;34m(\u001b[0m\u001b[0;34m)\u001b[0m\u001b[0;34m\u001b[0m\u001b[0;34m\u001b[0m\u001b[0m\n\u001b[0m",
            "\u001b[0;31mNameError\u001b[0m: name 'telecom_churn_df_copy' is not defined"
          ]
        }
      ]
    },
    {
      "cell_type": "code",
      "metadata": {
        "colab": {
          "base_uri": "https://localhost:8080/",
          "height": 718
        },
        "id": "CnrEarSajqQd",
        "outputId": "a6c37705-a6d8-4c1d-d027-c2107403da05"
      },
      "source": [
        "fig = plt.figure(figsize=(18, 6))\n",
        "plt.bar(cols_list, cols_list_value)"
      ],
      "execution_count": null,
      "outputs": [
        {
          "output_type": "error",
          "ename": "ValueError",
          "evalue": "ignored",
          "traceback": [
            "\u001b[0;31m---------------------------------------------------------------------------\u001b[0m",
            "\u001b[0;31mValueError\u001b[0m                                Traceback (most recent call last)",
            "\u001b[0;32m<ipython-input-67-9ecea60a1ae8>\u001b[0m in \u001b[0;36m<module>\u001b[0;34m()\u001b[0m\n\u001b[1;32m      1\u001b[0m \u001b[0mfig\u001b[0m \u001b[0;34m=\u001b[0m \u001b[0mplt\u001b[0m\u001b[0;34m.\u001b[0m\u001b[0mfigure\u001b[0m\u001b[0;34m(\u001b[0m\u001b[0mfigsize\u001b[0m\u001b[0;34m=\u001b[0m\u001b[0;34m(\u001b[0m\u001b[0;36m18\u001b[0m\u001b[0;34m,\u001b[0m \u001b[0;36m6\u001b[0m\u001b[0;34m)\u001b[0m\u001b[0;34m)\u001b[0m\u001b[0;34m\u001b[0m\u001b[0;34m\u001b[0m\u001b[0m\n\u001b[0;32m----> 2\u001b[0;31m \u001b[0mplt\u001b[0m\u001b[0;34m.\u001b[0m\u001b[0mbar\u001b[0m\u001b[0;34m(\u001b[0m\u001b[0mcols_list\u001b[0m\u001b[0;34m,\u001b[0m \u001b[0mcols_list_value\u001b[0m\u001b[0;34m)\u001b[0m\u001b[0;34m\u001b[0m\u001b[0;34m\u001b[0m\u001b[0m\n\u001b[0m",
            "\u001b[0;32m/usr/local/lib/python3.7/dist-packages/matplotlib/pyplot.py\u001b[0m in \u001b[0;36mbar\u001b[0;34m(x, height, width, bottom, align, data, **kwargs)\u001b[0m\n\u001b[1;32m   2407\u001b[0m     return gca().bar(\n\u001b[1;32m   2408\u001b[0m         \u001b[0mx\u001b[0m\u001b[0;34m,\u001b[0m \u001b[0mheight\u001b[0m\u001b[0;34m,\u001b[0m \u001b[0mwidth\u001b[0m\u001b[0;34m=\u001b[0m\u001b[0mwidth\u001b[0m\u001b[0;34m,\u001b[0m \u001b[0mbottom\u001b[0m\u001b[0;34m=\u001b[0m\u001b[0mbottom\u001b[0m\u001b[0;34m,\u001b[0m \u001b[0malign\u001b[0m\u001b[0;34m=\u001b[0m\u001b[0malign\u001b[0m\u001b[0;34m,\u001b[0m\u001b[0;34m\u001b[0m\u001b[0;34m\u001b[0m\u001b[0m\n\u001b[0;32m-> 2409\u001b[0;31m         **({\"data\": data} if data is not None else {}), **kwargs)\n\u001b[0m\u001b[1;32m   2410\u001b[0m \u001b[0;34m\u001b[0m\u001b[0m\n\u001b[1;32m   2411\u001b[0m \u001b[0;34m\u001b[0m\u001b[0m\n",
            "\u001b[0;32m/usr/local/lib/python3.7/dist-packages/matplotlib/__init__.py\u001b[0m in \u001b[0;36minner\u001b[0;34m(ax, data, *args, **kwargs)\u001b[0m\n\u001b[1;32m   1563\u001b[0m     \u001b[0;32mdef\u001b[0m \u001b[0minner\u001b[0m\u001b[0;34m(\u001b[0m\u001b[0max\u001b[0m\u001b[0;34m,\u001b[0m \u001b[0;34m*\u001b[0m\u001b[0margs\u001b[0m\u001b[0;34m,\u001b[0m \u001b[0mdata\u001b[0m\u001b[0;34m=\u001b[0m\u001b[0;32mNone\u001b[0m\u001b[0;34m,\u001b[0m \u001b[0;34m**\u001b[0m\u001b[0mkwargs\u001b[0m\u001b[0;34m)\u001b[0m\u001b[0;34m:\u001b[0m\u001b[0;34m\u001b[0m\u001b[0;34m\u001b[0m\u001b[0m\n\u001b[1;32m   1564\u001b[0m         \u001b[0;32mif\u001b[0m \u001b[0mdata\u001b[0m \u001b[0;32mis\u001b[0m \u001b[0;32mNone\u001b[0m\u001b[0;34m:\u001b[0m\u001b[0;34m\u001b[0m\u001b[0;34m\u001b[0m\u001b[0m\n\u001b[0;32m-> 1565\u001b[0;31m             \u001b[0;32mreturn\u001b[0m \u001b[0mfunc\u001b[0m\u001b[0;34m(\u001b[0m\u001b[0max\u001b[0m\u001b[0;34m,\u001b[0m \u001b[0;34m*\u001b[0m\u001b[0mmap\u001b[0m\u001b[0;34m(\u001b[0m\u001b[0msanitize_sequence\u001b[0m\u001b[0;34m,\u001b[0m \u001b[0margs\u001b[0m\u001b[0;34m)\u001b[0m\u001b[0;34m,\u001b[0m \u001b[0;34m**\u001b[0m\u001b[0mkwargs\u001b[0m\u001b[0;34m)\u001b[0m\u001b[0;34m\u001b[0m\u001b[0;34m\u001b[0m\u001b[0m\n\u001b[0m\u001b[1;32m   1566\u001b[0m \u001b[0;34m\u001b[0m\u001b[0m\n\u001b[1;32m   1567\u001b[0m         \u001b[0mbound\u001b[0m \u001b[0;34m=\u001b[0m \u001b[0mnew_sig\u001b[0m\u001b[0;34m.\u001b[0m\u001b[0mbind\u001b[0m\u001b[0;34m(\u001b[0m\u001b[0max\u001b[0m\u001b[0;34m,\u001b[0m \u001b[0;34m*\u001b[0m\u001b[0margs\u001b[0m\u001b[0;34m,\u001b[0m \u001b[0;34m**\u001b[0m\u001b[0mkwargs\u001b[0m\u001b[0;34m)\u001b[0m\u001b[0;34m\u001b[0m\u001b[0;34m\u001b[0m\u001b[0m\n",
            "\u001b[0;32m/usr/local/lib/python3.7/dist-packages/matplotlib/axes/_axes.py\u001b[0m in \u001b[0;36mbar\u001b[0;34m(self, x, height, width, bottom, align, **kwargs)\u001b[0m\n\u001b[1;32m   2340\u001b[0m         x, height, width, y, linewidth = np.broadcast_arrays(\n\u001b[1;32m   2341\u001b[0m             \u001b[0;31m# Make args iterable too.\u001b[0m\u001b[0;34m\u001b[0m\u001b[0;34m\u001b[0m\u001b[0;34m\u001b[0m\u001b[0m\n\u001b[0;32m-> 2342\u001b[0;31m             np.atleast_1d(x), height, width, y, linewidth)\n\u001b[0m\u001b[1;32m   2343\u001b[0m \u001b[0;34m\u001b[0m\u001b[0m\n\u001b[1;32m   2344\u001b[0m         \u001b[0;31m# Now that units have been converted, set the tick locations.\u001b[0m\u001b[0;34m\u001b[0m\u001b[0;34m\u001b[0m\u001b[0;34m\u001b[0m\u001b[0m\n",
            "\u001b[0;32m<__array_function__ internals>\u001b[0m in \u001b[0;36mbroadcast_arrays\u001b[0;34m(*args, **kwargs)\u001b[0m\n",
            "\u001b[0;32m/usr/local/lib/python3.7/dist-packages/numpy/lib/stride_tricks.py\u001b[0m in \u001b[0;36mbroadcast_arrays\u001b[0;34m(subok, *args)\u001b[0m\n\u001b[1;32m    256\u001b[0m     \u001b[0margs\u001b[0m \u001b[0;34m=\u001b[0m \u001b[0;34m[\u001b[0m\u001b[0mnp\u001b[0m\u001b[0;34m.\u001b[0m\u001b[0marray\u001b[0m\u001b[0;34m(\u001b[0m\u001b[0m_m\u001b[0m\u001b[0;34m,\u001b[0m \u001b[0mcopy\u001b[0m\u001b[0;34m=\u001b[0m\u001b[0;32mFalse\u001b[0m\u001b[0;34m,\u001b[0m \u001b[0msubok\u001b[0m\u001b[0;34m=\u001b[0m\u001b[0msubok\u001b[0m\u001b[0;34m)\u001b[0m \u001b[0;32mfor\u001b[0m \u001b[0m_m\u001b[0m \u001b[0;32min\u001b[0m \u001b[0margs\u001b[0m\u001b[0;34m]\u001b[0m\u001b[0;34m\u001b[0m\u001b[0;34m\u001b[0m\u001b[0m\n\u001b[1;32m    257\u001b[0m \u001b[0;34m\u001b[0m\u001b[0m\n\u001b[0;32m--> 258\u001b[0;31m     \u001b[0mshape\u001b[0m \u001b[0;34m=\u001b[0m \u001b[0m_broadcast_shape\u001b[0m\u001b[0;34m(\u001b[0m\u001b[0;34m*\u001b[0m\u001b[0margs\u001b[0m\u001b[0;34m)\u001b[0m\u001b[0;34m\u001b[0m\u001b[0;34m\u001b[0m\u001b[0m\n\u001b[0m\u001b[1;32m    259\u001b[0m \u001b[0;34m\u001b[0m\u001b[0m\n\u001b[1;32m    260\u001b[0m     \u001b[0;32mif\u001b[0m \u001b[0mall\u001b[0m\u001b[0;34m(\u001b[0m\u001b[0marray\u001b[0m\u001b[0;34m.\u001b[0m\u001b[0mshape\u001b[0m \u001b[0;34m==\u001b[0m \u001b[0mshape\u001b[0m \u001b[0;32mfor\u001b[0m \u001b[0marray\u001b[0m \u001b[0;32min\u001b[0m \u001b[0margs\u001b[0m\u001b[0;34m)\u001b[0m\u001b[0;34m:\u001b[0m\u001b[0;34m\u001b[0m\u001b[0;34m\u001b[0m\u001b[0m\n",
            "\u001b[0;32m/usr/local/lib/python3.7/dist-packages/numpy/lib/stride_tricks.py\u001b[0m in \u001b[0;36m_broadcast_shape\u001b[0;34m(*args)\u001b[0m\n\u001b[1;32m    187\u001b[0m     \u001b[0;31m# use the old-iterator because np.nditer does not handle size 0 arrays\u001b[0m\u001b[0;34m\u001b[0m\u001b[0;34m\u001b[0m\u001b[0;34m\u001b[0m\u001b[0m\n\u001b[1;32m    188\u001b[0m     \u001b[0;31m# consistently\u001b[0m\u001b[0;34m\u001b[0m\u001b[0;34m\u001b[0m\u001b[0;34m\u001b[0m\u001b[0m\n\u001b[0;32m--> 189\u001b[0;31m     \u001b[0mb\u001b[0m \u001b[0;34m=\u001b[0m \u001b[0mnp\u001b[0m\u001b[0;34m.\u001b[0m\u001b[0mbroadcast\u001b[0m\u001b[0;34m(\u001b[0m\u001b[0;34m*\u001b[0m\u001b[0margs\u001b[0m\u001b[0;34m[\u001b[0m\u001b[0;34m:\u001b[0m\u001b[0;36m32\u001b[0m\u001b[0;34m]\u001b[0m\u001b[0;34m)\u001b[0m\u001b[0;34m\u001b[0m\u001b[0;34m\u001b[0m\u001b[0m\n\u001b[0m\u001b[1;32m    190\u001b[0m     \u001b[0;31m# unfortunately, it cannot handle 32 or more arguments directly\u001b[0m\u001b[0;34m\u001b[0m\u001b[0;34m\u001b[0m\u001b[0;34m\u001b[0m\u001b[0m\n\u001b[1;32m    191\u001b[0m     \u001b[0;32mfor\u001b[0m \u001b[0mpos\u001b[0m \u001b[0;32min\u001b[0m \u001b[0mrange\u001b[0m\u001b[0;34m(\u001b[0m\u001b[0;36m32\u001b[0m\u001b[0;34m,\u001b[0m \u001b[0mlen\u001b[0m\u001b[0;34m(\u001b[0m\u001b[0margs\u001b[0m\u001b[0;34m)\u001b[0m\u001b[0;34m,\u001b[0m \u001b[0;36m31\u001b[0m\u001b[0;34m)\u001b[0m\u001b[0;34m:\u001b[0m\u001b[0;34m\u001b[0m\u001b[0;34m\u001b[0m\u001b[0m\n",
            "\u001b[0;31mValueError\u001b[0m: shape mismatch: objects cannot be broadcast to a single shape"
          ]
        },
        {
          "output_type": "display_data",
          "data": {
            "image/png": "[encoded data removed]",
            "text/plain": [
              "<Figure size 1296x432 with 1 Axes>"
            ]
          },
          "metadata": {
            "needs_background": "light"
          }
        }
      ]
    },
    {
      "cell_type": "code",
      "metadata": {
        "id": "Oflif9fWMfw-"
      },
      "source": [
        "subscribed_df = telecom_churn_df_copy[telecom_churn_df_copy['Churn'] == False]"
      ],
      "execution_count": null,
      "outputs": []
    },
    {
      "cell_type": "code",
      "metadata": {
        "id": "W7nCsEabWC_q"
      },
      "source": [
        "unsubscribed_df = telecom_churn_df_copy[telecom_churn_df_copy['Churn'] == True]"
      ],
      "execution_count": null,
      "outputs": []
    },
    {
      "cell_type": "code",
      "metadata": {
        "colab": {
          "base_uri": "https://localhost:8080/",
          "height": 223
        },
        "id": "EUbCCOQyWPgi",
        "outputId": "1bcf8489-a3ee-4cf4-d8b1-f7b5505aaf05"
      },
      "source": [
        "unsubscribed_df.head()"
      ],
      "execution_count": null,
      "outputs": [
        {
          "output_type": "execute_result",
          "data": {
            "text/html": [
              "<div>\n",
              "<style scoped>\n",
              "    .dataframe tbody tr th:only-of-type {\n",
              "        vertical-align: middle;\n",
              "    }\n",
              "\n",
              "    .dataframe tbody tr th {\n",
              "        vertical-align: top;\n",
              "    }\n",
              "\n",
              "    .dataframe thead th {\n",
              "        text-align: right;\n",
              "    }\n",
              "</style>\n",
              "<table border=\"1\" class=\"dataframe\">\n",
              "  <thead>\n",
              "    <tr style=\"text-align: right;\">\n",
              "      <th></th>\n",
              "      <th>Total day minutes</th>\n",
              "      <th>Total day calls</th>\n",
              "      <th>Total day charge</th>\n",
              "      <th>Total eve minutes</th>\n",
              "      <th>Total eve calls</th>\n",
              "      <th>Total eve charge</th>\n",
              "      <th>Total night minutes</th>\n",
              "      <th>Total night calls</th>\n",
              "      <th>Total night charge</th>\n",
              "      <th>Churn</th>\n",
              "    </tr>\n",
              "  </thead>\n",
              "  <tbody>\n",
              "    <tr>\n",
              "      <th>10</th>\n",
              "      <td>129.1</td>\n",
              "      <td>137</td>\n",
              "      <td>21.95</td>\n",
              "      <td>228.5</td>\n",
              "      <td>83</td>\n",
              "      <td>19.42</td>\n",
              "      <td>208.8</td>\n",
              "      <td>111</td>\n",
              "      <td>9.40</td>\n",
              "      <td>True</td>\n",
              "    </tr>\n",
              "    <tr>\n",
              "      <th>15</th>\n",
              "      <td>332.9</td>\n",
              "      <td>67</td>\n",
              "      <td>56.59</td>\n",
              "      <td>317.8</td>\n",
              "      <td>97</td>\n",
              "      <td>27.01</td>\n",
              "      <td>160.6</td>\n",
              "      <td>128</td>\n",
              "      <td>7.23</td>\n",
              "      <td>True</td>\n",
              "    </tr>\n",
              "    <tr>\n",
              "      <th>21</th>\n",
              "      <td>62.4</td>\n",
              "      <td>89</td>\n",
              "      <td>10.61</td>\n",
              "      <td>169.9</td>\n",
              "      <td>121</td>\n",
              "      <td>14.44</td>\n",
              "      <td>209.6</td>\n",
              "      <td>64</td>\n",
              "      <td>9.43</td>\n",
              "      <td>True</td>\n",
              "    </tr>\n",
              "    <tr>\n",
              "      <th>33</th>\n",
              "      <td>249.6</td>\n",
              "      <td>118</td>\n",
              "      <td>42.43</td>\n",
              "      <td>252.4</td>\n",
              "      <td>119</td>\n",
              "      <td>21.45</td>\n",
              "      <td>280.2</td>\n",
              "      <td>90</td>\n",
              "      <td>12.61</td>\n",
              "      <td>True</td>\n",
              "    </tr>\n",
              "    <tr>\n",
              "      <th>41</th>\n",
              "      <td>173.1</td>\n",
              "      <td>85</td>\n",
              "      <td>29.43</td>\n",
              "      <td>203.9</td>\n",
              "      <td>107</td>\n",
              "      <td>17.33</td>\n",
              "      <td>122.2</td>\n",
              "      <td>78</td>\n",
              "      <td>5.50</td>\n",
              "      <td>True</td>\n",
              "    </tr>\n",
              "  </tbody>\n",
              "</table>\n",
              "</div>"
            ],
            "text/plain": [
              "    Total day minutes  Total day calls  ...  Total night charge  Churn\n",
              "10              129.1              137  ...                9.40   True\n",
              "15              332.9               67  ...                7.23   True\n",
              "21               62.4               89  ...                9.43   True\n",
              "33              249.6              118  ...               12.61   True\n",
              "41              173.1               85  ...                5.50   True\n",
              "\n",
              "[5 rows x 10 columns]"
            ]
          },
          "metadata": {},
          "execution_count": 38
        }
      ]
    },
    {
      "cell_type": "code",
      "metadata": {
        "colab": {
          "base_uri": "https://localhost:8080/"
        },
        "id": "GDmj3z0LWd57",
        "outputId": "a4249e09-50e0-4704-a4e0-3f8b183cfd6b"
      },
      "source": [
        "minu = unsubscribed_df['Total day minutes'].mean()\n",
        "minu"
      ],
      "execution_count": null,
      "outputs": [
        {
          "output_type": "execute_result",
          "data": {
            "text/plain": [
              "206.91407867494814"
            ]
          },
          "metadata": {},
          "execution_count": 51
        }
      ]
    },
    {
      "cell_type": "code",
      "metadata": {
        "colab": {
          "base_uri": "https://localhost:8080/"
        },
        "id": "vmY2ChcZWqgn",
        "outputId": "d6f6e92f-0dd9-4ab0-861a-c00d82abaac4"
      },
      "source": [
        "charge = unsubscribed_df['Total day charge'].mean()\n",
        "charge"
      ],
      "execution_count": null,
      "outputs": [
        {
          "output_type": "execute_result",
          "data": {
            "text/plain": [
              "35.17592132505176"
            ]
          },
          "metadata": {},
          "execution_count": 52
        }
      ]
    },
    {
      "cell_type": "code",
      "metadata": {
        "colab": {
          "base_uri": "https://localhost:8080/"
        },
        "id": "0O4bmtlvXotU",
        "outputId": "d2c238f4-b090-4c2b-d4f5-4377a2697870"
      },
      "source": [
        "unsubscribed_min_to_charge_ratio = minu/charge\n",
        "unsubscribed_min_to_charge_ratio"
      ],
      "execution_count": null,
      "outputs": [
        {
          "output_type": "execute_result",
          "data": {
            "text/plain": [
              "5.882264653792793"
            ]
          },
          "metadata": {},
          "execution_count": 54
        }
      ]
    },
    {
      "cell_type": "code",
      "metadata": {
        "colab": {
          "base_uri": "https://localhost:8080/"
        },
        "id": "Op-jnvwFYIW7",
        "outputId": "7fec37f6-121e-4d90-a797-b34673a6050a"
      },
      "source": [
        "unsubscribed_df['Total day calls'].mean()"
      ],
      "execution_count": null,
      "outputs": [
        {
          "output_type": "execute_result",
          "data": {
            "text/plain": [
              "101.33540372670808"
            ]
          },
          "metadata": {},
          "execution_count": 55
        }
      ]
    },
    {
      "cell_type": "code",
      "metadata": {
        "colab": {
          "base_uri": "https://localhost:8080/"
        },
        "id": "cTdrB4_uW1Th",
        "outputId": "3264519a-a8cd-4efa-e9e4-8499f075bf49"
      },
      "source": [
        "minu = subscribed_df['Total day minutes'].mean()\n",
        "minu"
      ],
      "execution_count": null,
      "outputs": [
        {
          "output_type": "execute_result",
          "data": {
            "text/plain": [
              "175.17575438596492"
            ]
          },
          "metadata": {},
          "execution_count": 56
        }
      ]
    },
    {
      "cell_type": "code",
      "metadata": {
        "colab": {
          "base_uri": "https://localhost:8080/"
        },
        "id": "3ZXboTnCW-vR",
        "outputId": "602dd755-acae-43ff-ca2d-6464be7f4c32"
      },
      "source": [
        "charge = subscribed_df['Total day charge'].mean()\n",
        "charge"
      ],
      "execution_count": null,
      "outputs": [
        {
          "output_type": "execute_result",
          "data": {
            "text/plain": [
              "29.780421052631663"
            ]
          },
          "metadata": {},
          "execution_count": 57
        }
      ]
    },
    {
      "cell_type": "code",
      "metadata": {
        "colab": {
          "base_uri": "https://localhost:8080/"
        },
        "id": "kFX_6NSZXIUT",
        "outputId": "1cf8d533-ab26-4bee-88ab-d1b790748d1a"
      },
      "source": [
        "subscribed_min_to_charge_ratio = minu/charge\n",
        "subscribed_min_to_charge_ratio"
      ],
      "execution_count": null,
      "outputs": [
        {
          "output_type": "execute_result",
          "data": {
            "text/plain": [
              "5.882245723671017"
            ]
          },
          "metadata": {},
          "execution_count": 58
        }
      ]
    },
    {
      "cell_type": "code",
      "metadata": {
        "colab": {
          "base_uri": "https://localhost:8080/"
        },
        "id": "YtY_Gr0cYDl_",
        "outputId": "af8a4648-b6dd-4db8-a535-4afcd80752ec"
      },
      "source": [
        "subscribed_df['Total day calls'].mean()"
      ],
      "execution_count": null,
      "outputs": [
        {
          "output_type": "execute_result",
          "data": {
            "text/plain": [
              "100.28315789473685"
            ]
          },
          "metadata": {},
          "execution_count": 59
        }
      ]
    },
    {
      "cell_type": "code",
      "metadata": {
        "colab": {
          "base_uri": "https://localhost:8080/",
          "height": 316
        },
        "id": "aBf00sepZKvL",
        "outputId": "32f998fa-4f14-4a4b-cc18-faa2ac728347"
      },
      "source": [
        "unsubscribed_df.describe()"
      ],
      "execution_count": null,
      "outputs": [
        {
          "output_type": "execute_result",
          "data": {
            "text/html": [
              "<div>\n",
              "<style scoped>\n",
              "    .dataframe tbody tr th:only-of-type {\n",
              "        vertical-align: middle;\n",
              "    }\n",
              "\n",
              "    .dataframe tbody tr th {\n",
              "        vertical-align: top;\n",
              "    }\n",
              "\n",
              "    .dataframe thead th {\n",
              "        text-align: right;\n",
              "    }\n",
              "</style>\n",
              "<table border=\"1\" class=\"dataframe\">\n",
              "  <thead>\n",
              "    <tr style=\"text-align: right;\">\n",
              "      <th></th>\n",
              "      <th>Total day minutes</th>\n",
              "      <th>Total day calls</th>\n",
              "      <th>Total day charge</th>\n",
              "      <th>Total eve minutes</th>\n",
              "      <th>Total eve calls</th>\n",
              "      <th>Total eve charge</th>\n",
              "      <th>Total night minutes</th>\n",
              "      <th>Total night calls</th>\n",
              "      <th>Total night charge</th>\n",
              "    </tr>\n",
              "  </thead>\n",
              "  <tbody>\n",
              "    <tr>\n",
              "      <th>count</th>\n",
              "      <td>483.000000</td>\n",
              "      <td>483.000000</td>\n",
              "      <td>483.000000</td>\n",
              "      <td>483.000000</td>\n",
              "      <td>483.000000</td>\n",
              "      <td>483.000000</td>\n",
              "      <td>483.000000</td>\n",
              "      <td>483.000000</td>\n",
              "      <td>483.000000</td>\n",
              "    </tr>\n",
              "    <tr>\n",
              "      <th>mean</th>\n",
              "      <td>206.914079</td>\n",
              "      <td>101.335404</td>\n",
              "      <td>35.175921</td>\n",
              "      <td>212.410145</td>\n",
              "      <td>100.561077</td>\n",
              "      <td>18.054969</td>\n",
              "      <td>205.231677</td>\n",
              "      <td>100.399586</td>\n",
              "      <td>9.235528</td>\n",
              "    </tr>\n",
              "    <tr>\n",
              "      <th>std</th>\n",
              "      <td>68.997792</td>\n",
              "      <td>21.582307</td>\n",
              "      <td>11.729710</td>\n",
              "      <td>51.728910</td>\n",
              "      <td>19.724711</td>\n",
              "      <td>4.396762</td>\n",
              "      <td>47.132825</td>\n",
              "      <td>19.950659</td>\n",
              "      <td>2.121081</td>\n",
              "    </tr>\n",
              "    <tr>\n",
              "      <th>min</th>\n",
              "      <td>0.000000</td>\n",
              "      <td>0.000000</td>\n",
              "      <td>0.000000</td>\n",
              "      <td>70.900000</td>\n",
              "      <td>48.000000</td>\n",
              "      <td>6.030000</td>\n",
              "      <td>47.400000</td>\n",
              "      <td>49.000000</td>\n",
              "      <td>2.130000</td>\n",
              "    </tr>\n",
              "    <tr>\n",
              "      <th>25%</th>\n",
              "      <td>153.250000</td>\n",
              "      <td>87.500000</td>\n",
              "      <td>26.055000</td>\n",
              "      <td>177.100000</td>\n",
              "      <td>87.000000</td>\n",
              "      <td>15.055000</td>\n",
              "      <td>171.250000</td>\n",
              "      <td>85.000000</td>\n",
              "      <td>7.705000</td>\n",
              "    </tr>\n",
              "    <tr>\n",
              "      <th>50%</th>\n",
              "      <td>217.600000</td>\n",
              "      <td>103.000000</td>\n",
              "      <td>36.990000</td>\n",
              "      <td>211.300000</td>\n",
              "      <td>101.000000</td>\n",
              "      <td>17.960000</td>\n",
              "      <td>204.800000</td>\n",
              "      <td>100.000000</td>\n",
              "      <td>9.220000</td>\n",
              "    </tr>\n",
              "    <tr>\n",
              "      <th>75%</th>\n",
              "      <td>265.950000</td>\n",
              "      <td>116.500000</td>\n",
              "      <td>45.210000</td>\n",
              "      <td>249.450000</td>\n",
              "      <td>114.000000</td>\n",
              "      <td>21.205000</td>\n",
              "      <td>239.850000</td>\n",
              "      <td>115.000000</td>\n",
              "      <td>10.795000</td>\n",
              "    </tr>\n",
              "    <tr>\n",
              "      <th>max</th>\n",
              "      <td>350.800000</td>\n",
              "      <td>165.000000</td>\n",
              "      <td>59.640000</td>\n",
              "      <td>363.700000</td>\n",
              "      <td>168.000000</td>\n",
              "      <td>30.910000</td>\n",
              "      <td>354.900000</td>\n",
              "      <td>158.000000</td>\n",
              "      <td>15.970000</td>\n",
              "    </tr>\n",
              "  </tbody>\n",
              "</table>\n",
              "</div>"
            ],
            "text/plain": [
              "       Total day minutes  ...  Total night charge\n",
              "count         483.000000  ...          483.000000\n",
              "mean          206.914079  ...            9.235528\n",
              "std            68.997792  ...            2.121081\n",
              "min             0.000000  ...            2.130000\n",
              "25%           153.250000  ...            7.705000\n",
              "50%           217.600000  ...            9.220000\n",
              "75%           265.950000  ...           10.795000\n",
              "max           350.800000  ...           15.970000\n",
              "\n",
              "[8 rows x 9 columns]"
            ]
          },
          "metadata": {},
          "execution_count": 60
        }
      ]
    },
    {
      "cell_type": "code",
      "metadata": {
        "colab": {
          "base_uri": "https://localhost:8080/"
        },
        "id": "qJbsfMBOaKDa",
        "outputId": "8ab5dbc4-b803-426a-e51f-a0ce98459923"
      },
      "source": [
        "unsubscribed_df.shape"
      ],
      "execution_count": null,
      "outputs": [
        {
          "output_type": "execute_result",
          "data": {
            "text/plain": [
              "(483, 10)"
            ]
          },
          "metadata": {},
          "execution_count": 64
        }
      ]
    },
    {
      "cell_type": "code",
      "metadata": {
        "colab": {
          "base_uri": "https://localhost:8080/"
        },
        "id": "DtGJmMP7aD6_",
        "outputId": "eeb6c182-ee38-4e43-8800-ee1cd7623ea2"
      },
      "source": [
        "subscribed_df.shape"
      ],
      "execution_count": null,
      "outputs": [
        {
          "output_type": "execute_result",
          "data": {
            "text/plain": [
              "(2850, 10)"
            ]
          },
          "metadata": {},
          "execution_count": 63
        }
      ]
    },
    {
      "cell_type": "code",
      "metadata": {
        "colab": {
          "base_uri": "https://localhost:8080/",
          "height": 316
        },
        "id": "wako3G8dZaqI",
        "outputId": "3a92f517-98c6-4b42-fb98-d0f5046e2bd1"
      },
      "source": [
        "subscribed_df.describe()"
      ],
      "execution_count": null,
      "outputs": [
        {
          "output_type": "execute_result",
          "data": {
            "text/html": [
              "<div>\n",
              "<style scoped>\n",
              "    .dataframe tbody tr th:only-of-type {\n",
              "        vertical-align: middle;\n",
              "    }\n",
              "\n",
              "    .dataframe tbody tr th {\n",
              "        vertical-align: top;\n",
              "    }\n",
              "\n",
              "    .dataframe thead th {\n",
              "        text-align: right;\n",
              "    }\n",
              "</style>\n",
              "<table border=\"1\" class=\"dataframe\">\n",
              "  <thead>\n",
              "    <tr style=\"text-align: right;\">\n",
              "      <th></th>\n",
              "      <th>Total day minutes</th>\n",
              "      <th>Total day calls</th>\n",
              "      <th>Total day charge</th>\n",
              "      <th>Total eve minutes</th>\n",
              "      <th>Total eve calls</th>\n",
              "      <th>Total eve charge</th>\n",
              "      <th>Total night minutes</th>\n",
              "      <th>Total night calls</th>\n",
              "      <th>Total night charge</th>\n",
              "    </tr>\n",
              "  </thead>\n",
              "  <tbody>\n",
              "    <tr>\n",
              "      <th>count</th>\n",
              "      <td>2850.000000</td>\n",
              "      <td>2850.000000</td>\n",
              "      <td>2850.000000</td>\n",
              "      <td>2850.000000</td>\n",
              "      <td>2850.000000</td>\n",
              "      <td>2850.000000</td>\n",
              "      <td>2850.000000</td>\n",
              "      <td>2850.000000</td>\n",
              "      <td>2850.000000</td>\n",
              "    </tr>\n",
              "    <tr>\n",
              "      <th>mean</th>\n",
              "      <td>175.175754</td>\n",
              "      <td>100.283158</td>\n",
              "      <td>29.780421</td>\n",
              "      <td>199.043298</td>\n",
              "      <td>100.038596</td>\n",
              "      <td>16.918909</td>\n",
              "      <td>200.133193</td>\n",
              "      <td>100.058246</td>\n",
              "      <td>9.006074</td>\n",
              "    </tr>\n",
              "    <tr>\n",
              "      <th>std</th>\n",
              "      <td>50.181655</td>\n",
              "      <td>19.801157</td>\n",
              "      <td>8.530835</td>\n",
              "      <td>50.292175</td>\n",
              "      <td>19.958414</td>\n",
              "      <td>4.274863</td>\n",
              "      <td>51.105032</td>\n",
              "      <td>19.506246</td>\n",
              "      <td>2.299768</td>\n",
              "    </tr>\n",
              "    <tr>\n",
              "      <th>min</th>\n",
              "      <td>0.000000</td>\n",
              "      <td>0.000000</td>\n",
              "      <td>0.000000</td>\n",
              "      <td>0.000000</td>\n",
              "      <td>0.000000</td>\n",
              "      <td>0.000000</td>\n",
              "      <td>23.200000</td>\n",
              "      <td>33.000000</td>\n",
              "      <td>1.040000</td>\n",
              "    </tr>\n",
              "    <tr>\n",
              "      <th>25%</th>\n",
              "      <td>142.825000</td>\n",
              "      <td>87.000000</td>\n",
              "      <td>24.282500</td>\n",
              "      <td>164.500000</td>\n",
              "      <td>87.000000</td>\n",
              "      <td>13.980000</td>\n",
              "      <td>165.900000</td>\n",
              "      <td>87.000000</td>\n",
              "      <td>7.470000</td>\n",
              "    </tr>\n",
              "    <tr>\n",
              "      <th>50%</th>\n",
              "      <td>177.200000</td>\n",
              "      <td>100.000000</td>\n",
              "      <td>30.120000</td>\n",
              "      <td>199.600000</td>\n",
              "      <td>100.000000</td>\n",
              "      <td>16.970000</td>\n",
              "      <td>200.250000</td>\n",
              "      <td>100.000000</td>\n",
              "      <td>9.010000</td>\n",
              "    </tr>\n",
              "    <tr>\n",
              "      <th>75%</th>\n",
              "      <td>210.300000</td>\n",
              "      <td>114.000000</td>\n",
              "      <td>35.750000</td>\n",
              "      <td>233.200000</td>\n",
              "      <td>114.000000</td>\n",
              "      <td>19.820000</td>\n",
              "      <td>234.900000</td>\n",
              "      <td>113.000000</td>\n",
              "      <td>10.570000</td>\n",
              "    </tr>\n",
              "    <tr>\n",
              "      <th>max</th>\n",
              "      <td>315.600000</td>\n",
              "      <td>163.000000</td>\n",
              "      <td>53.650000</td>\n",
              "      <td>361.800000</td>\n",
              "      <td>170.000000</td>\n",
              "      <td>30.750000</td>\n",
              "      <td>395.000000</td>\n",
              "      <td>175.000000</td>\n",
              "      <td>17.770000</td>\n",
              "    </tr>\n",
              "  </tbody>\n",
              "</table>\n",
              "</div>"
            ],
            "text/plain": [
              "       Total day minutes  ...  Total night charge\n",
              "count        2850.000000  ...         2850.000000\n",
              "mean          175.175754  ...            9.006074\n",
              "std            50.181655  ...            2.299768\n",
              "min             0.000000  ...            1.040000\n",
              "25%           142.825000  ...            7.470000\n",
              "50%           177.200000  ...            9.010000\n",
              "75%           210.300000  ...           10.570000\n",
              "max           315.600000  ...           17.770000\n",
              "\n",
              "[8 rows x 9 columns]"
            ]
          },
          "metadata": {},
          "execution_count": 61
        }
      ]
    },
    {
      "cell_type": "code",
      "metadata": {
        "id": "X4d71O3dZ4qE"
      },
      "source": [
        "corr_df = telecom_churn_df.corr()"
      ],
      "execution_count": null,
      "outputs": []
    },
    {
      "cell_type": "code",
      "metadata": {
        "colab": {
          "base_uri": "https://localhost:8080/",
          "height": 981
        },
        "id": "RqJ43X3ubKwC",
        "outputId": "1cb196fb-d8eb-43e0-c1c4-52dfe4a51a0e"
      },
      "source": [
        "corr_df"
      ],
      "execution_count": null,
      "outputs": [
        {
          "output_type": "execute_result",
          "data": {
            "text/html": [
              "<div>\n",
              "<style scoped>\n",
              "    .dataframe tbody tr th:only-of-type {\n",
              "        vertical-align: middle;\n",
              "    }\n",
              "\n",
              "    .dataframe tbody tr th {\n",
              "        vertical-align: top;\n",
              "    }\n",
              "\n",
              "    .dataframe thead th {\n",
              "        text-align: right;\n",
              "    }\n",
              "</style>\n",
              "<table border=\"1\" class=\"dataframe\">\n",
              "  <thead>\n",
              "    <tr style=\"text-align: right;\">\n",
              "      <th></th>\n",
              "      <th>Account length</th>\n",
              "      <th>Area code</th>\n",
              "      <th>Number vmail messages</th>\n",
              "      <th>Total day minutes</th>\n",
              "      <th>Total day calls</th>\n",
              "      <th>Total day charge</th>\n",
              "      <th>Total eve minutes</th>\n",
              "      <th>Total eve calls</th>\n",
              "      <th>Total eve charge</th>\n",
              "      <th>Total night minutes</th>\n",
              "      <th>Total night calls</th>\n",
              "      <th>Total night charge</th>\n",
              "      <th>Total intl minutes</th>\n",
              "      <th>Total intl calls</th>\n",
              "      <th>Total intl charge</th>\n",
              "      <th>Customer service calls</th>\n",
              "      <th>Churn</th>\n",
              "    </tr>\n",
              "  </thead>\n",
              "  <tbody>\n",
              "    <tr>\n",
              "      <th>Account length</th>\n",
              "      <td>1.000000</td>\n",
              "      <td>-0.012463</td>\n",
              "      <td>-0.004628</td>\n",
              "      <td>0.006216</td>\n",
              "      <td>0.038470</td>\n",
              "      <td>0.006214</td>\n",
              "      <td>-0.006757</td>\n",
              "      <td>0.019260</td>\n",
              "      <td>-0.006745</td>\n",
              "      <td>-0.008955</td>\n",
              "      <td>-0.013176</td>\n",
              "      <td>-0.008960</td>\n",
              "      <td>0.009514</td>\n",
              "      <td>0.020661</td>\n",
              "      <td>0.009546</td>\n",
              "      <td>-0.003796</td>\n",
              "      <td>0.016541</td>\n",
              "    </tr>\n",
              "    <tr>\n",
              "      <th>Area code</th>\n",
              "      <td>-0.012463</td>\n",
              "      <td>1.000000</td>\n",
              "      <td>-0.001994</td>\n",
              "      <td>-0.008264</td>\n",
              "      <td>-0.009646</td>\n",
              "      <td>-0.008264</td>\n",
              "      <td>0.003580</td>\n",
              "      <td>-0.011886</td>\n",
              "      <td>0.003607</td>\n",
              "      <td>-0.005825</td>\n",
              "      <td>0.016522</td>\n",
              "      <td>-0.005845</td>\n",
              "      <td>-0.018288</td>\n",
              "      <td>-0.024179</td>\n",
              "      <td>-0.018395</td>\n",
              "      <td>0.027572</td>\n",
              "      <td>0.006174</td>\n",
              "    </tr>\n",
              "    <tr>\n",
              "      <th>Number vmail messages</th>\n",
              "      <td>-0.004628</td>\n",
              "      <td>-0.001994</td>\n",
              "      <td>1.000000</td>\n",
              "      <td>0.000778</td>\n",
              "      <td>-0.009548</td>\n",
              "      <td>0.000776</td>\n",
              "      <td>0.017562</td>\n",
              "      <td>-0.005864</td>\n",
              "      <td>0.017578</td>\n",
              "      <td>0.007681</td>\n",
              "      <td>0.007123</td>\n",
              "      <td>0.007663</td>\n",
              "      <td>0.002856</td>\n",
              "      <td>0.013957</td>\n",
              "      <td>0.002884</td>\n",
              "      <td>-0.013263</td>\n",
              "      <td>-0.089728</td>\n",
              "    </tr>\n",
              "    <tr>\n",
              "      <th>Total day minutes</th>\n",
              "      <td>0.006216</td>\n",
              "      <td>-0.008264</td>\n",
              "      <td>0.000778</td>\n",
              "      <td>1.000000</td>\n",
              "      <td>0.006750</td>\n",
              "      <td>1.000000</td>\n",
              "      <td>0.007043</td>\n",
              "      <td>0.015769</td>\n",
              "      <td>0.007029</td>\n",
              "      <td>0.004323</td>\n",
              "      <td>0.022972</td>\n",
              "      <td>0.004300</td>\n",
              "      <td>-0.010155</td>\n",
              "      <td>0.008033</td>\n",
              "      <td>-0.010092</td>\n",
              "      <td>-0.013423</td>\n",
              "      <td>0.205151</td>\n",
              "    </tr>\n",
              "    <tr>\n",
              "      <th>Total day calls</th>\n",
              "      <td>0.038470</td>\n",
              "      <td>-0.009646</td>\n",
              "      <td>-0.009548</td>\n",
              "      <td>0.006750</td>\n",
              "      <td>1.000000</td>\n",
              "      <td>0.006753</td>\n",
              "      <td>-0.021451</td>\n",
              "      <td>0.006462</td>\n",
              "      <td>-0.021449</td>\n",
              "      <td>0.022938</td>\n",
              "      <td>-0.019557</td>\n",
              "      <td>0.022927</td>\n",
              "      <td>0.021565</td>\n",
              "      <td>0.004574</td>\n",
              "      <td>0.021666</td>\n",
              "      <td>-0.018942</td>\n",
              "      <td>0.018459</td>\n",
              "    </tr>\n",
              "    <tr>\n",
              "      <th>Total day charge</th>\n",
              "      <td>0.006214</td>\n",
              "      <td>-0.008264</td>\n",
              "      <td>0.000776</td>\n",
              "      <td>1.000000</td>\n",
              "      <td>0.006753</td>\n",
              "      <td>1.000000</td>\n",
              "      <td>0.007050</td>\n",
              "      <td>0.015769</td>\n",
              "      <td>0.007036</td>\n",
              "      <td>0.004324</td>\n",
              "      <td>0.022972</td>\n",
              "      <td>0.004301</td>\n",
              "      <td>-0.010157</td>\n",
              "      <td>0.008032</td>\n",
              "      <td>-0.010094</td>\n",
              "      <td>-0.013427</td>\n",
              "      <td>0.205151</td>\n",
              "    </tr>\n",
              "    <tr>\n",
              "      <th>Total eve minutes</th>\n",
              "      <td>-0.006757</td>\n",
              "      <td>0.003580</td>\n",
              "      <td>0.017562</td>\n",
              "      <td>0.007043</td>\n",
              "      <td>-0.021451</td>\n",
              "      <td>0.007050</td>\n",
              "      <td>1.000000</td>\n",
              "      <td>-0.011430</td>\n",
              "      <td>1.000000</td>\n",
              "      <td>-0.012584</td>\n",
              "      <td>0.007586</td>\n",
              "      <td>-0.012593</td>\n",
              "      <td>-0.011035</td>\n",
              "      <td>0.002541</td>\n",
              "      <td>-0.011067</td>\n",
              "      <td>-0.012985</td>\n",
              "      <td>0.092796</td>\n",
              "    </tr>\n",
              "    <tr>\n",
              "      <th>Total eve calls</th>\n",
              "      <td>0.019260</td>\n",
              "      <td>-0.011886</td>\n",
              "      <td>-0.005864</td>\n",
              "      <td>0.015769</td>\n",
              "      <td>0.006462</td>\n",
              "      <td>0.015769</td>\n",
              "      <td>-0.011430</td>\n",
              "      <td>1.000000</td>\n",
              "      <td>-0.011423</td>\n",
              "      <td>-0.002093</td>\n",
              "      <td>0.007710</td>\n",
              "      <td>-0.002056</td>\n",
              "      <td>0.008703</td>\n",
              "      <td>0.017434</td>\n",
              "      <td>0.008674</td>\n",
              "      <td>0.002423</td>\n",
              "      <td>0.009233</td>\n",
              "    </tr>\n",
              "    <tr>\n",
              "      <th>Total eve charge</th>\n",
              "      <td>-0.006745</td>\n",
              "      <td>0.003607</td>\n",
              "      <td>0.017578</td>\n",
              "      <td>0.007029</td>\n",
              "      <td>-0.021449</td>\n",
              "      <td>0.007036</td>\n",
              "      <td>1.000000</td>\n",
              "      <td>-0.011423</td>\n",
              "      <td>1.000000</td>\n",
              "      <td>-0.012592</td>\n",
              "      <td>0.007596</td>\n",
              "      <td>-0.012601</td>\n",
              "      <td>-0.011043</td>\n",
              "      <td>0.002541</td>\n",
              "      <td>-0.011074</td>\n",
              "      <td>-0.012987</td>\n",
              "      <td>0.092786</td>\n",
              "    </tr>\n",
              "    <tr>\n",
              "      <th>Total night minutes</th>\n",
              "      <td>-0.008955</td>\n",
              "      <td>-0.005825</td>\n",
              "      <td>0.007681</td>\n",
              "      <td>0.004323</td>\n",
              "      <td>0.022938</td>\n",
              "      <td>0.004324</td>\n",
              "      <td>-0.012584</td>\n",
              "      <td>-0.002093</td>\n",
              "      <td>-0.012592</td>\n",
              "      <td>1.000000</td>\n",
              "      <td>0.011204</td>\n",
              "      <td>0.999999</td>\n",
              "      <td>-0.015207</td>\n",
              "      <td>-0.012353</td>\n",
              "      <td>-0.015180</td>\n",
              "      <td>-0.009288</td>\n",
              "      <td>0.035493</td>\n",
              "    </tr>\n",
              "    <tr>\n",
              "      <th>Total night calls</th>\n",
              "      <td>-0.013176</td>\n",
              "      <td>0.016522</td>\n",
              "      <td>0.007123</td>\n",
              "      <td>0.022972</td>\n",
              "      <td>-0.019557</td>\n",
              "      <td>0.022972</td>\n",
              "      <td>0.007586</td>\n",
              "      <td>0.007710</td>\n",
              "      <td>0.007596</td>\n",
              "      <td>0.011204</td>\n",
              "      <td>1.000000</td>\n",
              "      <td>0.011188</td>\n",
              "      <td>-0.013605</td>\n",
              "      <td>0.000305</td>\n",
              "      <td>-0.013630</td>\n",
              "      <td>-0.012802</td>\n",
              "      <td>0.006141</td>\n",
              "    </tr>\n",
              "    <tr>\n",
              "      <th>Total night charge</th>\n",
              "      <td>-0.008960</td>\n",
              "      <td>-0.005845</td>\n",
              "      <td>0.007663</td>\n",
              "      <td>0.004300</td>\n",
              "      <td>0.022927</td>\n",
              "      <td>0.004301</td>\n",
              "      <td>-0.012593</td>\n",
              "      <td>-0.002056</td>\n",
              "      <td>-0.012601</td>\n",
              "      <td>0.999999</td>\n",
              "      <td>0.011188</td>\n",
              "      <td>1.000000</td>\n",
              "      <td>-0.015214</td>\n",
              "      <td>-0.012329</td>\n",
              "      <td>-0.015186</td>\n",
              "      <td>-0.009277</td>\n",
              "      <td>0.035496</td>\n",
              "    </tr>\n",
              "    <tr>\n",
              "      <th>Total intl minutes</th>\n",
              "      <td>0.009514</td>\n",
              "      <td>-0.018288</td>\n",
              "      <td>0.002856</td>\n",
              "      <td>-0.010155</td>\n",
              "      <td>0.021565</td>\n",
              "      <td>-0.010157</td>\n",
              "      <td>-0.011035</td>\n",
              "      <td>0.008703</td>\n",
              "      <td>-0.011043</td>\n",
              "      <td>-0.015207</td>\n",
              "      <td>-0.013605</td>\n",
              "      <td>-0.015214</td>\n",
              "      <td>1.000000</td>\n",
              "      <td>0.032304</td>\n",
              "      <td>0.999993</td>\n",
              "      <td>-0.009640</td>\n",
              "      <td>0.068239</td>\n",
              "    </tr>\n",
              "    <tr>\n",
              "      <th>Total intl calls</th>\n",
              "      <td>0.020661</td>\n",
              "      <td>-0.024179</td>\n",
              "      <td>0.013957</td>\n",
              "      <td>0.008033</td>\n",
              "      <td>0.004574</td>\n",
              "      <td>0.008032</td>\n",
              "      <td>0.002541</td>\n",
              "      <td>0.017434</td>\n",
              "      <td>0.002541</td>\n",
              "      <td>-0.012353</td>\n",
              "      <td>0.000305</td>\n",
              "      <td>-0.012329</td>\n",
              "      <td>0.032304</td>\n",
              "      <td>1.000000</td>\n",
              "      <td>0.032372</td>\n",
              "      <td>-0.017561</td>\n",
              "      <td>-0.052844</td>\n",
              "    </tr>\n",
              "    <tr>\n",
              "      <th>Total intl charge</th>\n",
              "      <td>0.009546</td>\n",
              "      <td>-0.018395</td>\n",
              "      <td>0.002884</td>\n",
              "      <td>-0.010092</td>\n",
              "      <td>0.021666</td>\n",
              "      <td>-0.010094</td>\n",
              "      <td>-0.011067</td>\n",
              "      <td>0.008674</td>\n",
              "      <td>-0.011074</td>\n",
              "      <td>-0.015180</td>\n",
              "      <td>-0.013630</td>\n",
              "      <td>-0.015186</td>\n",
              "      <td>0.999993</td>\n",
              "      <td>0.032372</td>\n",
              "      <td>1.000000</td>\n",
              "      <td>-0.009675</td>\n",
              "      <td>0.068259</td>\n",
              "    </tr>\n",
              "    <tr>\n",
              "      <th>Customer service calls</th>\n",
              "      <td>-0.003796</td>\n",
              "      <td>0.027572</td>\n",
              "      <td>-0.013263</td>\n",
              "      <td>-0.013423</td>\n",
              "      <td>-0.018942</td>\n",
              "      <td>-0.013427</td>\n",
              "      <td>-0.012985</td>\n",
              "      <td>0.002423</td>\n",
              "      <td>-0.012987</td>\n",
              "      <td>-0.009288</td>\n",
              "      <td>-0.012802</td>\n",
              "      <td>-0.009277</td>\n",
              "      <td>-0.009640</td>\n",
              "      <td>-0.017561</td>\n",
              "      <td>-0.009675</td>\n",
              "      <td>1.000000</td>\n",
              "      <td>0.208750</td>\n",
              "    </tr>\n",
              "    <tr>\n",
              "      <th>Churn</th>\n",
              "      <td>0.016541</td>\n",
              "      <td>0.006174</td>\n",
              "      <td>-0.089728</td>\n",
              "      <td>0.205151</td>\n",
              "      <td>0.018459</td>\n",
              "      <td>0.205151</td>\n",
              "      <td>0.092796</td>\n",
              "      <td>0.009233</td>\n",
              "      <td>0.092786</td>\n",
              "      <td>0.035493</td>\n",
              "      <td>0.006141</td>\n",
              "      <td>0.035496</td>\n",
              "      <td>0.068239</td>\n",
              "      <td>-0.052844</td>\n",
              "      <td>0.068259</td>\n",
              "      <td>0.208750</td>\n",
              "      <td>1.000000</td>\n",
              "    </tr>\n",
              "  </tbody>\n",
              "</table>\n",
              "</div>"
            ],
            "text/plain": [
              "                        Account length  ...     Churn\n",
              "Account length                1.000000  ...  0.016541\n",
              "Area code                    -0.012463  ...  0.006174\n",
              "Number vmail messages        -0.004628  ... -0.089728\n",
              "Total day minutes             0.006216  ...  0.205151\n",
              "Total day calls               0.038470  ...  0.018459\n",
              "Total day charge              0.006214  ...  0.205151\n",
              "Total eve minutes            -0.006757  ...  0.092796\n",
              "Total eve calls               0.019260  ...  0.009233\n",
              "Total eve charge             -0.006745  ...  0.092786\n",
              "Total night minutes          -0.008955  ...  0.035493\n",
              "Total night calls            -0.013176  ...  0.006141\n",
              "Total night charge           -0.008960  ...  0.035496\n",
              "Total intl minutes            0.009514  ...  0.068239\n",
              "Total intl calls              0.020661  ... -0.052844\n",
              "Total intl charge             0.009546  ...  0.068259\n",
              "Customer service calls       -0.003796  ...  0.208750\n",
              "Churn                         0.016541  ...  1.000000\n",
              "\n",
              "[17 rows x 17 columns]"
            ]
          },
          "metadata": {},
          "execution_count": 70
        }
      ]
    },
    {
      "cell_type": "code",
      "metadata": {
        "id": "eEjdW6-xsEPi"
      },
      "source": [
        ""
      ],
      "execution_count": null,
      "outputs": []
    }
  ]
}